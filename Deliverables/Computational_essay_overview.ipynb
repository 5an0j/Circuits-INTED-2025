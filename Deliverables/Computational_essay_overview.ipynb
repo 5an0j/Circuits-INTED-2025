{
 "cells": [
  {
   "cell_type": "markdown",
   "id": "1ae4239d",
   "metadata": {},
   "source": [
    "# Circuits in mechanistic interpretability"
   ]
  },
  {
   "cell_type": "markdown",
   "id": "6ceb42ec",
   "metadata": {},
   "source": [
    "## Table of contents"
   ]
  }
 ],
 "metadata": {
  "language_info": {
   "name": "python"
  }
 },
 "nbformat": 4,
 "nbformat_minor": 5
}
