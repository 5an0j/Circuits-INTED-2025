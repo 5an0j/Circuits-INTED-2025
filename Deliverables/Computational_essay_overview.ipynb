{
 "cells": [
  {
   "cell_type": "markdown",
   "id": "1ae4239d",
   "metadata": {},
   "source": [
    "# Circuits in mechanistic interpretability"
   ]
  },
  {
   "cell_type": "markdown",
   "id": "2881343a",
   "metadata": {},
   "source": [
    "First a short intro\n",
    "\n",
    "Then an overview of what the different comp.essays are about, prefereably with links (at least proper references)\n",
    "\n",
    "Part 1: Circuit analysis tool for BERT encoder models (Frederik)\n",
    "Part 2: Attribution with caption (Jonas)\n",
    "Part 3: Decoder models with TransformerLens (Klara)"
   ]
  }
 ],
 "metadata": {
  "language_info": {
   "name": "python"
  }
 },
 "nbformat": 4,
 "nbformat_minor": 5
}
