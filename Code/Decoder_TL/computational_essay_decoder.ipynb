{
 "cells": [
  {
   "cell_type": "markdown",
   "id": "af0ea2b7",
   "metadata": {},
   "source": [
    "# Computational essay - Decoders and TransformerLens "
   ]
  },
  {
   "cell_type": "markdown",
   "id": "d0497bdc",
   "metadata": {},
   "source": [
    "This computational essay on decoders and the TransformerLens library corresponds to the similarly titled sections of the report. In general, this run through uses simple examples and a small model to clearly demonstrate the methods used and what type of results one may expect. We note that since the model is small, it does not perform the same as larger models, so the predictions are less accurate and thus, the effects of the interventions smaller. Moreover, it is according to the universality claim that these methods generalize to large scale models. As this is a postulate, we can not be sure of the validity of this assumption. This notebook does, however, show simple applications of some core methods for decoder interpretability research, which proves to be useful at smaller scales."
   ]
  },
  {
   "cell_type": "markdown",
   "id": "1261794e",
   "metadata": {},
   "source": [
    "The structure of this section of the essay is as follows: \n",
    "- First, we make do all necessary setup, including imports, loading our model (in our case GPT2-small) and defining some helper functions.\n",
    "- Then, we go through the methods outlined in the corresponding paper. We explain our methods and choices, illustrate these methods with simple examples and suggest some relevant uses for these in later work. "
   ]
  },
  {
   "cell_type": "code",
   "execution_count": 70,
   "id": "3f85980a",
   "metadata": {},
   "outputs": [],
   "source": [
    "# Some necessary imports\n",
    "import circuitsvis as cv\n",
    "import torch\n",
    "import plotly.express as px\n",
    "from functools import partial\n",
    "import tqdm.auto as tqdm\n",
    "import transformer_lens.utils as utils\n",
    "from transformer_lens import HookedTransformer\n",
    "import numpy as np\n",
    "import einops"
   ]
  },
  {
   "cell_type": "code",
   "execution_count": 71,
   "id": "e9e8038e",
   "metadata": {},
   "outputs": [
    {
     "name": "stdout",
     "output_type": "stream",
     "text": [
      "Loaded pretrained model gpt2-small into HookedTransformer\n"
     ]
    }
   ],
   "source": [
    "# Loading the model used in this notebook\n",
    "model = HookedTransformer.from_pretrained(\"gpt2-small\")"
   ]
  },
  {
   "cell_type": "markdown",
   "id": "544c7bad",
   "metadata": {},
   "source": [
    "We also disable automatic gradient computations as they are irrelevant to our work and quite time expensive."
   ]
  },
  {
   "cell_type": "code",
   "execution_count": 72,
   "id": "f83aa031",
   "metadata": {},
   "outputs": [
    {
     "name": "stdout",
     "output_type": "stream",
     "text": [
      "Disabled automatic differentiation\n"
     ]
    }
   ],
   "source": [
    "torch.set_grad_enabled(False)\n",
    "print(\"Disabled automatic differentiation\")"
   ]
  },
  {
   "cell_type": "markdown",
   "id": "fda0be88",
   "metadata": {},
   "source": [
    "We define some helper functions for the visualizations. In the first function we use use the CircuitsVis library with the \"attention_patterns\" and \"attention_heads\" methods to define a function which can visualize the attention patterns of chosen layers in the model.\n",
    "\n",
    "For the second function, we visualize the results of an activation patching in terms of the logit difference to the corrupted prompt (see section on Activation Patching)."
   ]
  },
  {
   "cell_type": "code",
   "execution_count": 73,
   "id": "af3b884d",
   "metadata": {},
   "outputs": [],
   "source": [
    "def vis_attn_patterns(model, text, layers, compact=True):\n",
    "    ''' \n",
    "    Visualize attention patterns for a chosen number of layers.\n",
    "    '''\n",
    "    str_tokens = model.to_str_tokens(text)\n",
    "    logits, cache = model.run_with_cache(text, remove_batch_dim=True)\n",
    "\n",
    "    if compact:\n",
    "        for layer in layers:\n",
    "            print(\"Attention pattern for layer\", layer)\n",
    "            attention_pattern = cache[\"pattern\", layer]\n",
    "            display(cv.attention.attention_patterns(tokens=str_tokens, attention=attention_pattern))\n",
    "    \n",
    "    else:\n",
    "        for layer in layers:\n",
    "            print(\"Attention pattern for layer\", layer)\n",
    "            attention_pattern = cache[\"pattern\", layer]\n",
    "            display(cv.attention.attention_heads(tokens=str_tokens, attention=attention_pattern))\n",
    "\n",
    "def imshow_patching_result(model, patching_results, corrupted_prompt, corrupted_answer):\n",
    "    '''\n",
    "    Visualizes the logit differences caused by activation patching in a heat map. If the answer has more than one token, \"patching_results\" must be a list of results.\n",
    "    '''\n",
    "    if isinstance(patching_results, list):\n",
    "        len_ans = len(patching_results)\n",
    "        for i in range(len_ans):\n",
    "            tokens = model.to_str_tokens(corrupted_prompt+corrupted_answer)\n",
    "            labels = [f'{token}_{index}' for index, token in enumerate(tokens)][:-len(patching_results)+i]\n",
    "            if not torch.all(patching_results[i] == 0):\n",
    "                px.imshow(patching_results[i].detach(), color_continuous_midpoint=0.0, color_continuous_scale=\"RdBu\", x=labels, labels={\"x\": \"Position\", \"y\": \"Layer\"}, title=\"Patching Results\").show()\n",
    "    else:\n",
    "        tokens = model.to_str_tokens(corrupted_prompt)\n",
    "        labels = [f'{token}_{index}' for index, token in enumerate(tokens)]\n",
    "        px.imshow(patching_results[0].detach(), color_continuous_midpoint=0.0, color_continuous_scale=\"RdBu\", x=labels, labels={\"x\": \"Position\", \"y\": \"Layer\"}, title=\"Patching Results\").show()\n",
    "    "
   ]
  },
  {
   "cell_type": "markdown",
   "id": "ea695002",
   "metadata": {},
   "source": [
    "## Preliminary exploration"
   ]
  },
  {
   "cell_type": "markdown",
   "id": "3acb8f4c",
   "metadata": {},
   "source": [
    "We first want to check if the chosen model is suitable for the behavior we are interested in, that is, if it can perform the task at hand. The TransformerLens library has some convenient methods for this exact use. We choose a simple promt that we will use in the following sections as well: \"The capital of France is called\" with corresponding answer \" Paris\". We note the space in front of \"Paris\". That is to adhere to the tokenization of the name as being a single token. Inconsistency of spaces and tokenization is a common source of errors in implementations of interpretability research. "
   ]
  },
  {
   "cell_type": "code",
   "execution_count": 74,
   "id": "2aba45d5",
   "metadata": {},
   "outputs": [
    {
     "name": "stdout",
     "output_type": "stream",
     "text": [
      "['<|endoftext|>', 'The', ' capital', ' city', ' of', ' France', ' is', ' called']\n",
      "['<|endoftext|>', ' Paris']\n"
     ]
    }
   ],
   "source": [
    "prompt = \"The capital city of France is called\"\n",
    "answer = \" Paris\"\n",
    "\n",
    "# We print the string tokens to examine the tokenization\n",
    "print(model.to_str_tokens(prompt))\n",
    "print(model.to_str_tokens(answer))"
   ]
  },
  {
   "cell_type": "markdown",
   "id": "333882ed",
   "metadata": {},
   "source": [
    "We now see what the model predicts as its top tokens. We note that the following function does not return anything, but is primarily intended for exploratory analysis."
   ]
  },
  {
   "cell_type": "code",
   "execution_count": 75,
   "id": "7aca8bd7",
   "metadata": {},
   "outputs": [
    {
     "name": "stdout",
     "output_type": "stream",
     "text": [
      "Tokenized prompt: ['<|endoftext|>', 'The', ' capital', ' city', ' of', ' France', ' is', ' called']\n",
      "Tokenized answer: [' Paris']\n"
     ]
    },
    {
     "data": {
      "text/html": [
       "<pre style=\"white-space:pre;overflow-x:auto;line-height:normal;font-family:Menlo,'DejaVu Sans Mono',consolas,'Courier New',monospace\">Performance on answer token:\n",
       "<span style=\"font-weight: bold\">Rank: </span><span style=\"color: #008080; text-decoration-color: #008080; font-weight: bold\">0</span><span style=\"font-weight: bold\">        Logit: </span><span style=\"color: #008080; text-decoration-color: #008080; font-weight: bold\">14.32</span><span style=\"font-weight: bold\"> Prob:  </span><span style=\"color: #008080; text-decoration-color: #008080; font-weight: bold\">8.26</span><span style=\"font-weight: bold\">% Token: | Paris|</span>\n",
       "</pre>\n"
      ],
      "text/plain": [
       "Performance on answer token:\n",
       "\u001b[1mRank: \u001b[0m\u001b[1;36m0\u001b[0m\u001b[1m        Logit: \u001b[0m\u001b[1;36m14.32\u001b[0m\u001b[1m Prob:  \u001b[0m\u001b[1;36m8.26\u001b[0m\u001b[1m% Token: | Paris|\u001b[0m\n"
      ]
     },
     "metadata": {},
     "output_type": "display_data"
    },
    {
     "name": "stdout",
     "output_type": "stream",
     "text": [
      "Top 0th token. Logit: 14.32 Prob:  8.26% Token: | Paris|\n",
      "Top 1th token. Logit: 13.79 Prob:  4.86% Token: | Marse|\n",
      "Top 2th token. Logit: 13.78 Prob:  4.81% Token: | the|\n",
      "Top 3th token. Logit: 13.71 Prob:  4.49% Token: | \"|\n",
      "Top 4th token. Logit: 12.99 Prob:  2.17% Token: | La|\n",
      "Top 5th token. Logit: 12.68 Prob:  1.61% Token: | '|\n",
      "Top 6th token. Logit: 12.66 Prob:  1.57% Token: | Mont|\n",
      "Top 7th token. Logit: 12.60 Prob:  1.48% Token: | St|\n",
      "Top 8th token. Logit: 12.59 Prob:  1.46% Token: | Saint|\n",
      "Top 9th token. Logit: 12.30 Prob:  1.09% Token: | V|\n"
     ]
    },
    {
     "data": {
      "text/html": [
       "<pre style=\"white-space:pre;overflow-x:auto;line-height:normal;font-family:Menlo,'DejaVu Sans Mono',consolas,'Courier New',monospace\"><span style=\"font-weight: bold\">Ranks of the answer tokens:</span> <span style=\"font-weight: bold\">[(</span><span style=\"color: #008000; text-decoration-color: #008000\">' Paris'</span>, <span style=\"color: #008080; text-decoration-color: #008080; font-weight: bold\">0</span><span style=\"font-weight: bold\">)]</span>\n",
       "</pre>\n"
      ],
      "text/plain": [
       "\u001b[1mRanks of the answer tokens:\u001b[0m \u001b[1m[\u001b[0m\u001b[1m(\u001b[0m\u001b[32m' Paris'\u001b[0m, \u001b[1;36m0\u001b[0m\u001b[1m)\u001b[0m\u001b[1m]\u001b[0m\n"
      ]
     },
     "metadata": {},
     "output_type": "display_data"
    }
   ],
   "source": [
    "utils.test_prompt(prompt, answer, model)"
   ]
  },
  {
   "cell_type": "markdown",
   "id": "4ff15455",
   "metadata": {},
   "source": [
    "We see that even though our chosen model is small, it still predicts the correct next token. However, the probabilities are low, indicating that the model is not sure in its prediction. To solve this issue, one could choose a larger model, but for effiency's sake, we continue with the smaller model."
   ]
  },
  {
   "cell_type": "markdown",
   "id": "6470bba2",
   "metadata": {},
   "source": [
    "## Attention patterns"
   ]
  },
  {
   "cell_type": "markdown",
   "id": "5c0a61f6",
   "metadata": {},
   "source": [
    "We now want to visualize the attention patterns of our model. We use the same prompt as above, but this time use the visualization tools in the CircuitsVis library. The number of layers (and heads) of a model can be found as attributes for the defined model.\n",
    "\n",
    "We first perform a single forward pass through the model, caching the intermediate results. Then we find all attention patterns from the key \"attn\". Lastly, we visualize the results."
   ]
  },
  {
   "cell_type": "code",
   "execution_count": 76,
   "id": "4fbad5bf",
   "metadata": {},
   "outputs": [
    {
     "name": "stdout",
     "output_type": "stream",
     "text": [
      "Layer 0 - Head Attention Patterns\n"
     ]
    },
    {
     "data": {
      "text/html": [
       "<div id=\"circuits-vis-142c32a9-cf16\" style=\"margin: 15px 0;\"/>\n",
       "    <script crossorigin type=\"module\">\n",
       "    import { render, AttentionPatterns } from \"https://unpkg.com/circuitsvis@1.43.3/dist/cdn/esm.js\";\n",
       "    render(\n",
       "      \"circuits-vis-142c32a9-cf16\",\n",
       "      AttentionPatterns,\n",
       "      {\"tokens\": [\"<|endoftext|>\", \"The\", \" capital\", \" city\", \" of\", \" France\", \" is\", \" called\"], \"attention\": [[[1.0, 0.0, 0.0, 0.0, 0.0, 0.0, 0.0, 0.0], [0.9330379366874695, 0.06696204841136932, 0.0, 0.0, 0.0, 0.0, 0.0, 0.0], [0.7481917142868042, 0.15690255165100098, 0.09490570425987244, 0.0, 0.0, 0.0, 0.0, 0.0], [0.6830142736434937, 0.17506012320518494, 0.0756121277809143, 0.06631346046924591, 0.0, 0.0, 0.0, 0.0], [0.6278766393661499, 0.1569468230009079, 0.11491646617650986, 0.06450341641902924, 0.035756662487983704, 0.0, 0.0, 0.0], [0.5420671105384827, 0.1728079915046692, 0.10880528390407562, 0.03487572818994522, 0.08993120491504669, 0.051512643694877625, 0.0, 0.0], [0.638913094997406, 0.15001702308654785, 0.0646982342004776, 0.037338025867938995, 0.024072468280792236, 0.04598190635442734, 0.03897940367460251, 0.0], [0.46543052792549133, 0.13460391759872437, 0.042426545172929764, 0.07478994131088257, 0.04993065446615219, 0.03528960049152374, 0.08848980814218521, 0.10903900116682053]], [[1.0, 0.0, 0.0, 0.0, 0.0, 0.0, 0.0, 0.0], [0.0013863482745364308, 0.9986135959625244, 0.0, 0.0, 0.0, 0.0, 0.0, 0.0], [3.428290074225515e-05, 0.00111431407276541, 0.9988514184951782, 0.0, 0.0, 0.0, 0.0, 0.0], [0.0002673919952940196, 0.004994214046746492, 0.017230218276381493, 0.9775082468986511, 0.0, 0.0, 0.0, 0.0], [0.0009970695246011019, 0.010548763908445835, 0.0003620860807131976, 0.00025853124679997563, 0.9878334999084473, 0.0, 0.0, 0.0], [0.00015725829871371388, 0.002689819550141692, 0.0014392506564036012, 0.0007259707781486213, 0.000810127763543278, 0.9941775798797607, 0.0, 0.0], [0.0011828497517853975, 0.005403953138738871, 0.0011594609823077917, 0.000481531023979187, 0.007938828319311142, 0.0005526021705009043, 0.9832807779312134, 0.0], [0.0001529250730527565, 0.0029631478246301413, 0.0004530877631623298, 0.00021981554164085537, 0.0007025093073025346, 0.00014135705714579672, 0.0002864688285626471, 0.9950807094573975]], [[1.0, 0.0, 0.0, 0.0, 0.0, 0.0, 0.0, 0.0], [0.9405120015144348, 0.05948803201317787, 0.0, 0.0, 0.0, 0.0, 0.0, 0.0], [0.8763945698738098, 0.07620296627283096, 0.047402456402778625, 0.0, 0.0, 0.0, 0.0, 0.0], [0.7891925573348999, 0.08365944027900696, 0.03841212019324303, 0.08873582631349564, 0.0, 0.0, 0.0, 0.0], [0.6685565114021301, 0.11871708184480667, 0.07388640195131302, 0.03278600797057152, 0.10605402290821075, 0.0, 0.0, 0.0], [0.5113228559494019, 0.0966620072722435, 0.10638955235481262, 0.10043805837631226, 0.05070377513766289, 0.1344837099313736, 0.0, 0.0], [0.5076478123664856, 0.1238265112042427, 0.040289025753736496, 0.03430921956896782, 0.11996437609195709, 0.04655833914875984, 0.12740468978881836, 0.0], [0.5171942710876465, 0.13578671216964722, 0.04452580586075783, 0.03178329020738602, 0.09382332116365433, 0.026384152472019196, 0.11741794645786285, 0.03308449313044548]], [[1.0, 0.0, 0.0, 0.0, 0.0, 0.0, 0.0, 0.0], [0.4126836955547333, 0.5873163938522339, 0.0, 0.0, 0.0, 0.0, 0.0, 0.0], [0.07617979496717453, 0.005782557651400566, 0.9180377125740051, 0.0, 0.0, 0.0, 0.0, 0.0], [0.013560423627495766, 0.0021578765008598566, 0.16520698368549347, 0.8190747499465942, 0.0, 0.0, 0.0, 0.0], [0.03695852309465408, 0.06098167970776558, 0.029992790892720222, 0.1481316089630127, 0.7239354252815247, 0.0, 0.0, 0.0], [0.00633814325556159, 0.0005466820439323783, 0.007027189247310162, 0.0035358017776161432, 0.000816629093606025, 0.9817355275154114, 0.0, 0.0], [0.031162330880761147, 0.016101641580462456, 0.003150481265038252, 0.003982285503298044, 0.053673818707466125, 0.01303448062390089, 0.8788949847221375, 0.0], [0.003378575434908271, 0.0002759516064543277, 0.0007279930869117379, 0.001048434991389513, 0.0017744344659149647, 0.0011163566960021853, 0.012481783516705036, 0.9791964888572693]], [[1.0, 0.0, 0.0, 0.0, 0.0, 0.0, 0.0, 0.0], [0.8783947229385376, 0.1216052770614624, 0.0, 0.0, 0.0, 0.0, 0.0, 0.0], [0.1749310940504074, 0.05496065318584442, 0.7701082825660706, 0.0, 0.0, 0.0, 0.0, 0.0], [0.17071403563022614, 0.03410600125789642, 0.23699156939983368, 0.5581884384155273, 0.0, 0.0, 0.0, 0.0], [0.19993740320205688, 0.0920334979891777, 0.2904568910598755, 0.31232526898384094, 0.10524697601795197, 0.0, 0.0, 0.0], [0.027803407981991768, 0.009697743691504002, 0.010611413046717644, 0.014678516425192356, 0.013436540961265564, 0.923772394657135, 0.0, 0.0], [0.16716288030147552, 0.09619127959012985, 0.09831851720809937, 0.07028263807296753, 0.13572438061237335, 0.11567413061857224, 0.31664612889289856, 0.0], [0.07918575406074524, 0.030657369643449783, 0.029794324189424515, 0.044173214584589005, 0.06524267047643661, 0.042183905839920044, 0.06214729696512222, 0.6466155648231506]], [[1.0, 0.0, 0.0, 0.0, 0.0, 0.0, 0.0, 0.0], [0.23076651990413666, 0.7692334651947021, 0.0, 0.0, 0.0, 0.0, 0.0, 0.0], [0.018988648429512978, 2.8098724214942195e-05, 0.980983316898346, 0.0, 0.0, 0.0, 0.0, 0.0], [0.0400814488530159, 2.1764300981885754e-05, 0.005189917981624603, 0.9547068476676941, 0.0, 0.0, 0.0, 0.0], [0.24755269289016724, 0.14379985630512238, 0.01697460748255253, 0.007231441792100668, 0.5844414234161377, 0.0, 0.0, 0.0], [0.03932628780603409, 2.6109020836884156e-05, 6.277508509811014e-05, 5.044593308412004e-06, 2.229083293059375e-06, 0.9605774879455566, 0.0, 0.0], [0.0946461409330368, 0.005572891794145107, 0.0052385488525033, 0.0007637781673111022, 0.0038749221712350845, 0.0005767837865278125, 0.8893268704414368, 0.0], [0.013299561105668545, 0.0032040495425462723, 0.00015916152915451676, 0.00022376893321052194, 0.0002797463966999203, 8.111340866889805e-05, 0.00012352368503343314, 0.9826290607452393]], [[1.0, 0.0, 0.0, 0.0, 0.0, 0.0, 0.0, 0.0], [0.9734153151512146, 0.02658473514020443, 0.0, 0.0, 0.0, 0.0, 0.0, 0.0], [0.7268739342689514, 0.06959218531847, 0.2035338282585144, 0.0, 0.0, 0.0, 0.0, 0.0], [0.582089900970459, 0.05652893707156181, 0.24662698805332184, 0.11475425958633423, 0.0, 0.0, 0.0, 0.0], [0.3764425218105316, 0.06864595413208008, 0.3212553560733795, 0.21035900712013245, 0.02329719066619873, 0.0, 0.0, 0.0], [0.3909589648246765, 0.12254078686237335, 0.1943785399198532, 0.08781001716852188, 0.023631270974874496, 0.18068039417266846, 0.0, 0.0], [0.22126303613185883, 0.03662170097231865, 0.22865478694438934, 0.1968827098608017, 0.018527522683143616, 0.26472288370132446, 0.03332734853029251, 0.0], [0.22688819468021393, 0.03772936761379242, 0.19526799023151398, 0.20311777293682098, 0.02736939862370491, 0.2385156750679016, 0.02605249732732773, 0.045058973133563995]], [[1.0, 0.0, 0.0, 0.0, 0.0, 0.0, 0.0, 0.0], [0.9788066744804382, 0.0211933683604002, 0.0, 0.0, 0.0, 0.0, 0.0, 0.0], [0.5100209712982178, 0.4115009009838104, 0.07847811281681061, 0.0, 0.0, 0.0, 0.0, 0.0], [0.20438022911548615, 0.15309682488441467, 0.5606700778007507, 0.08185280114412308, 0.0, 0.0, 0.0, 0.0], [0.19916965067386627, 0.15665294229984283, 0.1549345999956131, 0.31149640679359436, 0.17774641513824463, 0.0, 0.0, 0.0], [0.18963144719600677, 0.14901670813560486, 0.05141741782426834, 0.16834348440170288, 0.2960304021835327, 0.14556050300598145, 0.0, 0.0], [0.13856296241283417, 0.0844811201095581, 0.0498352125287056, 0.07742035388946533, 0.15113595128059387, 0.14152094721794128, 0.35704347491264343, 0.0], [0.13216321170330048, 0.06301167607307434, 0.0428890660405159, 0.059078920632600784, 0.11921756714582443, 0.07879626750946045, 0.3699660301208496, 0.1348773092031479]], [[1.0, 0.0, 0.0, 0.0, 0.0, 0.0, 0.0, 0.0], [0.799264132976532, 0.2007359117269516, 0.0, 0.0, 0.0, 0.0, 0.0, 0.0], [0.8051559329032898, 0.1376953423023224, 0.05714874342083931, 0.0, 0.0, 0.0, 0.0, 0.0], [0.6279124021530151, 0.21951599419116974, 0.10876128077507019, 0.043810345232486725, 0.0, 0.0, 0.0, 0.0], [0.21231505274772644, 0.211748406291008, 0.08216049522161484, 0.0864497572183609, 0.40732625126838684, 0.0, 0.0, 0.0], [0.5032027363777161, 0.1866861879825592, 0.07291809469461441, 0.07257822155952454, 0.10223522037267685, 0.06237954646348953, 0.0, 0.0], [0.1363116055727005, 0.12827084958553314, 0.031890686601400375, 0.03658344969153404, 0.18690451979637146, 0.030651576817035675, 0.4493873715400696, 0.0], [0.1946474015712738, 0.12259548902511597, 0.10359290987253189, 0.03182654827833176, 0.17268149554729462, 0.03285432606935501, 0.2901928424835205, 0.051608990877866745]], [[1.0, 0.0, 0.0, 0.0, 0.0, 0.0, 0.0, 0.0], [0.8372090458869934, 0.16279096901416779, 0.0, 0.0, 0.0, 0.0, 0.0, 0.0], [0.8304312825202942, 0.1559387594461441, 0.013629939407110214, 0.0, 0.0, 0.0, 0.0, 0.0], [0.7696604132652283, 0.16533422470092773, 0.051520444452762604, 0.01348490733653307, 0.0, 0.0, 0.0, 0.0], [0.557019054889679, 0.16448649764060974, 0.06010318920016289, 0.07528780400753021, 0.1431034803390503, 0.0, 0.0, 0.0], [0.5664286017417908, 0.14023397862911224, 0.06993290781974792, 0.1197643056511879, 0.08510815352201462, 0.01853201352059841, 0.0, 0.0], [0.41469892859458923, 0.14410358667373657, 0.06867869198322296, 0.07643033564090729, 0.1288139671087265, 0.054848480969667435, 0.1124260202050209, 0.0], [0.4351959526538849, 0.12246433645486832, 0.06744185835123062, 0.057996708899736404, 0.09774971753358841, 0.0693112313747406, 0.09667292982339859, 0.05316726118326187]], [[1.0, 0.0, 0.0, 0.0, 0.0, 0.0, 0.0, 0.0], [0.7383899688720703, 0.2616100013256073, 0.0, 0.0, 0.0, 0.0, 0.0, 0.0], [0.5780839920043945, 0.17437955737113953, 0.24753648042678833, 0.0, 0.0, 0.0, 0.0, 0.0], [0.4657759368419647, 0.17604807019233704, 0.09680507332086563, 0.2613708972930908, 0.0, 0.0, 0.0, 0.0], [0.46263980865478516, 0.18417946994304657, 0.06231260672211647, 0.04503336921334267, 0.2458348125219345, 0.0, 0.0, 0.0], [0.38173672556877136, 0.18905800580978394, 0.06374610960483551, 0.06317949295043945, 0.08864232897758484, 0.21363729238510132, 0.0, 0.0], [0.3022780120372772, 0.18831950426101685, 0.06708964705467224, 0.044427935034036636, 0.12951365113258362, 0.028462281450629234, 0.23990894854068756, 0.0], [0.3024858236312866, 0.151759073138237, 0.055951278656721115, 0.051312632858753204, 0.11047982424497604, 0.021824683994054794, 0.07907751202583313, 0.2271091789007187]], [[1.0, 0.0, 0.0, 0.0, 0.0, 0.0, 0.0, 0.0], [0.7672996520996094, 0.23270036280155182, 0.0, 0.0, 0.0, 0.0, 0.0, 0.0], [0.5225909352302551, 0.39523473381996155, 0.08217435330152512, 0.0, 0.0, 0.0, 0.0, 0.0], [0.5423195958137512, 0.23801514506340027, 0.11296598613262177, 0.10669925063848495, 0.0, 0.0, 0.0, 0.0], [0.5874335169792175, 0.15096217393875122, 0.11297937482595444, 0.08180059492588043, 0.06682438403367996, 0.0, 0.0, 0.0], [0.4170355796813965, 0.14011657238006592, 0.13787011802196503, 0.11726886034011841, 0.0877065658569336, 0.10000230371952057, 0.0, 0.0], [0.5307919979095459, 0.11297823488712311, 0.06686341762542725, 0.05415917560458183, 0.05730989947915077, 0.0703386664390564, 0.10755853354930878, 0.0], [0.48080694675445557, 0.1423693597316742, 0.05005333200097084, 0.05185586214065552, 0.06408051401376724, 0.06907548010349274, 0.05175667628645897, 0.09000186622142792]]]}\n",
       "    )\n",
       "    </script>"
      ],
      "text/plain": [
       "<circuitsvis.utils.render.RenderedHTML at 0x2650ab07aa0>"
      ]
     },
     "execution_count": 76,
     "metadata": {},
     "output_type": "execute_result"
    }
   ],
   "source": [
    "# We decide to show the first layer (index 0)\n",
    "\n",
    "model_tokens = model.to_tokens(prompt)\n",
    "model_logits, model_cache = model.run_with_cache(model_tokens, remove_batch_dim=True)\n",
    "\n",
    "attention_patterns = model_cache[\"pattern\", 0, \"attn\"]\n",
    "str_tokens = model.to_str_tokens(prompt)\n",
    "\n",
    "print(\"Layer 0 - Head Attention Patterns\")\n",
    "cv.attention.attention_patterns(tokens=str_tokens, attention=attention_patterns)"
   ]
  },
  {
   "cell_type": "markdown",
   "id": "ba587955",
   "metadata": {},
   "source": [
    "From these patterns, we can see a few things. First, we see that for many of the heads (i.e. 0, 2 and 9) the first column is the most strongly colored. This indicates that the tokens all attend to the first token. This token is a \"Beginning of Sentence\" (BOS) token and thus does not inherently contain any information. This then acts as an available place to store information. \n",
    "\n",
    "Secondly, we see that some heads (i.e. 1 and mostly 5) does not act. The tokens only attend to themselves, and we see this clearly with the diagonal in the figure. \n",
    "\n",
    "Lastly, some of the head (i.e. 8 and 10) have more interesting patterns. While there is still some column 1 dominance, they also seem to act significantly on other token pairs. This could provide an interesting starting point for further investingation."
   ]
  },
  {
   "cell_type": "markdown",
   "id": "84c6e447",
   "metadata": {},
   "source": [
    "## Induction heads"
   ]
  },
  {
   "cell_type": "markdown",
   "id": "a7522f7b",
   "metadata": {},
   "source": [
    "We now turn to induction heads, one of the simplest circuits found in smaller models. These are one-off attention heads, responsible for detecting repetition in sequences. By visualizing the attention patterns, we can clearly see these induction heads. \n",
    "\n",
    "The following approach is based on the one found in Neel Nanda's colab notebook \"Transformer Lens Main Demo Notebook\" found [here](https://colab.research.google.com/github/neelnanda-io/TransformerLens/blob/main/demos/Main_Demo.ipynb). We first choose a repeating sequence. To compare to the previous example, we use \"The capital of France is called Paris. The capital of France is called\"."
   ]
  },
  {
   "cell_type": "code",
   "execution_count": 77,
   "id": "cfb64189",
   "metadata": {},
   "outputs": [],
   "source": [
    "repeated_prompt = prompt*2\n",
    "repeated_tokens = model.to_tokens(repeated_prompt)\n",
    "\n",
    "sequence_len = len(model.to_str_tokens(repeated_prompt))//2"
   ]
  },
  {
   "cell_type": "markdown",
   "id": "bbd9b8d5",
   "metadata": {},
   "source": [
    "Then, we define an induction score which we will use to measure how much each attention head acts as an induction head. We do this by averaging all attention scores starting from the beginning of the second repetition. To access the intermediate values of the model, we must use the hook functionaly provided by TransformerLens. By defining a hook function, and later calling it with the \"run_with_hooks\" method, we can calculate the average attention scores during the forward pass and save them to an induction_score_store tensor."
   ]
  },
  {
   "cell_type": "code",
   "execution_count": 78,
   "id": "7553d9d4",
   "metadata": {},
   "outputs": [],
   "source": [
    "induction_score_store = torch.zeros((model.cfg.n_layers, model.cfg.n_heads), device=model.cfg.device)\n",
    "\n",
    "def induction_score_hook(activation_pattern, hook):\n",
    "    # We take the diagonal for all tokens with index>=sequence_len\n",
    "    induction_stripe = activation_pattern.diagonal(dim1=-2, dim2=-1, offset=1-sequence_len)\n",
    "    # We get the average score for each head\n",
    "    induction_score = einops.reduce(induction_stripe, \"batch head_index position -> head_index\", \"mean\")\n",
    "    # We store the results\n",
    "    induction_score_store[hook.layer(), :] = induction_score"
   ]
  },
  {
   "cell_type": "markdown",
   "id": "497a7092",
   "metadata": {},
   "source": [
    "We now write to the \"induction_score_store\" tensor by running a forward pass of the model with the given prompt with the hook function. The way this works is that the model has preset hooks at all important (for instance attention head or tokens in the residual stream) points in the network. These all have corresponding keywords, and we want to include all hook points regarding attention patterns. Then, when using the \"run_with_hooks\" method, the model will stop at all given hook points and call the hook function we have defined. "
   ]
  },
  {
   "cell_type": "code",
   "execution_count": 79,
   "id": "bc09f4e6",
   "metadata": {},
   "outputs": [],
   "source": [
    "# We make a boolean filter on activation names\n",
    "pattern_hook_names_filter = lambda name: name.endswith(\"pattern\")\n",
    "\n",
    "# Run with hooks (this is where we write to the `induction_score_store` tensor`)\n",
    "model.run_with_hooks(repeated_tokens,\n",
    "    return_type=None, # For efficiency, we don't need to calculate the logits\n",
    "    fwd_hooks=[(\n",
    "        pattern_hook_names_filter,\n",
    "        induction_score_hook\n",
    "    )]\n",
    ")"
   ]
  },
  {
   "cell_type": "markdown",
   "id": "b83a229c",
   "metadata": {},
   "source": [
    "Having run a forward pass on the model with the hook function, we can now plot the induction scores for each head in each layer."
   ]
  },
  {
   "cell_type": "code",
   "execution_count": 80,
   "id": "0026bb58",
   "metadata": {},
   "outputs": [
    {
     "data": {
      "application/vnd.plotly.v1+json": {
       "config": {
        "plotlyServerURL": "https://plot.ly"
       },
       "data": [
        {
         "coloraxis": "coloraxis",
         "hovertemplate": "Head: %{x}<br>Layer: %{y}<br>color: %{z}<extra></extra>",
         "name": "0",
         "texttemplate": "%{z:.2f}",
         "type": "heatmap",
         "xaxis": "x",
         "yaxis": "y",
         "z": {
          "bdata": "t+AIPjbwUzreXPc9XGiMO95BED3tgjs8BT+9PcrHSz3HLpU9BCzRPaBzvT11Pv89XsRvPZcw7j2E2sQ94hbGPTdM3j35k/09FZTlPel25z1kZOU9d8cCPo62pD1XvsU8ZFTDPT9QDD7PpIQ8LC6bPVq4tz2ZP1Q9gGcAPo/mjD2lXXE92TUUPSzvuz3MENA9fhrkPWW+Ej4bivo850LJPWmd8D1Xu+g966yNPcWl0Dx0jFg9+V62Pa77uz30fHE9hG17PWvh2z2tkww+QEfQPN3O4T0M8lw9Wgy8PaKuXD3s4fI9MFqqPfvj3D0sbNkwrO+JPqNPDD9VhGU9ZpkHPtpxyz0Jick+d17YPewKpz2M4Jk+9bP8PfdtnD0WQp09iThyPU7Pvj1kmOI9tE/dPQIByT2pQvA9bZcePk9xsz3FeJ09lULMPm2yAD5uaQU+Fb/vPaTpRz6CiBU/QoQNPkD5CD6xwQA+H74IPpXyQz5vHZQ9oMoSPis/Hz8Vwjg+WGHhPcHxAj9Owdw9kbAcPjUzrD3YWo09fI/PPr1mqT3DMAY+KGkQPqUUZD5nDwo+G5kCPmw0ij7FZbE9wXe4PWImCj4H4+k9/O9WPvqSAD6Z29M9vPfEPjihnz1wXv89BbJNPhZyhj7ETiU+599OPvwhPz6EqMU9ZDxLPhaUrj6oGig+SJbhPareND7kn0k+pWnNPQfCBj50rfM9ZN/PPSEe0z2j1TY+jJwLPvzUED516YY9rGoZPmPoWz4g4O89",
          "dtype": "f4",
          "shape": "12, 12"
         }
        }
       ],
       "layout": {
        "coloraxis": {
         "cmid": 0,
         "colorscale": [
          [
           0,
           "rgb(103,0,31)"
          ],
          [
           0.1,
           "rgb(178,24,43)"
          ],
          [
           0.2,
           "rgb(214,96,77)"
          ],
          [
           0.3,
           "rgb(244,165,130)"
          ],
          [
           0.4,
           "rgb(253,219,199)"
          ],
          [
           0.5,
           "rgb(247,247,247)"
          ],
          [
           0.6,
           "rgb(209,229,240)"
          ],
          [
           0.7,
           "rgb(146,197,222)"
          ],
          [
           0.8,
           "rgb(67,147,195)"
          ],
          [
           0.9,
           "rgb(33,102,172)"
          ],
          [
           1,
           "rgb(5,48,97)"
          ]
         ]
        },
        "template": {
         "data": {
          "bar": [
           {
            "error_x": {
             "color": "#2a3f5f"
            },
            "error_y": {
             "color": "#2a3f5f"
            },
            "marker": {
             "line": {
              "color": "#E5ECF6",
              "width": 0.5
             },
             "pattern": {
              "fillmode": "overlay",
              "size": 10,
              "solidity": 0.2
             }
            },
            "type": "bar"
           }
          ],
          "barpolar": [
           {
            "marker": {
             "line": {
              "color": "#E5ECF6",
              "width": 0.5
             },
             "pattern": {
              "fillmode": "overlay",
              "size": 10,
              "solidity": 0.2
             }
            },
            "type": "barpolar"
           }
          ],
          "carpet": [
           {
            "aaxis": {
             "endlinecolor": "#2a3f5f",
             "gridcolor": "white",
             "linecolor": "white",
             "minorgridcolor": "white",
             "startlinecolor": "#2a3f5f"
            },
            "baxis": {
             "endlinecolor": "#2a3f5f",
             "gridcolor": "white",
             "linecolor": "white",
             "minorgridcolor": "white",
             "startlinecolor": "#2a3f5f"
            },
            "type": "carpet"
           }
          ],
          "choropleth": [
           {
            "colorbar": {
             "outlinewidth": 0,
             "ticks": ""
            },
            "type": "choropleth"
           }
          ],
          "contour": [
           {
            "colorbar": {
             "outlinewidth": 0,
             "ticks": ""
            },
            "colorscale": [
             [
              0,
              "#0d0887"
             ],
             [
              0.1111111111111111,
              "#46039f"
             ],
             [
              0.2222222222222222,
              "#7201a8"
             ],
             [
              0.3333333333333333,
              "#9c179e"
             ],
             [
              0.4444444444444444,
              "#bd3786"
             ],
             [
              0.5555555555555556,
              "#d8576b"
             ],
             [
              0.6666666666666666,
              "#ed7953"
             ],
             [
              0.7777777777777778,
              "#fb9f3a"
             ],
             [
              0.8888888888888888,
              "#fdca26"
             ],
             [
              1,
              "#f0f921"
             ]
            ],
            "type": "contour"
           }
          ],
          "contourcarpet": [
           {
            "colorbar": {
             "outlinewidth": 0,
             "ticks": ""
            },
            "type": "contourcarpet"
           }
          ],
          "heatmap": [
           {
            "colorbar": {
             "outlinewidth": 0,
             "ticks": ""
            },
            "colorscale": [
             [
              0,
              "#0d0887"
             ],
             [
              0.1111111111111111,
              "#46039f"
             ],
             [
              0.2222222222222222,
              "#7201a8"
             ],
             [
              0.3333333333333333,
              "#9c179e"
             ],
             [
              0.4444444444444444,
              "#bd3786"
             ],
             [
              0.5555555555555556,
              "#d8576b"
             ],
             [
              0.6666666666666666,
              "#ed7953"
             ],
             [
              0.7777777777777778,
              "#fb9f3a"
             ],
             [
              0.8888888888888888,
              "#fdca26"
             ],
             [
              1,
              "#f0f921"
             ]
            ],
            "type": "heatmap"
           }
          ],
          "histogram": [
           {
            "marker": {
             "pattern": {
              "fillmode": "overlay",
              "size": 10,
              "solidity": 0.2
             }
            },
            "type": "histogram"
           }
          ],
          "histogram2d": [
           {
            "colorbar": {
             "outlinewidth": 0,
             "ticks": ""
            },
            "colorscale": [
             [
              0,
              "#0d0887"
             ],
             [
              0.1111111111111111,
              "#46039f"
             ],
             [
              0.2222222222222222,
              "#7201a8"
             ],
             [
              0.3333333333333333,
              "#9c179e"
             ],
             [
              0.4444444444444444,
              "#bd3786"
             ],
             [
              0.5555555555555556,
              "#d8576b"
             ],
             [
              0.6666666666666666,
              "#ed7953"
             ],
             [
              0.7777777777777778,
              "#fb9f3a"
             ],
             [
              0.8888888888888888,
              "#fdca26"
             ],
             [
              1,
              "#f0f921"
             ]
            ],
            "type": "histogram2d"
           }
          ],
          "histogram2dcontour": [
           {
            "colorbar": {
             "outlinewidth": 0,
             "ticks": ""
            },
            "colorscale": [
             [
              0,
              "#0d0887"
             ],
             [
              0.1111111111111111,
              "#46039f"
             ],
             [
              0.2222222222222222,
              "#7201a8"
             ],
             [
              0.3333333333333333,
              "#9c179e"
             ],
             [
              0.4444444444444444,
              "#bd3786"
             ],
             [
              0.5555555555555556,
              "#d8576b"
             ],
             [
              0.6666666666666666,
              "#ed7953"
             ],
             [
              0.7777777777777778,
              "#fb9f3a"
             ],
             [
              0.8888888888888888,
              "#fdca26"
             ],
             [
              1,
              "#f0f921"
             ]
            ],
            "type": "histogram2dcontour"
           }
          ],
          "mesh3d": [
           {
            "colorbar": {
             "outlinewidth": 0,
             "ticks": ""
            },
            "type": "mesh3d"
           }
          ],
          "parcoords": [
           {
            "line": {
             "colorbar": {
              "outlinewidth": 0,
              "ticks": ""
             }
            },
            "type": "parcoords"
           }
          ],
          "pie": [
           {
            "automargin": true,
            "type": "pie"
           }
          ],
          "scatter": [
           {
            "fillpattern": {
             "fillmode": "overlay",
             "size": 10,
             "solidity": 0.2
            },
            "type": "scatter"
           }
          ],
          "scatter3d": [
           {
            "line": {
             "colorbar": {
              "outlinewidth": 0,
              "ticks": ""
             }
            },
            "marker": {
             "colorbar": {
              "outlinewidth": 0,
              "ticks": ""
             }
            },
            "type": "scatter3d"
           }
          ],
          "scattercarpet": [
           {
            "marker": {
             "colorbar": {
              "outlinewidth": 0,
              "ticks": ""
             }
            },
            "type": "scattercarpet"
           }
          ],
          "scattergeo": [
           {
            "marker": {
             "colorbar": {
              "outlinewidth": 0,
              "ticks": ""
             }
            },
            "type": "scattergeo"
           }
          ],
          "scattergl": [
           {
            "marker": {
             "colorbar": {
              "outlinewidth": 0,
              "ticks": ""
             }
            },
            "type": "scattergl"
           }
          ],
          "scattermap": [
           {
            "marker": {
             "colorbar": {
              "outlinewidth": 0,
              "ticks": ""
             }
            },
            "type": "scattermap"
           }
          ],
          "scattermapbox": [
           {
            "marker": {
             "colorbar": {
              "outlinewidth": 0,
              "ticks": ""
             }
            },
            "type": "scattermapbox"
           }
          ],
          "scatterpolar": [
           {
            "marker": {
             "colorbar": {
              "outlinewidth": 0,
              "ticks": ""
             }
            },
            "type": "scatterpolar"
           }
          ],
          "scatterpolargl": [
           {
            "marker": {
             "colorbar": {
              "outlinewidth": 0,
              "ticks": ""
             }
            },
            "type": "scatterpolargl"
           }
          ],
          "scatterternary": [
           {
            "marker": {
             "colorbar": {
              "outlinewidth": 0,
              "ticks": ""
             }
            },
            "type": "scatterternary"
           }
          ],
          "surface": [
           {
            "colorbar": {
             "outlinewidth": 0,
             "ticks": ""
            },
            "colorscale": [
             [
              0,
              "#0d0887"
             ],
             [
              0.1111111111111111,
              "#46039f"
             ],
             [
              0.2222222222222222,
              "#7201a8"
             ],
             [
              0.3333333333333333,
              "#9c179e"
             ],
             [
              0.4444444444444444,
              "#bd3786"
             ],
             [
              0.5555555555555556,
              "#d8576b"
             ],
             [
              0.6666666666666666,
              "#ed7953"
             ],
             [
              0.7777777777777778,
              "#fb9f3a"
             ],
             [
              0.8888888888888888,
              "#fdca26"
             ],
             [
              1,
              "#f0f921"
             ]
            ],
            "type": "surface"
           }
          ],
          "table": [
           {
            "cells": {
             "fill": {
              "color": "#EBF0F8"
             },
             "line": {
              "color": "white"
             }
            },
            "header": {
             "fill": {
              "color": "#C8D4E3"
             },
             "line": {
              "color": "white"
             }
            },
            "type": "table"
           }
          ]
         },
         "layout": {
          "annotationdefaults": {
           "arrowcolor": "#2a3f5f",
           "arrowhead": 0,
           "arrowwidth": 1
          },
          "autotypenumbers": "strict",
          "coloraxis": {
           "colorbar": {
            "outlinewidth": 0,
            "ticks": ""
           }
          },
          "colorscale": {
           "diverging": [
            [
             0,
             "#8e0152"
            ],
            [
             0.1,
             "#c51b7d"
            ],
            [
             0.2,
             "#de77ae"
            ],
            [
             0.3,
             "#f1b6da"
            ],
            [
             0.4,
             "#fde0ef"
            ],
            [
             0.5,
             "#f7f7f7"
            ],
            [
             0.6,
             "#e6f5d0"
            ],
            [
             0.7,
             "#b8e186"
            ],
            [
             0.8,
             "#7fbc41"
            ],
            [
             0.9,
             "#4d9221"
            ],
            [
             1,
             "#276419"
            ]
           ],
           "sequential": [
            [
             0,
             "#0d0887"
            ],
            [
             0.1111111111111111,
             "#46039f"
            ],
            [
             0.2222222222222222,
             "#7201a8"
            ],
            [
             0.3333333333333333,
             "#9c179e"
            ],
            [
             0.4444444444444444,
             "#bd3786"
            ],
            [
             0.5555555555555556,
             "#d8576b"
            ],
            [
             0.6666666666666666,
             "#ed7953"
            ],
            [
             0.7777777777777778,
             "#fb9f3a"
            ],
            [
             0.8888888888888888,
             "#fdca26"
            ],
            [
             1,
             "#f0f921"
            ]
           ],
           "sequentialminus": [
            [
             0,
             "#0d0887"
            ],
            [
             0.1111111111111111,
             "#46039f"
            ],
            [
             0.2222222222222222,
             "#7201a8"
            ],
            [
             0.3333333333333333,
             "#9c179e"
            ],
            [
             0.4444444444444444,
             "#bd3786"
            ],
            [
             0.5555555555555556,
             "#d8576b"
            ],
            [
             0.6666666666666666,
             "#ed7953"
            ],
            [
             0.7777777777777778,
             "#fb9f3a"
            ],
            [
             0.8888888888888888,
             "#fdca26"
            ],
            [
             1,
             "#f0f921"
            ]
           ]
          },
          "colorway": [
           "#636efa",
           "#EF553B",
           "#00cc96",
           "#ab63fa",
           "#FFA15A",
           "#19d3f3",
           "#FF6692",
           "#B6E880",
           "#FF97FF",
           "#FECB52"
          ],
          "font": {
           "color": "#2a3f5f"
          },
          "geo": {
           "bgcolor": "white",
           "lakecolor": "white",
           "landcolor": "#E5ECF6",
           "showlakes": true,
           "showland": true,
           "subunitcolor": "white"
          },
          "hoverlabel": {
           "align": "left"
          },
          "hovermode": "closest",
          "mapbox": {
           "style": "light"
          },
          "paper_bgcolor": "white",
          "plot_bgcolor": "#E5ECF6",
          "polar": {
           "angularaxis": {
            "gridcolor": "white",
            "linecolor": "white",
            "ticks": ""
           },
           "bgcolor": "#E5ECF6",
           "radialaxis": {
            "gridcolor": "white",
            "linecolor": "white",
            "ticks": ""
           }
          },
          "scene": {
           "xaxis": {
            "backgroundcolor": "#E5ECF6",
            "gridcolor": "white",
            "gridwidth": 2,
            "linecolor": "white",
            "showbackground": true,
            "ticks": "",
            "zerolinecolor": "white"
           },
           "yaxis": {
            "backgroundcolor": "#E5ECF6",
            "gridcolor": "white",
            "gridwidth": 2,
            "linecolor": "white",
            "showbackground": true,
            "ticks": "",
            "zerolinecolor": "white"
           },
           "zaxis": {
            "backgroundcolor": "#E5ECF6",
            "gridcolor": "white",
            "gridwidth": 2,
            "linecolor": "white",
            "showbackground": true,
            "ticks": "",
            "zerolinecolor": "white"
           }
          },
          "shapedefaults": {
           "line": {
            "color": "#2a3f5f"
           }
          },
          "ternary": {
           "aaxis": {
            "gridcolor": "white",
            "linecolor": "white",
            "ticks": ""
           },
           "baxis": {
            "gridcolor": "white",
            "linecolor": "white",
            "ticks": ""
           },
           "bgcolor": "#E5ECF6",
           "caxis": {
            "gridcolor": "white",
            "linecolor": "white",
            "ticks": ""
           }
          },
          "title": {
           "x": 0.05
          },
          "xaxis": {
           "automargin": true,
           "gridcolor": "white",
           "linecolor": "white",
           "ticks": "",
           "title": {
            "standoff": 15
           },
           "zerolinecolor": "white",
           "zerolinewidth": 2
          },
          "yaxis": {
           "automargin": true,
           "gridcolor": "white",
           "linecolor": "white",
           "ticks": "",
           "title": {
            "standoff": 15
           },
           "zerolinecolor": "white",
           "zerolinewidth": 2
          }
         }
        },
        "title": {
         "text": "Induction Score by Head"
        },
        "xaxis": {
         "anchor": "y",
         "constrain": "domain",
         "domain": [
          0,
          1
         ],
         "scaleanchor": "y",
         "title": {
          "text": "Head"
         }
        },
        "yaxis": {
         "anchor": "x",
         "autorange": "reversed",
         "constrain": "domain",
         "domain": [
          0,
          1
         ],
         "title": {
          "text": "Layer"
         }
        }
       }
      }
     },
     "metadata": {},
     "output_type": "display_data"
    }
   ],
   "source": [
    "fig = px.imshow(induction_score_store, color_continuous_midpoint=0.0, color_continuous_scale=\"RdBu\", labels={\"x\":\"Head\", \"y\":\"Layer\"}, title=\"Induction Score by Head\", text_auto=\".2f\")\n",
    "fig.show()"
   ]
  },
  {
   "cell_type": "markdown",
   "id": "47280afd",
   "metadata": {},
   "source": [
    "We see that some of the heads are more strongly activated. To see how this shows on the attention patterns, we visualize the attention patterns for the 5th and 7th layer."
   ]
  },
  {
   "cell_type": "code",
   "execution_count": 81,
   "id": "8a02e9cd",
   "metadata": {},
   "outputs": [
    {
     "name": "stdout",
     "output_type": "stream",
     "text": [
      "Attention pattern for layer 5\n"
     ]
    },
    {
     "data": {
      "text/html": [
       "<div id=\"circuits-vis-97646e29-8edc\" style=\"margin: 15px 0;\"/>\n",
       "    <script crossorigin type=\"module\">\n",
       "    import { render, AttentionPatterns } from \"https://unpkg.com/circuitsvis@1.43.3/dist/cdn/esm.js\";\n",
       "    render(\n",
       "      \"circuits-vis-97646e29-8edc\",\n",
       "      AttentionPatterns,\n",
       "      {\"tokens\": [\"<|endoftext|>\", \"The\", \" capital\", \" city\", \" of\", \" France\", \" is\", \" called\", \"The\", \" capital\", \" city\", \" of\", \" France\", \" is\", \" called\"], \"attention\": [[[1.0, 0.0, 0.0, 0.0, 0.0, 0.0, 0.0, 0.0, 0.0, 0.0, 0.0, 0.0, 0.0, 0.0, 0.0], [0.9971821308135986, 0.0028179490473121405, 0.0, 0.0, 0.0, 0.0, 0.0, 0.0, 0.0, 0.0, 0.0, 0.0, 0.0, 0.0, 0.0], [0.9861010909080505, 0.0013596408534795046, 0.012539324350655079, 0.0, 0.0, 0.0, 0.0, 0.0, 0.0, 0.0, 0.0, 0.0, 0.0, 0.0, 0.0], [0.9728667736053467, 0.0004368768131826073, 0.0047807348892092705, 0.02191566303372383, 0.0, 0.0, 0.0, 0.0, 0.0, 0.0, 0.0, 0.0, 0.0, 0.0, 0.0], [0.9962651133537292, 0.0003160590713378042, 0.0010199749376624823, 0.0003064342890866101, 0.0020924853160977364, 0.0, 0.0, 0.0, 0.0, 0.0, 0.0, 0.0, 0.0, 0.0, 0.0], [0.9880207180976868, 0.0005679122405126691, 0.0004637227102648467, 0.00021411718626040965, 0.000921010272577405, 0.00981250312179327, 0.0, 0.0, 0.0, 0.0, 0.0, 0.0, 0.0, 0.0, 0.0], [0.9723876118659973, 0.0002752735454123467, 0.0001390653633279726, 0.0003909788792952895, 0.0009332814952358603, 0.0038056587800383568, 0.022067999467253685, 0.0, 0.0, 0.0, 0.0, 0.0, 0.0, 0.0, 0.0], [0.9736549258232117, 0.0001950909208972007, 0.000380160054191947, 0.0006748350569978356, 0.0008998834528028965, 0.0008452413021586835, 0.006370783317834139, 0.01697910949587822, 0.0, 0.0, 0.0, 0.0, 0.0, 0.0, 0.0], [0.9256844520568848, 0.00017999002011492848, 0.06502901762723923, 0.0017021403182297945, 0.0010160832898691297, 0.0005436075152829289, 0.0007572791073471308, 0.00113317696377635, 0.0039541879668831825, 0.0, 0.0, 0.0, 0.0, 0.0, 0.0], [0.7357519865036011, 0.0003245345433242619, 0.009621667675673962, 0.06291715800762177, 0.15150488913059235, 0.01742745190858841, 0.0031333158258348703, 0.01043631136417389, 0.005839447025209665, 0.003043184755370021, 0.0, 0.0, 0.0, 0.0, 0.0], [0.612739086151123, 0.00011347192048560828, 0.002882434520870447, 0.004687824752181768, 0.3030492067337036, 0.035948824137449265, 0.017404425889253616, 0.011019992642104626, 0.005063205491751432, 0.00024574180133640766, 0.006845709402114153, 0.0, 0.0, 0.0, 0.0], [0.8079162836074829, 0.00024207166279666126, 0.0018287136917933822, 0.0006901457090862095, 0.0009017061674967408, 0.11319282650947571, 0.064890556037426, 0.0037171586882323027, 0.0052758450619876385, 0.0003075945423915982, 0.0004915956524200737, 0.0005455374484881759, 0.0, 0.0, 0.0], [0.849274754524231, 0.0005001568351872265, 0.0006716505740769207, 0.00024789554299786687, 0.0003104457864537835, 0.0057986523024737835, 0.12242590636014938, 0.005335476715117693, 0.0105143366381526, 0.00028163421666249633, 0.0004610056057572365, 0.0002455677022226155, 0.003932521212846041, 0.0, 0.0], [0.6986028552055359, 0.00016476510791108012, 0.00031645174021832645, 0.0003789371403399855, 0.00036305980756878853, 0.002195837674662471, 0.0043234131298959255, 0.10673686116933823, 0.17152537405490875, 0.0005177792045287788, 0.0005209461669437587, 0.0009578934404999018, 0.006593638099730015, 0.006802189629524946, 0.0], [0.27982091903686523, 0.00010443490464240313, 0.0005955043598078191, 0.0004841550253331661, 0.00026151875499635935, 0.0005005676648579538, 0.0022512520663440228, 0.0078087071888148785, 0.6787264347076416, 0.002838460262864828, 0.0030464695300906897, 0.0029886895790696144, 0.0024189911782741547, 0.006773235742002726, 0.011380775831639767]], [[1.0, 0.0, 0.0, 0.0, 0.0, 0.0, 0.0, 0.0, 0.0, 0.0, 0.0, 0.0, 0.0, 0.0, 0.0], [0.9998077750205994, 0.00019227554730605334, 0.0, 0.0, 0.0, 0.0, 0.0, 0.0, 0.0, 0.0, 0.0, 0.0, 0.0, 0.0, 0.0], [0.999184787273407, 8.13897349871695e-06, 0.000807129021268338, 0.0, 0.0, 0.0, 0.0, 0.0, 0.0, 0.0, 0.0, 0.0, 0.0, 0.0, 0.0], [0.9962804913520813, 6.925356956344331e-06, 7.882966201577801e-06, 0.0037048179656267166, 0.0, 0.0, 0.0, 0.0, 0.0, 0.0, 0.0, 0.0, 0.0, 0.0, 0.0], [0.9999644756317139, 6.198775736265816e-06, 1.1057196388719603e-05, 7.325886031139817e-07, 1.757071186148096e-05, 0.0, 0.0, 0.0, 0.0, 0.0, 0.0, 0.0, 0.0, 0.0, 0.0], [0.999092698097229, 7.991684469743632e-06, 3.6437959352042526e-06, 5.233265483184368e-07, 1.9478386548144044e-06, 0.0008932951604947448, 0.0, 0.0, 0.0, 0.0, 0.0, 0.0, 0.0, 0.0, 0.0], [0.9983091354370117, 1.3489143384504132e-05, 2.5125709726125933e-05, 8.77095430951158e-07, 1.7421912161807995e-06, 0.0002567401679698378, 0.0013929948909208179, 0.0, 0.0, 0.0, 0.0, 0.0, 0.0, 0.0, 0.0], [0.9971711039543152, 4.810179234482348e-06, 1.1143511983391363e-05, 4.1780996440365925e-08, 3.9078624780586324e-08, 1.8025402823695913e-05, 3.87378349842038e-05, 0.002756121102720499, 0.0, 0.0, 0.0, 0.0, 0.0, 0.0, 0.0], [0.8556938171386719, 0.00014062279660720378, 0.14336451888084412, 2.5540775823174044e-05, 3.6256025737202435e-07, 1.2184294064354617e-05, 5.742782377637923e-06, 0.00016849231906235218, 0.0005886637954972684, 0.0, 0.0, 0.0, 0.0, 0.0, 0.0], [0.09851517528295517, 5.125133247929625e-05, 0.002013216493651271, 0.8965557813644409, 0.002597537823021412, 5.8529243688099086e-05, 1.1343046026013326e-05, 0.00013337749987840652, 3.4438373859302374e-06, 6.031090015312657e-05, 0.0, 0.0, 0.0, 0.0, 0.0], [0.2711745500564575, 1.3038781617069617e-05, 2.2485359295387752e-05, 0.0029788799583911896, 0.7162835597991943, 0.0019496515160426497, 0.00032951805042102933, 0.0023087486624717712, 4.121844085602788e-06, 1.4037119910881302e-07, 0.004935364238917828, 0.0, 0.0, 0.0, 0.0], [0.5138745903968811, 1.2587609489855822e-05, 3.3783799153752625e-05, 2.494364252925152e-06, 1.9732657165150158e-05, 0.48538199067115784, 0.0001225107698701322, 0.0004658759862650186, 6.999425386311486e-05, 1.8848176068786415e-06, 1.4525070355375647e-06, 1.3127633792464621e-05, 0.0, 0.0, 0.0], [0.6801482439041138, 1.6191550457733683e-05, 1.471243376727216e-05, 2.0752299860760104e-06, 5.4308293329086155e-06, 0.001996841048821807, 0.31311696767807007, 0.0032704512123018503, 0.0007744247559458017, 2.256041852888302e-06, 9.009034329210408e-06, 1.7323427528026514e-06, 0.000641572056338191, 0.0, 0.0], [0.430646687746048, 1.1642549907264765e-05, 3.58419529220555e-05, 9.96254584606504e-07, 1.1284641914244276e-06, 0.0004094931355211884, 0.002394669456407428, 0.5347723960876465, 0.028411854058504105, 2.7262751245871186e-05, 3.1568015401717275e-06, 2.245880523332744e-06, 0.00043433313840068877, 0.0028482675552368164, 0.0], [0.146148219704628, 4.737575181934517e-06, 2.819838118739426e-05, 1.1571984970260019e-07, 3.189462915997865e-08, 2.8534366720123217e-05, 8.044193964451551e-05, 0.005822465289384127, 0.8450222611427307, 0.00022600425290875137, 6.889421229061554e-07, 2.944674122318247e-07, 4.7783381887711585e-05, 6.29140849923715e-05, 0.0025271237827837467]], [[1.0, 0.0, 0.0, 0.0, 0.0, 0.0, 0.0, 0.0, 0.0, 0.0, 0.0, 0.0, 0.0, 0.0, 0.0], [0.9880749583244324, 0.011925098486244678, 0.0, 0.0, 0.0, 0.0, 0.0, 0.0, 0.0, 0.0, 0.0, 0.0, 0.0, 0.0, 0.0], [0.9026990532875061, 0.07394490391016006, 0.023355990648269653, 0.0, 0.0, 0.0, 0.0, 0.0, 0.0, 0.0, 0.0, 0.0, 0.0, 0.0, 0.0], [0.6728752255439758, 0.0717083215713501, 0.24520589411258698, 0.010210554115474224, 0.0, 0.0, 0.0, 0.0, 0.0, 0.0, 0.0, 0.0, 0.0, 0.0, 0.0], [0.2985161542892456, 0.06331134587526321, 0.4658466577529907, 0.164971262216568, 0.007354562170803547, 0.0, 0.0, 0.0, 0.0, 0.0, 0.0, 0.0, 0.0, 0.0, 0.0], [0.40992969274520874, 0.04003918543457985, 0.15307337045669556, 0.08771427720785141, 0.2863697111606598, 0.022873729467391968, 0.0, 0.0, 0.0, 0.0, 0.0, 0.0, 0.0, 0.0, 0.0], [0.3669815957546234, 0.09998606890439987, 0.19262202084064484, 0.036543749272823334, 0.1933436095714569, 0.05958787351846695, 0.05093510076403618, 0.0, 0.0, 0.0, 0.0, 0.0, 0.0, 0.0, 0.0], [0.7382330894470215, 0.052071429789066315, 0.05607401579618454, 0.005255437456071377, 0.0363704189658165, 0.026414448395371437, 0.07582059502601624, 0.009760669432580471, 0.0, 0.0, 0.0, 0.0, 0.0, 0.0, 0.0], [0.45744383335113525, 0.01407103892415762, 0.011124568060040474, 0.0009660047362558544, 0.017804142087697983, 0.007805566769093275, 0.1525772362947464, 0.29717615246772766, 0.041031453758478165, 0.0, 0.0, 0.0, 0.0, 0.0, 0.0], [0.846252977848053, 0.005620446987450123, 0.0010155242634937167, 0.00042300179484300315, 0.004574780352413654, 0.005765701178461313, 0.013440481387078762, 0.06997957080602646, 0.0457133948802948, 0.007214037235826254, 0.0, 0.0, 0.0, 0.0, 0.0], [0.4499599039554596, 0.00869089923799038, 0.016050975769758224, 0.0010541832307353616, 0.005696108564734459, 0.010148774832487106, 0.026495499536395073, 0.023671504110097885, 0.20184026658535004, 0.2402733564376831, 0.016118474304676056, 0.0, 0.0, 0.0, 0.0], [0.32311558723449707, 0.008826031349599361, 0.022458884865045547, 0.011591501533985138, 0.0006331352633424103, 0.0034259543754160404, 0.0072899386286735535, 0.010044225491583347, 0.04322994500398636, 0.3832096755504608, 0.17356716096401215, 0.012607884593307972, 0.0, 0.0, 0.0], [0.29755422472953796, 0.006742247845977545, 0.016050687059760094, 0.008786823600530624, 0.025097806006669998, 0.0018429314950481057, 0.005921265110373497, 0.008437549695372581, 0.03142272308468819, 0.2713918685913086, 0.1137336790561676, 0.20054467022418976, 0.012473552487790585, 0.0, 0.0], [0.30470240116119385, 0.007885044440627098, 0.01870161108672619, 0.0038803063798695803, 0.016894537955522537, 0.005327093880623579, 0.004172910004854202, 0.004502981435507536, 0.03277464583516121, 0.2900717854499817, 0.0433836467564106, 0.16583816707134247, 0.043134596198797226, 0.058730240911245346, 0.0], [0.6394258141517639, 0.010101956315338612, 0.005581938195973635, 0.0005476641817949712, 0.0038009793497622013, 0.00222474941983819, 0.014289924874901772, 0.001562289660796523, 0.054162777960300446, 0.050021905452013016, 0.006331882439553738, 0.029663657769560814, 0.014531939290463924, 0.15425018966197968, 0.013502354733645916]], [[1.0, 0.0, 0.0, 0.0, 0.0, 0.0, 0.0, 0.0, 0.0, 0.0, 0.0, 0.0, 0.0, 0.0, 0.0], [0.9433165788650513, 0.05668340623378754, 0.0, 0.0, 0.0, 0.0, 0.0, 0.0, 0.0, 0.0, 0.0, 0.0, 0.0, 0.0, 0.0], [0.8033984899520874, 0.14574937522411346, 0.05085214972496033, 0.0, 0.0, 0.0, 0.0, 0.0, 0.0, 0.0, 0.0, 0.0, 0.0, 0.0, 0.0], [0.5795931220054626, 0.2708004117012024, 0.09896372258663177, 0.05064263939857483, 0.0, 0.0, 0.0, 0.0, 0.0, 0.0, 0.0, 0.0, 0.0, 0.0, 0.0], [0.6047605872154236, 0.20460651814937592, 0.0794750228524208, 0.06839852035045624, 0.04275934025645256, 0.0, 0.0, 0.0, 0.0, 0.0, 0.0, 0.0, 0.0, 0.0, 0.0], [0.6211153268814087, 0.10096362233161926, 0.10636993497610092, 0.0839838758111, 0.06048647314310074, 0.02708081156015396, 0.0, 0.0, 0.0, 0.0, 0.0, 0.0, 0.0, 0.0, 0.0], [0.5438742637634277, 0.17299281060695648, 0.0787290558218956, 0.05785723403096199, 0.029703205451369286, 0.04709453880786896, 0.06974902004003525, 0.0, 0.0, 0.0, 0.0, 0.0, 0.0, 0.0, 0.0], [0.3737963140010834, 0.12936075031757355, 0.08131084591150284, 0.08164802938699722, 0.024784864857792854, 0.05173707753419876, 0.16358034312725067, 0.0937817394733429, 0.0, 0.0, 0.0, 0.0, 0.0, 0.0, 0.0], [0.3404393196105957, 0.06513497233390808, 0.17104147374629974, 0.07574361562728882, 0.029836071655154228, 0.035634465515613556, 0.1111922487616539, 0.10346794128417969, 0.06750999391078949, 0.0, 0.0, 0.0, 0.0, 0.0, 0.0], [0.4203753173351288, 0.034911129623651505, 0.012924634851515293, 0.011792848818004131, 0.007246227003633976, 0.02076210081577301, 0.029111599549651146, 0.06670734286308289, 0.34423884749412537, 0.05192994326353073, 0.0, 0.0, 0.0, 0.0, 0.0], [0.16611741483211517, 0.030359381809830666, 0.015401281416416168, 0.006049735937267542, 0.009056411683559418, 0.010743719525635242, 0.05496642366051674, 0.13224363327026367, 0.43961045145988464, 0.11580438166856766, 0.01964709162712097, 0.0, 0.0, 0.0, 0.0], [0.2549930810928345, 0.02352675050497055, 0.011485142633318901, 0.007611754350364208, 0.004621593747287989, 0.012223376892507076, 0.05974976718425751, 0.18395058810710907, 0.3139878213405609, 0.07800032943487167, 0.02324463427066803, 0.026605235412716866, 0.0, 0.0, 0.0], [0.24814948439598083, 0.019608724862337112, 0.02129167877137661, 0.01300733257085085, 0.010297175496816635, 0.009198350831866264, 0.033581677824258804, 0.0730232447385788, 0.3089616894721985, 0.15795382857322693, 0.03795911744236946, 0.04532065615057945, 0.021646946668624878, 0.0, 0.0], [0.18448425829410553, 0.013653055764734745, 0.01221377868205309, 0.006036974024027586, 0.0021288401912897825, 0.00869513675570488, 0.004527849145233631, 0.01887521706521511, 0.4961971640586853, 0.15763117372989655, 0.0328378789126873, 0.01721550151705742, 0.026295719668269157, 0.019207486882805824, 0.0], [0.16022586822509766, 0.022551080211997032, 0.019728364422917366, 0.013550159521400928, 0.0040970477275550365, 0.01875607855618, 0.018997594714164734, 0.037781476974487305, 0.26198410987854004, 0.13980413973331451, 0.046552907675504684, 0.019004035741090775, 0.04820801690220833, 0.07731711119413376, 0.11144190281629562]], [[1.0, 0.0, 0.0, 0.0, 0.0, 0.0, 0.0, 0.0, 0.0, 0.0, 0.0, 0.0, 0.0, 0.0, 0.0], [0.9652450680732727, 0.03475493565201759, 0.0, 0.0, 0.0, 0.0, 0.0, 0.0, 0.0, 0.0, 0.0, 0.0, 0.0, 0.0, 0.0], [0.8894073367118835, 0.08532913029193878, 0.025263585150241852, 0.0, 0.0, 0.0, 0.0, 0.0, 0.0, 0.0, 0.0, 0.0, 0.0, 0.0, 0.0], [0.8334532976150513, 0.10624168068170547, 0.027473416179418564, 0.03283163160085678, 0.0, 0.0, 0.0, 0.0, 0.0, 0.0, 0.0, 0.0, 0.0, 0.0, 0.0], [0.5016822218894958, 0.03058091551065445, 0.10967829078435898, 0.28805607557296753, 0.07000258564949036, 0.0, 0.0, 0.0, 0.0, 0.0, 0.0, 0.0, 0.0, 0.0, 0.0], [0.5993452668190002, 0.02877415530383587, 0.06698204576969147, 0.08579523861408234, 0.1793401539325714, 0.03976311907172203, 0.0, 0.0, 0.0, 0.0, 0.0, 0.0, 0.0, 0.0, 0.0], [0.6820553541183472, 0.022089622914791107, 0.050811879336833954, 0.11248879879713058, 0.036175068467855453, 0.034365978091955185, 0.062013205140829086, 0.0, 0.0, 0.0, 0.0, 0.0, 0.0, 0.0, 0.0], [0.5497751832008362, 0.03378567472100258, 0.01281808689236641, 0.07959152013063431, 0.015507139265537262, 0.10760919004678726, 0.15416792035102844, 0.046745240688323975, 0.0, 0.0, 0.0, 0.0, 0.0, 0.0, 0.0], [0.5043014287948608, 0.002016612095758319, 0.004667425062507391, 0.030752575024962425, 0.017870811745524406, 0.007737618871033192, 0.16706886887550354, 0.23261529207229614, 0.032969459891319275, 0.0, 0.0, 0.0, 0.0, 0.0, 0.0], [0.7122322916984558, 0.0038315055426210165, 0.002131187589839101, 0.003647872246801853, 0.005969621241092682, 0.002401564735919237, 0.030269747599959373, 0.05962776765227318, 0.11462174355983734, 0.06526665389537811, 0.0, 0.0, 0.0, 0.0, 0.0], [0.4531444311141968, 0.006368810776621103, 0.0019000187749043107, 0.003324449062347412, 0.014320177026093006, 0.0013378887670114636, 0.08393161743879318, 0.10990697145462036, 0.1966235488653183, 0.08540873229503632, 0.04373333603143692, 0.0, 0.0, 0.0, 0.0], [0.35160741209983826, 0.0012740351958200336, 0.006399995181709528, 0.025669949129223824, 0.0025467341765761375, 0.008358746767044067, 0.05715101957321167, 0.1093679741024971, 0.027301087975502014, 0.16335169970989227, 0.17395085096359253, 0.07302054762840271, 0.0, 0.0, 0.0], [0.30948254466056824, 0.0016020364128053188, 0.0031428018119186163, 0.007198733743280172, 0.009710424579679966, 0.0026302426122128963, 0.08405637741088867, 0.09246902912855148, 0.05809738114476204, 0.07979664206504822, 0.06597156077623367, 0.2509506344795227, 0.03489162400364876, 0.0, 0.0], [0.45484399795532227, 0.0011570018250495195, 0.0027146353386342525, 0.008518550544977188, 0.0037723444402217865, 0.004213578999042511, 0.010481673292815685, 0.04227975755929947, 0.047695692628622055, 0.08539049327373505, 0.09473226219415665, 0.11841552704572678, 0.05133269727230072, 0.0744517371058464, 0.0], [0.5718349814414978, 0.003402138128876686, 0.0015415744855999947, 0.007274809293448925, 0.0009564590291120112, 0.0051017520017921925, 0.02623113989830017, 0.008023275062441826, 0.020872823894023895, 0.02567962184548378, 0.030255477875471115, 0.012891547754406929, 0.04549611359834671, 0.17552773654460907, 0.06491046398878098]], [[1.0, 0.0, 0.0, 0.0, 0.0, 0.0, 0.0, 0.0, 0.0, 0.0, 0.0, 0.0, 0.0, 0.0, 0.0], [0.9901108145713806, 0.009889231063425541, 0.0, 0.0, 0.0, 0.0, 0.0, 0.0, 0.0, 0.0, 0.0, 0.0, 0.0, 0.0, 0.0], [0.9953932762145996, 0.002303664106875658, 0.002303091110661626, 0.0, 0.0, 0.0, 0.0, 0.0, 0.0, 0.0, 0.0, 0.0, 0.0, 0.0, 0.0], [0.9896852970123291, 0.002195162931457162, 0.001926533179357648, 0.006193102803081274, 0.0, 0.0, 0.0, 0.0, 0.0, 0.0, 0.0, 0.0, 0.0, 0.0, 0.0], [0.9930612444877625, 0.0007570190937258303, 0.004406497348099947, 0.00042038271203637123, 0.001354785286821425, 0.0, 0.0, 0.0, 0.0, 0.0, 0.0, 0.0, 0.0, 0.0, 0.0], [0.9890241622924805, 0.007656464818865061, 0.0016539935022592545, 9.589982073521242e-05, 1.4942856068955734e-05, 0.001554527203552425, 0.0, 0.0, 0.0, 0.0, 0.0, 0.0, 0.0, 0.0, 0.0], [0.9602317810058594, 0.003450802993029356, 0.0048531340435147285, 0.0008072835626080632, 0.011094207875430584, 0.002636246383190155, 0.016926635056734085, 0.0, 0.0, 0.0, 0.0, 0.0, 0.0, 0.0, 0.0], [0.9683724641799927, 0.0032892804592847824, 0.012446414679288864, 4.565515700960532e-05, 0.00014939728134777397, 0.0017658815486356616, 0.004210774786770344, 0.009720155969262123, 0.0, 0.0, 0.0, 0.0, 0.0, 0.0, 0.0], [0.8147222399711609, 0.005481519736349583, 0.14170943200588226, 0.0011986088939011097, 0.00028174405451864004, 0.0007417525048367679, 0.0021351666655391455, 0.0043960209004580975, 0.02933356538414955, 0.0, 0.0, 0.0, 0.0, 0.0, 0.0], [0.33228832483291626, 0.0031618380453437567, 0.00242629018612206, 0.5381641387939453, 0.03682321310043335, 0.014346718788146973, 0.008075179532170296, 0.06114174425601959, 0.0028669447638094425, 0.0007055522291921079, 0.0, 0.0, 0.0, 0.0, 0.0], [0.3821081221103668, 0.001408288604579866, 0.0014119436964392662, 0.0016181330429390073, 0.38751456141471863, 0.041367802768945694, 0.014685295522212982, 0.15807592868804932, 0.0035503352992236614, 0.0005870292661711574, 0.007672491483390331, 0.0, 0.0, 0.0, 0.0], [0.7171263098716736, 0.0020002773962914944, 0.010937674902379513, 0.00072893948527053, 0.0013070766581222415, 0.18888132274150848, 0.023049848154187202, 0.03452302888035774, 0.013333269394934177, 0.005377213470637798, 0.0010048055555671453, 0.0017302780179306865, 0.0, 0.0, 0.0], [0.6026550531387329, 0.010066061280667782, 0.002261124784126878, 4.918191916658543e-05, 1.0249438673781697e-05, 0.0013756529660895467, 0.3139294981956482, 0.039526164531707764, 0.024589737877249718, 0.004603175912052393, 0.0002656188444234431, 2.25745407078648e-06, 0.0006662552477791905, 0.0, 0.0], [0.4194801151752472, 0.004392312839627266, 0.004347591660916805, 0.0004931493895128369, 0.004903601948171854, 0.002465388271957636, 0.013216941617429256, 0.26663699746131897, 0.24821291863918304, 0.009398100897669792, 0.0017303620697930455, 0.005487130023539066, 0.002626566682010889, 0.016608834266662598, 0.0], [0.1818852573633194, 0.004189514089375734, 0.010158620774745941, 2.104979103023652e-05, 1.9079208868788555e-05, 0.0007567349239252508, 0.0025978675112128258, 0.008132676593959332, 0.7422555088996887, 0.04006817936897278, 0.0001175825746031478, 4.9952053814195096e-05, 0.0015641654608771205, 0.0039222571067512035, 0.004261447116732597]], [[1.0, 0.0, 0.0, 0.0, 0.0, 0.0, 0.0, 0.0, 0.0, 0.0, 0.0, 0.0, 0.0, 0.0, 0.0], [0.9599452018737793, 0.040054801851511, 0.0, 0.0, 0.0, 0.0, 0.0, 0.0, 0.0, 0.0, 0.0, 0.0, 0.0, 0.0, 0.0], [0.8806532621383667, 0.11355246603488922, 0.005794222000986338, 0.0, 0.0, 0.0, 0.0, 0.0, 0.0, 0.0, 0.0, 0.0, 0.0, 0.0, 0.0], [0.9276391863822937, 0.0049173529259860516, 0.053782232105731964, 0.013661268167197704, 0.0, 0.0, 0.0, 0.0, 0.0, 0.0, 0.0, 0.0, 0.0, 0.0, 0.0], [0.9675076007843018, 0.0004817028238903731, 0.0071913935244083405, 0.02267812192440033, 0.0021410523913800716, 0.0, 0.0, 0.0, 0.0, 0.0, 0.0, 0.0, 0.0, 0.0, 0.0], [0.914806604385376, 0.00105986965354532, 0.006531757302582264, 0.0056938109919428825, 0.04871077463030815, 0.023197198286652565, 0.0, 0.0, 0.0, 0.0, 0.0, 0.0, 0.0, 0.0, 0.0], [0.9403766393661499, 0.00035490607842803, 0.0008058523526415229, 0.0008377672638744116, 0.0009511697571724653, 0.03736042603850365, 0.01931321993470192, 0.0, 0.0, 0.0, 0.0, 0.0, 0.0, 0.0, 0.0], [0.6920268535614014, 0.0006658314960077405, 0.010693520307540894, 0.009491750039160252, 0.00910342950373888, 0.033821940422058105, 0.23217010498046875, 0.012026564218103886, 0.0, 0.0, 0.0, 0.0, 0.0, 0.0, 0.0], [0.7540574073791504, 0.005630653351545334, 0.0005071680643595755, 0.00011563937732717022, 0.0036362502723932266, 0.019221145659685135, 0.07232926040887833, 0.11128556728363037, 0.033217065036296844, 0.0, 0.0, 0.0, 0.0, 0.0, 0.0], [0.5826079845428467, 0.00811111181974411, 9.910721564665437e-05, 9.595421943231486e-06, 0.0005661361501552165, 0.00042922922875732183, 0.003140147775411606, 0.012651942670345306, 0.386760950088501, 0.005623881705105305, 0.0, 0.0, 0.0, 0.0, 0.0], [0.7206738591194153, 0.0008555618114769459, 0.01979254186153412, 0.009323659352958202, 0.0018704597605392337, 0.0015963128535076976, 0.002009161515161395, 0.0011028338922187686, 0.006108954548835754, 0.2135382443666458, 0.02312837354838848, 0.0, 0.0, 0.0, 0.0], [0.8894428610801697, 5.4193758842302486e-05, 0.0005329856649041176, 0.002425887156277895, 0.0003555535804480314, 0.0013843051856383681, 0.004135845694690943, 0.0026516972575336695, 0.0009737351792864501, 0.01699092611670494, 0.07746391743421555, 0.0035880166105926037, 0.0, 0.0, 0.0], [0.8748794198036194, 0.00022030150284990668, 0.0014785571256652474, 0.0011855073971673846, 0.008479852229356766, 0.002645024098455906, 0.003825242631137371, 0.00237463996745646, 0.003997235558927059, 0.021464023739099503, 0.006451054476201534, 0.059857066720724106, 0.013141927309334278, 0.0, 0.0], [0.8642404079437256, 2.2805066691944376e-05, 7.858887693146244e-05, 0.00012437585974112153, 0.00014301012561190873, 0.01003712136298418, 0.005307626910507679, 0.0004557082720566541, 0.0004162080294918269, 0.002586263231933117, 0.0017178875859826803, 0.0012231867294758558, 0.07100909948348999, 0.04263771325349808, 0.0], [0.6576439142227173, 5.556527685257606e-05, 0.0005824745749123394, 0.000372997805243358, 0.0005431502358987927, 0.002217821544036269, 0.03170998394489288, 0.00065204146085307, 0.0017453453037887812, 0.012199982069432735, 0.003129872027784586, 0.004594826139509678, 0.014283479191362858, 0.26310214400291443, 0.007166474126279354]], [[1.0, 0.0, 0.0, 0.0, 0.0, 0.0, 0.0, 0.0, 0.0, 0.0, 0.0, 0.0, 0.0, 0.0, 0.0], [0.9629899263381958, 0.037010084837675095, 0.0, 0.0, 0.0, 0.0, 0.0, 0.0, 0.0, 0.0, 0.0, 0.0, 0.0, 0.0, 0.0], [0.9843436479568481, 0.0070749628357589245, 0.008581372909247875, 0.0, 0.0, 0.0, 0.0, 0.0, 0.0, 0.0, 0.0, 0.0, 0.0, 0.0, 0.0], [0.92918860912323, 0.020536547526717186, 0.029480984434485435, 0.020793771371245384, 0.0, 0.0, 0.0, 0.0, 0.0, 0.0, 0.0, 0.0, 0.0, 0.0, 0.0], [0.4116274118423462, 0.015094663947820663, 0.4051736891269684, 0.14549316465854645, 0.022611116990447044, 0.0, 0.0, 0.0, 0.0, 0.0, 0.0, 0.0, 0.0, 0.0, 0.0], [0.7019044160842896, 0.016165338456630707, 0.15929728746414185, 0.08416339010000229, 0.03081669844686985, 0.007652988191694021, 0.0, 0.0, 0.0, 0.0, 0.0, 0.0, 0.0, 0.0, 0.0], [0.6904014348983765, 0.023050852119922638, 0.0788286104798317, 0.15188413858413696, 0.028827404603362083, 0.008018452674150467, 0.018989013507962227, 0.0, 0.0, 0.0, 0.0, 0.0, 0.0, 0.0, 0.0], [0.6236814856529236, 0.006017595063894987, 0.23920154571533203, 0.058288875967264175, 0.009791168384253979, 0.010590573772788048, 0.03883567824959755, 0.013592944480478764, 0.0, 0.0, 0.0, 0.0, 0.0, 0.0, 0.0], [0.890312135219574, 0.010036357678472996, 0.014948427677154541, 0.01237768679857254, 0.013672754168510437, 0.0016357200220227242, 0.015887262299656868, 0.02751515805721283, 0.013614404015243053, 0.0, 0.0, 0.0, 0.0, 0.0, 0.0], [0.972260057926178, 0.006141151767224073, 0.0007608726155012846, 0.0007320696022361517, 0.00028131180442869663, 0.0003060935123357922, 0.0006618833285756409, 0.006031990982592106, 0.0068507082760334015, 0.005973724648356438, 0.0, 0.0, 0.0, 0.0, 0.0], [0.9084548950195312, 0.014205535873770714, 0.005174203310161829, 0.003625835059210658, 0.002966095693409443, 0.00020996443345211446, 0.0018915568944066763, 0.013307660818099976, 0.015148410573601723, 0.026312269270420074, 0.00870339386165142, 0.0, 0.0, 0.0, 0.0], [0.433205783367157, 0.004823318216949701, 0.02550235018134117, 0.01147744432091713, 0.0019086201209574938, 0.0006570847472175956, 0.012130649760365486, 0.00357784703373909, 0.02752157859504223, 0.36493197083473206, 0.08872378617525101, 0.02553955838084221, 0.0, 0.0, 0.0], [0.6125574707984924, 0.005123463924974203, 0.027678094804286957, 0.015423187054693699, 0.004434172064065933, 0.0008973326184786856, 0.013535629026591778, 0.001578731695190072, 0.012034946121275425, 0.20797507464885712, 0.06271137297153473, 0.03171154856681824, 0.004339032806456089, 0.0, 0.0], [0.5428364276885986, 0.005954737775027752, 0.012116522528231144, 0.01739184744656086, 0.0032132852356880903, 0.0007458962500095367, 0.0025962076615542173, 0.0007980605005286634, 0.013992693275213242, 0.1994587630033493, 0.14546602964401245, 0.03534780070185661, 0.00368118891492486, 0.016400573775172234, 0.0], [0.8092250227928162, 0.0022844511549919844, 0.019549181684851646, 0.00623707752674818, 0.0012376820668578148, 0.0010748564964160323, 0.007508586160838604, 0.0023183333687484264, 0.00401783362030983, 0.07635125517845154, 0.02311384491622448, 0.007775660138577223, 0.0031578834168612957, 0.021824710071086884, 0.014323712326586246]], [[1.0, 0.0, 0.0, 0.0, 0.0, 0.0, 0.0, 0.0, 0.0, 0.0, 0.0, 0.0, 0.0, 0.0, 0.0], [0.9638538360595703, 0.03614610433578491, 0.0, 0.0, 0.0, 0.0, 0.0, 0.0, 0.0, 0.0, 0.0, 0.0, 0.0, 0.0, 0.0], [0.9717195630073547, 0.012856291607022285, 0.015424194745719433, 0.0, 0.0, 0.0, 0.0, 0.0, 0.0, 0.0, 0.0, 0.0, 0.0, 0.0, 0.0], [0.9724985361099243, 0.013638002797961235, 0.010449537076056004, 0.003413880243897438, 0.0, 0.0, 0.0, 0.0, 0.0, 0.0, 0.0, 0.0, 0.0, 0.0, 0.0], [0.9621158242225647, 0.02335098199546337, 0.007629977539181709, 0.0005673043779097497, 0.006336030084639788, 0.0, 0.0, 0.0, 0.0, 0.0, 0.0, 0.0, 0.0, 0.0, 0.0], [0.9385297298431396, 0.01686973124742508, 0.0061734397895634174, 0.0013856408186256886, 0.0036165707278996706, 0.03342490270733833, 0.0, 0.0, 0.0, 0.0, 0.0, 0.0, 0.0, 0.0, 0.0], [0.9511937499046326, 0.004906782414764166, 0.0050001065246760845, 0.0007502835360355675, 0.0025331273209303617, 0.009778685867786407, 0.025837158784270287, 0.0, 0.0, 0.0, 0.0, 0.0, 0.0, 0.0, 0.0], [0.9095008969306946, 0.00911762285977602, 0.006509468890726566, 0.00025534353335388005, 0.001756019308231771, 0.010384438559412956, 0.027975918725132942, 0.03450022265315056, 0.0, 0.0, 0.0, 0.0, 0.0, 0.0, 0.0], [0.420253723859787, 0.006843404844403267, 0.22385403513908386, 0.013926628977060318, 0.008798732422292233, 0.007639092393219471, 0.020977286621928215, 0.029500603675842285, 0.26820656657218933, 0.0, 0.0, 0.0, 0.0, 0.0, 0.0], [0.45158079266548157, 0.0035165203735232353, 0.002206986304372549, 0.08525682985782623, 0.13618621230125427, 0.030742065981030464, 0.09021367877721786, 0.15572747588157654, 0.038151342421770096, 0.006418094504624605, 0.0, 0.0, 0.0, 0.0, 0.0], [0.42554500699043274, 0.001281794160604477, 0.0010692839277908206, 0.0005145287723280489, 0.11803727596998215, 0.014377547428011894, 0.1368832290172577, 0.2316034585237503, 0.05355043336749077, 0.005724059417843819, 0.01141325943171978, 0.0, 0.0, 0.0, 0.0], [0.5177915692329407, 0.002617022255435586, 0.001021972275339067, 0.00013080395001452416, 0.00048103544395416975, 0.1437772661447525, 0.12183526903390884, 0.026364615187048912, 0.17828813195228577, 0.003244542283937335, 0.0011942085111513734, 0.00325353117659688, 0.0, 0.0, 0.0], [0.5290912985801697, 0.002608022652566433, 0.0011627658968791366, 0.0002623021136969328, 0.0004903195076622069, 0.0043726651929318905, 0.30177274346351624, 0.027767090126872063, 0.11083424091339111, 0.004831364378333092, 0.003342418000102043, 0.0019784371834248304, 0.011486342176795006, 0.0, 0.0], [0.44026732444763184, 0.00041505639092065394, 0.00041272264206781983, 0.00010369934898335487, 0.00016538862837478518, 0.0009866284672170877, 0.0021118333097547293, 0.1533522754907608, 0.36976829171180725, 0.00953730009496212, 0.001488942769356072, 0.0035395892336964607, 0.007021656725555658, 0.010829255916178226, 0.0], [0.23791231215000153, 0.0006705972482450306, 0.00043877921416424215, 2.5299363187514246e-05, 5.493348362506367e-05, 0.000642222526948899, 0.001069079851731658, 0.002962167840451002, 0.7185096144676208, 0.010432416573166847, 0.0006657252088189125, 0.001710513955913484, 0.005899989977478981, 0.009729043580591679, 0.009277230128645897]], [[1.0, 0.0, 0.0, 0.0, 0.0, 0.0, 0.0, 0.0, 0.0, 0.0, 0.0, 0.0, 0.0, 0.0, 0.0], [0.9809226393699646, 0.019077375531196594, 0.0, 0.0, 0.0, 0.0, 0.0, 0.0, 0.0, 0.0, 0.0, 0.0, 0.0, 0.0, 0.0], [0.9760815501213074, 0.022666672244668007, 0.0012517408467829227, 0.0, 0.0, 0.0, 0.0, 0.0, 0.0, 0.0, 0.0, 0.0, 0.0, 0.0, 0.0], [0.9645016193389893, 0.022532951086759567, 0.007983289659023285, 0.004982233513146639, 0.0, 0.0, 0.0, 0.0, 0.0, 0.0, 0.0, 0.0, 0.0, 0.0, 0.0], [0.9597846269607544, 0.011908559128642082, 0.01354070845991373, 0.009811612777411938, 0.0049545797519385815, 0.0, 0.0, 0.0, 0.0, 0.0, 0.0, 0.0, 0.0, 0.0, 0.0], [0.9260736107826233, 0.02513997070491314, 0.014832679182291031, 0.01802389696240425, 0.00612016674131155, 0.009809755720198154, 0.0, 0.0, 0.0, 0.0, 0.0, 0.0, 0.0, 0.0, 0.0], [0.871453583240509, 0.013799506239593029, 0.04267078638076782, 0.02812194637954235, 0.010329943150281906, 0.01727370172739029, 0.016350388526916504, 0.0, 0.0, 0.0, 0.0, 0.0, 0.0, 0.0, 0.0], [0.8891112208366394, 0.01918903924524784, 0.016827547922730446, 0.02116319350898266, 0.013968300074338913, 0.02077896147966385, 0.01676524616777897, 0.0021965811029076576, 0.0, 0.0, 0.0, 0.0, 0.0, 0.0, 0.0], [0.8467190265655518, 0.03532175347208977, 0.04790825769305229, 0.026308896020054817, 0.009013401344418526, 0.004351367242634296, 0.016259554773569107, 0.007801698055118322, 0.0063160439021885395, 0.0, 0.0, 0.0, 0.0, 0.0, 0.0], [0.7244222164154053, 0.030815716832876205, 0.0038453375454992056, 0.012053138576447964, 0.040810488164424896, 0.018996331840753555, 0.04416484385728836, 0.013013150542974472, 0.10682171583175659, 0.005056948866695166, 0.0, 0.0, 0.0, 0.0, 0.0], [0.7531837821006775, 0.023749111220240593, 0.02056499756872654, 0.010625817812979221, 0.023084646090865135, 0.017084509134292603, 0.044228389859199524, 0.011106489226222038, 0.06281402707099915, 0.020483748987317085, 0.013074461370706558, 0.0, 0.0, 0.0, 0.0], [0.8072236776351929, 0.02207142300903797, 0.027538947761058807, 0.016337774693965912, 0.010934627614915371, 0.017423385754227638, 0.022896792739629745, 0.01042446494102478, 0.028933165594935417, 0.0168899055570364, 0.012067671865224838, 0.007258160039782524, 0.0, 0.0, 0.0], [0.7745823860168457, 0.04304450377821922, 0.032147206366062164, 0.025980617851018906, 0.010435846634209156, 0.013227703049778938, 0.036224350333213806, 0.00787142664194107, 0.00946099404245615, 0.019879132509231567, 0.012327195145189762, 0.004256631247699261, 0.010562082752585411, 0.0, 0.0], [0.6161217093467712, 0.02314169891178608, 0.059481196105480194, 0.03222957253456116, 0.020502418279647827, 0.019472014158964157, 0.03538127243518829, 0.01911323145031929, 0.026053685694932938, 0.04366413876414299, 0.02293773554265499, 0.01894191838800907, 0.019100502133369446, 0.043858882039785385, 0.0], [0.5476604700088501, 0.07120377570390701, 0.03295326977968216, 0.024497738108038902, 0.029850628226995468, 0.02204800583422184, 0.03134264796972275, 0.010363121517002583, 0.0640614926815033, 0.028703784570097923, 0.025250529870390892, 0.030524728819727898, 0.024322863668203354, 0.04543847218155861, 0.011778420768678188]], [[1.0, 0.0, 0.0, 0.0, 0.0, 0.0, 0.0, 0.0, 0.0, 0.0, 0.0, 0.0, 0.0, 0.0, 0.0], [0.9919179081916809, 0.008082081563770771, 0.0, 0.0, 0.0, 0.0, 0.0, 0.0, 0.0, 0.0, 0.0, 0.0, 0.0, 0.0, 0.0], [0.8911195993423462, 0.05641566589474678, 0.05246473848819733, 0.0, 0.0, 0.0, 0.0, 0.0, 0.0, 0.0, 0.0, 0.0, 0.0, 0.0, 0.0], [0.8210300803184509, 0.03417230024933815, 0.045874547213315964, 0.09892317652702332, 0.0, 0.0, 0.0, 0.0, 0.0, 0.0, 0.0, 0.0, 0.0, 0.0, 0.0], [0.5980534553527832, 0.009532740339636803, 0.031288061290979385, 0.27281978726387024, 0.08830594271421432, 0.0, 0.0, 0.0, 0.0, 0.0, 0.0, 0.0, 0.0, 0.0, 0.0], [0.893884003162384, 0.005386475473642349, 0.01936897076666355, 0.02609480731189251, 0.019546708092093468, 0.035719145089387894, 0.0, 0.0, 0.0, 0.0, 0.0, 0.0, 0.0, 0.0, 0.0], [0.3998592495918274, 0.00838323961943388, 0.07139120995998383, 0.17191484570503235, 0.10109573602676392, 0.16213494539260864, 0.08522073924541473, 0.0, 0.0, 0.0, 0.0, 0.0, 0.0, 0.0, 0.0], [0.3936539888381958, 0.027638129889965057, 0.10186611115932465, 0.20101647078990936, 0.12038247287273407, 0.01749558560550213, 0.10360036045312881, 0.03434697538614273, 0.0, 0.0, 0.0, 0.0, 0.0, 0.0, 0.0], [0.7213367819786072, 0.025442659854888916, 0.05664815753698349, 0.031269557774066925, 0.03609006106853485, 0.0042890943586826324, 0.044530875980854034, 0.023181717842817307, 0.05721106752753258, 0.0, 0.0, 0.0, 0.0, 0.0, 0.0], [0.5325499176979065, 0.05005712807178497, 0.01624242030084133, 0.06671705096960068, 0.023681798949837685, 0.017760369926691055, 0.06443381309509277, 0.11637962609529495, 0.0900278091430664, 0.022150084376335144, 0.0, 0.0, 0.0, 0.0, 0.0], [0.3562306761741638, 0.022516949102282524, 0.028459830209612846, 0.0777294784784317, 0.047705382108688354, 0.011574075557291508, 0.09656627476215363, 0.047364793717861176, 0.0537777915596962, 0.040390897542238235, 0.21768397092819214, 0.0, 0.0, 0.0, 0.0], [0.2448299080133438, 0.009367969818413258, 0.014647469855844975, 0.188242107629776, 0.06132582575082779, 0.019788876175880432, 0.0855984166264534, 0.05782084912061691, 0.013998173177242279, 0.022139161825180054, 0.21707510948181152, 0.06516619771718979, 0.0, 0.0, 0.0], [0.6782978177070618, 0.005593073088675737, 0.03182225674390793, 0.05326743796467781, 0.030611656606197357, 0.04277123138308525, 0.015934232622385025, 0.005895989015698433, 0.006769781466573477, 0.01980636455118656, 0.03294144198298454, 0.029492031782865524, 0.04679664596915245, 0.0, 0.0], [0.27063509821891785, 0.008907550014555454, 0.03913151100277901, 0.08228060603141785, 0.07558922469615936, 0.05870485305786133, 0.05174022540450096, 0.010891538113355637, 0.016213558614253998, 0.04539052024483681, 0.11364269256591797, 0.09051381051540375, 0.07991690188646317, 0.056441985070705414, 0.0], [0.3438792824745178, 0.033083226531744, 0.044479645788669586, 0.06550271064043045, 0.05544758588075638, 0.010771442204713821, 0.07762730866670609, 0.04885159805417061, 0.04225195199251175, 0.02729874663054943, 0.07972095906734467, 0.06700284779071808, 0.01331798080354929, 0.06244156137108803, 0.028323104605078697]], [[1.0, 0.0, 0.0, 0.0, 0.0, 0.0, 0.0, 0.0, 0.0, 0.0, 0.0, 0.0, 0.0, 0.0, 0.0], [0.8252440094947815, 0.17475596070289612, 0.0, 0.0, 0.0, 0.0, 0.0, 0.0, 0.0, 0.0, 0.0, 0.0, 0.0, 0.0, 0.0], [0.9248567819595337, 0.034504834562540054, 0.04063833877444267, 0.0, 0.0, 0.0, 0.0, 0.0, 0.0, 0.0, 0.0, 0.0, 0.0, 0.0, 0.0], [0.7735209465026855, 0.037222474813461304, 0.07027890533208847, 0.11897769570350647, 0.0, 0.0, 0.0, 0.0, 0.0, 0.0, 0.0, 0.0, 0.0, 0.0, 0.0], [0.8041488528251648, 0.011387718841433525, 0.033163122832775116, 0.04073090851306915, 0.11056945472955704, 0.0, 0.0, 0.0, 0.0, 0.0, 0.0, 0.0, 0.0, 0.0, 0.0], [0.6505077481269836, 0.02842838503420353, 0.12348881363868713, 0.05359220504760742, 0.05158400535583496, 0.09239891171455383, 0.0, 0.0, 0.0, 0.0, 0.0, 0.0, 0.0, 0.0, 0.0], [0.4776607155799866, 0.03416988253593445, 0.06445828080177307, 0.06361757218837738, 0.03912024199962616, 0.05456080287694931, 0.2664124667644501, 0.0, 0.0, 0.0, 0.0, 0.0, 0.0, 0.0, 0.0], [0.7224504947662354, 0.011232377961277962, 0.0639842301607132, 0.03155215084552765, 0.030340872704982758, 0.019294671714305878, 0.08555559813976288, 0.0355895534157753, 0.0, 0.0, 0.0, 0.0, 0.0, 0.0, 0.0], [0.7787685990333557, 0.05068211629986763, 0.019756441935896873, 0.014760104939341545, 0.00570486718788743, 0.02912156842648983, 0.012209327891469002, 0.004376176279038191, 0.08462079614400864, 0.0, 0.0, 0.0, 0.0, 0.0, 0.0], [0.7260801792144775, 0.01336135808378458, 0.03501291945576668, 0.044030431658029556, 0.01590215042233467, 0.05567037686705589, 0.021343927830457687, 0.009638943709433079, 0.04272691532969475, 0.036232929676771164, 0.0, 0.0, 0.0, 0.0, 0.0], [0.6853102445602417, 0.015985891222953796, 0.041259948164224625, 0.06059601902961731, 0.01489793136715889, 0.033553723245859146, 0.026746874675154686, 0.010213750414550304, 0.022355956956744194, 0.03423900157213211, 0.0548405684530735, 0.0, 0.0, 0.0, 0.0], [0.5708193182945251, 0.005786605179309845, 0.02122027426958084, 0.03387004882097244, 0.10468833893537521, 0.016661910340189934, 0.021337954327464104, 0.007011414505541325, 0.008860114961862564, 0.021083779633045197, 0.045143187046051025, 0.14351695775985718, 0.0, 0.0, 0.0], [0.4455287754535675, 0.013995126821100712, 0.08614248037338257, 0.05414968729019165, 0.03395989164710045, 0.07388591021299362, 0.07066825777292252, 0.022147243842482567, 0.020565716549754143, 0.04481706768274307, 0.04771937429904938, 0.0273605864495039, 0.05905996635556221, 0.0, 0.0], [0.3189195692539215, 0.017282860353589058, 0.03361684828996658, 0.02917174994945526, 0.025053197517991066, 0.021940898150205612, 0.21928876638412476, 0.01685168407857418, 0.020616400986909866, 0.03416341170668602, 0.04924515262246132, 0.02373412437736988, 0.02655067667365074, 0.16356459259986877, 0.0], [0.557514488697052, 0.009763533249497414, 0.024052683264017105, 0.015989864245057106, 0.012221727520227432, 0.009889435023069382, 0.06687191873788834, 0.029948411509394646, 0.019316108897328377, 0.030694836750626564, 0.04120320826768875, 0.022120825946331024, 0.016492096707224846, 0.10252701491117477, 0.04139387235045433]]]}\n",
       "    )\n",
       "    </script>"
      ],
      "text/plain": [
       "<circuitsvis.utils.render.RenderedHTML at 0x2650a034800>"
      ]
     },
     "metadata": {},
     "output_type": "display_data"
    },
    {
     "name": "stdout",
     "output_type": "stream",
     "text": [
      "Attention pattern for layer 7\n"
     ]
    },
    {
     "data": {
      "text/html": [
       "<div id=\"circuits-vis-c1d9a70c-62f6\" style=\"margin: 15px 0;\"/>\n",
       "    <script crossorigin type=\"module\">\n",
       "    import { render, AttentionPatterns } from \"https://unpkg.com/circuitsvis@1.43.3/dist/cdn/esm.js\";\n",
       "    render(\n",
       "      \"circuits-vis-c1d9a70c-62f6\",\n",
       "      AttentionPatterns,\n",
       "      {\"tokens\": [\"<|endoftext|>\", \"The\", \" capital\", \" city\", \" of\", \" France\", \" is\", \" called\", \"The\", \" capital\", \" city\", \" of\", \" France\", \" is\", \" called\"], \"attention\": [[[1.0, 0.0, 0.0, 0.0, 0.0, 0.0, 0.0, 0.0, 0.0, 0.0, 0.0, 0.0, 0.0, 0.0, 0.0], [0.9771727919578552, 0.022827209904789925, 0.0, 0.0, 0.0, 0.0, 0.0, 0.0, 0.0, 0.0, 0.0, 0.0, 0.0, 0.0, 0.0], [0.6909472942352295, 0.27470648288726807, 0.03434629738330841, 0.0, 0.0, 0.0, 0.0, 0.0, 0.0, 0.0, 0.0, 0.0, 0.0, 0.0, 0.0], [0.7707874178886414, 0.10979752242565155, 0.052322592586278915, 0.06709249317646027, 0.0, 0.0, 0.0, 0.0, 0.0, 0.0, 0.0, 0.0, 0.0, 0.0, 0.0], [0.8386030197143555, 0.020750487223267555, 0.019039597362279892, 0.09059344232082367, 0.031013336032629013, 0.0, 0.0, 0.0, 0.0, 0.0, 0.0, 0.0, 0.0, 0.0, 0.0], [0.6937552094459534, 0.012056899257004261, 0.015516243875026703, 0.03850565478205681, 0.2185635268688202, 0.021602481603622437, 0.0, 0.0, 0.0, 0.0, 0.0, 0.0, 0.0, 0.0, 0.0], [0.9394855499267578, 0.0023769878316670656, 0.001769069000147283, 0.012977498583495617, 0.008732199668884277, 0.014263048768043518, 0.020395735278725624, 0.0, 0.0, 0.0, 0.0, 0.0, 0.0, 0.0, 0.0], [0.8337375521659851, 0.001049809972755611, 0.000648406392429024, 0.0022220280952751637, 0.0014989180490374565, 0.004210243467241526, 0.11490054428577423, 0.04173244163393974, 0.0, 0.0, 0.0, 0.0, 0.0, 0.0, 0.0], [0.2922743260860443, 0.0006691731978207827, 0.0074521456845104694, 0.044662609696388245, 0.02180654928088188, 0.09265756607055664, 0.15232813358306885, 0.36650851368904114, 0.02164096012711525, 0.0, 0.0, 0.0, 0.0, 0.0, 0.0], [0.4523409903049469, 0.02734994888305664, 0.0032444752287119627, 0.006524970289319754, 0.0020114362705498934, 0.00669874157756567, 0.01480257511138916, 0.01404536608606577, 0.4551897943019867, 0.017791686579585075, 0.0, 0.0, 0.0, 0.0, 0.0], [0.18958315253257751, 0.01109638623893261, 0.018271805718541145, 0.013917793519794941, 0.0007499021012336016, 0.005121919792145491, 0.019607361406087875, 0.013399330899119377, 0.47054752707481384, 0.21254825592041016, 0.04515652731060982, 0.0, 0.0, 0.0, 0.0], [0.5120657682418823, 0.004044795874506235, 0.007487555965781212, 0.021217744797468185, 0.001360901165753603, 0.0046177515760064125, 0.03445443511009216, 0.0573362298309803, 0.16597409546375275, 0.07401052862405777, 0.10563524067401886, 0.011794939637184143, 0.0, 0.0, 0.0], [0.5444749593734741, 0.0036492457147687674, 0.004766377154737711, 0.007566086947917938, 0.010940143838524818, 0.004142543766647577, 0.062308598309755325, 0.04549134895205498, 0.048547614365816116, 0.09118544310331345, 0.05772929638624191, 0.10135036706924438, 0.017848066985607147, 0.0, 0.0], [0.5442235469818115, 0.0018569057574495673, 0.0018779892707243562, 0.011725003831088543, 0.0030811522156000137, 0.03287549689412117, 0.007015518844127655, 0.013873279094696045, 0.00909559428691864, 0.013446302153170109, 0.04942942410707474, 0.02130359411239624, 0.25562095642089844, 0.034575205296278, 0.0], [0.3142295777797699, 0.000984093639999628, 0.0003652418381534517, 0.002322444459423423, 0.0009367367019876838, 0.009804066270589828, 0.17640115320682526, 0.1700112223625183, 0.017511088401079178, 0.0037567042745649815, 0.004667470697313547, 0.005485915578901768, 0.01999977044761181, 0.2245108038187027, 0.049013763666152954]], [[1.0, 0.0, 0.0, 0.0, 0.0, 0.0, 0.0, 0.0, 0.0, 0.0, 0.0, 0.0, 0.0, 0.0, 0.0], [0.9968811273574829, 0.0031189261935651302, 0.0, 0.0, 0.0, 0.0, 0.0, 0.0, 0.0, 0.0, 0.0, 0.0, 0.0, 0.0, 0.0], [0.9736651182174683, 0.0023782162461429834, 0.023956619203090668, 0.0, 0.0, 0.0, 0.0, 0.0, 0.0, 0.0, 0.0, 0.0, 0.0, 0.0, 0.0], [0.9529179334640503, 0.005129736848175526, 0.007954598404467106, 0.03399781882762909, 0.0, 0.0, 0.0, 0.0, 0.0, 0.0, 0.0, 0.0, 0.0, 0.0, 0.0], [0.990770161151886, 0.002215634100139141, 0.002321680309250951, 0.0036133104003965855, 0.0010793053079396486, 0.0, 0.0, 0.0, 0.0, 0.0, 0.0, 0.0, 0.0, 0.0, 0.0], [0.9544283151626587, 0.0029375224839895964, 0.0022655492648482323, 0.0069746533408761024, 0.0030946736223995686, 0.030299309641122818, 0.0, 0.0, 0.0, 0.0, 0.0, 0.0, 0.0, 0.0, 0.0], [0.9493190050125122, 0.005833552684634924, 0.0034766874741762877, 0.011019956320524216, 0.007773071527481079, 0.01586832106113434, 0.006709333974868059, 0.0, 0.0, 0.0, 0.0, 0.0, 0.0, 0.0, 0.0], [0.9245178699493408, 0.01212532352656126, 0.013956434093415737, 0.01619759202003479, 0.006974471732974052, 0.021011853590607643, 0.0035809518303722143, 0.0016354690305888653, 0.0, 0.0, 0.0, 0.0, 0.0, 0.0, 0.0], [0.6584533452987671, 0.016435470432043076, 0.018053801730275154, 0.03764769807457924, 0.058923013508319855, 0.07714841514825821, 0.04144783318042755, 0.019117997959256172, 0.072772316634655, 0.0, 0.0, 0.0, 0.0, 0.0, 0.0], [0.35099658370018005, 0.009464754723012447, 0.004708273336291313, 0.014632859267294407, 0.04937029629945755, 0.07336089015007019, 0.20331363379955292, 0.01032587606459856, 0.28022003173828125, 0.003606728743761778, 0.0, 0.0, 0.0, 0.0, 0.0], [0.10449149459600449, 0.0024452258367091417, 0.0012811217457056046, 0.002838768530637026, 0.012895571067929268, 0.0732143223285675, 0.1709136962890625, 0.013328366912901402, 0.6119458079338074, 0.00443666335195303, 0.002208972116932273, 0.0, 0.0, 0.0, 0.0], [0.3944361209869385, 0.00635610893368721, 0.002518026391044259, 0.0045251743867993355, 0.002470666076987982, 0.16395725309848785, 0.046792518347501755, 0.0028835758566856384, 0.36168718338012695, 0.006049946881830692, 0.0028996793553233147, 0.005423807073384523, 0.0, 0.0, 0.0], [0.5767706036567688, 0.010608297772705555, 0.003207937814295292, 0.0095256632193923, 0.007090513128787279, 0.09064085781574249, 0.08782301098108292, 0.006310090888291597, 0.1433783322572708, 0.0052954149432480335, 0.0027708085253834724, 0.004841234534978867, 0.051737263798713684, 0.0, 0.0], [0.20400916039943695, 0.008153197355568409, 0.0023166423197835684, 0.004397128708660603, 0.010153796523809433, 0.020542409271001816, 0.01794293336570263, 0.028498884290456772, 0.5936965346336365, 0.00964820384979248, 0.005716977175325155, 0.027320941910147667, 0.02449916861951351, 0.043103888630867004, 0.0], [0.20600171387195587, 0.02711302787065506, 0.02220289595425129, 0.02533625066280365, 0.009018353186547756, 0.021893108263611794, 0.005472755525261164, 0.00412710290402174, 0.4697391986846924, 0.07899834960699081, 0.02834855206310749, 0.037251535803079605, 0.030526775866746902, 0.02414332516491413, 0.009827137924730778]], [[1.0, 0.0, 0.0, 0.0, 0.0, 0.0, 0.0, 0.0, 0.0, 0.0, 0.0, 0.0, 0.0, 0.0, 0.0], [0.9991610050201416, 0.0008389472495764494, 0.0, 0.0, 0.0, 0.0, 0.0, 0.0, 0.0, 0.0, 0.0, 0.0, 0.0, 0.0, 0.0], [0.9974614381790161, 0.00010141773236682639, 0.0024371310137212276, 0.0, 0.0, 0.0, 0.0, 0.0, 0.0, 0.0, 0.0, 0.0, 0.0, 0.0, 0.0], [0.9885725975036621, 4.4876676838612184e-05, 0.0010054095182567835, 0.010377119295299053, 0.0, 0.0, 0.0, 0.0, 0.0, 0.0, 0.0, 0.0, 0.0, 0.0, 0.0], [0.9988707900047302, 8.482877456117421e-05, 0.0003046169877052307, 0.000271397439064458, 0.00046848083729855716, 0.0, 0.0, 0.0, 0.0, 0.0, 0.0, 0.0, 0.0, 0.0, 0.0], [0.9987367987632751, 8.471844193991274e-05, 3.4784894523909315e-05, 1.749995499267243e-05, 0.00013755659165326506, 0.0009886791231110692, 0.0, 0.0, 0.0, 0.0, 0.0, 0.0, 0.0, 0.0, 0.0], [0.9969180822372437, 5.1035574870184064e-05, 0.00017204035248141736, 0.00013362697791308165, 0.0001901872019516304, 0.0019961504731327295, 0.0005389220896176994, 0.0, 0.0, 0.0, 0.0, 0.0, 0.0, 0.0, 0.0], [0.9875391721725464, 4.145782804698683e-05, 0.00016314018284901977, 1.5586783774779178e-05, 9.69574466580525e-06, 0.002037521218881011, 7.71357081248425e-05, 0.010116398334503174, 0.0, 0.0, 0.0, 0.0, 0.0, 0.0, 0.0], [0.2684577703475952, 0.0028925028163939714, 0.6225971579551697, 0.014718708582222462, 0.005637539550662041, 0.032647743821144104, 0.0036598031874746084, 0.047648850828409195, 0.001739788567647338, 0.0, 0.0, 0.0, 0.0, 0.0, 0.0], [0.26750341057777405, 0.002941921353340149, 0.036393240094184875, 0.5641375184059143, 0.05741439759731293, 0.018170785158872604, 0.010436574928462505, 0.042530469596385956, 0.0002946908352896571, 0.0001769411755958572, 0.0, 0.0, 0.0, 0.0, 0.0], [0.01204909011721611, 0.00022629604791291058, 0.0018756103236228228, 0.023850850760936737, 0.5203861594200134, 0.029040146619081497, 0.04153347387909889, 0.3699786067008972, 0.0003545901854522526, 9.936195056070574e-06, 0.0006953176343813539, 0.0, 0.0, 0.0, 0.0], [0.02412676066160202, 0.002026420319452882, 0.00540419714525342, 0.004734641872346401, 0.014147495850920677, 0.8201186060905457, 0.018392406404018402, 0.10980004817247391, 0.0010055449092760682, 3.9272224967135116e-05, 3.6916455428581685e-05, 0.00016766290355008096, 0.0, 0.0, 0.0], [0.07044404745101929, 0.002191666280850768, 0.0005556659889407456, 0.0004071498697157949, 0.01833047717809677, 0.04446867108345032, 0.7274748682975769, 0.13226814568042755, 0.0021150019019842148, 1.0118125828739721e-05, 1.4624475625168998e-05, 0.00043717643711715937, 0.0012824325822293758, 0.0, 0.0], [0.0009335560025647283, 0.00014122763241175562, 0.00015314857591874897, 0.00013876945013180375, 0.0006932731484994292, 0.004357711877673864, 0.004082794301211834, 0.9884132742881775, 0.0009541678591631353, 4.033919594803592e-06, 1.6392677935073152e-06, 7.077690042933682e-06, 7.517858466599137e-05, 4.411570625961758e-05, 0.0], [0.3033367097377777, 0.011646046303212643, 0.004882930777966976, 0.00035184837179258466, 0.00041346781654283404, 0.048162784427404404, 0.009914198890328407, 0.42830851674079895, 0.016940748319029808, 0.00026125676231458783, 7.649690815014765e-06, 3.758471939363517e-05, 0.002114967443048954, 0.0006172152352519333, 0.17300409078598022]], [[1.0, 0.0, 0.0, 0.0, 0.0, 0.0, 0.0, 0.0, 0.0, 0.0, 0.0, 0.0, 0.0, 0.0, 0.0], [0.9908252358436584, 0.009174744598567486, 0.0, 0.0, 0.0, 0.0, 0.0, 0.0, 0.0, 0.0, 0.0, 0.0, 0.0, 0.0, 0.0], [0.9462660551071167, 0.014449233189225197, 0.03928466513752937, 0.0, 0.0, 0.0, 0.0, 0.0, 0.0, 0.0, 0.0, 0.0, 0.0, 0.0, 0.0], [0.8378666639328003, 0.0229047704488039, 0.06339243799448013, 0.07583609223365784, 0.0, 0.0, 0.0, 0.0, 0.0, 0.0, 0.0, 0.0, 0.0, 0.0, 0.0], [0.8307172656059265, 0.019090967252850533, 0.04442797973752022, 0.08282306045293808, 0.022940699011087418, 0.0, 0.0, 0.0, 0.0, 0.0, 0.0, 0.0, 0.0, 0.0, 0.0], [0.8413587212562561, 0.013421602547168732, 0.022148843854665756, 0.027565350756049156, 0.040276676416397095, 0.05522876977920532, 0.0, 0.0, 0.0, 0.0, 0.0, 0.0, 0.0, 0.0, 0.0], [0.8527243137359619, 0.019621292129158974, 0.028850920498371124, 0.023296384140849113, 0.014851692132651806, 0.035720568150281906, 0.024934934452176094, 0.0, 0.0, 0.0, 0.0, 0.0, 0.0, 0.0, 0.0], [0.8558955192565918, 0.012268440797924995, 0.021461399272084236, 0.026170676574110985, 0.011571096256375313, 0.02491304650902748, 0.02185218594968319, 0.02586754783987999, 0.0, 0.0, 0.0, 0.0, 0.0, 0.0, 0.0], [0.7480753064155579, 0.005835201591253281, 0.02363252453505993, 0.05857463553547859, 0.01317939069122076, 0.02926330640912056, 0.04230872914195061, 0.037486057728528976, 0.04164481908082962, 0.0, 0.0, 0.0, 0.0, 0.0, 0.0], [0.8012450933456421, 0.007289014291018248, 0.010279995389282703, 0.019628647714853287, 0.010727852582931519, 0.03351187705993652, 0.02308831177651882, 0.01972261816263199, 0.018098965287208557, 0.05640781670808792, 0.0, 0.0, 0.0, 0.0, 0.0], [0.7138525247573853, 0.012954650446772575, 0.01020655408501625, 0.010262231342494488, 0.006924340967088938, 0.032999735325574875, 0.01888778991997242, 0.022202957421541214, 0.034345172345638275, 0.10496000945568085, 0.03240408003330231, 0.0, 0.0, 0.0, 0.0], [0.5096059441566467, 0.014259174466133118, 0.010144253261387348, 0.011621983721852303, 0.006453508976846933, 0.06659404933452606, 0.020625542849302292, 0.015097673051059246, 0.06505218148231506, 0.1356685757637024, 0.07393237203359604, 0.07094480097293854, 0.0, 0.0, 0.0], [0.43352916836738586, 0.008193664252758026, 0.00690059270709753, 0.007115632761269808, 0.011473852209746838, 0.02008061110973358, 0.02972428873181343, 0.01462041586637497, 0.0419696681201458, 0.069898322224617, 0.04260913282632828, 0.1230880618095398, 0.19079670310020447, 0.0, 0.0], [0.5796440839767456, 0.01915404014289379, 0.006305440794676542, 0.005564988125115633, 0.00823506060987711, 0.024067126214504242, 0.010083640925586224, 0.05547520890831947, 0.05019155517220497, 0.0450262725353241, 0.01755467616021633, 0.034717097878456116, 0.10144469887018204, 0.042536213994026184, 0.0], [0.23737525939941406, 0.01947616972029209, 0.006119381636381149, 0.0053650313057005405, 0.0036719038616865873, 0.014400728978216648, 0.012149463407695293, 0.013216465711593628, 0.1768268197774887, 0.14984430372714996, 0.05206145718693733, 0.03688424080610275, 0.09700502455234528, 0.11087401956319809, 0.06472980976104736]], [[1.0, 0.0, 0.0, 0.0, 0.0, 0.0, 0.0, 0.0, 0.0, 0.0, 0.0, 0.0, 0.0, 0.0, 0.0], [0.9961661100387573, 0.003833869006484747, 0.0, 0.0, 0.0, 0.0, 0.0, 0.0, 0.0, 0.0, 0.0, 0.0, 0.0, 0.0, 0.0], [0.9724605679512024, 0.021363524720072746, 0.006176014430820942, 0.0, 0.0, 0.0, 0.0, 0.0, 0.0, 0.0, 0.0, 0.0, 0.0, 0.0, 0.0], [0.9024822115898132, 0.06929849833250046, 0.012897124513983727, 0.015322251245379448, 0.0, 0.0, 0.0, 0.0, 0.0, 0.0, 0.0, 0.0, 0.0, 0.0, 0.0], [0.970562219619751, 0.017319971695542336, 0.004283711779862642, 0.0038887702394276857, 0.003945420030504465, 0.0, 0.0, 0.0, 0.0, 0.0, 0.0, 0.0, 0.0, 0.0, 0.0], [0.47562727332115173, 0.04823457449674606, 0.05035112425684929, 0.07772999256849289, 0.3073531985282898, 0.040703803300857544, 0.0, 0.0, 0.0, 0.0, 0.0, 0.0, 0.0, 0.0, 0.0], [0.8497439026832581, 0.01416688971221447, 0.01578950509428978, 0.02260642871260643, 0.06364557892084122, 0.01863057352602482, 0.015417131595313549, 0.0, 0.0, 0.0, 0.0, 0.0, 0.0, 0.0, 0.0], [0.8679795861244202, 0.03693198785185814, 0.008219871670007706, 0.010418262332677841, 0.01228050235658884, 0.011746063828468323, 0.036813247948884964, 0.015610525384545326, 0.0, 0.0, 0.0, 0.0, 0.0, 0.0, 0.0], [0.8918363451957703, 0.0030015315860509872, 0.007777855731546879, 0.009039053693413734, 0.011041706427931786, 0.01344049908220768, 0.01442294754087925, 0.04363751411437988, 0.005802774336189032, 0.0, 0.0, 0.0, 0.0, 0.0, 0.0], [0.9668943285942078, 0.0017110994085669518, 0.0007680833805352449, 0.000551357283256948, 0.0030784106347709894, 0.0016106899129226804, 0.002335566794499755, 0.003234748262912035, 0.009454162791371346, 0.01036155503243208, 0.0, 0.0, 0.0, 0.0, 0.0], [0.9508436322212219, 0.00106671208050102, 0.0009325353312306106, 0.0007152511971071362, 0.0021261232905089855, 0.0010744163300842047, 0.0027385337743908167, 0.006112925708293915, 0.012594961561262608, 0.018241671845316887, 0.0035532445181161165, 0.0, 0.0, 0.0, 0.0], [0.8716059923171997, 0.0031743415165692568, 0.0029552739579230547, 0.002750781364738941, 0.0017758950125426054, 0.0031308839097619057, 0.01265568844974041, 0.015817204490303993, 0.038702722638845444, 0.034405723214149475, 0.008885171264410019, 0.0041403211653232574, 0.0, 0.0, 0.0], [0.3291160762310028, 0.008574029430747032, 0.013450847938656807, 0.014354105107486248, 0.05903678387403488, 0.009659066796302795, 0.019498612731695175, 0.07257112115621567, 0.16742168366909027, 0.09291006624698639, 0.04886562004685402, 0.1317003071308136, 0.03284159302711487, 0.0, 0.0], [0.8078140616416931, 0.000961666984949261, 0.004765643738210201, 0.005709552206099033, 0.018273131921887398, 0.004513340070843697, 0.004883922636508942, 0.014145002700388432, 0.01206248439848423, 0.03531627729535103, 0.024564769119024277, 0.046655938029289246, 0.011683507822453976, 0.008650753647089005, 0.0], [0.3917711675167084, 0.026679551228880882, 0.004967777524143457, 0.005041588097810745, 0.022234318777918816, 0.0105690136551857, 0.04363967478275299, 0.047970328480005264, 0.2699640691280365, 0.025028953328728676, 0.024569496512413025, 0.028470199555158615, 0.024030519649386406, 0.06197177991271019, 0.013091439381241798]], [[1.0, 0.0, 0.0, 0.0, 0.0, 0.0, 0.0, 0.0, 0.0, 0.0, 0.0, 0.0, 0.0, 0.0, 0.0], [0.9838355779647827, 0.016164449974894524, 0.0, 0.0, 0.0, 0.0, 0.0, 0.0, 0.0, 0.0, 0.0, 0.0, 0.0, 0.0, 0.0], [0.8913935422897339, 0.07082028687000275, 0.03778618574142456, 0.0, 0.0, 0.0, 0.0, 0.0, 0.0, 0.0, 0.0, 0.0, 0.0, 0.0, 0.0], [0.8295106291770935, 0.044330015778541565, 0.04831397533416748, 0.07784534990787506, 0.0, 0.0, 0.0, 0.0, 0.0, 0.0, 0.0, 0.0, 0.0, 0.0, 0.0], [0.7849868535995483, 0.026271963492035866, 0.04763757809996605, 0.11329450458288193, 0.02780901826918125, 0.0, 0.0, 0.0, 0.0, 0.0, 0.0, 0.0, 0.0, 0.0, 0.0], [0.7642473578453064, 0.04177848994731903, 0.03268517553806305, 0.06975236535072327, 0.060170259326696396, 0.03136638179421425, 0.0, 0.0, 0.0, 0.0, 0.0, 0.0, 0.0, 0.0, 0.0], [0.9109405875205994, 0.021143469959497452, 0.004461295902729034, 0.005631748586893082, 0.004461583215743303, 0.04206075146794319, 0.011300498619675636, 0.0, 0.0, 0.0, 0.0, 0.0, 0.0, 0.0, 0.0], [0.6627746820449829, 0.023781120777130127, 0.019452059641480446, 0.02455976977944374, 0.00840415246784687, 0.10616051405668259, 0.13096201419830322, 0.023905621841549873, 0.0, 0.0, 0.0, 0.0, 0.0, 0.0, 0.0], [0.7498891353607178, 0.025695744901895523, 0.024572959169745445, 0.04193995147943497, 0.03302977606654167, 0.02906041592359543, 0.028975244611501694, 0.05145885795354843, 0.015377824194729328, 0.0, 0.0, 0.0, 0.0, 0.0, 0.0], [0.8670993447303772, 0.027511993423104286, 0.0050363605841994286, 0.011590981855988503, 0.006198652554303408, 0.031206272542476654, 0.00807994231581688, 0.0051959240809082985, 0.033501092344522476, 0.0045794411562383175, 0.0, 0.0, 0.0, 0.0, 0.0], [0.8556498289108276, 0.008604392409324646, 0.007677379064261913, 0.01371812354773283, 0.009972982108592987, 0.03994780033826828, 0.009730524383485317, 0.014876176603138447, 0.018600068986415863, 0.01100133452564478, 0.010221369564533234, 0.0, 0.0, 0.0, 0.0], [0.8115344047546387, 0.010751298628747463, 0.008906121365725994, 0.030871031805872917, 0.006053699180483818, 0.029794815927743912, 0.015569797717034817, 0.0120138144120574, 0.037134427577257156, 0.013967721723020077, 0.0184924453496933, 0.004910548683255911, 0.0, 0.0, 0.0], [0.712814211845398, 0.03258933871984482, 0.016621243208646774, 0.05606423690915108, 0.02813737839460373, 0.010398819111287594, 0.028346935287117958, 0.021085381507873535, 0.037937961518764496, 0.010192062705755234, 0.02417275682091713, 0.017450934275984764, 0.004188796039670706, 0.0, 0.0], [0.7496342062950134, 0.020452547818422318, 0.008650746196508408, 0.014294106513261795, 0.014872753992676735, 0.05284491926431656, 0.006111005786806345, 0.03301110863685608, 0.021348055452108383, 0.011734635569155216, 0.010155578143894672, 0.019908122718334198, 0.03195616975426674, 0.005026049911975861, 0.0], [0.3357044458389282, 0.05488835275173187, 0.062443461269140244, 0.06858797371387482, 0.019682209938764572, 0.06300128996372223, 0.08383921533823013, 0.0662236213684082, 0.05963839590549469, 0.08081690967082977, 0.041512902826070786, 0.006454819347709417, 0.01809409074485302, 0.027830496430397034, 0.01128177996724844]], [[1.0, 0.0, 0.0, 0.0, 0.0, 0.0, 0.0, 0.0, 0.0, 0.0, 0.0, 0.0, 0.0, 0.0, 0.0], [0.9844651818275452, 0.015534800477325916, 0.0, 0.0, 0.0, 0.0, 0.0, 0.0, 0.0, 0.0, 0.0, 0.0, 0.0, 0.0, 0.0], [0.9857293367385864, 0.009274343028664589, 0.0049962690100073814, 0.0, 0.0, 0.0, 0.0, 0.0, 0.0, 0.0, 0.0, 0.0, 0.0, 0.0, 0.0], [0.9477081894874573, 0.004847089760005474, 0.004398169927299023, 0.04304651543498039, 0.0, 0.0, 0.0, 0.0, 0.0, 0.0, 0.0, 0.0, 0.0, 0.0, 0.0], [0.9400169849395752, 0.0035262806341052055, 0.003407504176720977, 0.022074133157730103, 0.030975131317973137, 0.0, 0.0, 0.0, 0.0, 0.0, 0.0, 0.0, 0.0, 0.0, 0.0], [0.8393450975418091, 0.005345892161130905, 0.006760416552424431, 0.023675639182329178, 0.04299561679363251, 0.08187733590602875, 0.0, 0.0, 0.0, 0.0, 0.0, 0.0, 0.0, 0.0, 0.0], [0.887768566608429, 0.001560993492603302, 0.004177851602435112, 0.01714727282524109, 0.02244417928159237, 0.0540628544986248, 0.012838246300816536, 0.0, 0.0, 0.0, 0.0, 0.0, 0.0, 0.0, 0.0], [0.8912408947944641, 0.001755156321451068, 0.003131891367956996, 0.014929774217307568, 0.01357510406523943, 0.06013253331184387, 0.008873979561030865, 0.006360757630318403, 0.0, 0.0, 0.0, 0.0, 0.0, 0.0, 0.0], [0.7082248330116272, 0.009596300311386585, 0.02634594589471817, 0.043992653489112854, 0.03773457929491997, 0.08292771130800247, 0.033624935895204544, 0.02232661470770836, 0.035226523876190186, 0.0, 0.0, 0.0, 0.0, 0.0, 0.0], [0.7576572299003601, 0.017661897465586662, 0.005807564128190279, 0.024612100794911385, 0.027786806225776672, 0.0951293408870697, 0.020360726863145828, 0.017268702387809753, 0.01699012517929077, 0.01672554388642311, 0.0, 0.0, 0.0, 0.0, 0.0], [0.753802478313446, 0.024243006482720375, 0.00395418144762516, 0.008706682361662388, 0.018737705424427986, 0.06683819741010666, 0.015863949432969093, 0.01203359104692936, 0.03181209787726402, 0.027046266943216324, 0.03696189820766449, 0.0, 0.0, 0.0, 0.0], [0.6196869611740112, 0.017251258715987206, 0.004618105012923479, 0.008408129215240479, 0.010285922326147556, 0.11998798698186874, 0.011893728747963905, 0.00630833487957716, 0.04022856056690216, 0.036498673260211945, 0.05605413392186165, 0.0687781274318695, 0.0, 0.0, 0.0], [0.6355133652687073, 0.01859039068222046, 0.00881863571703434, 0.008002146147191525, 0.018353795632719994, 0.024414384737610817, 0.018742112442851067, 0.006796444300562143, 0.02614545449614525, 0.03552792966365814, 0.040240444242954254, 0.05036908760666847, 0.10848584026098251, 0.0, 0.0], [0.6066083908081055, 0.02504933811724186, 0.010458995588123798, 0.013818872161209583, 0.01058887504041195, 0.02595750242471695, 0.013278961181640625, 0.030661799013614655, 0.04236506298184395, 0.033181332051754, 0.02424069121479988, 0.02286803349852562, 0.0838291123509407, 0.057093001902103424, 0.0], [0.3602270483970642, 0.02898995950818062, 0.01109105534851551, 0.020370595157146454, 0.029272010549902916, 0.060591645538806915, 0.020364750176668167, 0.012169990688562393, 0.07322850823402405, 0.033016350120306015, 0.04399777948856354, 0.040888041257858276, 0.10429683327674866, 0.1303943544626236, 0.031101014465093613]], [[1.0, 0.0, 0.0, 0.0, 0.0, 0.0, 0.0, 0.0, 0.0, 0.0, 0.0, 0.0, 0.0, 0.0, 0.0], [0.9916919469833374, 0.008308019489049911, 0.0, 0.0, 0.0, 0.0, 0.0, 0.0, 0.0, 0.0, 0.0, 0.0, 0.0, 0.0, 0.0], [0.9721693396568298, 0.007908825762569904, 0.019921839237213135, 0.0, 0.0, 0.0, 0.0, 0.0, 0.0, 0.0, 0.0, 0.0, 0.0, 0.0, 0.0], [0.977790355682373, 0.0036751541774719954, 0.006145047955214977, 0.01238941214978695, 0.0, 0.0, 0.0, 0.0, 0.0, 0.0, 0.0, 0.0, 0.0, 0.0, 0.0], [0.9853358864784241, 0.0015464704483747482, 0.0033435537479817867, 0.004577441606670618, 0.005196580197662115, 0.0, 0.0, 0.0, 0.0, 0.0, 0.0, 0.0, 0.0, 0.0, 0.0], [0.9777024984359741, 0.0017037265934050083, 0.002315572462975979, 0.0030555736739188433, 0.002991484012454748, 0.012231121771037579, 0.0, 0.0, 0.0, 0.0, 0.0, 0.0, 0.0, 0.0, 0.0], [0.985691487789154, 0.0007647672318853438, 0.0006273899343796074, 0.002120381221175194, 0.001390831428579986, 0.0033980694133788347, 0.006007102783769369, 0.0, 0.0, 0.0, 0.0, 0.0, 0.0, 0.0, 0.0], [0.9709203243255615, 0.0003122086636722088, 0.0003154866863042116, 0.0008655157871544361, 0.0007122591487132013, 0.004034549463540316, 0.001217808574438095, 0.021621791645884514, 0.0, 0.0, 0.0, 0.0, 0.0, 0.0, 0.0], [0.6470717191696167, 0.004000559449195862, 0.023804470896720886, 0.05568019300699234, 0.036020614206790924, 0.04823311045765877, 0.06308569014072418, 0.11068420112133026, 0.01141939777880907, 0.0, 0.0, 0.0, 0.0, 0.0, 0.0], [0.35609614849090576, 0.00964423269033432, 0.0091245761141181, 0.014409934170544147, 0.04778547212481499, 0.12623710930347443, 0.1912076473236084, 0.23161278665065765, 0.01318021398037672, 0.0007019064505584538, 0.0, 0.0, 0.0, 0.0, 0.0], [0.12985144555568695, 0.008080539293587208, 0.005959528032690287, 0.008041568100452423, 0.023343436419963837, 0.11735016852617264, 0.36759158968925476, 0.32634416222572327, 0.012698513455688953, 0.00039299068157561123, 0.00034607891575433314, 0.0, 0.0, 0.0, 0.0], [0.541000485420227, 0.004544799216091633, 0.006402245722711086, 0.007303255144506693, 0.00961112417280674, 0.17954318225383759, 0.14915335178375244, 0.09295999258756638, 0.0074402568861842155, 0.0007286329637281597, 0.0004834673600271344, 0.0008291543927043676, 0.0, 0.0, 0.0], [0.5092442631721497, 0.009959796443581581, 0.0102861188352108, 0.008463474921882153, 0.010373865254223347, 0.042129065841436386, 0.23304986953735352, 0.15104879438877106, 0.012946979142725468, 0.003939369693398476, 0.0007558416109532118, 0.0010314906248822808, 0.006771070417016745, 0.0, 0.0], [0.6487939953804016, 0.005022459197789431, 0.004615264944732189, 0.00731743685901165, 0.004933055955916643, 0.014436949975788593, 0.03139110654592514, 0.2590435743331909, 0.013857079669833183, 0.0019787701312452555, 0.0007887647952884436, 0.0014487149892374873, 0.002982120495289564, 0.0033906223252415657, 0.0], [0.8993568420410156, 0.010121218860149384, 0.00838902872055769, 0.008418514393270016, 0.003620657604187727, 0.0059967441484332085, 0.01540091261267662, 0.02932065911591053, 0.002997681498527527, 0.004894649144262075, 0.0007883939542807639, 0.0012948958901688457, 0.0017786304233595729, 0.0032675527036190033, 0.004353657364845276]], [[1.0, 0.0, 0.0, 0.0, 0.0, 0.0, 0.0, 0.0, 0.0, 0.0, 0.0, 0.0, 0.0, 0.0, 0.0], [0.992693305015564, 0.007306681480258703, 0.0, 0.0, 0.0, 0.0, 0.0, 0.0, 0.0, 0.0, 0.0, 0.0, 0.0, 0.0, 0.0], [0.9277474284172058, 0.030179785564541817, 0.04207270219922066, 0.0, 0.0, 0.0, 0.0, 0.0, 0.0, 0.0, 0.0, 0.0, 0.0, 0.0, 0.0], [0.8337011933326721, 0.033086493611335754, 0.058676499873399734, 0.0745357945561409, 0.0, 0.0, 0.0, 0.0, 0.0, 0.0, 0.0, 0.0, 0.0, 0.0, 0.0], [0.8362598419189453, 0.06664466112852097, 0.011655046604573727, 0.06166916340589523, 0.023771239444613457, 0.0, 0.0, 0.0, 0.0, 0.0, 0.0, 0.0, 0.0, 0.0, 0.0], [0.3576313853263855, 0.019448846578598022, 0.09360873699188232, 0.3452967703342438, 0.16572919487953186, 0.01828499510884285, 0.0, 0.0, 0.0, 0.0, 0.0, 0.0, 0.0, 0.0, 0.0], [0.4601496458053589, 0.011133410036563873, 0.09136790037155151, 0.2664906978607178, 0.08355928957462311, 0.060288555920124054, 0.027010619640350342, 0.0, 0.0, 0.0, 0.0, 0.0, 0.0, 0.0, 0.0], [0.48713433742523193, 0.011050106957554817, 0.03228256478905678, 0.1969524621963501, 0.10120192170143127, 0.04266546666622162, 0.08176106214523315, 0.046952102333307266, 0.0, 0.0, 0.0, 0.0, 0.0, 0.0, 0.0], [0.6678792834281921, 0.005093209911137819, 0.039566487073898315, 0.04803949594497681, 0.02571462094783783, 0.04242433235049248, 0.02506093680858612, 0.048505984246730804, 0.09771575778722763, 0.0, 0.0, 0.0, 0.0, 0.0, 0.0], [0.44474074244499207, 0.023187460377812386, 0.00883388426154852, 0.017294034361839294, 0.00971009861677885, 0.005367831327021122, 0.005167749244719744, 0.010621694847941399, 0.34849703311920166, 0.12657959759235382, 0.0, 0.0, 0.0, 0.0, 0.0], [0.22534185647964478, 0.02039162814617157, 0.0055819242261350155, 0.003359829541295767, 0.0013112900778651237, 0.0006835884996689856, 0.0006568275857716799, 0.004465960897505283, 0.6202309727668762, 0.08308359235525131, 0.03489246591925621, 0.0, 0.0, 0.0, 0.0], [0.1079089567065239, 0.022610248997807503, 0.001130631542764604, 0.003845696337521076, 0.0002092976646963507, 0.0006900486187078059, 0.000957546173594892, 0.005054923240095377, 0.7465806603431702, 0.026121268048882484, 0.0824616551399231, 0.002429136773571372, 0.0, 0.0, 0.0], [0.13770486414432526, 0.027464555576443672, 0.0175834558904171, 0.03613352030515671, 0.004289132542908192, 0.001301343902014196, 0.002324662171304226, 0.005634652450680733, 0.3678137958049774, 0.16482935845851898, 0.2114865481853485, 0.015067735686898232, 0.008366246707737446, 0.0, 0.0], [0.02554038166999817, 0.004464168567210436, 0.014622578397393227, 0.01676579937338829, 0.00219768937677145, 0.00360362627543509, 0.0016802218742668629, 0.0027924582827836275, 0.22749097645282745, 0.21170121431350708, 0.32219597697257996, 0.030030732974410057, 0.10810281336307526, 0.028811363503336906, 0.0], [0.20904791355133057, 0.011695831082761288, 0.034855011850595474, 0.09430334717035294, 0.014644439332187176, 0.024449974298477173, 0.03409770131111145, 0.012813334353268147, 0.11571715027093887, 0.15225574374198914, 0.17205503582954407, 0.013088519684970379, 0.0600559376180172, 0.0365854948759079, 0.014334568753838539]], [[1.0, 0.0, 0.0, 0.0, 0.0, 0.0, 0.0, 0.0, 0.0, 0.0, 0.0, 0.0, 0.0, 0.0, 0.0], [0.9759529232978821, 0.024047061800956726, 0.0, 0.0, 0.0, 0.0, 0.0, 0.0, 0.0, 0.0, 0.0, 0.0, 0.0, 0.0, 0.0], [0.9055547118186951, 0.06851321458816528, 0.02593212202191353, 0.0, 0.0, 0.0, 0.0, 0.0, 0.0, 0.0, 0.0, 0.0, 0.0, 0.0, 0.0], [0.8507479429244995, 0.11806639283895493, 0.01928926445543766, 0.011896448209881783, 0.0, 0.0, 0.0, 0.0, 0.0, 0.0, 0.0, 0.0, 0.0, 0.0, 0.0], [0.9069643020629883, 0.038405902683734894, 0.017659783363342285, 0.01788322627544403, 0.019086813554167747, 0.0, 0.0, 0.0, 0.0, 0.0, 0.0, 0.0, 0.0, 0.0, 0.0], [0.8876373767852783, 0.07824023067951202, 0.010552656836807728, 0.005015239585191011, 0.010204948484897614, 0.00834958627820015, 0.0, 0.0, 0.0, 0.0, 0.0, 0.0, 0.0, 0.0, 0.0], [0.8548833727836609, 0.09000599384307861, 0.011659656651318073, 0.005370438564568758, 0.0025684621650725603, 0.013589969836175442, 0.021922068670392036, 0.0, 0.0, 0.0, 0.0, 0.0, 0.0, 0.0, 0.0], [0.8858677744865417, 0.05158891901373863, 0.006163186859339476, 0.00641405675560236, 0.00178525410592556, 0.016250774264335632, 0.019917858764529228, 0.01201225258409977, 0.0, 0.0, 0.0, 0.0, 0.0, 0.0, 0.0], [0.7871102094650269, 0.008320401422679424, 0.023888051509857178, 0.022034719586372375, 0.0027796339709311724, 0.007951225154101849, 0.010723236948251724, 0.007364913821220398, 0.12982775270938873, 0.0, 0.0, 0.0, 0.0, 0.0, 0.0], [0.7734808325767517, 0.009746167808771133, 0.007611848413944244, 0.00900207832455635, 0.00262945587746799, 0.011557050980627537, 0.022989848628640175, 0.005943754687905312, 0.0875127837061882, 0.06952612847089767, 0.0, 0.0, 0.0, 0.0, 0.0], [0.7368208765983582, 0.007666065823286772, 0.003938841633498669, 0.0019907180685549974, 0.0014063745038583875, 0.017098646610975266, 0.011808841489255428, 0.004332083277404308, 0.1578955054283142, 0.050098177045583725, 0.006943933665752411, 0.0, 0.0, 0.0, 0.0], [0.5200932025909424, 0.003793497337028384, 0.004286958836019039, 0.0014610346406698227, 0.0006248397985473275, 0.11773055791854858, 0.015135022811591625, 0.007193992845714092, 0.21278078854084015, 0.1003551259636879, 0.0071133775636553764, 0.00943162851035595, 0.0, 0.0, 0.0], [0.6412790417671204, 0.00751124881207943, 0.004251864273101091, 0.0014727158704772592, 0.0006639946950599551, 0.003360915696248412, 0.01968735083937645, 0.014707844704389572, 0.1653624176979065, 0.09496527910232544, 0.01056163664907217, 0.011918865144252777, 0.024256963282823563, 0.0, 0.0], [0.771507203578949, 0.004778777714818716, 0.0018967040814459324, 0.0009638345800340176, 0.00025210477178916335, 0.006896892096847296, 0.00209434749558568, 0.0034865420311689377, 0.07591959089040756, 0.033938221633434296, 0.009315542876720428, 0.007322268094867468, 0.060969430953264236, 0.02065853215754032, 0.0], [0.6740439534187317, 0.00941056851297617, 0.0014126612804830074, 0.000685386941768229, 8.022428664844483e-05, 0.006028904113918543, 0.003574823960661888, 0.0013854422140866518, 0.2084863930940628, 0.025584310293197632, 0.003558817785233259, 0.0013259478146210313, 0.037080585956573486, 0.021844439208507538, 0.005497531034052372]], [[1.0, 0.0, 0.0, 0.0, 0.0, 0.0, 0.0, 0.0, 0.0, 0.0, 0.0, 0.0, 0.0, 0.0, 0.0], [0.9980756044387817, 0.0019243244314566255, 0.0, 0.0, 0.0, 0.0, 0.0, 0.0, 0.0, 0.0, 0.0, 0.0, 0.0, 0.0, 0.0], [0.9981271624565125, 0.00033238172181881964, 0.0015405303565785289, 0.0, 0.0, 0.0, 0.0, 0.0, 0.0, 0.0, 0.0, 0.0, 0.0, 0.0, 0.0], [0.9843994379043579, 0.0003932786057703197, 0.0004640583647415042, 0.014743370935320854, 0.0, 0.0, 0.0, 0.0, 0.0, 0.0, 0.0, 0.0, 0.0, 0.0, 0.0], [0.9990705847740173, 0.00025784445460885763, 0.00018213738803751767, 0.00031633939943276346, 0.00017312706040684134, 0.0, 0.0, 0.0, 0.0, 0.0, 0.0, 0.0, 0.0, 0.0, 0.0], [0.9972221851348877, 0.0008684717467986047, 0.00011913351772818714, 0.00014345049567054957, 0.00036858656676486135, 0.0012780404649674892, 0.0, 0.0, 0.0, 0.0, 0.0, 0.0, 0.0, 0.0, 0.0], [0.9916746020317078, 0.001142252585850656, 0.0005319511983543634, 0.00028926454251632094, 0.00041115761268883944, 0.002172166248783469, 0.0037786783650517464, 0.0, 0.0, 0.0, 0.0, 0.0, 0.0, 0.0, 0.0], [0.9766552448272705, 0.0014118481194600463, 0.0007640239782631397, 9.522057371214032e-05, 0.00015044280735310167, 0.0035197159741073847, 0.0014028127770870924, 0.01600070856511593, 0.0, 0.0, 0.0, 0.0, 0.0, 0.0, 0.0], [0.3775400221347809, 0.006778289098292589, 0.5359670519828796, 0.011986415833234787, 0.007778783794492483, 0.014602307230234146, 0.005277273245155811, 0.02080700360238552, 0.01926286332309246, 0.0, 0.0, 0.0, 0.0, 0.0, 0.0], [0.13219544291496277, 0.0007387275691144168, 0.0020450542215257883, 0.8224456906318665, 0.03341931849718094, 0.001798364450223744, 0.00382977700792253, 0.003199012251570821, 0.0003048228973057121, 2.3737855372019112e-05, 0.0, 0.0, 0.0, 0.0, 0.0], [0.06282559037208557, 0.0032768596429377794, 0.0021056262776255608, 0.01563672162592411, 0.7195186614990234, 0.06354109197854996, 0.019911475479602814, 0.10492358356714249, 0.0013071568682789803, 5.169431824469939e-05, 0.006901508197188377, 0.0, 0.0, 0.0, 0.0], [0.0594838485121727, 0.005113982129842043, 0.010047581046819687, 0.0013909810222685337, 0.0067917900159955025, 0.8679234981536865, 0.008184950798749924, 0.033383965492248535, 0.00546979159116745, 0.0008283943170681596, 0.00013286073226481676, 0.0012483213795349002, 0.0, 0.0, 0.0], [0.43418100476264954, 0.06606104969978333, 0.012403464876115322, 0.004468923434615135, 0.06402011215686798, 0.09434302151203156, 0.19191493093967438, 0.06671010702848434, 0.05131002888083458, 0.004742508754134178, 0.0009443155722692609, 0.002995912916958332, 0.005904714576900005, 0.0, 0.0], [0.019036967307329178, 0.003850612323731184, 0.005877819377928972, 0.0009295910713262856, 0.005169334821403027, 0.011580880731344223, 0.013306885026395321, 0.9160746335983276, 0.01419704221189022, 0.0018608806421980262, 0.00036562082823365927, 0.0018075230764225125, 0.002415283815935254, 0.0035269437357783318, 0.0], [0.24403904378414154, 0.07727155089378357, 0.008554897271096706, 0.00037721809349022806, 0.001512653543613851, 0.019195567816495895, 0.004028347786515951, 0.05761135742068291, 0.5515871644020081, 0.013584750704467297, 0.00015614840958733112, 0.00047337193973362446, 0.0025052172131836414, 0.0012745148269459605, 0.01782822050154209]], [[1.0, 0.0, 0.0, 0.0, 0.0, 0.0, 0.0, 0.0, 0.0, 0.0, 0.0, 0.0, 0.0, 0.0, 0.0], [0.9946979284286499, 0.005302093457430601, 0.0, 0.0, 0.0, 0.0, 0.0, 0.0, 0.0, 0.0, 0.0, 0.0, 0.0, 0.0, 0.0], [0.98580002784729, 0.0020140171982347965, 0.0121860196813941, 0.0, 0.0, 0.0, 0.0, 0.0, 0.0, 0.0, 0.0, 0.0, 0.0, 0.0, 0.0], [0.9834845662117004, 0.001314075430855155, 0.002196052111685276, 0.013005409389734268, 0.0, 0.0, 0.0, 0.0, 0.0, 0.0, 0.0, 0.0, 0.0, 0.0, 0.0], [0.9909797310829163, 0.0008285403018817306, 0.00035003278753720224, 0.0018045686883851886, 0.0060369838029146194, 0.0, 0.0, 0.0, 0.0, 0.0, 0.0, 0.0, 0.0, 0.0, 0.0], [0.9823090434074402, 0.000751176499761641, 0.000326845096424222, 0.0006428922642953694, 0.007350106257945299, 0.008619869127869606, 0.0, 0.0, 0.0, 0.0, 0.0, 0.0, 0.0, 0.0, 0.0], [0.9885873794555664, 0.0006201111827977002, 6.0533915529958904e-05, 9.578225581208244e-05, 0.0008360630017705262, 0.002802313072606921, 0.006997703108936548, 0.0, 0.0, 0.0, 0.0, 0.0, 0.0, 0.0, 0.0], [0.9376182556152344, 0.0005464295390993357, 0.00019547922420315444, 0.00024910469073802233, 0.0006815637461841106, 0.006647015921771526, 0.003181978827342391, 0.050880059599876404, 0.0, 0.0, 0.0, 0.0, 0.0, 0.0, 0.0], [0.8912029266357422, 0.0007292980444617569, 0.040467265993356705, 0.005297679454088211, 0.0006448320345953107, 0.002275029430165887, 0.0015451061772182584, 0.014328439719974995, 0.04350943863391876, 0.0, 0.0, 0.0, 0.0, 0.0, 0.0], [0.8850907683372498, 0.0007803047192282975, 0.006443047896027565, 0.05270333215594292, 0.011396046727895737, 0.011288942769169807, 0.004748101346194744, 0.016103127971291542, 0.01097371056675911, 0.0004726981860585511, 0.0, 0.0, 0.0, 0.0, 0.0], [0.8801887631416321, 0.0006123194471001625, 0.0006101260078139603, 0.004197537433356047, 0.020168572664260864, 0.014045175164937973, 0.006126927211880684, 0.011408267542719841, 0.06125398352742195, 8.362533117178828e-05, 0.0013048185501247644, 0.0, 0.0, 0.0, 0.0], [0.8807644844055176, 0.0005711907870136201, 9.796443919185549e-05, 0.00045959718408994377, 0.0002444135316181928, 0.03067968226969242, 0.0016285653691738844, 0.0031622133683413267, 0.08161412179470062, 5.451195829664357e-05, 8.678589074406773e-05, 0.0006363536813296378, 0.0, 0.0, 0.0], [0.6741263270378113, 0.0005592710222117603, 8.012459147721529e-05, 0.00015985453501343727, 0.0007860358455218375, 0.003056454239413142, 0.04282895103096962, 0.013769248500466347, 0.26230916380882263, 4.823178460355848e-05, 3.74462797481101e-05, 0.0004687338077928871, 0.0017701322212815285, 0.0, 0.0], [0.7351980805397034, 0.0008955895900726318, 3.492338510113768e-05, 4.2895415390376e-05, 6.146336818346754e-05, 0.0015224979724735022, 0.0011230017989873886, 0.02614932507276535, 0.22345036268234253, 3.812636714428663e-05, 2.033572854998056e-05, 0.00012951008102390915, 0.008777017705142498, 0.002556833904236555, 0.0], [0.43006056547164917, 0.0029298297595232725, 7.196419028332457e-05, 3.895104237017222e-05, 5.012089604861103e-05, 0.003370520658791065, 0.0035704514011740685, 0.011248523369431496, 0.4217199385166168, 0.00032390200067311525, 3.2611580536467955e-05, 0.0002613401447888464, 0.013509947806596756, 0.016237245872616768, 0.09657420217990875]]]}\n",
       "    )\n",
       "    </script>"
      ],
      "text/plain": [
       "<circuitsvis.utils.render.RenderedHTML at 0x2650aaef920>"
      ]
     },
     "metadata": {},
     "output_type": "display_data"
    }
   ],
   "source": [
    "vis_attn_patterns(model, repeated_prompt, [5, 7])"
   ]
  },
  {
   "cell_type": "markdown",
   "id": "daa8e571",
   "metadata": {},
   "source": [
    "We can see that the attention heads that correspond to the stronger induction scores have distinct attention patterns. They all have a clearly indicated diagonal, offset from the center by half sequence length. Hence, these attention heads are active when a sequence repeats itself. We would also see this if we were to rerun the code with another repeated sequence. "
   ]
  },
  {
   "cell_type": "markdown",
   "id": "4913fa66",
   "metadata": {},
   "source": [
    "## Ablation ????????"
   ]
  },
  {
   "cell_type": "markdown",
   "id": "b08f7e89",
   "metadata": {},
   "source": [
    "## Activation patching"
   ]
  },
  {
   "cell_type": "markdown",
   "id": "9a64e068",
   "metadata": {},
   "source": [
    "We now want to demonstrate the activation patching technique on a small problem. We will first run a forward pass on the clean prompt and cache the activations. Then, we will run a forward pass on the corrupted run and at each layer and position exchange the corrupted activations with the clean activations from the cache. To do this, we use the run_with_hooks method from TransformerLens and make a suitable hook function, activation_patching_hook. We make an activation_patching function that returns the results, as well as an activation_patching_mult function to use if the answer has more than a single token. In the latter case, we need to run through the model multiple separate times, one for each token in the answer."
   ]
  },
  {
   "cell_type": "code",
   "execution_count": 82,
   "id": "ec0fffc9",
   "metadata": {},
   "outputs": [],
   "source": [
    "def activation_patching_hook(resid_pre, hook, position, clean_cache):\n",
    "    clean_activation = clean_cache[hook.name]\n",
    "    resid_pre[:, position, :] = clean_activation[:, position, :]\n",
    "    return resid_pre\n",
    "\n",
    "def activation_patching(model, clean_prompt, corrupted_prompt, clean_answer, corrupted_answer):\n",
    "    '''\n",
    "    Performs activation patching of the clean prompt onto the corrupted prompt. The prompts must have the same number of tokens.\n",
    "\n",
    "    Parameters:\n",
    "    model: The transformer lens model\n",
    "    clean_prompt (str): The clean prompt we will patch from\n",
    "    corrupted_prompt (str): The corrupted prompt we will patch onto\n",
    "    clean_answer (str): The answer (or next prediction) of the clean prompt\n",
    "    corrupted_answer (str): The answer (or next prediction) of the corrupted prompt\n",
    "\n",
    "    Returns: \n",
    "    patching_results (list[tensor[layers, positions]]): The logit difference after patching\n",
    "    patched_logits (list[tensor[num_tokens, logits]]): The logits of the tokens after patching\n",
    "    '''\n",
    "    \n",
    "    clean_logits, clean_cache = model.run_with_cache(clean_prompt)\n",
    "    corrupted_logits = model(corrupted_prompt)\n",
    "    print(\"Clean answer:\",clean_answer)\n",
    "    print(\"Corrupted answer:\", corrupted_answer)\n",
    "    clean_index = model.to_single_token(clean_answer)\n",
    "    corrupted_index = model.to_single_token(corrupted_answer)\n",
    "\n",
    "    clean_diff = clean_logits[0, -1, clean_index] - clean_logits[0, -1, corrupted_index]\n",
    "    corrupted_diff = corrupted_logits[0, -1, clean_index] - corrupted_logits[0, -1, corrupted_index]\n",
    "\n",
    "    clean_tokens = model.to_tokens(clean_prompt)\n",
    "    corrupted_tokens= model.to_tokens(corrupted_prompt)\n",
    "    num_positions = len(model.to_tokens(clean_prompt)[0])\n",
    "\n",
    "    assert len(clean_tokens[0]) == len(corrupted_tokens[0]), \"The prompts must have the same number of tokens.\"\n",
    "\n",
    "   \n",
    "    patching_result = torch.zeros((model.cfg.n_layers, num_positions), device=model.cfg.device)\n",
    "    for layer in tqdm.tqdm(range(model.cfg.n_layers)):\n",
    "        for position in range(num_positions):\n",
    "            # We use a temporary hook with functool.partial to patch at each position\n",
    "            temp_hook = partial(activation_patching_hook, position=position, clean_cache=clean_cache)\n",
    "            # We then run the model with hooks as usual\n",
    "            patched_logits = model.run_with_hooks(corrupted_tokens, \n",
    "                                                  fwd_hooks=[(utils.get_act_name(\"resid_pre\", layer), temp_hook)])\n",
    "            \n",
    "            # We then calculate the logit difference\n",
    "            patched_diff = (patched_logits[0, -1, clean_index] - patched_logits[0, -1, corrupted_index]).detach()\n",
    "            # We then store the result in the patching_result tensor, normalizing it\n",
    "            if abs(clean_diff-corrupted_diff) < 1e-16:\n",
    "                patching_result[layer, position] = 0\n",
    "            else:\n",
    "                patching_result[layer, position] = abs((patched_diff - corrupted_diff) / (clean_diff - corrupted_diff))\n",
    "    print(patched_logits.shape)\n",
    "    return patching_result, patched_logits\n",
    "\n",
    "def activation_patching_mult(model, clean_prompt, corrupted_prompt, clean_answer, corrupted_answer):\n",
    "    ''' \n",
    "    Performs activation patching on prompts with multi-word answers by using separate run-throughs.\n",
    "    The answers must have the same number of tokens\n",
    "    '''\n",
    "    patching_result = []\n",
    "    patched_logits = []\n",
    "    clean_answers_tokens = model.to_str_tokens(clean_answer)[1:]\n",
    "    corrupted_answers_tokens = model.to_str_tokens(corrupted_answer)[1:]\n",
    "    print(\"Number of run throughs:\", len(clean_answers_tokens))\n",
    "    for i in range(len(clean_answers_tokens)):\n",
    "        p_result, p_logits = activation_patching(model, clean_prompt, corrupted_prompt, \n",
    "                                                 clean_answers_tokens[0], corrupted_answers_tokens[0])\n",
    "        patching_result.append(p_result)\n",
    "        patched_logits.append(p_logits)\n",
    "        clean_prompt += clean_answers_tokens[0]\n",
    "        clean_answers_tokens = clean_answers_tokens[1:]\n",
    "        corrupted_prompt += corrupted_answers_tokens[0]\n",
    "        corrupted_answers_tokens = corrupted_answers_tokens[1:]\n",
    "\n",
    "    return patching_result, patched_logits"
   ]
  },
  {
   "cell_type": "markdown",
   "id": "7b2adeec",
   "metadata": {},
   "source": [
    "Following from the previous examples, our clean prompt is the same as earlier. We choose the corrupted prompt very similarly, with only one key difference, and make sure that they have the same number of tokens. "
   ]
  },
  {
   "cell_type": "code",
   "execution_count": 83,
   "id": "15878051",
   "metadata": {},
   "outputs": [
    {
     "name": "stdout",
     "output_type": "stream",
     "text": [
      "[['<|endoftext|>', 'The', ' capital', ' city', ' of', ' France', ' is', ' called'], ['<|endoftext|>', ' Paris']]\n",
      "[['<|endoftext|>', 'The', ' capital', ' city', ' of', ' Italy', ' is', ' called'], ['<|endoftext|>', ' Rome']]\n"
     ]
    }
   ],
   "source": [
    "clean_prompt = \"The capital city of France is called\"\n",
    "clean_answer = \" Paris\"\n",
    "corrupted_prompt = \"The capital city of Italy is called\"\n",
    "corrupted_answer = \" Rome\"\n",
    "\n",
    "# To determine the function used, we print the tokens\n",
    "print(model.to_str_tokens([clean_prompt, clean_answer]))\n",
    "print(model.to_str_tokens([corrupted_prompt, corrupted_answer]))"
   ]
  },
  {
   "cell_type": "markdown",
   "id": "4fc4613a",
   "metadata": {},
   "source": [
    "We see that the answers to both prompts are a single token. Hence, we use the function corresponding to single-token answers.\n",
    "\n",
    "We then check if the model can, in fact, predict the correct answers to the prompt. We use the same function as in the preliminary section."
   ]
  },
  {
   "cell_type": "code",
   "execution_count": 84,
   "id": "d67f183b",
   "metadata": {},
   "outputs": [
    {
     "name": "stdout",
     "output_type": "stream",
     "text": [
      "Tokenized prompt: ['<|endoftext|>', 'The', ' capital', ' city', ' of', ' France', ' is', ' called']\n",
      "Tokenized answer: [' Paris']\n"
     ]
    },
    {
     "data": {
      "text/html": [
       "<pre style=\"white-space:pre;overflow-x:auto;line-height:normal;font-family:Menlo,'DejaVu Sans Mono',consolas,'Courier New',monospace\">Performance on answer token:\n",
       "<span style=\"font-weight: bold\">Rank: </span><span style=\"color: #008080; text-decoration-color: #008080; font-weight: bold\">0</span><span style=\"font-weight: bold\">        Logit: </span><span style=\"color: #008080; text-decoration-color: #008080; font-weight: bold\">14.32</span><span style=\"font-weight: bold\"> Prob:  </span><span style=\"color: #008080; text-decoration-color: #008080; font-weight: bold\">8.26</span><span style=\"font-weight: bold\">% Token: | Paris|</span>\n",
       "</pre>\n"
      ],
      "text/plain": [
       "Performance on answer token:\n",
       "\u001b[1mRank: \u001b[0m\u001b[1;36m0\u001b[0m\u001b[1m        Logit: \u001b[0m\u001b[1;36m14.32\u001b[0m\u001b[1m Prob:  \u001b[0m\u001b[1;36m8.26\u001b[0m\u001b[1m% Token: | Paris|\u001b[0m\n"
      ]
     },
     "metadata": {},
     "output_type": "display_data"
    },
    {
     "name": "stdout",
     "output_type": "stream",
     "text": [
      "Top 0th token. Logit: 14.32 Prob:  8.26% Token: | Paris|\n",
      "Top 1th token. Logit: 13.79 Prob:  4.86% Token: | Marse|\n",
      "Top 2th token. Logit: 13.78 Prob:  4.81% Token: | the|\n",
      "Top 3th token. Logit: 13.71 Prob:  4.49% Token: | \"|\n",
      "Top 4th token. Logit: 12.99 Prob:  2.17% Token: | La|\n",
      "Top 5th token. Logit: 12.68 Prob:  1.61% Token: | '|\n",
      "Top 6th token. Logit: 12.66 Prob:  1.57% Token: | Mont|\n",
      "Top 7th token. Logit: 12.60 Prob:  1.48% Token: | St|\n",
      "Top 8th token. Logit: 12.59 Prob:  1.46% Token: | Saint|\n",
      "Top 9th token. Logit: 12.30 Prob:  1.09% Token: | V|\n"
     ]
    },
    {
     "data": {
      "text/html": [
       "<pre style=\"white-space:pre;overflow-x:auto;line-height:normal;font-family:Menlo,'DejaVu Sans Mono',consolas,'Courier New',monospace\"><span style=\"font-weight: bold\">Ranks of the answer tokens:</span> <span style=\"font-weight: bold\">[(</span><span style=\"color: #008000; text-decoration-color: #008000\">' Paris'</span>, <span style=\"color: #008080; text-decoration-color: #008080; font-weight: bold\">0</span><span style=\"font-weight: bold\">)]</span>\n",
       "</pre>\n"
      ],
      "text/plain": [
       "\u001b[1mRanks of the answer tokens:\u001b[0m \u001b[1m[\u001b[0m\u001b[1m(\u001b[0m\u001b[32m' Paris'\u001b[0m, \u001b[1;36m0\u001b[0m\u001b[1m)\u001b[0m\u001b[1m]\u001b[0m\n"
      ]
     },
     "metadata": {},
     "output_type": "display_data"
    },
    {
     "name": "stdout",
     "output_type": "stream",
     "text": [
      "Tokenized prompt: ['<|endoftext|>', 'The', ' capital', ' city', ' of', ' Italy', ' is', ' called']\n",
      "Tokenized answer: [' Rome']\n"
     ]
    },
    {
     "data": {
      "text/html": [
       "<pre style=\"white-space:pre;overflow-x:auto;line-height:normal;font-family:Menlo,'DejaVu Sans Mono',consolas,'Courier New',monospace\">Performance on answer token:\n",
       "<span style=\"font-weight: bold\">Rank: </span><span style=\"color: #008080; text-decoration-color: #008080; font-weight: bold\">0</span><span style=\"font-weight: bold\">        Logit: </span><span style=\"color: #008080; text-decoration-color: #008080; font-weight: bold\">14.02</span><span style=\"font-weight: bold\"> Prob:  </span><span style=\"color: #008080; text-decoration-color: #008080; font-weight: bold\">6.08</span><span style=\"font-weight: bold\">% Token: | Rome|</span>\n",
       "</pre>\n"
      ],
      "text/plain": [
       "Performance on answer token:\n",
       "\u001b[1mRank: \u001b[0m\u001b[1;36m0\u001b[0m\u001b[1m        Logit: \u001b[0m\u001b[1;36m14.02\u001b[0m\u001b[1m Prob:  \u001b[0m\u001b[1;36m6.08\u001b[0m\u001b[1m% Token: | Rome|\u001b[0m\n"
      ]
     },
     "metadata": {},
     "output_type": "display_data"
    },
    {
     "name": "stdout",
     "output_type": "stream",
     "text": [
      "Top 0th token. Logit: 14.02 Prob:  6.08% Token: | Rome|\n",
      "Top 1th token. Logit: 13.98 Prob:  5.81% Token: | the|\n",
      "Top 2th token. Logit: 13.42 Prob:  3.32% Token: | Milan|\n",
      "Top 3th token. Logit: 13.28 Prob:  2.89% Token: | \"|\n",
      "Top 4th token. Logit: 12.80 Prob:  1.79% Token: | Florence|\n",
      "Top 5th token. Logit: 12.59 Prob:  1.45% Token: | Naples|\n",
      "Top 6th token. Logit: 12.56 Prob:  1.40% Token: | '|\n",
      "Top 7th token. Logit: 12.47 Prob:  1.28% Token: | T|\n",
      "Top 8th token. Logit: 12.45 Prob:  1.26% Token: | Pal|\n",
      "Top 9th token. Logit: 12.43 Prob:  1.24% Token: | St|\n"
     ]
    },
    {
     "data": {
      "text/html": [
       "<pre style=\"white-space:pre;overflow-x:auto;line-height:normal;font-family:Menlo,'DejaVu Sans Mono',consolas,'Courier New',monospace\"><span style=\"font-weight: bold\">Ranks of the answer tokens:</span> <span style=\"font-weight: bold\">[(</span><span style=\"color: #008000; text-decoration-color: #008000\">' Rome'</span>, <span style=\"color: #008080; text-decoration-color: #008080; font-weight: bold\">0</span><span style=\"font-weight: bold\">)]</span>\n",
       "</pre>\n"
      ],
      "text/plain": [
       "\u001b[1mRanks of the answer tokens:\u001b[0m \u001b[1m[\u001b[0m\u001b[1m(\u001b[0m\u001b[32m' Rome'\u001b[0m, \u001b[1;36m0\u001b[0m\u001b[1m)\u001b[0m\u001b[1m]\u001b[0m\n"
      ]
     },
     "metadata": {},
     "output_type": "display_data"
    }
   ],
   "source": [
    "utils.test_prompt(clean_prompt, clean_answer, model)\n",
    "utils.test_prompt(corrupted_prompt, corrupted_answer, model)"
   ]
  },
  {
   "cell_type": "markdown",
   "id": "88296715",
   "metadata": {},
   "source": [
    "As the predictions are correct for both prompts, we can continue in our example. We do, however, note that the probabilities are still quite low for both answers, which could influence the results somewhat.\n",
    "\n",
    "Continuing, we then perform activation patching on the two prompts using the functions defined earlier."
   ]
  },
  {
   "cell_type": "code",
   "execution_count": 85,
   "id": "99327ce0",
   "metadata": {},
   "outputs": [
    {
     "name": "stdout",
     "output_type": "stream",
     "text": [
      "Clean answer:  Paris\n",
      "Corrupted answer:  Rome\n"
     ]
    },
    {
     "data": {
      "application/vnd.jupyter.widget-view+json": {
       "model_id": "c8c11101e59848e5912162725b888f45",
       "version_major": 2,
       "version_minor": 0
      },
      "text/plain": [
       "  0%|          | 0/12 [00:00<?, ?it/s]"
      ]
     },
     "metadata": {},
     "output_type": "display_data"
    },
    {
     "name": "stdout",
     "output_type": "stream",
     "text": [
      "torch.Size([1, 8, 50257])\n"
     ]
    },
    {
     "data": {
      "application/vnd.plotly.v1+json": {
       "config": {
        "plotlyServerURL": "https://plot.ly"
       },
       "data": [
        {
         "coloraxis": "coloraxis",
         "hovertemplate": "Position: %{x}<br>Layer: %{y}<br>color: %{z}<extra></extra>",
         "name": "0",
         "type": "heatmap",
         "x": [
          "<|endoftext|>_0",
          "The_1",
          " capital_2",
          " city_3",
          " of_4",
          " Italy_5",
          " is_6",
          " called_7"
         ],
         "xaxis": "x",
         "yaxis": "y",
         "z": {
          "bdata": "AAAAAAAAAAAAAAAAAAAAAAAAAAAAAIA/AAAAAAAAAAAAAAAAAAAAAAAAAAAAAAAAAAAAANjYfj9OwBs6zYuzOgAAAAAAAAAAAAAAAAAAAAAAAAAAq65+P4+hQDq5+tE6AAAAAAAAAAAAAAAAAAAAAAAAAADQWX4/CXOGOvgxNDsAAAAAAAAAAAAAAAAAAAAAAAAAAIllfT/KefY5wg09OwAAAAAAAAAAAAAAAAAAAAAAAAAA3DZ+PyMAdTi+yDY7AAAAAAAAAAAAAAAAAAAAAAAAAAB8UH4/7soMOYE/0zoAAAAAAAAAAAAAAAAAAAAAAAAAAM2bej8ORu45cPOGOwAAAAAAAAAAAAAAAAAAAAAAAAAAp/R5P5zb3jrLhdA7AAAAAAAAAAAAAAAAAAAAAAAAAADfZVc/tsIeOr+WqD0AAAAAAAAAAAAAAAAAAAAAAAAAABHDAT8x3pA7HVsEPwAAAAAAAAAAAAAAAAAAAAAAAAAA882YPekOjTs3gXY/",
          "dtype": "f4",
          "shape": "12, 8"
         }
        }
       ],
       "layout": {
        "coloraxis": {
         "cmid": 0,
         "colorscale": [
          [
           0,
           "rgb(103,0,31)"
          ],
          [
           0.1,
           "rgb(178,24,43)"
          ],
          [
           0.2,
           "rgb(214,96,77)"
          ],
          [
           0.3,
           "rgb(244,165,130)"
          ],
          [
           0.4,
           "rgb(253,219,199)"
          ],
          [
           0.5,
           "rgb(247,247,247)"
          ],
          [
           0.6,
           "rgb(209,229,240)"
          ],
          [
           0.7,
           "rgb(146,197,222)"
          ],
          [
           0.8,
           "rgb(67,147,195)"
          ],
          [
           0.9,
           "rgb(33,102,172)"
          ],
          [
           1,
           "rgb(5,48,97)"
          ]
         ]
        },
        "template": {
         "data": {
          "bar": [
           {
            "error_x": {
             "color": "#2a3f5f"
            },
            "error_y": {
             "color": "#2a3f5f"
            },
            "marker": {
             "line": {
              "color": "#E5ECF6",
              "width": 0.5
             },
             "pattern": {
              "fillmode": "overlay",
              "size": 10,
              "solidity": 0.2
             }
            },
            "type": "bar"
           }
          ],
          "barpolar": [
           {
            "marker": {
             "line": {
              "color": "#E5ECF6",
              "width": 0.5
             },
             "pattern": {
              "fillmode": "overlay",
              "size": 10,
              "solidity": 0.2
             }
            },
            "type": "barpolar"
           }
          ],
          "carpet": [
           {
            "aaxis": {
             "endlinecolor": "#2a3f5f",
             "gridcolor": "white",
             "linecolor": "white",
             "minorgridcolor": "white",
             "startlinecolor": "#2a3f5f"
            },
            "baxis": {
             "endlinecolor": "#2a3f5f",
             "gridcolor": "white",
             "linecolor": "white",
             "minorgridcolor": "white",
             "startlinecolor": "#2a3f5f"
            },
            "type": "carpet"
           }
          ],
          "choropleth": [
           {
            "colorbar": {
             "outlinewidth": 0,
             "ticks": ""
            },
            "type": "choropleth"
           }
          ],
          "contour": [
           {
            "colorbar": {
             "outlinewidth": 0,
             "ticks": ""
            },
            "colorscale": [
             [
              0,
              "#0d0887"
             ],
             [
              0.1111111111111111,
              "#46039f"
             ],
             [
              0.2222222222222222,
              "#7201a8"
             ],
             [
              0.3333333333333333,
              "#9c179e"
             ],
             [
              0.4444444444444444,
              "#bd3786"
             ],
             [
              0.5555555555555556,
              "#d8576b"
             ],
             [
              0.6666666666666666,
              "#ed7953"
             ],
             [
              0.7777777777777778,
              "#fb9f3a"
             ],
             [
              0.8888888888888888,
              "#fdca26"
             ],
             [
              1,
              "#f0f921"
             ]
            ],
            "type": "contour"
           }
          ],
          "contourcarpet": [
           {
            "colorbar": {
             "outlinewidth": 0,
             "ticks": ""
            },
            "type": "contourcarpet"
           }
          ],
          "heatmap": [
           {
            "colorbar": {
             "outlinewidth": 0,
             "ticks": ""
            },
            "colorscale": [
             [
              0,
              "#0d0887"
             ],
             [
              0.1111111111111111,
              "#46039f"
             ],
             [
              0.2222222222222222,
              "#7201a8"
             ],
             [
              0.3333333333333333,
              "#9c179e"
             ],
             [
              0.4444444444444444,
              "#bd3786"
             ],
             [
              0.5555555555555556,
              "#d8576b"
             ],
             [
              0.6666666666666666,
              "#ed7953"
             ],
             [
              0.7777777777777778,
              "#fb9f3a"
             ],
             [
              0.8888888888888888,
              "#fdca26"
             ],
             [
              1,
              "#f0f921"
             ]
            ],
            "type": "heatmap"
           }
          ],
          "histogram": [
           {
            "marker": {
             "pattern": {
              "fillmode": "overlay",
              "size": 10,
              "solidity": 0.2
             }
            },
            "type": "histogram"
           }
          ],
          "histogram2d": [
           {
            "colorbar": {
             "outlinewidth": 0,
             "ticks": ""
            },
            "colorscale": [
             [
              0,
              "#0d0887"
             ],
             [
              0.1111111111111111,
              "#46039f"
             ],
             [
              0.2222222222222222,
              "#7201a8"
             ],
             [
              0.3333333333333333,
              "#9c179e"
             ],
             [
              0.4444444444444444,
              "#bd3786"
             ],
             [
              0.5555555555555556,
              "#d8576b"
             ],
             [
              0.6666666666666666,
              "#ed7953"
             ],
             [
              0.7777777777777778,
              "#fb9f3a"
             ],
             [
              0.8888888888888888,
              "#fdca26"
             ],
             [
              1,
              "#f0f921"
             ]
            ],
            "type": "histogram2d"
           }
          ],
          "histogram2dcontour": [
           {
            "colorbar": {
             "outlinewidth": 0,
             "ticks": ""
            },
            "colorscale": [
             [
              0,
              "#0d0887"
             ],
             [
              0.1111111111111111,
              "#46039f"
             ],
             [
              0.2222222222222222,
              "#7201a8"
             ],
             [
              0.3333333333333333,
              "#9c179e"
             ],
             [
              0.4444444444444444,
              "#bd3786"
             ],
             [
              0.5555555555555556,
              "#d8576b"
             ],
             [
              0.6666666666666666,
              "#ed7953"
             ],
             [
              0.7777777777777778,
              "#fb9f3a"
             ],
             [
              0.8888888888888888,
              "#fdca26"
             ],
             [
              1,
              "#f0f921"
             ]
            ],
            "type": "histogram2dcontour"
           }
          ],
          "mesh3d": [
           {
            "colorbar": {
             "outlinewidth": 0,
             "ticks": ""
            },
            "type": "mesh3d"
           }
          ],
          "parcoords": [
           {
            "line": {
             "colorbar": {
              "outlinewidth": 0,
              "ticks": ""
             }
            },
            "type": "parcoords"
           }
          ],
          "pie": [
           {
            "automargin": true,
            "type": "pie"
           }
          ],
          "scatter": [
           {
            "fillpattern": {
             "fillmode": "overlay",
             "size": 10,
             "solidity": 0.2
            },
            "type": "scatter"
           }
          ],
          "scatter3d": [
           {
            "line": {
             "colorbar": {
              "outlinewidth": 0,
              "ticks": ""
             }
            },
            "marker": {
             "colorbar": {
              "outlinewidth": 0,
              "ticks": ""
             }
            },
            "type": "scatter3d"
           }
          ],
          "scattercarpet": [
           {
            "marker": {
             "colorbar": {
              "outlinewidth": 0,
              "ticks": ""
             }
            },
            "type": "scattercarpet"
           }
          ],
          "scattergeo": [
           {
            "marker": {
             "colorbar": {
              "outlinewidth": 0,
              "ticks": ""
             }
            },
            "type": "scattergeo"
           }
          ],
          "scattergl": [
           {
            "marker": {
             "colorbar": {
              "outlinewidth": 0,
              "ticks": ""
             }
            },
            "type": "scattergl"
           }
          ],
          "scattermap": [
           {
            "marker": {
             "colorbar": {
              "outlinewidth": 0,
              "ticks": ""
             }
            },
            "type": "scattermap"
           }
          ],
          "scattermapbox": [
           {
            "marker": {
             "colorbar": {
              "outlinewidth": 0,
              "ticks": ""
             }
            },
            "type": "scattermapbox"
           }
          ],
          "scatterpolar": [
           {
            "marker": {
             "colorbar": {
              "outlinewidth": 0,
              "ticks": ""
             }
            },
            "type": "scatterpolar"
           }
          ],
          "scatterpolargl": [
           {
            "marker": {
             "colorbar": {
              "outlinewidth": 0,
              "ticks": ""
             }
            },
            "type": "scatterpolargl"
           }
          ],
          "scatterternary": [
           {
            "marker": {
             "colorbar": {
              "outlinewidth": 0,
              "ticks": ""
             }
            },
            "type": "scatterternary"
           }
          ],
          "surface": [
           {
            "colorbar": {
             "outlinewidth": 0,
             "ticks": ""
            },
            "colorscale": [
             [
              0,
              "#0d0887"
             ],
             [
              0.1111111111111111,
              "#46039f"
             ],
             [
              0.2222222222222222,
              "#7201a8"
             ],
             [
              0.3333333333333333,
              "#9c179e"
             ],
             [
              0.4444444444444444,
              "#bd3786"
             ],
             [
              0.5555555555555556,
              "#d8576b"
             ],
             [
              0.6666666666666666,
              "#ed7953"
             ],
             [
              0.7777777777777778,
              "#fb9f3a"
             ],
             [
              0.8888888888888888,
              "#fdca26"
             ],
             [
              1,
              "#f0f921"
             ]
            ],
            "type": "surface"
           }
          ],
          "table": [
           {
            "cells": {
             "fill": {
              "color": "#EBF0F8"
             },
             "line": {
              "color": "white"
             }
            },
            "header": {
             "fill": {
              "color": "#C8D4E3"
             },
             "line": {
              "color": "white"
             }
            },
            "type": "table"
           }
          ]
         },
         "layout": {
          "annotationdefaults": {
           "arrowcolor": "#2a3f5f",
           "arrowhead": 0,
           "arrowwidth": 1
          },
          "autotypenumbers": "strict",
          "coloraxis": {
           "colorbar": {
            "outlinewidth": 0,
            "ticks": ""
           }
          },
          "colorscale": {
           "diverging": [
            [
             0,
             "#8e0152"
            ],
            [
             0.1,
             "#c51b7d"
            ],
            [
             0.2,
             "#de77ae"
            ],
            [
             0.3,
             "#f1b6da"
            ],
            [
             0.4,
             "#fde0ef"
            ],
            [
             0.5,
             "#f7f7f7"
            ],
            [
             0.6,
             "#e6f5d0"
            ],
            [
             0.7,
             "#b8e186"
            ],
            [
             0.8,
             "#7fbc41"
            ],
            [
             0.9,
             "#4d9221"
            ],
            [
             1,
             "#276419"
            ]
           ],
           "sequential": [
            [
             0,
             "#0d0887"
            ],
            [
             0.1111111111111111,
             "#46039f"
            ],
            [
             0.2222222222222222,
             "#7201a8"
            ],
            [
             0.3333333333333333,
             "#9c179e"
            ],
            [
             0.4444444444444444,
             "#bd3786"
            ],
            [
             0.5555555555555556,
             "#d8576b"
            ],
            [
             0.6666666666666666,
             "#ed7953"
            ],
            [
             0.7777777777777778,
             "#fb9f3a"
            ],
            [
             0.8888888888888888,
             "#fdca26"
            ],
            [
             1,
             "#f0f921"
            ]
           ],
           "sequentialminus": [
            [
             0,
             "#0d0887"
            ],
            [
             0.1111111111111111,
             "#46039f"
            ],
            [
             0.2222222222222222,
             "#7201a8"
            ],
            [
             0.3333333333333333,
             "#9c179e"
            ],
            [
             0.4444444444444444,
             "#bd3786"
            ],
            [
             0.5555555555555556,
             "#d8576b"
            ],
            [
             0.6666666666666666,
             "#ed7953"
            ],
            [
             0.7777777777777778,
             "#fb9f3a"
            ],
            [
             0.8888888888888888,
             "#fdca26"
            ],
            [
             1,
             "#f0f921"
            ]
           ]
          },
          "colorway": [
           "#636efa",
           "#EF553B",
           "#00cc96",
           "#ab63fa",
           "#FFA15A",
           "#19d3f3",
           "#FF6692",
           "#B6E880",
           "#FF97FF",
           "#FECB52"
          ],
          "font": {
           "color": "#2a3f5f"
          },
          "geo": {
           "bgcolor": "white",
           "lakecolor": "white",
           "landcolor": "#E5ECF6",
           "showlakes": true,
           "showland": true,
           "subunitcolor": "white"
          },
          "hoverlabel": {
           "align": "left"
          },
          "hovermode": "closest",
          "mapbox": {
           "style": "light"
          },
          "paper_bgcolor": "white",
          "plot_bgcolor": "#E5ECF6",
          "polar": {
           "angularaxis": {
            "gridcolor": "white",
            "linecolor": "white",
            "ticks": ""
           },
           "bgcolor": "#E5ECF6",
           "radialaxis": {
            "gridcolor": "white",
            "linecolor": "white",
            "ticks": ""
           }
          },
          "scene": {
           "xaxis": {
            "backgroundcolor": "#E5ECF6",
            "gridcolor": "white",
            "gridwidth": 2,
            "linecolor": "white",
            "showbackground": true,
            "ticks": "",
            "zerolinecolor": "white"
           },
           "yaxis": {
            "backgroundcolor": "#E5ECF6",
            "gridcolor": "white",
            "gridwidth": 2,
            "linecolor": "white",
            "showbackground": true,
            "ticks": "",
            "zerolinecolor": "white"
           },
           "zaxis": {
            "backgroundcolor": "#E5ECF6",
            "gridcolor": "white",
            "gridwidth": 2,
            "linecolor": "white",
            "showbackground": true,
            "ticks": "",
            "zerolinecolor": "white"
           }
          },
          "shapedefaults": {
           "line": {
            "color": "#2a3f5f"
           }
          },
          "ternary": {
           "aaxis": {
            "gridcolor": "white",
            "linecolor": "white",
            "ticks": ""
           },
           "baxis": {
            "gridcolor": "white",
            "linecolor": "white",
            "ticks": ""
           },
           "bgcolor": "#E5ECF6",
           "caxis": {
            "gridcolor": "white",
            "linecolor": "white",
            "ticks": ""
           }
          },
          "title": {
           "x": 0.05
          },
          "xaxis": {
           "automargin": true,
           "gridcolor": "white",
           "linecolor": "white",
           "ticks": "",
           "title": {
            "standoff": 15
           },
           "zerolinecolor": "white",
           "zerolinewidth": 2
          },
          "yaxis": {
           "automargin": true,
           "gridcolor": "white",
           "linecolor": "white",
           "ticks": "",
           "title": {
            "standoff": 15
           },
           "zerolinecolor": "white",
           "zerolinewidth": 2
          }
         }
        },
        "title": {
         "text": "Patching Results"
        },
        "xaxis": {
         "anchor": "y",
         "constrain": "domain",
         "domain": [
          0,
          1
         ],
         "scaleanchor": "y",
         "title": {
          "text": "Position"
         }
        },
        "yaxis": {
         "anchor": "x",
         "autorange": "reversed",
         "constrain": "domain",
         "domain": [
          0,
          1
         ],
         "title": {
          "text": "Layer"
         }
        }
       }
      }
     },
     "metadata": {},
     "output_type": "display_data"
    }
   ],
   "source": [
    "patching_results = activation_patching(model, clean_prompt, corrupted_prompt, clean_answer, corrupted_answer)\n",
    "imshow_patching_result(model, patching_results, corrupted_prompt, corrupted_answer)"
   ]
  },
  {
   "cell_type": "markdown",
   "id": "fc9d1155",
   "metadata": {},
   "source": [
    "We can clearly see a change in the logit difference depending on which layer and token we patch. We also see that at layer 9 and 10 (0-indexed), the information from the country token is communicated to the last token, not affecting the intermediate tokens."
   ]
  },
  {
   "cell_type": "markdown",
   "id": "f77a8713",
   "metadata": {},
   "source": [
    "## Miscellaneous"
   ]
  },
  {
   "cell_type": "code",
   "execution_count": 86,
   "id": "265813ab",
   "metadata": {},
   "outputs": [],
   "source": [
    "def get_prediction(model, logits, num_top=5):\n",
    "    ''' \n",
    "    Returns the most likely words and their corresponding probabilities.\n",
    "    '''\n",
    "    if isinstance(logits, list):\n",
    "        for i in range(len(logits)):\n",
    "            logits_i = logits[i][0, -1, :]\n",
    "            probs = logits_i.softmax(dim=-1)\n",
    "            top_probs, top_indices = probs.topk(num_top)\n",
    "            top_tokens = [model.to_string(index.item()) for index in top_indices]\n",
    "\n",
    "            for token, prob in zip(top_tokens, top_probs):\n",
    "                print(f'{token:>15}: {prob.item():.4f}, ', end='')\n",
    "            print()\n",
    "    \n",
    "    else:\n",
    "        logits_i = logits[0, -1, :]\n",
    "        probs = logits_i.softmax(dim=-1)\n",
    "        top_probs, top_indices = probs.topk(num_top)\n",
    "        top_tokens = [model.to_string(index.item()) for index in top_indices]\n",
    "\n",
    "        for token, prob in zip(top_tokens, top_probs):\n",
    "            print(f'{token}: {prob.item():.4f}, ', end='')"
   ]
  },
  {
   "cell_type": "markdown",
   "id": "6ea63192",
   "metadata": {},
   "source": [
    "## Logit Lens"
   ]
  }
 ],
 "metadata": {
  "kernelspec": {
   "display_name": "embed",
   "language": "python",
   "name": "python3"
  },
  "language_info": {
   "codemirror_mode": {
    "name": "ipython",
    "version": 3
   },
   "file_extension": ".py",
   "mimetype": "text/x-python",
   "name": "python",
   "nbconvert_exporter": "python",
   "pygments_lexer": "ipython3",
   "version": "3.12.11"
  }
 },
 "nbformat": 4,
 "nbformat_minor": 5
}
