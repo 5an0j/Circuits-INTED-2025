{
 "cells": [
  {
   "cell_type": "markdown",
   "id": "1c8d16db",
   "metadata": {},
   "source": [
    "## Overview of decoder style models and methods for interpretability\n",
    "\n",
    "# Summary\n",
    "\n",
    "- Circuit_Tracer: No success\n",
    "    environment crashes, does not support gpt2 and colab does not have enough memory. \n",
    "    Virtual environment with degraded transformer_lens?\n"
   ]
  }
 ],
 "metadata": {
  "language_info": {
   "name": "python"
  }
 },
 "nbformat": 4,
 "nbformat_minor": 5
}
