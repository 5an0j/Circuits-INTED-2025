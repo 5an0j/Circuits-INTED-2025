{
 "cells": [
  {
   "cell_type": "markdown",
   "id": "6026db04",
   "metadata": {},
   "source": [
    "This is loosely based on the Captum BERT-interpretation demo notebook, adapted for multiple choice models, and hopefully more instructive by indicating clearly the expected tensor shapes for the catum methods. Overall, Captum is neither wonderful nor horrible to work with, but I suspect transformer lens / more specific libraries could make for a more enjoyable coding experience.\n",
    "\n",
    "### Finding Physical Misunderstandings in BERT-Style Models Fine-Tuned for Multiple Choice\n",
    "\n",
    "We use Integrated Gradients from Captum to compute word attributions on the FCI for a BERT-model fine-tuned for answering mulitple choice questions. Specifically, we want to see whether the emphasised words indicate that the model exhibits the same common misconceptions as humans. In the example question below, even if the model gives a common wrong answer (eg. that the pushing car exerts a larger force, or that the heavier object exerts a larger force) we can perhaps use attribution to see precisely which words throw the model off, and then modify the prompt to determine by causal experiments what the model's misconception is. Alas, I cannot compute the gradients for large models with long inputs on my laptop, and our MpC-models are not trained for long physics questions, so the models used here are not sufficiently good to get particualrily interesting results - but the code should be applicable to any appropriate model (potentially self fine-tuned for the purpose) with minimal adjustments, and we show as an example how to (very slighlty) modify it for a slighly different architechture (RoBERTa).\n",
    "\n",
    "Example question: *A large truck breaks down out on the road and receives a push back into town by a small compact car. After the car reaches the constant cruising speed at which its driver wishes to push the truck:*\n",
    "\n",
    "0) *The amount of force with which the car pushes on the truck is equal to that with which the truck pushes back on the car.*\n",
    "1) *The amount of force with which the car pushes on the truck is smaller than that with which the truck pushes back on the car.*\n",
    "2) *The amount of force with which the car pushes on the truck is greater than that with which the truck pushes back on the car.*\n",
    "3) *The car's engine is running so the car pushes against the truck, but the truck's engine is not running so the truck cannot push back against the car. The truck is pushed forward simply because it is in the way of the car.*\n",
    "4) *Neither the car nor the truck exert any force on the other. The truck is pushed forward simply because it is in the way of the car.*\n",
    "\n",
    "We begin with layer attributions, and move on to layer conductance which can be used to find which layers seem to store certain facts. The specific nodes in the layer coding for a concrete feature can then be isolated by patching techniques, see the interventions notebook.\n"
   ]
  },
  {
   "cell_type": "code",
   "execution_count": 80,
   "id": "ee078050",
   "metadata": {},
   "outputs": [],
   "source": [
    "# Ideally, we would make a reference file with all FCI questions and choices which one can simply import, but for now:\n",
    "\n",
    "# Test question\n",
    "question = \"What is the capital of France?\"\n",
    "choices = [\"Berlin\", \"Madrid\", \"Paris\"]\n",
    "ground_truth_idx = 2\n",
    "\n",
    "# # Question and choices (early for easy changes)\n",
    "# question = \"Two metal balls are the same size but one weighs twice as much as the other. The balls \\\n",
    "# are dropped from the roof of a single story building at the same instant of time. The time it takes \\\n",
    "# the balls to reach the ground below will be:\"\n",
    "\n",
    "# choices = [\n",
    "#     \"About half as long for the heavier ball as for the lighter one\",\n",
    "#     \"About half as long for the lighter ball as for the heavier one\",\n",
    "#     \"About the same for both balls\",\n",
    "#     \"Considerably less for the heavier ball, but not necessarily half as long\",\n",
    "#     \"Considerably less for the lighter ball, but not necessarily half as long\"\n",
    "# ]\n",
    "\n",
    "# ground_truth_idx = 2 # Correct answer index, just for reference in the final plot\n",
    "\n",
    "# # Question and choices (overwrites the above if uncommented)\n",
    "# question = \"A large truck breaks down out on the road and receives a push back into town by a small compact car. \\\n",
    "# After the car reaches the constant cruising speed at which its driver wishes to push the truck:\"\n",
    "\n",
    "# choices = [\n",
    "#     \"The amount of force with which the car pushes on the truck is equal to that with which the truck pushes back on the car.\",\n",
    "#     \"The amount of force with which the car pushes on the truck is smaller than that with which the truck pushes back on the car.\",\n",
    "#     \"The amount of force with which the car pushes on the truck is greater than that with which the truck pushes back on the car.\",\n",
    "#     \"The car's engine is running so the car pushes against the truck, but the truck's engine is not running so the truck cannot \\\n",
    "#     push back against the car. The truck is pushed forward simply because it is in the way of the car.\",\n",
    "#     \"Neither the car nor the truck exert any force on the other. The truck is pushed forward simply because it is in the way of the car.\"\n",
    "# ]\n",
    "\n",
    "# ground_truth_idx = 0"
   ]
  },
  {
   "cell_type": "code",
   "execution_count": 81,
   "id": "60f07e71",
   "metadata": {},
   "outputs": [],
   "source": [
    "# Imports\n",
    "import torch\n",
    "from transformers import BertTokenizer, BertForMultipleChoice\n",
    "from captum.attr import LayerIntegratedGradients\n",
    "from captum.attr import visualization as viz\n",
    "from dataclasses import dataclass\n",
    "\n",
    "# Settings\n",
    "torch.manual_seed(42)\n",
    "device = torch.device(\"cuda:0\" if torch.cuda.is_available() else \"cpu\")\n",
    "\n",
    "# Config (only for debug atm)\n",
    "@dataclass\n",
    "class Config:\n",
    "    debug: bool = True\n",
    "cfg = Config()"
   ]
  },
  {
   "cell_type": "code",
   "execution_count": 82,
   "id": "5e778438",
   "metadata": {},
   "outputs": [],
   "source": [
    "# Load model and tokenizer\n",
    "model_name = 'jonastokoliu/multi_choice_bert-base-uncased_swag_finetune' # Pretrained (bad) MpC model\n",
    "model = BertForMultipleChoice.from_pretrained(model_name)\n",
    "tokenizer = BertTokenizer.from_pretrained(model_name)\n",
    "\n",
    "# Set to evaluation mode\n",
    "model.to(device)\n",
    "model.eval()\n",
    "model.zero_grad()\n",
    "# model # Uncomment to print architecture"
   ]
  },
  {
   "cell_type": "code",
   "execution_count": 83,
   "id": "18a4da9b",
   "metadata": {},
   "outputs": [],
   "source": [
    "def forward_func(input_ids, attention_mask, token_type_ids=None): \n",
    "    \"\"\"Custom forward pass for Captum Integrated Gradients. Captum wants [batch size, seq_len] while mulitple choice/classification\n",
    "    models expect [batch size, num_choices, seq_len]. We return the logits for each choice.\n",
    "    Some models (eg. RoBERTa) do not use token_type_ids, hence the optional parameter.\"\"\"\n",
    "\n",
    "    input_ids = input_ids.unsqueeze(0)\n",
    "    attention_mask = attention_mask.unsqueeze(0)\n",
    "    if token_type_ids is not None: token_type_ids = token_type_ids.unsqueeze(0)\n",
    "\n",
    "    logits = model(\n",
    "        input_ids=input_ids,\n",
    "        attention_mask=attention_mask,\n",
    "        token_type_ids=token_type_ids\n",
    "    ).logits\n",
    "\n",
    "    if cfg.debug: print(\"Logits from forward pass:\", logits.shape)\n",
    "    return logits"
   ]
  },
  {
   "cell_type": "code",
   "execution_count": 84,
   "id": "5f699a26",
   "metadata": {},
   "outputs": [
    {
     "name": "stdout",
     "output_type": "stream",
     "text": [
      "Logits from forward pass: torch.Size([1, 3])\n",
      "Question: What is the capital of France?\n",
      "Predicted Answer: 2) Paris\n",
      "Logits: tensor([[2.8368, 2.7233, 5.5524]], grad_fn=<ViewBackward0>)\n"
     ]
    }
   ],
   "source": [
    "# Get input ids, attn masks, token type ids and baseline for Captum attribution methods.\n",
    "def get_encoding_and_predict(question, choices, tokenizer, token_types=True, print_output=True):\n",
    "    \"\"\"Tokenizes the question and choices and makes prediction, returning input_ids, attention_masks, and token_type_ids, \n",
    "    logits and choice index. token_type_ids is None if token_types is False. The input ids are shaped as [num_choices, seq_len].\"\"\"\n",
    "    \n",
    "    # Tokenize for multiple choice and get input ids, attention masks, and token type ids\n",
    "    encoding = tokenizer(\n",
    "        [question] * len(choices),\n",
    "        choices,\n",
    "        return_tensors=\"pt\",\n",
    "        padding=True,\n",
    "        truncation=True\n",
    "    )\n",
    "\n",
    "    input_ids = encoding[\"input_ids\"]               # shape: [choices, seq_len]\n",
    "    attention_masks = encoding[\"attention_mask\"]    # -\"-\n",
    "    if token_types:\n",
    "        token_type_ids = encoding[\"token_type_ids\"] # -\"-\n",
    "    else:\n",
    "        token_type_ids = None\n",
    "\n",
    "\n",
    "    # Compute model prediction and get choice index\n",
    "    logits = forward_func(input_ids, attention_mask=attention_masks, token_type_ids=token_type_ids)\n",
    "    choice_idx = torch.argmax(logits).item()\n",
    "\n",
    "    if print_output:\n",
    "        print('Question:', question)\n",
    "        print('Predicted Answer:', f'{choice_idx})', choices[choice_idx])\n",
    "    if cfg.debug: print('Logits:', logits) # To gauge model confidence\n",
    "\n",
    "    return input_ids, attention_masks, token_type_ids, logits, choice_idx\n",
    "\n",
    "\n",
    "# Baseline input for Integrated Gradients\n",
    "def get_baseline(tokenizer, input_ids, choice_idx):\n",
    "    ref_token_id = tokenizer.pad_token_id   # padding\n",
    "    sep_token_id = tokenizer.sep_token_id   # sepatator\n",
    "    cls_token_id = tokenizer.cls_token_id   # start of sequence\n",
    "\n",
    "    # Create baseline input: [CLS] [PAD] ... [SEP] ... [PAD] [SEP] for choice index expanded as input_ids\n",
    "    ref_tokens = [cls_token_id]\n",
    "    for i, token in enumerate(input_ids[choice_idx, 1:]):\n",
    "        if token == sep_token_id: # We keep only the separators, else we use padding\n",
    "            ref_tokens += [sep_token_id]\n",
    "        else:\n",
    "            ref_tokens += [ref_token_id]\n",
    "        \n",
    "    return torch.tensor(ref_tokens, dtype=torch.long).expand_as(input_ids)\n",
    "\n",
    "\n",
    "# Compute\n",
    "input_ids, attention_masks, token_type_ids, logits, choice_idx = get_encoding_and_predict(question, choices, tokenizer)\n",
    "ref_input_ids = get_baseline(tokenizer, input_ids, choice_idx)"
   ]
  },
  {
   "cell_type": "code",
   "execution_count": 85,
   "id": "3aee7f52",
   "metadata": {},
   "outputs": [],
   "source": [
    "def get_token_attributions_for_layer(layer, forward_func, choice_idx, input_ids, ref_input_ids, attention_mask, token_type_ids=None, n_steps=50):\n",
    "\n",
    "    if cfg.debug: print(input_ids.shape)\n",
    "    \n",
    "    # LayerIntegratedGradients for attribution\n",
    "    lig = LayerIntegratedGradients(forward_func, layer)\n",
    "\n",
    "    # Compute attributions for chosen index (Captum wants [choices, seq_len] and gives attr shape [choices, seq_len, layer_output_dim])\n",
    "    attributions, delta = lig.attribute(\n",
    "        inputs=input_ids,\n",
    "        baselines=ref_input_ids,\n",
    "        additional_forward_args=(attention_mask, token_type_ids),\n",
    "        target=choice_idx,  # Target the chosen answer, uses [0,target]\n",
    "        n_steps=n_steps,  # Number of steps for approximation\n",
    "        return_convergence_delta=True\n",
    "    )\n",
    "\n",
    "    # Sum across embedding dimensions to get token-level importance\n",
    "    token_attributions = attributions.sum(dim=-1).squeeze(0)  # shape: [num_choices, seq_len]\n",
    "    token_attributions = token_attributions / torch.norm(token_attributions)  # Normalize\n",
    "\n",
    "    if cfg.debug: \n",
    "        print('Token attributions:', token_attributions.shape)\n",
    "        print('Attributions per token at choice_idx:', token_attributions[choice_idx])\n",
    "    \n",
    "    return token_attributions, delta"
   ]
  },
  {
   "cell_type": "code",
   "execution_count": 56,
   "id": "7028056f",
   "metadata": {},
   "outputs": [
    {
     "name": "stdout",
     "output_type": "stream",
     "text": [
      "torch.Size([5, 66])\n",
      "Logits from forward pass: torch.Size([1, 5])\n",
      "Logits from forward pass: torch.Size([1, 5])\n",
      "Logits from forward pass: torch.Size([1, 250])\n",
      "Logits from forward pass: torch.Size([1, 5])\n",
      "Logits from forward pass: torch.Size([1, 5])\n",
      "Token attributions: torch.Size([5, 66])\n",
      "Attributions per token at choice_idx: tensor([ 0.0000,  0.0124, -0.0009,  0.0494, -0.0439, -0.0926,  0.0074, -0.0237,\n",
      "        -0.0528,  0.0644, -0.0680,  0.0891,  0.0068, -0.0209, -0.0266, -0.0459,\n",
      "         0.0318, -0.1101, -0.0830,  0.0442,  0.0059, -0.0506, -0.0858, -0.0056,\n",
      "        -0.1056,  0.0064, -0.0730,  0.0778,  0.0030,  0.0269, -0.0234, -0.0425,\n",
      "        -0.0047,  0.0586, -0.0753,  0.0644, -0.0306, -0.0354,  0.0554,  0.0559,\n",
      "        -0.0163,  0.0141,  0.0425, -0.0919, -0.0123, -0.0568, -0.0327, -0.0351,\n",
      "        -0.0523, -0.1341,  0.2006,  0.0000, -0.1768, -0.0929,  0.1968,  0.1010,\n",
      "        -0.1696, -0.2514, -0.3831, -0.0369, -0.1994, -0.3325, -0.4731, -0.2818,\n",
      "        -0.1562,  0.0000])\n"
     ]
    }
   ],
   "source": [
    "# Main computation block, can take several minutes depending on the model, input length and number of steps.\n",
    "# If cfg.debug is True, it will print intermediate results to indicate progress.\n",
    "\n",
    "layer = model.bert.embeddings # Compute for embedding layer\n",
    "token_attributions, delta = get_token_attributions_for_layer(\n",
    "    layer, forward_func, choice_idx, input_ids, ref_input_ids, attention_masks, token_type_ids\n",
    ")\n",
    "\n",
    "# Get the attributions for the chosen answer and convert input ids to readable tokens\n",
    "choice_attributions = token_attributions[choice_idx]\n",
    "tokens = tokenizer.convert_ids_to_tokens(input_ids[choice_idx])"
   ]
  },
  {
   "cell_type": "code",
   "execution_count": 57,
   "id": "702aba61",
   "metadata": {},
   "outputs": [
    {
     "data": {
      "text/html": [
       "<table width: 100%><div style=\"border-top: 1px solid; margin-top: 5px;             padding-top: 5px; display: inline-block\"><b>Legend: </b><span style=\"display: inline-block; width: 10px; height: 10px;                 border: 1px solid; background-color:                 hsl(0, 75%, 60%)\"></span> Negative  <span style=\"display: inline-block; width: 10px; height: 10px;                 border: 1px solid; background-color:                 hsl(0, 75%, 100%)\"></span> Neutral  <span style=\"display: inline-block; width: 10px; height: 10px;                 border: 1px solid; background-color:                 hsl(120, 75%, 50%)\"></span> Positive  </div><tr><th>True Label</th><th>Predicted Label</th><th>Attribution Label</th><th>Attribution Score</th><th>Word Importance</th><tr><td><text style=\"padding-right:2em\"><b>2</b></text></td><td><text style=\"padding-right:2em\"><b>1 (0.38)</b></text></td><td><text style=\"padding-right:2em\"><b>1</b></text></td><td><text style=\"padding-right:2em\"><b>-2.87</b></text></td><td><mark style=\"background-color: hsl(0, 75%, 100%); opacity:1.0;                     line-height:1.75\"><font color=\"black\"> [CLS]                    </font></mark><mark style=\"background-color: hsl(120, 75%, 100%); opacity:1.0;                     line-height:1.75\"><font color=\"black\"> two                    </font></mark><mark style=\"background-color: hsl(0, 75%, 100%); opacity:1.0;                     line-height:1.75\"><font color=\"black\"> metal                    </font></mark><mark style=\"background-color: hsl(120, 75%, 98%); opacity:1.0;                     line-height:1.75\"><font color=\"black\"> balls                    </font></mark><mark style=\"background-color: hsl(0, 75%, 99%); opacity:1.0;                     line-height:1.75\"><font color=\"black\"> are                    </font></mark><mark style=\"background-color: hsl(0, 75%, 97%); opacity:1.0;                     line-height:1.75\"><font color=\"black\"> the                    </font></mark><mark style=\"background-color: hsl(120, 75%, 100%); opacity:1.0;                     line-height:1.75\"><font color=\"black\"> same                    </font></mark><mark style=\"background-color: hsl(0, 75%, 100%); opacity:1.0;                     line-height:1.75\"><font color=\"black\"> size                    </font></mark><mark style=\"background-color: hsl(0, 75%, 98%); opacity:1.0;                     line-height:1.75\"><font color=\"black\"> but                    </font></mark><mark style=\"background-color: hsl(120, 75%, 97%); opacity:1.0;                     line-height:1.75\"><font color=\"black\"> one                    </font></mark><mark style=\"background-color: hsl(0, 75%, 98%); opacity:1.0;                     line-height:1.75\"><font color=\"black\"> weighs                    </font></mark><mark style=\"background-color: hsl(120, 75%, 96%); opacity:1.0;                     line-height:1.75\"><font color=\"black\"> twice                    </font></mark><mark style=\"background-color: hsl(120, 75%, 100%); opacity:1.0;                     line-height:1.75\"><font color=\"black\"> as                    </font></mark><mark style=\"background-color: hsl(0, 75%, 100%); opacity:1.0;                     line-height:1.75\"><font color=\"black\"> much                    </font></mark><mark style=\"background-color: hsl(0, 75%, 99%); opacity:1.0;                     line-height:1.75\"><font color=\"black\"> as                    </font></mark><mark style=\"background-color: hsl(0, 75%, 99%); opacity:1.0;                     line-height:1.75\"><font color=\"black\"> the                    </font></mark><mark style=\"background-color: hsl(120, 75%, 99%); opacity:1.0;                     line-height:1.75\"><font color=\"black\"> other                    </font></mark><mark style=\"background-color: hsl(0, 75%, 96%); opacity:1.0;                     line-height:1.75\"><font color=\"black\"> .                    </font></mark><mark style=\"background-color: hsl(0, 75%, 97%); opacity:1.0;                     line-height:1.75\"><font color=\"black\"> the                    </font></mark><mark style=\"background-color: hsl(120, 75%, 98%); opacity:1.0;                     line-height:1.75\"><font color=\"black\"> balls                    </font></mark><mark style=\"background-color: hsl(120, 75%, 100%); opacity:1.0;                     line-height:1.75\"><font color=\"black\"> are                    </font></mark><mark style=\"background-color: hsl(0, 75%, 98%); opacity:1.0;                     line-height:1.75\"><font color=\"black\"> dropped                    </font></mark><mark style=\"background-color: hsl(0, 75%, 97%); opacity:1.0;                     line-height:1.75\"><font color=\"black\"> from                    </font></mark><mark style=\"background-color: hsl(0, 75%, 100%); opacity:1.0;                     line-height:1.75\"><font color=\"black\"> the                    </font></mark><mark style=\"background-color: hsl(0, 75%, 96%); opacity:1.0;                     line-height:1.75\"><font color=\"black\"> roof                    </font></mark><mark style=\"background-color: hsl(120, 75%, 100%); opacity:1.0;                     line-height:1.75\"><font color=\"black\"> of                    </font></mark><mark style=\"background-color: hsl(0, 75%, 98%); opacity:1.0;                     line-height:1.75\"><font color=\"black\"> a                    </font></mark><mark style=\"background-color: hsl(120, 75%, 97%); opacity:1.0;                     line-height:1.75\"><font color=\"black\"> single                    </font></mark><mark style=\"background-color: hsl(120, 75%, 100%); opacity:1.0;                     line-height:1.75\"><font color=\"black\"> story                    </font></mark><mark style=\"background-color: hsl(120, 75%, 99%); opacity:1.0;                     line-height:1.75\"><font color=\"black\"> building                    </font></mark><mark style=\"background-color: hsl(0, 75%, 100%); opacity:1.0;                     line-height:1.75\"><font color=\"black\"> at                    </font></mark><mark style=\"background-color: hsl(0, 75%, 99%); opacity:1.0;                     line-height:1.75\"><font color=\"black\"> the                    </font></mark><mark style=\"background-color: hsl(0, 75%, 100%); opacity:1.0;                     line-height:1.75\"><font color=\"black\"> same                    </font></mark><mark style=\"background-color: hsl(120, 75%, 98%); opacity:1.0;                     line-height:1.75\"><font color=\"black\"> instant                    </font></mark><mark style=\"background-color: hsl(0, 75%, 97%); opacity:1.0;                     line-height:1.75\"><font color=\"black\"> of                    </font></mark><mark style=\"background-color: hsl(120, 75%, 97%); opacity:1.0;                     line-height:1.75\"><font color=\"black\"> time                    </font></mark><mark style=\"background-color: hsl(0, 75%, 99%); opacity:1.0;                     line-height:1.75\"><font color=\"black\"> .                    </font></mark><mark style=\"background-color: hsl(0, 75%, 99%); opacity:1.0;                     line-height:1.75\"><font color=\"black\"> the                    </font></mark><mark style=\"background-color: hsl(120, 75%, 98%); opacity:1.0;                     line-height:1.75\"><font color=\"black\"> time                    </font></mark><mark style=\"background-color: hsl(120, 75%, 98%); opacity:1.0;                     line-height:1.75\"><font color=\"black\"> it                    </font></mark><mark style=\"background-color: hsl(0, 75%, 100%); opacity:1.0;                     line-height:1.75\"><font color=\"black\"> takes                    </font></mark><mark style=\"background-color: hsl(120, 75%, 100%); opacity:1.0;                     line-height:1.75\"><font color=\"black\"> the                    </font></mark><mark style=\"background-color: hsl(120, 75%, 98%); opacity:1.0;                     line-height:1.75\"><font color=\"black\"> balls                    </font></mark><mark style=\"background-color: hsl(0, 75%, 97%); opacity:1.0;                     line-height:1.75\"><font color=\"black\"> to                    </font></mark><mark style=\"background-color: hsl(0, 75%, 100%); opacity:1.0;                     line-height:1.75\"><font color=\"black\"> reach                    </font></mark><mark style=\"background-color: hsl(0, 75%, 98%); opacity:1.0;                     line-height:1.75\"><font color=\"black\"> the                    </font></mark><mark style=\"background-color: hsl(0, 75%, 99%); opacity:1.0;                     line-height:1.75\"><font color=\"black\"> ground                    </font></mark><mark style=\"background-color: hsl(0, 75%, 99%); opacity:1.0;                     line-height:1.75\"><font color=\"black\"> below                    </font></mark><mark style=\"background-color: hsl(0, 75%, 98%); opacity:1.0;                     line-height:1.75\"><font color=\"black\"> will                    </font></mark><mark style=\"background-color: hsl(0, 75%, 95%); opacity:1.0;                     line-height:1.75\"><font color=\"black\"> be                    </font></mark><mark style=\"background-color: hsl(120, 75%, 90%); opacity:1.0;                     line-height:1.75\"><font color=\"black\"> :                    </font></mark><mark style=\"background-color: hsl(0, 75%, 100%); opacity:1.0;                     line-height:1.75\"><font color=\"black\"> [SEP]                    </font></mark><mark style=\"background-color: hsl(0, 75%, 93%); opacity:1.0;                     line-height:1.75\"><font color=\"black\"> about                    </font></mark><mark style=\"background-color: hsl(0, 75%, 97%); opacity:1.0;                     line-height:1.75\"><font color=\"black\"> half                    </font></mark><mark style=\"background-color: hsl(120, 75%, 91%); opacity:1.0;                     line-height:1.75\"><font color=\"black\"> as                    </font></mark><mark style=\"background-color: hsl(120, 75%, 95%); opacity:1.0;                     line-height:1.75\"><font color=\"black\"> long                    </font></mark><mark style=\"background-color: hsl(0, 75%, 94%); opacity:1.0;                     line-height:1.75\"><font color=\"black\"> for                    </font></mark><mark style=\"background-color: hsl(0, 75%, 90%); opacity:1.0;                     line-height:1.75\"><font color=\"black\"> the                    </font></mark><mark style=\"background-color: hsl(0, 75%, 85%); opacity:1.0;                     line-height:1.75\"><font color=\"black\"> lighter                    </font></mark><mark style=\"background-color: hsl(0, 75%, 99%); opacity:1.0;                     line-height:1.75\"><font color=\"black\"> ball                    </font></mark><mark style=\"background-color: hsl(0, 75%, 93%); opacity:1.0;                     line-height:1.75\"><font color=\"black\"> as                    </font></mark><mark style=\"background-color: hsl(0, 75%, 87%); opacity:1.0;                     line-height:1.75\"><font color=\"black\"> for                    </font></mark><mark style=\"background-color: hsl(0, 75%, 82%); opacity:1.0;                     line-height:1.75\"><font color=\"black\"> the                    </font></mark><mark style=\"background-color: hsl(0, 75%, 89%); opacity:1.0;                     line-height:1.75\"><font color=\"black\"> heavier                    </font></mark><mark style=\"background-color: hsl(0, 75%, 94%); opacity:1.0;                     line-height:1.75\"><font color=\"black\"> one                    </font></mark><mark style=\"background-color: hsl(0, 75%, 100%); opacity:1.0;                     line-height:1.75\"><font color=\"black\"> [SEP]                    </font></mark></td><tr></table>"
      ],
      "text/plain": [
       "<IPython.core.display.HTML object>"
      ]
     },
     "metadata": {},
     "output_type": "display_data"
    }
   ],
   "source": [
    "# Visualise\n",
    "vis = viz.VisualizationDataRecord(\n",
    "                        choice_attributions,                        # word attributions\n",
    "                        torch.max(torch.softmax(logits, dim=1)),    # prediction probability\n",
    "                        torch.argmax(logits),                       # predicted class\n",
    "                        ground_truth_idx,                           # ground truth class\n",
    "                        str(choice_idx),                            # attributing to this class\n",
    "                        token_attributions.sum(),                   # summed attribution score\n",
    "                        tokens,                                     # tokens for the question and choice\n",
    "                        delta,                                      # convergence delta\n",
    ")\n",
    "\n",
    "visualisation = viz.visualize_text([vis]) # Save return object to avoid passing the vis object to the ipynb"
   ]
  },
  {
   "cell_type": "markdown",
   "id": "af0ea568",
   "metadata": {},
   "source": [
    "Note the small attribution score (the model is not good enough to answer, so the words hardly matter, and partcularily the embedding layer is useless here), though the foci make sense. Also, the attribution takes ages (with no gpu for the differentiation)."
   ]
  },
  {
   "cell_type": "markdown",
   "id": "5517a5f8",
   "metadata": {},
   "source": [
    "Let's do the same with RoBERTa. The only real modification is that it does not use type_token_ids:"
   ]
  },
  {
   "cell_type": "code",
   "execution_count": 79,
   "id": "759937e2",
   "metadata": {},
   "outputs": [],
   "source": [
    "# Nothing new here, just importing the RoBERTa model\n",
    "\n",
    "# Question and choices, shorter for larger model to reduce computation time\n",
    "question = \"What is the capital of France?\"\n",
    "choices = [\"Berlin\", \"Madrid\", \"Paris\"]\n",
    "ground_truth_idx = 2\n",
    "\n",
    "from transformers import RobertaTokenizer, RobertaForMultipleChoice\n",
    "\n",
    "# Load model and tokenizer\n",
    "model_name = \"LIAMF-USP/roberta-large-finetuned-race\"\n",
    "model = RobertaForMultipleChoice.from_pretrained(model_name)\n",
    "tokenizer = RobertaTokenizer.from_pretrained(model_name)\n",
    "\n",
    "# Set to evaluation mode\n",
    "model.to(device)\n",
    "model.eval()\n",
    "model.zero_grad()\n",
    "# model # Uncomment to print architecture"
   ]
  },
  {
   "cell_type": "code",
   "execution_count": 59,
   "id": "563bb772",
   "metadata": {},
   "outputs": [],
   "source": [
    "def do_everything(forward_func, layer, question=question, choices=choices, ground_truth_idx=ground_truth_idx, model=model, tokenizer=tokenizer, token_types=False, n_steps=50):\n",
    "    \"\"\"A quick function to do everything we have implemented so far: tokenize, make prediction, compute attributions and visualize.\"\"\"\n",
    "    # Tokenize for multiple choice and get input ids, attention masks, WITHOUT token type ids (token_types=False), \n",
    "    # and make prediction to get logits and choice index\n",
    "    input_ids, attention_masks, token_type_ids, logits, choice_idx = get_encoding_and_predict(question, choices, tokenizer, token_types=token_types)\n",
    "    ref_input_ids = get_baseline(tokenizer, input_ids, choice_idx)\n",
    "\n",
    "    # Compute attributition for embedding layer\n",
    "    token_attributions, delta = get_token_attributions_for_layer(\n",
    "        layer, forward_func, choice_idx, input_ids, ref_input_ids, attention_masks, token_type_ids, n_steps=n_steps, \n",
    "    )\n",
    "\n",
    "    # Get the attributions for the chosen answer and convert input ids to readable tokens\n",
    "    choice_attributions = token_attributions[choice_idx]\n",
    "    tokens = tokenizer.convert_ids_to_tokens(input_ids[choice_idx])\n",
    "\n",
    "\n",
    "    # Visualize\n",
    "    choice_attributions = token_attributions[choice_idx]\n",
    "    tokens = tokenizer.convert_ids_to_tokens(input_ids[choice_idx])\n",
    "\n",
    "    vis = viz.VisualizationDataRecord(\n",
    "                            choice_attributions,                        # word attributions\n",
    "                            torch.max(torch.softmax(logits, dim=1)),    # prediction probability\n",
    "                            torch.argmax(logits),                       # predicted class\n",
    "                            ground_truth_idx,                           # ground truth class\n",
    "                            str(choice_idx),                            # attributing to this class\n",
    "                            token_attributions.sum(),                   # summed attribution score\n",
    "                            tokens,                                     # tokens for the question and choice\n",
    "                            delta,                                      # convergence delta\n",
    "    )\n",
    "\n",
    "    viz.visualize_text([vis])\n",
    "\n",
    "    return choice_idx"
   ]
  },
  {
   "cell_type": "code",
   "execution_count": 60,
   "id": "0678691a",
   "metadata": {},
   "outputs": [
    {
     "name": "stdout",
     "output_type": "stream",
     "text": [
      "Logits from forward pass: torch.Size([1, 3])\n",
      "Question: What is the capital of France?\n",
      "Predicted Answer: 2) Paris\n",
      "Logits: tensor([[-0.4239, -2.1472,  4.5936]], grad_fn=<ViewBackward0>)\n",
      "torch.Size([3, 13])\n",
      "Logits from forward pass: torch.Size([1, 3])\n",
      "Logits from forward pass: torch.Size([1, 3])\n",
      "Logits from forward pass: torch.Size([1, 150])\n",
      "Logits from forward pass: torch.Size([1, 3])\n",
      "Logits from forward pass: torch.Size([1, 3])\n",
      "Token attributions: torch.Size([3, 13])\n",
      "Attributions per token at choice_idx: tensor([ 0.0000, -0.0511,  0.1184,  0.0214,  0.5090, -0.0007,  0.2750,  0.6631,\n",
      "        -0.3209, -0.2486, -0.0994, -0.1841,  0.0000])\n"
     ]
    },
    {
     "data": {
      "text/html": [
       "<table width: 100%><div style=\"border-top: 1px solid; margin-top: 5px;             padding-top: 5px; display: inline-block\"><b>Legend: </b><span style=\"display: inline-block; width: 10px; height: 10px;                 border: 1px solid; background-color:                 hsl(0, 75%, 60%)\"></span> Negative  <span style=\"display: inline-block; width: 10px; height: 10px;                 border: 1px solid; background-color:                 hsl(0, 75%, 100%)\"></span> Neutral  <span style=\"display: inline-block; width: 10px; height: 10px;                 border: 1px solid; background-color:                 hsl(120, 75%, 50%)\"></span> Positive  </div><tr><th>True Label</th><th>Predicted Label</th><th>Attribution Label</th><th>Attribution Score</th><th>Word Importance</th><tr><td><text style=\"padding-right:2em\"><b>2</b></text></td><td><text style=\"padding-right:2em\"><b>2 (0.99)</b></text></td><td><text style=\"padding-right:2em\"><b>2</b></text></td><td><text style=\"padding-right:2em\"><b>0.68</b></text></td><td><mark style=\"background-color: hsl(0, 75%, 100%); opacity:1.0;                     line-height:1.75\"><font color=\"black\"> #s                    </font></mark><mark style=\"background-color: hsl(0, 75%, 98%); opacity:1.0;                     line-height:1.75\"><font color=\"black\"> What                    </font></mark><mark style=\"background-color: hsl(120, 75%, 95%); opacity:1.0;                     line-height:1.75\"><font color=\"black\"> Ġis                    </font></mark><mark style=\"background-color: hsl(120, 75%, 99%); opacity:1.0;                     line-height:1.75\"><font color=\"black\"> Ġthe                    </font></mark><mark style=\"background-color: hsl(120, 75%, 75%); opacity:1.0;                     line-height:1.75\"><font color=\"black\"> Ġcapital                    </font></mark><mark style=\"background-color: hsl(0, 75%, 100%); opacity:1.0;                     line-height:1.75\"><font color=\"black\"> Ġof                    </font></mark><mark style=\"background-color: hsl(120, 75%, 87%); opacity:1.0;                     line-height:1.75\"><font color=\"black\"> ĠFrance                    </font></mark><mark style=\"background-color: hsl(120, 75%, 67%); opacity:1.0;                     line-height:1.75\"><font color=\"black\"> ?                    </font></mark><mark style=\"background-color: hsl(0, 75%, 88%); opacity:1.0;                     line-height:1.75\"><font color=\"black\"> #/s                    </font></mark><mark style=\"background-color: hsl(0, 75%, 91%); opacity:1.0;                     line-height:1.75\"><font color=\"black\"> #/s                    </font></mark><mark style=\"background-color: hsl(0, 75%, 97%); opacity:1.0;                     line-height:1.75\"><font color=\"black\"> Paris                    </font></mark><mark style=\"background-color: hsl(0, 75%, 93%); opacity:1.0;                     line-height:1.75\"><font color=\"black\"> #/s                    </font></mark><mark style=\"background-color: hsl(0, 75%, 100%); opacity:1.0;                     line-height:1.75\"><font color=\"black\"> #pad                    </font></mark></td><tr></table>"
      ],
      "text/plain": [
       "<IPython.core.display.HTML object>"
      ]
     },
     "metadata": {},
     "output_type": "display_data"
    },
    {
     "data": {
      "text/plain": [
       "2"
      ]
     },
     "execution_count": 60,
     "metadata": {},
     "output_type": "execute_result"
    }
   ],
   "source": [
    "# Compute attributions wrt's RoBERTa embedding layer\n",
    "layer = model.roberta.embeddings\n",
    "do_everything(forward_func, layer)"
   ]
  },
  {
   "cell_type": "markdown",
   "id": "25cf97a0",
   "metadata": {},
   "source": [
    "As expected, 'capital' and 'France' (and also the question mark...) are most important for the model choice wrt. this layer. Note that it has very strong convivtion here, as opposed to the difficult FCI questions BERT faced. The RoBERTa model is better, but slightly too large for running comfortably with long inputs on my laptop, hence I don't use the FCI (which it does not do very well on - it does not seem to know to neglect air resistance in the metal ball question, and does not understand Newtons third law (nor forces in general) at all - which it is not trained for, so no surprises here)."
   ]
  },
  {
   "cell_type": "markdown",
   "id": "d9c9ac4c",
   "metadata": {},
   "source": [
    "Since a change in input can increase ALL logits, we might want to use the softmaxed output to get at the words most inmportant for *differentiating* the choices:"
   ]
  },
  {
   "cell_type": "code",
   "execution_count": 61,
   "id": "2da94c87",
   "metadata": {},
   "outputs": [
    {
     "name": "stdout",
     "output_type": "stream",
     "text": [
      "Logits from forward pass: torch.Size([1, 3])\n",
      "Question: What is the capital of France?\n",
      "Predicted Answer: 2) Paris\n",
      "Logits: tensor([[-0.4239, -2.1472,  4.5936]], grad_fn=<ViewBackward0>)\n",
      "torch.Size([3, 13])\n",
      "Logits from forward pass: torch.Size([1, 3])\n",
      "Logits from forward pass: torch.Size([1, 3])\n",
      "Logits from forward pass: torch.Size([1, 150])\n",
      "Logits from forward pass: torch.Size([1, 3])\n",
      "Logits from forward pass: torch.Size([1, 3])\n",
      "Token attributions: torch.Size([3, 13])\n",
      "Attributions per token at choice_idx: tensor([ 0.0000, -0.0667, -0.2955, -0.2296,  0.2589,  0.0310,  0.4667,  0.3114,\n",
      "        -0.1623, -0.2125, -0.3267, -0.2078,  0.0000])\n"
     ]
    },
    {
     "data": {
      "text/html": [
       "<table width: 100%><div style=\"border-top: 1px solid; margin-top: 5px;             padding-top: 5px; display: inline-block\"><b>Legend: </b><span style=\"display: inline-block; width: 10px; height: 10px;                 border: 1px solid; background-color:                 hsl(0, 75%, 60%)\"></span> Negative  <span style=\"display: inline-block; width: 10px; height: 10px;                 border: 1px solid; background-color:                 hsl(0, 75%, 100%)\"></span> Neutral  <span style=\"display: inline-block; width: 10px; height: 10px;                 border: 1px solid; background-color:                 hsl(120, 75%, 50%)\"></span> Positive  </div><tr><th>True Label</th><th>Predicted Label</th><th>Attribution Label</th><th>Attribution Score</th><th>Word Importance</th><tr><td><text style=\"padding-right:2em\"><b>2</b></text></td><td><text style=\"padding-right:2em\"><b>2 (0.99)</b></text></td><td><text style=\"padding-right:2em\"><b>2</b></text></td><td><text style=\"padding-right:2em\"><b>-0.53</b></text></td><td><mark style=\"background-color: hsl(0, 75%, 100%); opacity:1.0;                     line-height:1.75\"><font color=\"black\"> #s                    </font></mark><mark style=\"background-color: hsl(0, 75%, 98%); opacity:1.0;                     line-height:1.75\"><font color=\"black\"> What                    </font></mark><mark style=\"background-color: hsl(0, 75%, 89%); opacity:1.0;                     line-height:1.75\"><font color=\"black\"> Ġis                    </font></mark><mark style=\"background-color: hsl(0, 75%, 91%); opacity:1.0;                     line-height:1.75\"><font color=\"black\"> Ġthe                    </font></mark><mark style=\"background-color: hsl(120, 75%, 88%); opacity:1.0;                     line-height:1.75\"><font color=\"black\"> Ġcapital                    </font></mark><mark style=\"background-color: hsl(120, 75%, 99%); opacity:1.0;                     line-height:1.75\"><font color=\"black\"> Ġof                    </font></mark><mark style=\"background-color: hsl(120, 75%, 77%); opacity:1.0;                     line-height:1.75\"><font color=\"black\"> ĠFrance                    </font></mark><mark style=\"background-color: hsl(120, 75%, 85%); opacity:1.0;                     line-height:1.75\"><font color=\"black\"> ?                    </font></mark><mark style=\"background-color: hsl(0, 75%, 94%); opacity:1.0;                     line-height:1.75\"><font color=\"black\"> #/s                    </font></mark><mark style=\"background-color: hsl(0, 75%, 92%); opacity:1.0;                     line-height:1.75\"><font color=\"black\"> #/s                    </font></mark><mark style=\"background-color: hsl(0, 75%, 87%); opacity:1.0;                     line-height:1.75\"><font color=\"black\"> Paris                    </font></mark><mark style=\"background-color: hsl(0, 75%, 92%); opacity:1.0;                     line-height:1.75\"><font color=\"black\"> #/s                    </font></mark><mark style=\"background-color: hsl(0, 75%, 100%); opacity:1.0;                     line-height:1.75\"><font color=\"black\"> #pad                    </font></mark></td><tr></table>"
      ],
      "text/plain": [
       "<IPython.core.display.HTML object>"
      ]
     },
     "metadata": {},
     "output_type": "display_data"
    },
    {
     "data": {
      "text/plain": [
       "2"
      ]
     },
     "execution_count": 61,
     "metadata": {},
     "output_type": "execute_result"
    }
   ],
   "source": [
    "def forward_func_softmax(input_ids, attention_mask, token_type_ids): # softmax wrapper\n",
    "    return forward_func(input_ids, attention_mask, token_type_ids).softmax(dim=1)\n",
    "\n",
    "do_everything(forward_func_softmax, layer)"
   ]
  },
  {
   "cell_type": "markdown",
   "id": "5e93adda",
   "metadata": {},
   "source": [
    "Note the negative overall attribution score; this indicates that the initial embedding layer did not prefer Paris to the other capitals, and that only later layers corrected for this. That aligns with the general view that facts are mostly contained in MPC-layers. In this way we can try to use LIG to indicate what layer has stored the fact \"Paris is the capital of France\" (alas, there are 24 (!) layers in this model, so we can only do this for a toy model - even here, all layers will by random chance prefer some alternative, so without tracing the full information path thorough the model it is nontrivial to do this in practice). \n",
    "\n",
    "The naive approach to find the imporant MLP-layers is given below (not nearly enough steps to get very accurate attributions; the delta-s should be examined if making a through analysis). We see that certain layers (Mainly MLP output-layer 0) give a strong push towards the correct answer, while the later layers are hardly involved or pushes in the opposite direction, and one could try to find a Paris node/feature in the eary layers of the model with patching.\n",
    "\n",
    "However, there is a much better way to do this with LayerConductance in Captum, which will follow below.\n",
    "\n",
    "<details>\n",
    "  <summary> Obvious application [click to expand]  </summary>\n",
    "\n",
    "Take a toy BERT model which can answer very easy MpCs (like capitals, or easier) and find the \"Paris in France\" **layer**, then use patching from Frederik to find specific **nodes**. I will not pursue this unless I have time in the end, since it is a straightforward (though not very likely to be successful) application of the tools in this notebook and the patching-notebook.\n",
    "\n",
    "</details>"
   ]
  },
  {
   "cell_type": "code",
   "execution_count": 62,
   "id": "92e4518d",
   "metadata": {},
   "outputs": [],
   "source": [
    "# for i in range(len(model.roberta.encoder.layer)):\n",
    "#     print(i)\n",
    "#     layer = model.roberta.encoder.layer[i].output # or should i use the hidden mlp layer .intermediate? Can use .dense to do pre-(layerNorm/activation)\n",
    "#     do_everything(forward_func_softmax, layer, n_steps=5)"
   ]
  },
  {
   "cell_type": "markdown",
   "id": "f62a2cda",
   "metadata": {},
   "source": [
    "### Muli-layer attribution\n",
    "As a final step with IG-attribution from captum, let's look at how to attribute the whole model rather than only a layer. The only difference is that we provide embeddings instead of ids to the IG attribution method (which is also an option with LIG, but ids are easier), since the ids are discrete/not diffable. So we need to tokenize *and* word/position/type-embed before inputting, and get the attribution for the layers that are not the embedding layers (which are essentially look-up-tables anyway/not the most interesting part of a transformer).\n",
    "\n",
    "We can also do LayerConductance to see attr-scores for each token across layers"
   ]
  },
  {
   "cell_type": "code",
   "execution_count": null,
   "id": "0143be43",
   "metadata": {},
   "outputs": [],
   "source": [
    "\n",
    "# From here on down, I have not been too careful / reviewed yet - there might be errors (but the code runs).\n",
    "\n",
    "from captum.attr import LayerConductance\n",
    "\n",
    "# For plotting heatmaps\n",
    "import matplotlib.pyplot as plt\n",
    "import seaborn as sns\n",
    "import numpy as np\n",
    "\n",
    "# Returning to smaller BERT-model\n",
    "model_name = 'jonastokoliu/multi_choice_bert-base-uncased_swag_finetune' # Pretrained (bad) MpC model\n",
    "model = BertForMultipleChoice.from_pretrained(model_name)\n",
    "tokenizer = BertTokenizer.from_pretrained(model_name)\n",
    "# Set to evaluation mode\n",
    "model.to(device)\n",
    "model.eval()\n",
    "model.zero_grad()\n",
    "\n",
    "# Absurd way to get choice idx for testing only\n",
    "# layer = model.bert.embeddings\n",
    "# choice_idx = do_everything(forward_func_softmax, layer, model=model, tokenizer=tokenizer, token_types=True)\n",
    "\n",
    "# Forward func taking embeds\n",
    "def forward_func_embed(input_emb, attention_mask=None):\n",
    "    \n",
    "    input_emb = input_emb.unsqueeze(0)\n",
    "    attention_mask = attention_mask.unsqueeze(0)\n",
    "\n",
    "    logits = model(\n",
    "        inputs_embeds=input_emb,\n",
    "        attention_mask=attention_mask,\n",
    "    ).logits\n",
    "\n",
    "    if cfg.debug: print(\"Logits from forward pass:\", logits.shape)\n",
    "    return logits\n",
    "\n",
    "# From demo, to get input_embs and ref_input_embs (running ids through emb layer)\n",
    "def construct_whole_bert_embeddings(input_ids, ref_input_ids, \\\n",
    "                                    token_type_ids=None, ref_token_type_ids=None, \\\n",
    "                                    position_ids=None, ref_position_ids=None):\n",
    "    input_embeddings = model.bert.embeddings(input_ids, token_type_ids=token_type_ids, position_ids=position_ids)\n",
    "    ref_input_embeddings = model.bert.embeddings(ref_input_ids, token_type_ids=ref_token_type_ids, position_ids=ref_position_ids)\n",
    "    \n",
    "    return input_embeddings, ref_input_embeddings"
   ]
  },
  {
   "cell_type": "code",
   "execution_count": null,
   "id": "edb582b7",
   "metadata": {},
   "outputs": [
    {
     "name": "stdout",
     "output_type": "stream",
     "text": [
      "torch.Size([3, 11, 768]) torch.Size([3, 11, 768])\n"
     ]
    }
   ],
   "source": [
    "# setup\n",
    "\n",
    "ref_token_type_ids = torch.zeros_like(token_type_ids)  # Reference token type ids, all zeros for BERT\n",
    "position_ids = torch.arange(input_ids.size(1), dtype=torch.long, device=device)  # Position ids for the input sequence\n",
    "ref_position_ids = torch.zeros_like(position_ids)  # Reference position ids, all zeros for BERT\n",
    "\n",
    "input_embs, ref_input_embs = construct_whole_bert_embeddings(\n",
    "    input_ids, ref_input_ids, token_type_ids=token_type_ids, \n",
    "    ref_token_type_ids=ref_token_type_ids, position_ids=position_ids, ref_position_ids=ref_position_ids\n",
    ")\n",
    "\n",
    "if cfg.debug: print(input_embs.shape, ref_input_embs.shape)\n",
    "\n",
    "def summarize_attributions(attributions):\n",
    "    attributions = attributions.sum(dim=-1).squeeze(0)\n",
    "    attributions = attributions / torch.norm(attributions)\n",
    "    return attributions"
   ]
  },
  {
   "cell_type": "code",
   "execution_count": 102,
   "id": "7dad3e98",
   "metadata": {},
   "outputs": [
    {
     "name": "stdout",
     "output_type": "stream",
     "text": [
      "Logits from forward pass: torch.Size([1, 153])\n",
      "Layer 1: 1.7022544294595718\n",
      "Logits from forward pass: torch.Size([1, 153])\n",
      "Layer 2: 1.9298745437990874\n",
      "Logits from forward pass: torch.Size([1, 153])\n",
      "Layer 3: 1.3877490786835551\n",
      "Logits from forward pass: torch.Size([1, 153])\n",
      "Layer 4: 1.9764595949091017\n",
      "Logits from forward pass: torch.Size([1, 153])\n",
      "Layer 5: 2.1919440031051636\n",
      "Logits from forward pass: torch.Size([1, 153])\n",
      "Layer 6: 2.268413431942463\n",
      "Logits from forward pass: torch.Size([1, 153])\n",
      "Layer 7: 2.2196610905230045\n",
      "Logits from forward pass: torch.Size([1, 153])\n",
      "Layer 8: 2.2870186660438776\n",
      "Logits from forward pass: torch.Size([1, 153])\n",
      "Layer 9: 2.4111005552113056\n",
      "Logits from forward pass: torch.Size([1, 153])\n",
      "Layer 10: 2.920164213050157\n",
      "Logits from forward pass: torch.Size([1, 153])\n",
      "Layer 11: 3.070468932390213\n",
      "Logits from forward pass: torch.Size([1, 153])\n",
      "Layer 12: 1.0\n"
     ]
    }
   ],
   "source": [
    "layer_attrs = [] # Empty list to store attributions for each layer\n",
    "\n",
    "for i in range(model.config.num_hidden_layers): # attrubuting tokenwise for each layer\n",
    "    lc = LayerConductance(forward_func_embed, model.bert.encoder.layer[i])\n",
    "    layer_attributions = lc.attribute(inputs=input_embs, baselines=ref_input_embs, additional_forward_args=(attention_masks,), \\\n",
    "                                      target=choice_idx, n_steps=50, ) # reduced steps to speed up, sacrificing acc, though the trend holds up\n",
    "    layer_attrs.append(summarize_attributions(layer_attributions).cpu().detach().tolist())\n",
    "    print(f\"Layer {i+1}:\", np.sum(layer_attrs[i][choice_idx]))"
   ]
  },
  {
   "cell_type": "code",
   "execution_count": 103,
   "id": "36170947",
   "metadata": {},
   "outputs": [
    {
     "name": "stdout",
     "output_type": "stream",
     "text": [
      "(12, 3, 11)\n"
     ]
    },
    {
     "data": {
      "image/png": "[encoded data removed]",
      "text/plain": [
       "<Figure size 1500x500 with 2 Axes>"
      ]
     },
     "metadata": {},
     "output_type": "display_data"
    }
   ],
   "source": [
    "if cfg.debug: print(np.array(layer_attrs).shape)\n",
    "\n",
    "# Plotting\n",
    "fig, ax = plt.subplots(figsize=(15,5))\n",
    "\n",
    "xticklabels=tokenizer.convert_ids_to_tokens(input_ids[choice_idx])\n",
    "yticklabels=list(range(1, model.config.num_hidden_layers+1))\n",
    "ax = sns.heatmap(np.array(layer_attrs)[:,choice_idx,:], xticklabels=xticklabels, yticklabels=yticklabels, linewidth=0.2) #, annot=True\n",
    "plt.xlabel('Tokens')\n",
    "plt.ylabel('Layers')\n",
    "\n",
    "plt.show()"
   ]
  },
  {
   "cell_type": "code",
   "execution_count": null,
   "id": "39e86339",
   "metadata": {},
   "outputs": [],
   "source": []
  },
  {
   "cell_type": "markdown",
   "id": "27af172f",
   "metadata": {},
   "source": [
    "It is also possible to look closely at specific tokens and how they are processed by each layer, see the very end of the [first Captum BERT demo](https://captum.ai/tutorials/Bert_SQUAD_Interpret) (This should be pretty much similar for our case when treating only the choice idx and using only one attribution rather than start and end). Attn interp can be seen in the attention notebook."
   ]
  }
 ],
 "metadata": {
  "kernelspec": {
   "display_name": "embed",
   "language": "python",
   "name": "python3"
  },
  "language_info": {
   "codemirror_mode": {
    "name": "ipython",
    "version": 3
   },
   "file_extension": ".py",
   "mimetype": "text/x-python",
   "name": "python",
   "nbconvert_exporter": "python",
   "pygments_lexer": "ipython3",
   "version": "3.12.3"
  }
 },
 "nbformat": 4,
 "nbformat_minor": 5
}
