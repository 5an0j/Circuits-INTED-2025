{
 "cells": [
  {
   "cell_type": "markdown",
   "id": "44f8f5c9",
   "metadata": {},
   "source": [
    "Using a BERT-model \n",
    "Given a multiple choice question, we seek to determine which words are most important for the answer selection."
   ]
  },
  {
   "cell_type": "markdown",
   "id": "97afceac",
   "metadata": {},
   "source": [
    "deliverables: \n",
    "\n",
    "i) presentation, \n",
    "ii) report,\n",
    "iii) computational essay / ipynb\n"
   ]
  }
 ],
 "metadata": {
  "language_info": {
   "name": "python"
  }
 },
 "nbformat": 4,
 "nbformat_minor": 5
}
