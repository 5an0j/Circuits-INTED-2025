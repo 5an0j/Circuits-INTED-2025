{
 "cells": [
  {
   "cell_type": "markdown",
   "metadata": {},
   "source": [
    "Loading the model: "
   ]
  },
  {
   "cell_type": "code",
   "execution_count": 68,
   "metadata": {},
   "outputs": [],
   "source": [
    "from transformers import AutoModel, AutoTokenizer\n",
    "import torch\n",
    "import torch.nn.functional as F\n",
    "import numpy as np\n",
    "\n",
    "tokenizer = AutoTokenizer.from_pretrained(\"jinaai/jina-embeddings-v2-base-en\", trust_remote_code = True, use_fast = False)\n",
    "\n",
    "model = AutoModel.from_pretrained(\"jinaai/jina-embeddings-v2-base-en\", trust_remote_code = True)\n",
    "\n",
    "prompt = \"Natural language processing tasks, such as question answering, machine translation, reading comprehension, and summarization, are typically approached with supervised learning on taskspecific datasets.\"\n",
    "\n",
    "input = tokenizer(prompt, return_tensors = \"pt\", padding = \"max_length\", max_length = 60, truncation = True)\n"
   ]
  },
  {
   "cell_type": "markdown",
   "metadata": {},
   "source": [
    "Then we output some model specific parameter values. \n"
   ]
  },
  {
   "cell_type": "code",
   "execution_count": 69,
   "metadata": {},
   "outputs": [],
   "source": [
    "num_layers = len(model.encoder.layer)\n",
    "emb_dim = model.config.hidden_size\n",
    "num_heads = model.config.num_attention_heads\n",
    "head_dim = emb_dim // num_heads"
   ]
  },
  {
   "cell_type": "markdown",
   "metadata": {},
   "source": [
    "Then we need some code to \"hook\" specific activations from the model (such as the output from MLPs, attention heads). We collect the hooks in dictionaries. "
   ]
  },
  {
   "cell_type": "code",
   "execution_count": 70,
   "metadata": {},
   "outputs": [],
   "source": [
    "#Hook attention heads\n",
    "\n",
    "attn_act = {}\n",
    "attn_hooks = {}\n",
    "\n",
    "def hook_atthead(layer_index,head_index): \n",
    "    def hook(module, inp, out):\n",
    "        batch, seq_len, embed_dim = out.shape\n",
    "        out = out.view(batch, seq_len, num_heads, head_dim)\n",
    "        attn_act[f\"{layer_index}.{head_index}\"] = out[:, :, j, :].detach()\n",
    "    return hook\n",
    "\n",
    "for i in range(num_layers):\n",
    "    for j in range(num_heads): \n",
    "        attn_hooks[f\"{i}.{j}\"] = model.encoder.layer[i].attention.output.dense.register_forward_hook(hook_atthead(i,j))\n",
    "\n",
    "#Hook MLPs\n",
    "\n",
    "mlp_act = {}\n",
    "mlp_hooks = {}\n",
    "\n",
    "def hook_mlp(layer_index):\n",
    "    def hook(module, inp, out):\n",
    "        mlp_act[f\"{layer_index}\"] = out.detach()\n",
    "    return hook\n",
    "\n",
    "for i in range(num_layers): \n",
    "    mlp_hooks[f\"{i}\"] = model.encoder.layer[i].mlp.wo.register_forward_hook(hook_mlp(i))                                                      \n",
    "\n",
    "\n",
    "original_wo = model.encoder.layer[6].mlp.wo.forward\n"
   ]
  },
  {
   "cell_type": "markdown",
   "metadata": {},
   "source": [
    "Next we run the input text in the model and test ablations. We ablate one of the activations. "
   ]
  },
  {
   "cell_type": "code",
   "execution_count": 71,
   "metadata": {},
   "outputs": [
    {
     "name": "stdout",
     "output_type": "stream",
     "text": [
      "tensor([0.2658])\n",
      "L2 distance: 9.581390380859375\n"
     ]
    }
   ],
   "source": [
    "embeddings1 = model(**input, output_hidden_states=False)\n",
    "\n",
    "def zero_mlp_wo_output(*args, **kwargs):\n",
    "    return -original_wo(*args, **kwargs)*1     #torch.zeros_like(original_wo(*args, **kwargs))\n",
    "\n",
    "model.encoder.layer[6].mlp.wo.forward = zero_mlp_wo_output\n",
    "\n",
    "embeddings2 = model(**input, output_hidden_states=False)\n",
    "\n",
    "cosine_similarity = F.cosine_similarity(embeddings1.pooler_output.detach(), embeddings2.pooler_output.detach()) \n",
    "print(cosine_similarity)\n",
    "\n",
    "diff = torch.norm(embeddings1.pooler_output - embeddings2.pooler_output, p=2)\n",
    "print(\"L2 distance:\", diff.item())"
   ]
  },
  {
   "cell_type": "markdown",
   "metadata": {},
   "source": [
    "Next we will attempt to do an activation patching. "
   ]
  },
  {
   "cell_type": "code",
   "execution_count": 72,
   "metadata": {},
   "outputs": [
    {
     "name": "stdout",
     "output_type": "stream",
     "text": [
      "tensor([0.2406])\n"
     ]
    }
   ],
   "source": [
    "prompt_corrupted = \"Computer vision tasks, such as object detection, image segmentation, and scene understanding, are typically approached with supervised learning on domain-specific datasets.\"\n",
    "\n",
    "input_corrupted = tokenizer(prompt_corrupted, return_tensors = \"pt\", padding = \"max_length\", max_length = 60, truncation = True)\n",
    "\n",
    "mlp_hooks[\"6\"].remove()\n",
    "\n",
    "def patch_hook(module, input, output):\n",
    "    return mlp_act[\"6\"]\n",
    "\n",
    "patch_handle = model.encoder.layer[6].mlp.wo.register_forward_hook(patch_hook)\n",
    "embeddings_corrupted = model(**input_corrupted, output_hidden_states=False)\n",
    "patch_handle.remove()\n",
    "\n",
    "print(F.cosine_similarity(embeddings1.pooler_output.detach(), embeddings_corrupted.pooler_output.detach()))"
   ]
  },
  {
   "cell_type": "markdown",
   "metadata": {},
   "source": []
  },
  {
   "cell_type": "code",
   "execution_count": null,
   "metadata": {},
   "outputs": [
    {
     "name": "stdout",
     "output_type": "stream",
     "text": [
      "Line content: '{\"question\": \"A grocery sells a bag of ice for $ 1.25 , and makes 20 % profit . If it sells 500 bags of ice , how much total profit does it make ?\", \"correct\": \"A\", \"rationale\": \"Profit per bag = 1.25 * 0.20 = 0.25\\\\nTotal profit = 500 * 0.25 = 125\\\\nAnswer is A .\", \"options\": [\"A ) 125\", \"B ) 150\", \"C ) 225\", \"D ) 250\", \"E ) 275\"]}]'\n",
      "{'question': '20 marbles were pulled out of a bag of only white marbles , painted black , and then put back in . Then , another 20 marbles were pulled out , of which 1 was black , after which they were all returned to the bag . If the percentage of black marbles pulled out the second time represents their percentage in the bag , how many marbles in total Q does the bag currently hold ?', 'correct': 'D', 'rationale': 'We know that there are 20 black marbles in the bag and this number represent 1 / 20 th of the number of all marbles in the bag , thus there are total Q of 20 * 20 = 400 marbles .\\nAnswer : D .', 'options': ['A ) 40', 'B ) 200', 'C ) 380', 'D ) 400', 'E ) 3200']}\n"
     ]
    }
   ],
   "source": [
    "import json \n",
    "\n",
    "with open(\"test.tok.json\",\"r\") as infile: \n",
    "    infile.readline()\n",
    "    lines = infile.readlines()\n",
    "\n",
    "print(f\"Line content: {repr(lines[-1].strip(\"\\n\").rstrip(\",\"))}\")\n",
    "data = [json.loads(line.strip(\"\\n\").rstrip(',').rstrip(\"]\")) for line in lines]\n",
    "\n",
    "\n",
    "\n"
   ]
  },
  {
   "cell_type": "code",
   "execution_count": null,
   "metadata": {},
   "outputs": [],
   "source": [
    "\n",
    "\n"
   ]
  }
 ],
 "metadata": {
  "kernelspec": {
   "display_name": "embed",
   "language": "python",
   "name": "python3"
  },
  "language_info": {
   "codemirror_mode": {
    "name": "ipython",
    "version": 3
   },
   "file_extension": ".py",
   "mimetype": "text/x-python",
   "name": "python",
   "nbconvert_exporter": "python",
   "pygments_lexer": "ipython3",
   "version": "3.12.11"
  }
 },
 "nbformat": 4,
 "nbformat_minor": 2
}
