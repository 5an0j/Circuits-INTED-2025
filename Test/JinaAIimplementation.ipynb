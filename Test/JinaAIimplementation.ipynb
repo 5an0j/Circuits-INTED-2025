{
 "cells": [
  {
   "cell_type": "markdown",
   "metadata": {},
   "source": [
    "Loading the model: "
   ]
  },
  {
   "cell_type": "code",
   "execution_count": 1,
   "metadata": {},
   "outputs": [],
   "source": [
    "from transformers import AutoModel, AutoTokenizer\n",
    "import torch\n",
    "import torch.nn.functional as F\n",
    "import numpy as np\n",
    "\n",
    "tokenizer = AutoTokenizer.from_pretrained(\"jinaai/jina-embeddings-v2-base-en\", trust_remote_code = True, use_fast = False)\n",
    "\n",
    "model = AutoModel.from_pretrained(\"jinaai/jina-embeddings-v2-base-en\", trust_remote_code = True)\n",
    "\n",
    "prompt = \"Natural language processing tasks, such as question answering, machine translation, reading comprehension, and summarization, are typically approached with supervised learning on taskspecific datasets.\"\n",
    "\n",
    "input = tokenizer(prompt, return_tensors = \"pt\", padding = \"max_length\", max_length = 60, truncation = True)\n"
   ]
  },
  {
   "cell_type": "code",
   "execution_count": 4,
   "metadata": {},
   "outputs": [
    {
     "name": "stdout",
     "output_type": "stream",
     "text": [
      "torch.Size([2, 60, 768])\n"
     ]
    },
    {
     "ename": "RuntimeError",
     "evalue": "The size of tensor a (60) must match the size of tensor b (2) at non-singleton dimension 2",
     "output_type": "error",
     "traceback": [
      "\u001b[31m---------------------------------------------------------------------------\u001b[39m",
      "\u001b[31mRuntimeError\u001b[39m                              Traceback (most recent call last)",
      "\u001b[36mCell\u001b[39m\u001b[36m \u001b[39m\u001b[32mIn[4]\u001b[39m\u001b[32m, line 11\u001b[39m\n\u001b[32m      7\u001b[39m \u001b[38;5;28mprint\u001b[39m(embeddings.shape)\n\u001b[32m      9\u001b[39m new_embeddings = embeddings\n\u001b[32m---> \u001b[39m\u001b[32m11\u001b[39m \u001b[38;5;28mprint\u001b[39m(model.encoder(embeddings,attention_mask = \u001b[38;5;28minput\u001b[39m[\u001b[33m\"\u001b[39m\u001b[33mattention_mask\u001b[39m\u001b[33m\"\u001b[39m]).last_hidden_state)\n\u001b[32m     13\u001b[39m \u001b[38;5;28;01mdef\u001b[39;00m\u001b[38;5;250m \u001b[39m\u001b[34mmean_pooling\u001b[39m(token_embeddings, attention_mask):\n\u001b[32m     14\u001b[39m                                      \u001b[38;5;66;03m#token_embeddings = model_output[0] # First element of model_output contains all token embeddings\u001b[39;00m\n\u001b[32m     15\u001b[39m     input_mask_expanded = attention_mask.unsqueeze(-\u001b[32m1\u001b[39m).expand(token_embeddings.size()).float()\n",
      "\u001b[36mFile \u001b[39m\u001b[32mc:\\Users\\frede\\anaconda3\\envs\\embed\\Lib\\site-packages\\torch\\nn\\modules\\module.py:1751\u001b[39m, in \u001b[36mModule._wrapped_call_impl\u001b[39m\u001b[34m(self, *args, **kwargs)\u001b[39m\n\u001b[32m   1749\u001b[39m     \u001b[38;5;28;01mreturn\u001b[39;00m \u001b[38;5;28mself\u001b[39m._compiled_call_impl(*args, **kwargs)  \u001b[38;5;66;03m# type: ignore[misc]\u001b[39;00m\n\u001b[32m   1750\u001b[39m \u001b[38;5;28;01melse\u001b[39;00m:\n\u001b[32m-> \u001b[39m\u001b[32m1751\u001b[39m     \u001b[38;5;28;01mreturn\u001b[39;00m \u001b[38;5;28mself\u001b[39m._call_impl(*args, **kwargs)\n",
      "\u001b[36mFile \u001b[39m\u001b[32mc:\\Users\\frede\\anaconda3\\envs\\embed\\Lib\\site-packages\\torch\\nn\\modules\\module.py:1762\u001b[39m, in \u001b[36mModule._call_impl\u001b[39m\u001b[34m(self, *args, **kwargs)\u001b[39m\n\u001b[32m   1757\u001b[39m \u001b[38;5;66;03m# If we don't have any hooks, we want to skip the rest of the logic in\u001b[39;00m\n\u001b[32m   1758\u001b[39m \u001b[38;5;66;03m# this function, and just call forward.\u001b[39;00m\n\u001b[32m   1759\u001b[39m \u001b[38;5;28;01mif\u001b[39;00m \u001b[38;5;129;01mnot\u001b[39;00m (\u001b[38;5;28mself\u001b[39m._backward_hooks \u001b[38;5;129;01mor\u001b[39;00m \u001b[38;5;28mself\u001b[39m._backward_pre_hooks \u001b[38;5;129;01mor\u001b[39;00m \u001b[38;5;28mself\u001b[39m._forward_hooks \u001b[38;5;129;01mor\u001b[39;00m \u001b[38;5;28mself\u001b[39m._forward_pre_hooks\n\u001b[32m   1760\u001b[39m         \u001b[38;5;129;01mor\u001b[39;00m _global_backward_pre_hooks \u001b[38;5;129;01mor\u001b[39;00m _global_backward_hooks\n\u001b[32m   1761\u001b[39m         \u001b[38;5;129;01mor\u001b[39;00m _global_forward_hooks \u001b[38;5;129;01mor\u001b[39;00m _global_forward_pre_hooks):\n\u001b[32m-> \u001b[39m\u001b[32m1762\u001b[39m     \u001b[38;5;28;01mreturn\u001b[39;00m forward_call(*args, **kwargs)\n\u001b[32m   1764\u001b[39m result = \u001b[38;5;28;01mNone\u001b[39;00m\n\u001b[32m   1765\u001b[39m called_always_called_hooks = \u001b[38;5;28mset\u001b[39m()\n",
      "\u001b[36mFile \u001b[39m\u001b[32m~\\.cache\\huggingface\\modules\\transformers_modules\\jinaai\\jina-bert-implementation\\f3ec4cf7de7e561007f27c9efc7148b0bd713f81\\modeling_bert.py:824\u001b[39m, in \u001b[36mJinaBertEncoder.forward\u001b[39m\u001b[34m(self, hidden_states, attention_mask, head_mask, encoder_hidden_states, encoder_attention_mask, past_key_values, use_cache, output_attentions, output_hidden_states, return_dict)\u001b[39m\n\u001b[32m    814\u001b[39m     layer_outputs = torch.utils.checkpoint.checkpoint(\n\u001b[32m    815\u001b[39m         create_custom_forward(layer_module),\n\u001b[32m    816\u001b[39m         hidden_states,\n\u001b[32m   (...)\u001b[39m\u001b[32m    821\u001b[39m         alibi_bias,\n\u001b[32m    822\u001b[39m     )\n\u001b[32m    823\u001b[39m \u001b[38;5;28;01melse\u001b[39;00m:\n\u001b[32m--> \u001b[39m\u001b[32m824\u001b[39m     layer_outputs = layer_module(\n\u001b[32m    825\u001b[39m         hidden_states,\n\u001b[32m    826\u001b[39m         attention_mask,\n\u001b[32m    827\u001b[39m         layer_head_mask,\n\u001b[32m    828\u001b[39m         encoder_hidden_states,\n\u001b[32m    829\u001b[39m         encoder_attention_mask,\n\u001b[32m    830\u001b[39m         alibi_bias,\n\u001b[32m    831\u001b[39m         past_key_value,\n\u001b[32m    832\u001b[39m         output_attentions,\n\u001b[32m    833\u001b[39m     )\n\u001b[32m    835\u001b[39m hidden_states = layer_outputs[\u001b[32m0\u001b[39m]\n\u001b[32m    836\u001b[39m \u001b[38;5;28;01mif\u001b[39;00m use_cache:\n",
      "\u001b[36mFile \u001b[39m\u001b[32mc:\\Users\\frede\\anaconda3\\envs\\embed\\Lib\\site-packages\\torch\\nn\\modules\\module.py:1751\u001b[39m, in \u001b[36mModule._wrapped_call_impl\u001b[39m\u001b[34m(self, *args, **kwargs)\u001b[39m\n\u001b[32m   1749\u001b[39m     \u001b[38;5;28;01mreturn\u001b[39;00m \u001b[38;5;28mself\u001b[39m._compiled_call_impl(*args, **kwargs)  \u001b[38;5;66;03m# type: ignore[misc]\u001b[39;00m\n\u001b[32m   1750\u001b[39m \u001b[38;5;28;01melse\u001b[39;00m:\n\u001b[32m-> \u001b[39m\u001b[32m1751\u001b[39m     \u001b[38;5;28;01mreturn\u001b[39;00m \u001b[38;5;28mself\u001b[39m._call_impl(*args, **kwargs)\n",
      "\u001b[36mFile \u001b[39m\u001b[32mc:\\Users\\frede\\anaconda3\\envs\\embed\\Lib\\site-packages\\torch\\nn\\modules\\module.py:1762\u001b[39m, in \u001b[36mModule._call_impl\u001b[39m\u001b[34m(self, *args, **kwargs)\u001b[39m\n\u001b[32m   1757\u001b[39m \u001b[38;5;66;03m# If we don't have any hooks, we want to skip the rest of the logic in\u001b[39;00m\n\u001b[32m   1758\u001b[39m \u001b[38;5;66;03m# this function, and just call forward.\u001b[39;00m\n\u001b[32m   1759\u001b[39m \u001b[38;5;28;01mif\u001b[39;00m \u001b[38;5;129;01mnot\u001b[39;00m (\u001b[38;5;28mself\u001b[39m._backward_hooks \u001b[38;5;129;01mor\u001b[39;00m \u001b[38;5;28mself\u001b[39m._backward_pre_hooks \u001b[38;5;129;01mor\u001b[39;00m \u001b[38;5;28mself\u001b[39m._forward_hooks \u001b[38;5;129;01mor\u001b[39;00m \u001b[38;5;28mself\u001b[39m._forward_pre_hooks\n\u001b[32m   1760\u001b[39m         \u001b[38;5;129;01mor\u001b[39;00m _global_backward_pre_hooks \u001b[38;5;129;01mor\u001b[39;00m _global_backward_hooks\n\u001b[32m   1761\u001b[39m         \u001b[38;5;129;01mor\u001b[39;00m _global_forward_hooks \u001b[38;5;129;01mor\u001b[39;00m _global_forward_pre_hooks):\n\u001b[32m-> \u001b[39m\u001b[32m1762\u001b[39m     \u001b[38;5;28;01mreturn\u001b[39;00m forward_call(*args, **kwargs)\n\u001b[32m   1764\u001b[39m result = \u001b[38;5;28;01mNone\u001b[39;00m\n\u001b[32m   1765\u001b[39m called_always_called_hooks = \u001b[38;5;28mset\u001b[39m()\n",
      "\u001b[36mFile \u001b[39m\u001b[32m~\\.cache\\huggingface\\modules\\transformers_modules\\jinaai\\jina-bert-implementation\\f3ec4cf7de7e561007f27c9efc7148b0bd713f81\\modeling_bert.py:621\u001b[39m, in \u001b[36mJinaBertLayer.forward\u001b[39m\u001b[34m(self, hidden_states, attention_mask, head_mask, encoder_hidden_states, encoder_attention_mask, bias, past_key_value, output_attentions)\u001b[39m\n\u001b[32m    606\u001b[39m \u001b[38;5;28;01mdef\u001b[39;00m\u001b[38;5;250m \u001b[39m\u001b[34mforward\u001b[39m(\n\u001b[32m    607\u001b[39m     \u001b[38;5;28mself\u001b[39m,\n\u001b[32m    608\u001b[39m     hidden_states: torch.Tensor,\n\u001b[32m   (...)\u001b[39m\u001b[32m    616\u001b[39m ) -> Tuple[torch.Tensor]:\n\u001b[32m    617\u001b[39m     \u001b[38;5;66;03m# decoder uni-directional self-attention cached key/values tuple is at positions 1,2\u001b[39;00m\n\u001b[32m    618\u001b[39m     self_attn_past_key_value = (\n\u001b[32m    619\u001b[39m         past_key_value[:\u001b[32m2\u001b[39m] \u001b[38;5;28;01mif\u001b[39;00m past_key_value \u001b[38;5;129;01mis\u001b[39;00m \u001b[38;5;129;01mnot\u001b[39;00m \u001b[38;5;28;01mNone\u001b[39;00m \u001b[38;5;28;01melse\u001b[39;00m \u001b[38;5;28;01mNone\u001b[39;00m\n\u001b[32m    620\u001b[39m     )\n\u001b[32m--> \u001b[39m\u001b[32m621\u001b[39m     self_attention_outputs = \u001b[38;5;28mself\u001b[39m.attention(\n\u001b[32m    622\u001b[39m         hidden_states,\n\u001b[32m    623\u001b[39m         attention_mask,\n\u001b[32m    624\u001b[39m         head_mask,\n\u001b[32m    625\u001b[39m         output_attentions=output_attentions,\n\u001b[32m    626\u001b[39m         past_key_value=self_attn_past_key_value,\n\u001b[32m    627\u001b[39m         bias=bias,\n\u001b[32m    628\u001b[39m     )\n\u001b[32m    629\u001b[39m     attention_output = self_attention_outputs[\u001b[32m0\u001b[39m]\n\u001b[32m    631\u001b[39m     \u001b[38;5;66;03m# if decoder, the last output is tuple of self-attn cache\u001b[39;00m\n",
      "\u001b[36mFile \u001b[39m\u001b[32mc:\\Users\\frede\\anaconda3\\envs\\embed\\Lib\\site-packages\\torch\\nn\\modules\\module.py:1751\u001b[39m, in \u001b[36mModule._wrapped_call_impl\u001b[39m\u001b[34m(self, *args, **kwargs)\u001b[39m\n\u001b[32m   1749\u001b[39m     \u001b[38;5;28;01mreturn\u001b[39;00m \u001b[38;5;28mself\u001b[39m._compiled_call_impl(*args, **kwargs)  \u001b[38;5;66;03m# type: ignore[misc]\u001b[39;00m\n\u001b[32m   1750\u001b[39m \u001b[38;5;28;01melse\u001b[39;00m:\n\u001b[32m-> \u001b[39m\u001b[32m1751\u001b[39m     \u001b[38;5;28;01mreturn\u001b[39;00m \u001b[38;5;28mself\u001b[39m._call_impl(*args, **kwargs)\n",
      "\u001b[36mFile \u001b[39m\u001b[32mc:\\Users\\frede\\anaconda3\\envs\\embed\\Lib\\site-packages\\torch\\nn\\modules\\module.py:1762\u001b[39m, in \u001b[36mModule._call_impl\u001b[39m\u001b[34m(self, *args, **kwargs)\u001b[39m\n\u001b[32m   1757\u001b[39m \u001b[38;5;66;03m# If we don't have any hooks, we want to skip the rest of the logic in\u001b[39;00m\n\u001b[32m   1758\u001b[39m \u001b[38;5;66;03m# this function, and just call forward.\u001b[39;00m\n\u001b[32m   1759\u001b[39m \u001b[38;5;28;01mif\u001b[39;00m \u001b[38;5;129;01mnot\u001b[39;00m (\u001b[38;5;28mself\u001b[39m._backward_hooks \u001b[38;5;129;01mor\u001b[39;00m \u001b[38;5;28mself\u001b[39m._backward_pre_hooks \u001b[38;5;129;01mor\u001b[39;00m \u001b[38;5;28mself\u001b[39m._forward_hooks \u001b[38;5;129;01mor\u001b[39;00m \u001b[38;5;28mself\u001b[39m._forward_pre_hooks\n\u001b[32m   1760\u001b[39m         \u001b[38;5;129;01mor\u001b[39;00m _global_backward_pre_hooks \u001b[38;5;129;01mor\u001b[39;00m _global_backward_hooks\n\u001b[32m   1761\u001b[39m         \u001b[38;5;129;01mor\u001b[39;00m _global_forward_hooks \u001b[38;5;129;01mor\u001b[39;00m _global_forward_pre_hooks):\n\u001b[32m-> \u001b[39m\u001b[32m1762\u001b[39m     \u001b[38;5;28;01mreturn\u001b[39;00m forward_call(*args, **kwargs)\n\u001b[32m   1764\u001b[39m result = \u001b[38;5;28;01mNone\u001b[39;00m\n\u001b[32m   1765\u001b[39m called_always_called_hooks = \u001b[38;5;28mset\u001b[39m()\n",
      "\u001b[36mFile \u001b[39m\u001b[32m~\\.cache\\huggingface\\modules\\transformers_modules\\jinaai\\jina-bert-implementation\\f3ec4cf7de7e561007f27c9efc7148b0bd713f81\\modeling_bert.py:501\u001b[39m, in \u001b[36mJinaBertAttention.forward\u001b[39m\u001b[34m(self, hidden_states, attention_mask, head_mask, encoder_hidden_states, encoder_attention_mask, past_key_value, output_attentions, bias)\u001b[39m\n\u001b[32m    490\u001b[39m \u001b[38;5;28;01mdef\u001b[39;00m\u001b[38;5;250m \u001b[39m\u001b[34mforward\u001b[39m(\n\u001b[32m    491\u001b[39m     \u001b[38;5;28mself\u001b[39m,\n\u001b[32m    492\u001b[39m     hidden_states: torch.Tensor,\n\u001b[32m   (...)\u001b[39m\u001b[32m    499\u001b[39m     bias: Optional[torch.FloatTensor] = \u001b[38;5;28;01mNone\u001b[39;00m,\n\u001b[32m    500\u001b[39m ) -> Tuple[torch.Tensor]:\n\u001b[32m--> \u001b[39m\u001b[32m501\u001b[39m     self_outputs = \u001b[38;5;28mself\u001b[39m.self(\n\u001b[32m    502\u001b[39m         hidden_states,\n\u001b[32m    503\u001b[39m         attention_mask,\n\u001b[32m    504\u001b[39m         head_mask,\n\u001b[32m    505\u001b[39m         encoder_hidden_states,\n\u001b[32m    506\u001b[39m         encoder_attention_mask,\n\u001b[32m    507\u001b[39m         past_key_value,\n\u001b[32m    508\u001b[39m         output_attentions,\n\u001b[32m    509\u001b[39m         bias,\n\u001b[32m    510\u001b[39m     )\n\u001b[32m    511\u001b[39m     attention_output = \u001b[38;5;28mself\u001b[39m.output(self_outputs[\u001b[32m0\u001b[39m], hidden_states)\n\u001b[32m    512\u001b[39m     outputs = (attention_output,) + self_outputs[\n\u001b[32m    513\u001b[39m         \u001b[32m1\u001b[39m:\n\u001b[32m    514\u001b[39m     ]  \u001b[38;5;66;03m# add attentions if we output them\u001b[39;00m\n",
      "\u001b[36mFile \u001b[39m\u001b[32mc:\\Users\\frede\\anaconda3\\envs\\embed\\Lib\\site-packages\\torch\\nn\\modules\\module.py:1751\u001b[39m, in \u001b[36mModule._wrapped_call_impl\u001b[39m\u001b[34m(self, *args, **kwargs)\u001b[39m\n\u001b[32m   1749\u001b[39m     \u001b[38;5;28;01mreturn\u001b[39;00m \u001b[38;5;28mself\u001b[39m._compiled_call_impl(*args, **kwargs)  \u001b[38;5;66;03m# type: ignore[misc]\u001b[39;00m\n\u001b[32m   1750\u001b[39m \u001b[38;5;28;01melse\u001b[39;00m:\n\u001b[32m-> \u001b[39m\u001b[32m1751\u001b[39m     \u001b[38;5;28;01mreturn\u001b[39;00m \u001b[38;5;28mself\u001b[39m._call_impl(*args, **kwargs)\n",
      "\u001b[36mFile \u001b[39m\u001b[32mc:\\Users\\frede\\anaconda3\\envs\\embed\\Lib\\site-packages\\torch\\nn\\modules\\module.py:1762\u001b[39m, in \u001b[36mModule._call_impl\u001b[39m\u001b[34m(self, *args, **kwargs)\u001b[39m\n\u001b[32m   1757\u001b[39m \u001b[38;5;66;03m# If we don't have any hooks, we want to skip the rest of the logic in\u001b[39;00m\n\u001b[32m   1758\u001b[39m \u001b[38;5;66;03m# this function, and just call forward.\u001b[39;00m\n\u001b[32m   1759\u001b[39m \u001b[38;5;28;01mif\u001b[39;00m \u001b[38;5;129;01mnot\u001b[39;00m (\u001b[38;5;28mself\u001b[39m._backward_hooks \u001b[38;5;129;01mor\u001b[39;00m \u001b[38;5;28mself\u001b[39m._backward_pre_hooks \u001b[38;5;129;01mor\u001b[39;00m \u001b[38;5;28mself\u001b[39m._forward_hooks \u001b[38;5;129;01mor\u001b[39;00m \u001b[38;5;28mself\u001b[39m._forward_pre_hooks\n\u001b[32m   1760\u001b[39m         \u001b[38;5;129;01mor\u001b[39;00m _global_backward_pre_hooks \u001b[38;5;129;01mor\u001b[39;00m _global_backward_hooks\n\u001b[32m   1761\u001b[39m         \u001b[38;5;129;01mor\u001b[39;00m _global_forward_hooks \u001b[38;5;129;01mor\u001b[39;00m _global_forward_pre_hooks):\n\u001b[32m-> \u001b[39m\u001b[32m1762\u001b[39m     \u001b[38;5;28;01mreturn\u001b[39;00m forward_call(*args, **kwargs)\n\u001b[32m   1764\u001b[39m result = \u001b[38;5;28;01mNone\u001b[39;00m\n\u001b[32m   1765\u001b[39m called_always_called_hooks = \u001b[38;5;28mset\u001b[39m()\n",
      "\u001b[36mFile \u001b[39m\u001b[32m~\\.cache\\huggingface\\modules\\transformers_modules\\jinaai\\jina-bert-implementation\\f3ec4cf7de7e561007f27c9efc7148b0bd713f81\\modeling_bert.py:414\u001b[39m, in \u001b[36mJinaBertSelfAttention.forward\u001b[39m\u001b[34m(self, hidden_states, attention_mask, head_mask, encoder_hidden_states, encoder_attention_mask, past_key_value, output_attentions, bias)\u001b[39m\n\u001b[32m    411\u001b[39m attention_scores = attention_scores / math.sqrt(\u001b[38;5;28mself\u001b[39m.attention_head_size)\n\u001b[32m    412\u001b[39m \u001b[38;5;28;01mif\u001b[39;00m attention_mask \u001b[38;5;129;01mis\u001b[39;00m \u001b[38;5;129;01mnot\u001b[39;00m \u001b[38;5;28;01mNone\u001b[39;00m:\n\u001b[32m    413\u001b[39m     \u001b[38;5;66;03m# Apply the attention mask is (precomputed for all layers in BertModel forward() function)\u001b[39;00m\n\u001b[32m--> \u001b[39m\u001b[32m414\u001b[39m     attention_scores = attention_scores + attention_mask\n\u001b[32m    416\u001b[39m \u001b[38;5;66;03m# Normalize the attention scores to probabilities.\u001b[39;00m\n\u001b[32m    417\u001b[39m attention_probs = nn.functional.softmax(attention_scores + bias, dim=-\u001b[32m1\u001b[39m)\n",
      "\u001b[31mRuntimeError\u001b[39m: The size of tensor a (60) must match the size of tensor b (2) at non-singleton dimension 2"
     ]
    }
   ],
   "source": [
    "prompt = [\"hei\",\"på\"]\n",
    "\n",
    "input = tokenizer(prompt, return_tensors = \"pt\", padding = \"max_length\", max_length = 60, truncation = True)\n",
    "\n",
    "embeddings = model(**input,output_attentions=True).last_hidden_state\n",
    "\n",
    "print(embeddings.shape)\n",
    "\n",
    "new_embeddings = embeddings\n",
    "\n",
    "print(model.encoder(embeddings,attention_mask = input[\"attention_mask\"]).last_hidden_state)\n",
    "\n",
    "def mean_pooling(token_embeddings, attention_mask):\n",
    "                                     #token_embeddings = model_output[0] # First element of model_output contains all token embeddings\n",
    "    input_mask_expanded = attention_mask.unsqueeze(-1).expand(token_embeddings.size()).float()\n",
    "    return torch.sum(token_embeddings * input_mask_expanded, 1) / torch.clamp(input_mask_expanded.sum(1), min=1e-9)\n",
    "print(F.normalize(mean_pooling(embeddings[0], input['attention_mask']),p=2,dim=1).shape)\n",
    "\n",
    "\n",
    "\n",
    "#print(model.encoder(prompt))"
   ]
  },
  {
   "cell_type": "markdown",
   "metadata": {},
   "source": [
    "Then we output some model specific parameter values. \n"
   ]
  },
  {
   "cell_type": "code",
   "execution_count": null,
   "metadata": {},
   "outputs": [],
   "source": [
    "num_layers = len(model.encoder.layer)\n",
    "emb_dim = model.config.hidden_size\n",
    "num_heads = model.config.num_attention_heads\n",
    "head_dim = emb_dim // num_heads"
   ]
  },
  {
   "cell_type": "markdown",
   "metadata": {},
   "source": [
    "Then we need some code to \"hook\" specific activations from the model (such as the output from MLPs, attention heads). We collect the hooks in dictionaries. "
   ]
  },
  {
   "cell_type": "code",
   "execution_count": null,
   "metadata": {},
   "outputs": [],
   "source": [
    "#Hook attention heads\n",
    "\n",
    "attn_act = {}\n",
    "attn_hooks = {}\n",
    "\n",
    "def hook_atthead(layer_index,head_index): \n",
    "    def hook(module, inp, out):\n",
    "        batch, seq_len, embed_dim = out.shape\n",
    "        out = out.view(batch, seq_len, num_heads, head_dim)\n",
    "        attn_act[f\"{layer_index}.{head_index}\"] = out[:, :, j, :].detach()\n",
    "    return hook\n",
    "\n",
    "for i in range(num_layers):\n",
    "    for j in range(num_heads): \n",
    "        attn_hooks[f\"{i}.{j}\"] = model.encoder.layer[i].attention.output.dense.register_forward_hook(hook_atthead(i,j))\n",
    "\n",
    "#Hook MLPs\n",
    "\n",
    "mlp_act = {}\n",
    "mlp_hooks = {}\n",
    "\n",
    "def hook_mlp(layer_index):\n",
    "    def hook(module, inp, out):\n",
    "        mlp_act[f\"{layer_index}\"] = out.detach()\n",
    "    return hook\n",
    "\n",
    "for i in range(num_layers): \n",
    "    mlp_hooks[f\"{i}\"] = model.encoder.layer[i].mlp.wo.register_forward_hook(hook_mlp(i))                                                      \n",
    "\n",
    "\n",
    "original_wo = model.encoder.layer[6].mlp.wo.forward\n"
   ]
  },
  {
   "cell_type": "markdown",
   "metadata": {},
   "source": [
    "Next we run the input text in the model and test ablations. We ablate one of the activations. "
   ]
  },
  {
   "cell_type": "code",
   "execution_count": null,
   "metadata": {},
   "outputs": [
    {
     "name": "stdout",
     "output_type": "stream",
     "text": [
      "tensor([0.8447])\n",
      "L2 distance: 4.934483051300049\n"
     ]
    }
   ],
   "source": [
    "embeddings1 = model(**input, output_hidden_states=False)\n",
    "\n",
    "def zero_mlp_wo_output(*args, **kwargs):\n",
    "    return -original_wo(*args, **kwargs)*100     #torch.zeros_like(original_wo(*args, **kwargs))\n",
    "\n",
    "model.encoder.layer[6].mlp.wo.forward = zero_mlp_wo_output\n",
    "\n",
    "embeddings2 = model(**input, output_hidden_states=False)\n",
    "\n",
    "cosine_similarity = F.cosine_similarity(embeddings1.pooler_output.detach(), embeddings2.pooler_output.detach()) \n",
    "print(cosine_similarity)\n",
    "\n",
    "diff = torch.norm(embeddings1.pooler_output - embeddings2.pooler_output, p=2)\n",
    "print(\"L2 distance:\", diff.item())"
   ]
  },
  {
   "cell_type": "markdown",
   "metadata": {},
   "source": [
    "Next we will attempt to do an activation patching. "
   ]
  },
  {
   "cell_type": "code",
   "execution_count": null,
   "metadata": {},
   "outputs": [
    {
     "name": "stdout",
     "output_type": "stream",
     "text": [
      "tensor([0.2406])\n"
     ]
    }
   ],
   "source": [
    "prompt_corrupted = \"Computer vision tasks, such as object detection, image segmentation, and scene understanding, are typically approached with supervised learning on domain-specific datasets.\"\n",
    "\n",
    "input_corrupted = tokenizer(prompt_corrupted, return_tensors = \"pt\", padding = \"max_length\", max_length = 60, truncation = True)\n",
    "\n",
    "mlp_hooks[\"6\"].remove()\n",
    "\n",
    "def patch_hook(module, input, output):\n",
    "    return mlp_act[\"6\"]\n",
    "\n",
    "patch_handle = model.encoder.layer[6].mlp.wo.register_forward_hook(patch_hook)\n",
    "embeddings_corrupted = model(**input_corrupted, output_hidden_states=False)\n",
    "patch_handle.remove()\n",
    "\n",
    "print(F.cosine_similarity(embeddings1.pooler_output.detach(), embeddings_corrupted.pooler_output.detach()))"
   ]
  },
  {
   "cell_type": "markdown",
   "metadata": {},
   "source": []
  },
  {
   "cell_type": "code",
   "execution_count": null,
   "metadata": {},
   "outputs": [
    {
     "name": "stdout",
     "output_type": "stream",
     "text": [
      "Line content: '{\"question\": \"A grocery sells a bag of ice for $ 1.25 , and makes 20 % profit . If it sells 500 bags of ice , how much total profit does it make ?\", \"correct\": \"A\", \"rationale\": \"Profit per bag = 1.25 * 0.20 = 0.25\\\\nTotal profit = 500 * 0.25 = 125\\\\nAnswer is A .\", \"options\": [\"A ) 125\", \"B ) 150\", \"C ) 225\", \"D ) 250\", \"E ) 275\"]}]'\n",
      "{'question': '20 marbles were pulled out of a bag of only white marbles , painted black , and then put back in . Then , another 20 marbles were pulled out , of which 1 was black , after which they were all returned to the bag . If the percentage of black marbles pulled out the second time represents their percentage in the bag , how many marbles in total Q does the bag currently hold ?', 'correct': 'D', 'rationale': 'We know that there are 20 black marbles in the bag and this number represent 1 / 20 th of the number of all marbles in the bag , thus there are total Q of 20 * 20 = 400 marbles .\\nAnswer : D .', 'options': ['A ) 40', 'B ) 200', 'C ) 380', 'D ) 400', 'E ) 3200']}\n"
     ]
    }
   ],
   "source": [
    "import json \n",
    "\n",
    "with open(\"test.tok.json\",\"r\") as infile: \n",
    "    infile.readline()\n",
    "    lines = infile.readlines()\n",
    "\n",
    "print(f\"Line content: {repr(lines[-1].strip(\"\\n\").rstrip(\",\"))}\")\n",
    "data = [json.loads(line.strip(\"\\n\").rstrip(',').rstrip(\"]\")) for line in lines]\n",
    "\n",
    "\n",
    "\n"
   ]
  },
  {
   "cell_type": "code",
   "execution_count": null,
   "metadata": {},
   "outputs": [],
   "source": [
    "\n",
    "\n"
   ]
  }
 ],
 "metadata": {
  "kernelspec": {
   "display_name": "embed",
   "language": "python",
   "name": "python3"
  },
  "language_info": {
   "codemirror_mode": {
    "name": "ipython",
    "version": 3
   },
   "file_extension": ".py",
   "mimetype": "text/x-python",
   "name": "python",
   "nbconvert_exporter": "python",
   "pygments_lexer": "ipython3",
   "version": "3.12.11"
  }
 },
 "nbformat": 4,
 "nbformat_minor": 2
}
