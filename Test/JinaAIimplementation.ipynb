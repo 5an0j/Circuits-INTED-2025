{
 "cells": [
  {
   "cell_type": "markdown",
   "metadata": {},
   "source": [
    "Loading the model: "
   ]
  },
  {
   "cell_type": "code",
   "execution_count": 63,
   "metadata": {},
   "outputs": [],
   "source": [
    "from transformers import AutoModel, AutoTokenizer\n",
    "import torch\n",
    "import numpy as np\n",
    "\n",
    "tokenizer = AutoTokenizer.from_pretrained(\"jinaai/jina-embeddings-v2-base-en\", trust_remote_code = True, use_fast = False)\n",
    "\n",
    "model = AutoModel.from_pretrained(\"jinaai/jina-embeddings-v2-base-en\", trust_remote_code = True)\n",
    "\n",
    "prompt = \"Natural language processing tasks, such as question answering, machine translation, reading comprehension, and summarization, are typically approached with supervised learning on taskspecific datasets.\"\n",
    "\n",
    "input = tokenizer(prompt, return_tensors = \"pt\")\n"
   ]
  },
  {
   "cell_type": "markdown",
   "metadata": {},
   "source": [
    "Then we output some model specific parameter values. \n"
   ]
  },
  {
   "cell_type": "code",
   "execution_count": 64,
   "metadata": {},
   "outputs": [],
   "source": [
    "num_layers = len(model.encoder.layer)\n",
    "emb_dim = model.config.hidden_size\n",
    "num_heads = model.config.num_attention_heads\n",
    "head_dim = emb_dim // num_heads"
   ]
  },
  {
   "cell_type": "markdown",
   "metadata": {},
   "source": [
    "Then we need some code to \"hook\" specific activations from the model (such as the output from MLPs, attention heads). We collect the hooks in dictionaries. "
   ]
  },
  {
   "cell_type": "code",
   "execution_count": null,
   "metadata": {},
   "outputs": [
    {
     "name": "stdout",
     "output_type": "stream",
     "text": [
      "tensor([[[-0.0560,  0.0559,  0.0365,  ..., -0.0143,  0.0070, -0.0210],\n",
      "         [-0.1482,  0.1395,  0.1118,  ..., -0.0241,  0.1141,  0.0900],\n",
      "         [ 0.4656,  0.1625, -0.1174,  ..., -0.0746, -0.1491,  0.0180],\n",
      "         ...,\n",
      "         [ 0.5019, -0.1147, -0.1381,  ..., -0.0634, -0.0950, -0.0970],\n",
      "         [ 0.1408,  0.0327,  0.0639,  ...,  0.1274, -0.0340, -0.1094],\n",
      "         [ 0.1683,  0.0364,  0.0613,  ...,  0.1993, -0.0167, -0.0698]]])\n"
     ]
    }
   ],
   "source": [
    "#Hook attention heads\n",
    "\n",
    "attn_act = {}\n",
    "def hook_atthead(layer_index,head_index): \n",
    "    def hook(module, inp, out):\n",
    "        batch, seq_len, embed_dim = out.shape\n",
    "        out = out.view(batch, seq_len, num_heads, head_dim)\n",
    "        attn_act[f\"{layer_index}.{head_index}\"] = out[:, :, j, :].detach()\n",
    "    return hook\n",
    "\n",
    "for i in range(num_layers):\n",
    "    for j in range(num_heads): \n",
    "        model.encoder.layer[i].attention.output.dense.register_forward_hook(hook_atthead(i,j))\n",
    "\n",
    "embeddings = model(**input, output_hidden_states=False)\n",
    "\n",
    "print(attn_act[\"1.2\"])\n",
    "\n",
    "mlp_act = {}\n",
    "\n",
    "def hook_mlp(layer_index):\n",
    "    def hook(module, input, output):\n",
    "        mlp_act[f\"{layer_index}\"] = output.detach()  # [batch, seq_len, hidden_dim]\n",
    "    return hook\n",
    "\n",
    "#Hook MLPs\n",
    "\n",
    "\n",
    "\n"
   ]
  },
  {
   "cell_type": "code",
   "execution_count": null,
   "metadata": {},
   "outputs": [],
   "source": []
  }
 ],
 "metadata": {
  "kernelspec": {
   "display_name": "embed",
   "language": "python",
   "name": "python3"
  },
  "language_info": {
   "codemirror_mode": {
    "name": "ipython",
    "version": 3
   },
   "file_extension": ".py",
   "mimetype": "text/x-python",
   "name": "python",
   "nbconvert_exporter": "python",
   "pygments_lexer": "ipython3",
   "version": "3.12.11"
  }
 },
 "nbformat": 4,
 "nbformat_minor": 2
}
