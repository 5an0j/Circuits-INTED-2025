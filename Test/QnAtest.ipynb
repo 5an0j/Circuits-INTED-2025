{
 "cells": [
  {
   "cell_type": "markdown",
   "metadata": {},
   "source": []
  },
  {
   "cell_type": "code",
   "execution_count": null,
   "metadata": {},
   "outputs": [
    {
     "data": {
      "text/plain": [
       "JinaBertModel(\n",
       "  (embeddings): JinaBertEmbeddings(\n",
       "    (word_embeddings): Embedding(30528, 768, padding_idx=0)\n",
       "    (token_type_embeddings): Embedding(2, 768)\n",
       "    (LayerNorm): LayerNorm((768,), eps=1e-12, elementwise_affine=True)\n",
       "    (dropout): Dropout(p=0.1, inplace=False)\n",
       "  )\n",
       "  (encoder): JinaBertEncoder(\n",
       "    (layer): ModuleList(\n",
       "      (0-11): 12 x JinaBertLayer(\n",
       "        (attention): JinaBertAttention(\n",
       "          (self): JinaBertSelfAttention(\n",
       "            (query): Linear(in_features=768, out_features=768, bias=True)\n",
       "            (key): Linear(in_features=768, out_features=768, bias=True)\n",
       "            (value): Linear(in_features=768, out_features=768, bias=True)\n",
       "            (dropout): Dropout(p=0.0, inplace=False)\n",
       "          )\n",
       "          (output): JinaBertSelfOutput(\n",
       "            (dense): Linear(in_features=768, out_features=768, bias=True)\n",
       "            (LayerNorm): LayerNorm((768,), eps=1e-12, elementwise_affine=True)\n",
       "            (dropout): Dropout(p=0.1, inplace=False)\n",
       "          )\n",
       "        )\n",
       "        (mlp): JinaBertGLUMLP(\n",
       "          (gated_layers): Linear(in_features=768, out_features=6144, bias=False)\n",
       "          (act): GELU(approximate='none')\n",
       "          (wo): Linear(in_features=3072, out_features=768, bias=True)\n",
       "          (dropout): Dropout(p=0.1, inplace=False)\n",
       "          (layernorm): LayerNorm((768,), eps=1e-12, elementwise_affine=True)\n",
       "        )\n",
       "      )\n",
       "    )\n",
       "  )\n",
       "  (pooler): JinaBertPooler(\n",
       "    (dense): Linear(in_features=768, out_features=768, bias=True)\n",
       "    (activation): Tanh()\n",
       "  )\n",
       ")"
      ]
     },
     "execution_count": 3,
     "metadata": {},
     "output_type": "execute_result"
    }
   ],
   "source": [
    "\n",
    "\n",
    "from transformers import AutoModel, AutoTokenizer\n",
    "import torch\n",
    "import torch.nn.functional as F\n",
    "import numpy as np\n",
    "\n",
    "tokenizer = AutoTokenizer.from_pretrained(\"jinaai/jina-embeddings-v2-base-en\", trust_remote_code = True, use_fast = False)\n",
    "\n",
    "model = AutoModel.from_pretrained(\"jinaai/jina-embeddings-v2-base-en\", trust_remote_code = True)\n",
    "\n",
    "# import json \n",
    "\n",
    "# with open(\"test.tok.json\",\"r\") as infile: \n",
    "#     infile.readline()\n",
    "#     lines = infile.readlines()\n",
    "\n",
    "# data = [json.loads(line.strip(\"\\n\").rstrip(',').rstrip(\"]\")) for line in lines]\n",
    "model.eval()"
   ]
  },
  {
   "cell_type": "code",
   "execution_count": 13,
   "metadata": {},
   "outputs": [],
   "source": [
    "num_layers = len(model.encoder.layer)\n",
    "emb_dim = model.config.hidden_size\n",
    "num_heads = model.config.num_attention_heads\n",
    "head_dim = emb_dim // num_heads"
   ]
  },
  {
   "cell_type": "code",
   "execution_count": 14,
   "metadata": {},
   "outputs": [],
   "source": [
    "import json \n",
    "\n",
    "with open(\"test.tok.json\",\"r\") as infile: \n",
    "    infile.readline()\n",
    "    lines = infile.readlines()\n",
    "\n",
    "data = [json.loads(line.strip(\"\\n\").rstrip(',').rstrip(\"]\")) for line in lines]\n",
    "\n"
   ]
  },
  {
   "cell_type": "code",
   "execution_count": 15,
   "metadata": {},
   "outputs": [],
   "source": [
    "embedding_Q = [model.encode(line[\"question\"]) for line in data]\n",
    "embedding_A = [model.encode(line[\"rationale\"]) for line in data]\n",
    "\n"
   ]
  },
  {
   "cell_type": "code",
   "execution_count": 12,
   "metadata": {},
   "outputs": [
    {
     "name": "stderr",
     "output_type": "stream",
     "text": [
      "c:\\Users\\frede\\anaconda3\\envs\\embed\\Lib\\site-packages\\sklearn\\manifold\\_t_sne.py:1164: FutureWarning:\n",
      "\n",
      "'n_iter' was renamed to 'max_iter' in version 1.5 and will be removed in 1.7.\n",
      "\n"
     ]
    },
    {
     "data": {
      "application/vnd.plotly.v1+json": {
       "config": {
        "plotlyServerURL": "https://plot.ly"
       },
       "data": [
        {
         "hoverinfo": "text",
         "hovertext": [
          "question 0",
          "question 1",
          "question 2",
          "question 3",
          "question 4",
          "question 5",
          "question 6",
          "question 7",
          "question 8",
          "question 9",
          "question 10",
          "question 11",
          "question 12",
          "question 13",
          "question 14",
          "question 15",
          "question 16",
          "question 17",
          "question 18",
          "question 19",
          "question 20",
          "question 21",
          "question 22",
          "question 23",
          "question 24",
          "question 25",
          "question 26",
          "question 27",
          "question 28",
          "question 29",
          "question 30",
          "question 31",
          "question 32",
          "question 33",
          "question 34",
          "question 35",
          "question 36",
          "question 37",
          "question 38",
          "question 39",
          "question 40",
          "question 41",
          "question 42",
          "question 43",
          "question 44",
          "question 45",
          "question 46",
          "question 47",
          "question 48",
          "question 49",
          "question 50",
          "question 51",
          "question 52",
          "question 53",
          "question 54",
          "question 55",
          "question 56",
          "question 57",
          "question 58",
          "question 59",
          "question 60",
          "question 61",
          "question 62",
          "question 63",
          "question 64",
          "question 65",
          "question 66",
          "question 67",
          "question 68",
          "question 69",
          "question 70",
          "question 71",
          "question 72",
          "question 73",
          "question 74",
          "question 75",
          "question 76",
          "question 77",
          "question 78",
          "question 79",
          "question 80",
          "question 81",
          "question 82",
          "question 83",
          "question 84",
          "question 85",
          "question 86",
          "question 87",
          "question 88",
          "question 89",
          "question 90",
          "question 91",
          "question 92",
          "question 93",
          "question 94",
          "question 95",
          "question 96",
          "question 97",
          "question 98",
          "question 99",
          "question 100",
          "question 101",
          "question 102",
          "question 103",
          "question 104",
          "question 105",
          "question 106",
          "question 107",
          "question 108",
          "question 109",
          "question 110",
          "question 111",
          "question 112",
          "question 113",
          "question 114",
          "question 115",
          "question 116",
          "question 117",
          "question 118",
          "question 119",
          "question 120",
          "question 121",
          "question 122",
          "question 123",
          "question 124",
          "question 125",
          "question 126",
          "question 127",
          "question 128",
          "question 129",
          "question 130",
          "question 131",
          "question 132",
          "question 133",
          "question 134",
          "question 135",
          "question 136",
          "question 137",
          "question 138",
          "question 139",
          "question 140",
          "question 141",
          "question 142",
          "question 143",
          "question 144",
          "question 145",
          "question 146",
          "question 147",
          "question 148",
          "question 149",
          "question 150",
          "question 151",
          "question 152",
          "question 153",
          "question 154",
          "question 155",
          "question 156",
          "question 157",
          "question 158",
          "question 159",
          "question 160",
          "question 161",
          "question 162",
          "question 163",
          "question 164",
          "question 165",
          "question 166",
          "question 167",
          "question 168",
          "question 169",
          "question 170",
          "question 171",
          "question 172",
          "question 173",
          "question 174",
          "question 175",
          "question 176",
          "question 177",
          "question 178",
          "question 179",
          "question 180",
          "question 181",
          "question 182",
          "question 183",
          "question 184",
          "question 185",
          "question 186",
          "question 187",
          "question 188",
          "question 189",
          "question 190",
          "question 191",
          "question 192",
          "question 193",
          "question 194",
          "question 195",
          "question 196",
          "question 197",
          "question 198",
          "question 199",
          "question 200",
          "question 201",
          "question 202",
          "question 203",
          "question 204",
          "question 205",
          "question 206",
          "question 207",
          "question 208",
          "question 209",
          "question 210",
          "question 211",
          "question 212",
          "question 213",
          "question 214",
          "question 215",
          "question 216",
          "question 217",
          "question 218",
          "question 219",
          "question 220",
          "question 221",
          "question 222",
          "question 223",
          "question 224",
          "question 225",
          "question 226",
          "question 227",
          "question 228",
          "question 229",
          "question 230",
          "question 231",
          "question 232",
          "question 233",
          "question 234",
          "question 235",
          "question 236",
          "question 237",
          "question 238",
          "question 239",
          "question 240",
          "question 241",
          "question 242",
          "question 243",
          "question 244",
          "question 245",
          "question 246",
          "question 247",
          "question 248",
          "question 249",
          "question 250"
         ],
         "legendgroup": "question",
         "marker": {
          "color": "#636efa",
          "symbol": "circle"
         },
         "mode": "markers",
         "name": "question",
         "orientation": "v",
         "showlegend": true,
         "type": "scatter",
         "x": {
          "bdata": "Dz+BQRA++0GpuIxBlhhfwRsOIcJvT2JBmIYiQi02F0KGOolBuxYBwtdlSkDyu4fBAYqHQYsy8cGMjBdCVckjQaUPgL490/BBmMWhwafxYkG55zxB6Scswq4oC0L+B/1B4tHwwHpwJsIRDhXAPZsJQqM9FsKSsJzBYzOjwcx2dsFnTQjCJTcFQo1HYkC7mBRCB4A2wu8csEHaXdXBkfmXQfP0ccCq82VBIrXHQQguGMIjAhFCDv0IQqxW1kFag8ZB8FUOQmgLa8HntFHBv+qkweou+8EeCnHBTaSwQYZrv8H9sc/AmOxFQf200sARRSzCZAmEwGVAT8FIu6/BatCNQccqrsHYbB/BxNNSwdnl+EGtKeLBOq+PwYDIjsG7jeXB+KgQwtHGbkGf8OrBKy9rwcMqvkEu7rtBduXCwTzRVj9W3K7BNPHgwT6Ei8BnN2JBG8DawP/y2cEWagBCT9qGwSWN0EFX++jBbUsHwax2LUKnGbdBI1ScwawFsEH680nA1r/2wVgGDUFFQUFB9WfPQWAYBUILKwPCoeTAQfPbyMH5pqDBO1I2wUrGEsEzaYtBme+NwUTDT0HyoxzCgbERPhYiBcJpbrVBrlSiwXuVM8J+lovBXJciQV/tO8LRcx3CiyLOQRmqRMLcIw/AmShdQbivzkG7dgjAwTN5wZaMPMKigbq/dNwdQj5f2cFbRc1BJhxDQYnRkkEf/ArCbsw1wlYsJcLBIJpB0AMIwjxHGsJ6jn5Bi/FfwUQTKMFvuP1A7vKVP/dp1UHNqv3Bx/UewrDMKUHsI4tAQMUMwvS7tsFM7YS/9EoFQVCuycDjtIbBgYsBQnxVncHLBJFBckXrQTgtjkCwXr7BFf2qwNWMBMKsjxnCLu3kPxmnukFhaA1CQu0jQdsZEMJWBx9CLefEwT0e+kH+WXrAFDq8wMqftsFsISFCK67UQPyJcMF1yo3AJP4hQNa0EkHAde/B66oMwsyv+0GjckVAD68kQcLx6kFyqdZBhzrpv9tEW8ATC+jBgk0Mwofi7EGy+UvBUQwowhhbMkF2FQJCXHBdQdigx0G8Gp1BRWa7wdGshkGe20dAd7m+wAcFtEBLlirCFPEAwp3l1sFwsiNBWFqewcCmTkGC2VrAq0gkQeA7DcBvDzpBqN81Qj/+CUCIipvADxSdwQPaEUJr7MHBIOVIwTthvsFA6wnBZ7i2wIg5f78EGBFCiyOtQUwjvcGy3QNC86MAQvkTBUJVzdhBjqduwTESg0F3JwDByVTmQZfoIb0uJ55A97pYQXMMTMGa+1RB/m3Ewf+VK8HN1Ke/H62KwbEmwkF6jS7CAYTgwaTU90E=",
          "dtype": "f4"
         },
         "xaxis": "x",
         "y": {
          "bdata": "+6vLQcbJgsCPeWbBIP9FwGwty0DOK59A9fFMQK9s4L8u+QHBZ8RGQdavCD8KuD7AyjKyQfnJ0EB2jmo//IWuQHoTfEFiRBHBLn8/QeFrRsFNp0tAvOCMQGhodcBt4jZBvWSuQLpCMUBtw4fBybaHwKMG3sDPhqPBtabOv3kqw8FobZBAKwGIv0CZhEEYd2JAXTGhv5RB+cBw2X1B/qqMwM212MCpCvlACUvCQaDZlT+tropA83MhQYbowz+8vDrBP0wVQYY5F8Fi+hW/KcWEQdFlpz9o7+HBHAeCwTbMA0GW9drAEYBnQJG/pUGIKNfAbPzdQf7hqsDHHabBqZ1kv5r5x0EO7CpBWLaOQQOLJr/YEirA2fCywS4UwMDKkLTB1t3oQLQoi8Ak9URANNfkQc65ukHiTt5AZDeswcJlekBA17XBVPI/wQadD8BlCFdAcbi/QWnYiMHI/hbASSGeQJJDAcGpjSlB+vtEweDwesCZTnxBf/G7wRgJBkFtn7TBYOinQaaccsFlQStBqeNUQQJpyT+iZwBAiPyzQOSGOUHhkKRBHr+swVakk8H817FAWZKXwQlP9sB5emRB2cLvQB/z90CIfT9B2vHGwRzzdEB1bqZBuMoRQVo+1kBb6U5AZKI1QDjTAECVhsHA5V2ZwbBMAkGSyHJAO1opQar8UUDgJnBBmf7cQOYUTcD8jHxBs22SQbw1nMHTgjxAR04fQdjhpkD3nC/BGnpywVPmID/jjrhBAxfWwR7/CMGNv3ZBzuyvQXet6r+U0x9AlBceQZ1PIL9NEUTBlJZRwUzT1sERkfs+I+4XQMh7ZEEHWJk/6rfFwOHm1kDVznFBpjwMQNcrocEVDtlBzS/PQA9nhEEodhzAL0JGwGYOlMCNdgnBqnMjwTfzg0BykuXAQfFNwVUMFUEoN6C8nlnZQVc9jcEIWk3BouqlQVeKeUEYYBxBpvffQBTB0MGCqHVBhHrHv0u4zUA5qEbBrvaVwYtfgMG9GKLAXwv0wMIx0UCv8UxBkmRxwXjSnMG5nobBiCLiQF3ds0GGu1ZBNlliQbdZHUHS6wRAglVlQQkSqcFxMeLA05FJQRogtED64BdBbgHKv1QStkH46pfAwz3iPz7RYcFmLSjBjFrQQd4aisCFM8FA9WqzPZ1wQEHWxMVBKaa7wJd8pcB6RLbBbOubQLcaXkCexxW/X/ZdQDAZKEEKNCjBIvbEwVY1kEHBg0hBArBqwBaPgMHrhZHB8eITQKz0J0E7+gFAmMQSQbgtjMFWEyBBUM6sv2M6eUFoOppBxzqZwaZnjMC3cAvAegFzwbWa3kF/vONAg4OcQaA5HsE=",
          "dtype": "f4"
         },
         "yaxis": "y"
        },
        {
         "hoverinfo": "text",
         "hovertext": [
          "answer 0",
          "answer 1",
          "answer 2",
          "answer 3",
          "answer 4",
          "answer 5",
          "answer 6",
          "answer 7",
          "answer 8",
          "answer 9",
          "answer 10",
          "answer 11",
          "answer 12",
          "answer 13",
          "answer 14",
          "answer 15",
          "answer 16",
          "answer 17",
          "answer 18",
          "answer 19",
          "answer 20",
          "answer 21",
          "answer 22",
          "answer 23",
          "answer 24",
          "answer 25",
          "answer 26",
          "answer 27",
          "answer 28",
          "answer 29",
          "answer 30",
          "answer 31",
          "answer 32",
          "answer 33",
          "answer 34",
          "answer 35",
          "answer 36",
          "answer 37",
          "answer 38",
          "answer 39",
          "answer 40",
          "answer 41",
          "answer 42",
          "answer 43",
          "answer 44",
          "answer 45",
          "answer 46",
          "answer 47",
          "answer 48",
          "answer 49",
          "answer 50",
          "answer 51",
          "answer 52",
          "answer 53",
          "answer 54",
          "answer 55",
          "answer 56",
          "answer 57",
          "answer 58",
          "answer 59",
          "answer 60",
          "answer 61",
          "answer 62",
          "answer 63",
          "answer 64",
          "answer 65",
          "answer 66",
          "answer 67",
          "answer 68",
          "answer 69",
          "answer 70",
          "answer 71",
          "answer 72",
          "answer 73",
          "answer 74",
          "answer 75",
          "answer 76",
          "answer 77",
          "answer 78",
          "answer 79",
          "answer 80",
          "answer 81",
          "answer 82",
          "answer 83",
          "answer 84",
          "answer 85",
          "answer 86",
          "answer 87",
          "answer 88",
          "answer 89",
          "answer 90",
          "answer 91",
          "answer 92",
          "answer 93",
          "answer 94",
          "answer 95",
          "answer 96",
          "answer 97",
          "answer 98",
          "answer 99",
          "answer 100",
          "answer 101",
          "answer 102",
          "answer 103",
          "answer 104",
          "answer 105",
          "answer 106",
          "answer 107",
          "answer 108",
          "answer 109",
          "answer 110",
          "answer 111",
          "answer 112",
          "answer 113",
          "answer 114",
          "answer 115",
          "answer 116",
          "answer 117",
          "answer 118",
          "answer 119",
          "answer 120",
          "answer 121",
          "answer 122",
          "answer 123",
          "answer 124",
          "answer 125",
          "answer 126",
          "answer 127",
          "answer 128",
          "answer 129",
          "answer 130",
          "answer 131",
          "answer 132",
          "answer 133",
          "answer 134",
          "answer 135",
          "answer 136",
          "answer 137",
          "answer 138",
          "answer 139",
          "answer 140",
          "answer 141",
          "answer 142",
          "answer 143",
          "answer 144",
          "answer 145",
          "answer 146",
          "answer 147",
          "answer 148",
          "answer 149",
          "answer 150",
          "answer 151",
          "answer 152",
          "answer 153",
          "answer 154",
          "answer 155",
          "answer 156",
          "answer 157",
          "answer 158",
          "answer 159",
          "answer 160",
          "answer 161",
          "answer 162",
          "answer 163",
          "answer 164",
          "answer 165",
          "answer 166",
          "answer 167",
          "answer 168",
          "answer 169",
          "answer 170",
          "answer 171",
          "answer 172",
          "answer 173",
          "answer 174",
          "answer 175",
          "answer 176",
          "answer 177",
          "answer 178",
          "answer 179",
          "answer 180",
          "answer 181",
          "answer 182",
          "answer 183",
          "answer 184",
          "answer 185",
          "answer 186",
          "answer 187",
          "answer 188",
          "answer 189",
          "answer 190",
          "answer 191",
          "answer 192",
          "answer 193",
          "answer 194",
          "answer 195",
          "answer 196",
          "answer 197",
          "answer 198",
          "answer 199",
          "answer 200",
          "answer 201",
          "answer 202",
          "answer 203",
          "answer 204",
          "answer 205",
          "answer 206",
          "answer 207",
          "answer 208",
          "answer 209",
          "answer 210",
          "answer 211",
          "answer 212",
          "answer 213",
          "answer 214",
          "answer 215",
          "answer 216",
          "answer 217",
          "answer 218",
          "answer 219",
          "answer 220",
          "answer 221",
          "answer 222",
          "answer 223",
          "answer 224",
          "answer 225",
          "answer 226",
          "answer 227",
          "answer 228",
          "answer 229",
          "answer 230",
          "answer 231",
          "answer 232",
          "answer 233",
          "answer 234",
          "answer 235",
          "answer 236",
          "answer 237",
          "answer 238",
          "answer 239",
          "answer 240",
          "answer 241",
          "answer 242",
          "answer 243",
          "answer 244",
          "answer 245",
          "answer 246",
          "answer 247",
          "answer 248",
          "answer 249",
          "answer 250"
         ],
         "legendgroup": "answer",
         "marker": {
          "color": "#EF553B",
          "symbol": "circle"
         },
         "mode": "markers",
         "name": "answer",
         "orientation": "v",
         "showlegend": true,
         "type": "scatter",
         "x": {
          "bdata": "TMZ9QWQ06UEoTY1BVqhpwerHHsLGZ2ZBY9chQnhIGEKIoIhBv7gBwpl6ikCV0IXBX+WFQTzT7sG107VAMCweQfiE2L455utBYDmewTbaZUG+irPA5Agnwj+H7UGQ3vBBBGAHwbjRJMIcxDjAJSnqQcASF8IB2JzB5hSgwc2zfMGnaTfBkwsJQtd9TUCEPhdCVOQ1wq/vrEF+DNTBGPuWQatKYz/3wl9BM3XKQSYUFMIIGA9C+wgIQkP+4EFGlsdBD0i4Qdx/a8HSp0HBxgijwXeBMMCAxm3BDFWwQYHxv8EUJtbAoAI9QYmT1sC5SyvC5OdaP5Oc2sASCqvBseCOQXzwr8HP9hfB97n+wE8t80GoJOTB8vWQwQNJhMFx6uTB0S4SwoZ2b0GlsOrBxl5rwfQIx0FbloRAWfTLwbi1jT9XpqvBlHzfwd84pcDqT3ZBuHrQwIpg28FtAcZBOYKFwb2G1EGd2+XBXCMFwXlJLEIvGvNAavKbwWw+rEFaukXAWaf6wbyLC0G3dEhBWBXQQQIOBUKKzQXCxzG1QH3NycHIcZ7BEaI4wa6aD8ELOo1Bn/bCQI1fTEGbnBzCNJCZPgfyBcLIk7FB6EjhQFWHMsJ4dY7Bk2gdQSEJOsJtDh7CeKWZQEMvQsK8rlrABJlaQR7yp0EbWyPAcrp4wZ8WMcIIXd2/ZzseQrV81MF539BBxcI6QeHi8kD1JxHCN0A3wo7HGMI5appB2kYGwnpTJMLJ+ndB3NynQJ8dKcGr/P5AkzqTP+QQz0EUMxnCyIEdwmFcJUGMS7lAdSUGwlH0tsHWNNC/TeYCQdD4y8CSp4fBETH7QTDCnMEbbJBBZznlQTWGjECRl7zBQimZwLC8AsKzfBnC/DrcP6Rwt0EkmAxCpwwgQcJ0EsLquh9CsefEweBE70FvjJzAzdOtwMZKrMHS1iFCXafWQCL0dcHGAHHASWsEQNqUE0EyAfHBf44MwuMT+kGNTQlApvgcQYII6kG7jtVBvup1v+n5TMC2gsFADarQQAn15kGYuEjBkxoTwhiNMUENawtBdlFdQZChxkG5mKRBBbm7wSv+iEEw2S1AcdO1wBcbuUAyxCjCmtgCwtGo1cHVIiBBc/vIwCm66kCuB03AxOYoQcTDGsAMNKxB7/k1QkbW/z/hBo3Ap6mcwSIumUF7B6LBRNxGwYDtvMGC7y7BcYauwAJeVL/7qfrA7zyrQY72vMEHzKxBzBPAQZuNBELOr9VBq/hbwVNugUHFIAfB9d7pQU7XkT4WqJhAWMJYQe68Q8Gi4URB82DEwXGfJcEBYra/tzKHwbH9wUFqcS/CgFniwUz370E=",
          "dtype": "f4"
         },
         "xaxis": "x",
         "y": {
          "bdata": "/EvJQQh4bcBtHGvBr0I1wHmNykD+r55A0HxBQDh3hr9IywPBqqw8Qb0slr/tJ13Am2uqQfjn1kAvmqvAiKejQFPegkFyFijBOLg7Qei1QsE1Q3HAWbYCvye8QMCQVzZBVdClQDBm8j+7l3/BlOGwwMpN28DseJ3B8AvCv1D0wMEc/gdBny2IvxVvg0Ga9GpAUFt1vzmi8MC+139Bje+IwKvJ3sAx5/lAgKu9Qf80BUBfc6RAAEElQW768T6znjTBOYphvjXpGMGSG4+8F7yFQTeAg0E18t/BHlmCwbWCAEHcVtDAP8LWP029nUETvNPAEq6gP7TW8r9iuqDBpvFZv9RjyEGd7SZBGVYZQT7ZOr84T/e/kP6qwaM3qsDO8LLB+YjZQI7YhMD1QVtAWVLlQTl4tkE7rhZA9kmswdr4eUDH16/BjdpBwd2jpL+n77k/vhXDQYVijMETxUu/YE+jQCEq78BDBCdBkU9DwRsgesAmigdBPnKxwdMNBkG7t7PB49eoQSCsbcHVax5BCJdeQfKgAEB4d8Q/Q7QFP+OOOkHDnaBBefGvwRNBksFlKb1ATkXcwEaL8cD1ymtBmJbpQM8q/EDsAz9BP+FXQcMvSEBek6VB3foQQdli00BPJ2tAVm/Lv+HTEEDYqxRAhvyawQWBNkGKx49Ae1cpQWdp5z/3zGhBEO7qQI5gaMBNDYdBEPySQX0Sa794MRxB+AohQWCp1EDIjjDB8SKBwSL6Jb8hmLNBtMVZQUg/BcFDyGRBe0asQU471r9E/5lABOkVQZKTqb8KNTrBR6aHwQX70sHp+0I/oxoXQJR+bkEisFU/KkrXwD/J1ED0wXJBJAmvP04aosEPTtpB+ba7QPCMgkFa3DfAygk9wIxcjcDM+wfB2msewQN4dUBQn+nAEIRLwZ06HEEXtj8/b8zVQQxfkcGY4U/BmaWjQaqgeUGQ5xBBmULwQJsM0cF24GtBXsKBv2AU1kCX2UbBW5aWwQqwfcGOT5rAHYvywIJS6kABg4bA6CI1wV2Rm8E/dIPB+AUzQf74tUEB0VRBgIheQdnHGkHeIxlAlYJmQeO/psE6qdbAR2pEQe1msEB05R1B4yPBv7g2uUHNVZPAmSoXPivT6MDhtSbBvB/PQZtxj8DQMfO+WPujPuMDPEEcccNB2m3IwAUtmkFyT4nB4O+kQA5lRUAs9Us+W+NHQK+QK0HbD0DAgGvFwVK4kkF7Ph1AkafXPieTfsF+LpLBfmziP4fJJ0EKk/Y/P7MlQcr2isF7JR1BKiWCv0Z5dEFMYp5BQeScwVkKh8Bmpce/IIhswQem3UF6h8ZAmNGdQTUnKsE=",
          "dtype": "f4"
         },
         "yaxis": "y"
        }
       ],
       "layout": {
        "height": 500,
        "legend": {
         "title": {
          "text": "color"
         },
         "tracegroupgap": 0
        },
        "margin": {
         "t": 60
        },
        "template": {
         "data": {
          "bar": [
           {
            "error_x": {
             "color": "#2a3f5f"
            },
            "error_y": {
             "color": "#2a3f5f"
            },
            "marker": {
             "line": {
              "color": "#E5ECF6",
              "width": 0.5
             },
             "pattern": {
              "fillmode": "overlay",
              "size": 10,
              "solidity": 0.2
             }
            },
            "type": "bar"
           }
          ],
          "barpolar": [
           {
            "marker": {
             "line": {
              "color": "#E5ECF6",
              "width": 0.5
             },
             "pattern": {
              "fillmode": "overlay",
              "size": 10,
              "solidity": 0.2
             }
            },
            "type": "barpolar"
           }
          ],
          "carpet": [
           {
            "aaxis": {
             "endlinecolor": "#2a3f5f",
             "gridcolor": "white",
             "linecolor": "white",
             "minorgridcolor": "white",
             "startlinecolor": "#2a3f5f"
            },
            "baxis": {
             "endlinecolor": "#2a3f5f",
             "gridcolor": "white",
             "linecolor": "white",
             "minorgridcolor": "white",
             "startlinecolor": "#2a3f5f"
            },
            "type": "carpet"
           }
          ],
          "choropleth": [
           {
            "colorbar": {
             "outlinewidth": 0,
             "ticks": ""
            },
            "type": "choropleth"
           }
          ],
          "contour": [
           {
            "colorbar": {
             "outlinewidth": 0,
             "ticks": ""
            },
            "colorscale": [
             [
              0,
              "#0d0887"
             ],
             [
              0.1111111111111111,
              "#46039f"
             ],
             [
              0.2222222222222222,
              "#7201a8"
             ],
             [
              0.3333333333333333,
              "#9c179e"
             ],
             [
              0.4444444444444444,
              "#bd3786"
             ],
             [
              0.5555555555555556,
              "#d8576b"
             ],
             [
              0.6666666666666666,
              "#ed7953"
             ],
             [
              0.7777777777777778,
              "#fb9f3a"
             ],
             [
              0.8888888888888888,
              "#fdca26"
             ],
             [
              1,
              "#f0f921"
             ]
            ],
            "type": "contour"
           }
          ],
          "contourcarpet": [
           {
            "colorbar": {
             "outlinewidth": 0,
             "ticks": ""
            },
            "type": "contourcarpet"
           }
          ],
          "heatmap": [
           {
            "colorbar": {
             "outlinewidth": 0,
             "ticks": ""
            },
            "colorscale": [
             [
              0,
              "#0d0887"
             ],
             [
              0.1111111111111111,
              "#46039f"
             ],
             [
              0.2222222222222222,
              "#7201a8"
             ],
             [
              0.3333333333333333,
              "#9c179e"
             ],
             [
              0.4444444444444444,
              "#bd3786"
             ],
             [
              0.5555555555555556,
              "#d8576b"
             ],
             [
              0.6666666666666666,
              "#ed7953"
             ],
             [
              0.7777777777777778,
              "#fb9f3a"
             ],
             [
              0.8888888888888888,
              "#fdca26"
             ],
             [
              1,
              "#f0f921"
             ]
            ],
            "type": "heatmap"
           }
          ],
          "histogram": [
           {
            "marker": {
             "pattern": {
              "fillmode": "overlay",
              "size": 10,
              "solidity": 0.2
             }
            },
            "type": "histogram"
           }
          ],
          "histogram2d": [
           {
            "colorbar": {
             "outlinewidth": 0,
             "ticks": ""
            },
            "colorscale": [
             [
              0,
              "#0d0887"
             ],
             [
              0.1111111111111111,
              "#46039f"
             ],
             [
              0.2222222222222222,
              "#7201a8"
             ],
             [
              0.3333333333333333,
              "#9c179e"
             ],
             [
              0.4444444444444444,
              "#bd3786"
             ],
             [
              0.5555555555555556,
              "#d8576b"
             ],
             [
              0.6666666666666666,
              "#ed7953"
             ],
             [
              0.7777777777777778,
              "#fb9f3a"
             ],
             [
              0.8888888888888888,
              "#fdca26"
             ],
             [
              1,
              "#f0f921"
             ]
            ],
            "type": "histogram2d"
           }
          ],
          "histogram2dcontour": [
           {
            "colorbar": {
             "outlinewidth": 0,
             "ticks": ""
            },
            "colorscale": [
             [
              0,
              "#0d0887"
             ],
             [
              0.1111111111111111,
              "#46039f"
             ],
             [
              0.2222222222222222,
              "#7201a8"
             ],
             [
              0.3333333333333333,
              "#9c179e"
             ],
             [
              0.4444444444444444,
              "#bd3786"
             ],
             [
              0.5555555555555556,
              "#d8576b"
             ],
             [
              0.6666666666666666,
              "#ed7953"
             ],
             [
              0.7777777777777778,
              "#fb9f3a"
             ],
             [
              0.8888888888888888,
              "#fdca26"
             ],
             [
              1,
              "#f0f921"
             ]
            ],
            "type": "histogram2dcontour"
           }
          ],
          "mesh3d": [
           {
            "colorbar": {
             "outlinewidth": 0,
             "ticks": ""
            },
            "type": "mesh3d"
           }
          ],
          "parcoords": [
           {
            "line": {
             "colorbar": {
              "outlinewidth": 0,
              "ticks": ""
             }
            },
            "type": "parcoords"
           }
          ],
          "pie": [
           {
            "automargin": true,
            "type": "pie"
           }
          ],
          "scatter": [
           {
            "fillpattern": {
             "fillmode": "overlay",
             "size": 10,
             "solidity": 0.2
            },
            "type": "scatter"
           }
          ],
          "scatter3d": [
           {
            "line": {
             "colorbar": {
              "outlinewidth": 0,
              "ticks": ""
             }
            },
            "marker": {
             "colorbar": {
              "outlinewidth": 0,
              "ticks": ""
             }
            },
            "type": "scatter3d"
           }
          ],
          "scattercarpet": [
           {
            "marker": {
             "colorbar": {
              "outlinewidth": 0,
              "ticks": ""
             }
            },
            "type": "scattercarpet"
           }
          ],
          "scattergeo": [
           {
            "marker": {
             "colorbar": {
              "outlinewidth": 0,
              "ticks": ""
             }
            },
            "type": "scattergeo"
           }
          ],
          "scattergl": [
           {
            "marker": {
             "colorbar": {
              "outlinewidth": 0,
              "ticks": ""
             }
            },
            "type": "scattergl"
           }
          ],
          "scattermap": [
           {
            "marker": {
             "colorbar": {
              "outlinewidth": 0,
              "ticks": ""
             }
            },
            "type": "scattermap"
           }
          ],
          "scattermapbox": [
           {
            "marker": {
             "colorbar": {
              "outlinewidth": 0,
              "ticks": ""
             }
            },
            "type": "scattermapbox"
           }
          ],
          "scatterpolar": [
           {
            "marker": {
             "colorbar": {
              "outlinewidth": 0,
              "ticks": ""
             }
            },
            "type": "scatterpolar"
           }
          ],
          "scatterpolargl": [
           {
            "marker": {
             "colorbar": {
              "outlinewidth": 0,
              "ticks": ""
             }
            },
            "type": "scatterpolargl"
           }
          ],
          "scatterternary": [
           {
            "marker": {
             "colorbar": {
              "outlinewidth": 0,
              "ticks": ""
             }
            },
            "type": "scatterternary"
           }
          ],
          "surface": [
           {
            "colorbar": {
             "outlinewidth": 0,
             "ticks": ""
            },
            "colorscale": [
             [
              0,
              "#0d0887"
             ],
             [
              0.1111111111111111,
              "#46039f"
             ],
             [
              0.2222222222222222,
              "#7201a8"
             ],
             [
              0.3333333333333333,
              "#9c179e"
             ],
             [
              0.4444444444444444,
              "#bd3786"
             ],
             [
              0.5555555555555556,
              "#d8576b"
             ],
             [
              0.6666666666666666,
              "#ed7953"
             ],
             [
              0.7777777777777778,
              "#fb9f3a"
             ],
             [
              0.8888888888888888,
              "#fdca26"
             ],
             [
              1,
              "#f0f921"
             ]
            ],
            "type": "surface"
           }
          ],
          "table": [
           {
            "cells": {
             "fill": {
              "color": "#EBF0F8"
             },
             "line": {
              "color": "white"
             }
            },
            "header": {
             "fill": {
              "color": "#C8D4E3"
             },
             "line": {
              "color": "white"
             }
            },
            "type": "table"
           }
          ]
         },
         "layout": {
          "annotationdefaults": {
           "arrowcolor": "#2a3f5f",
           "arrowhead": 0,
           "arrowwidth": 1
          },
          "autotypenumbers": "strict",
          "coloraxis": {
           "colorbar": {
            "outlinewidth": 0,
            "ticks": ""
           }
          },
          "colorscale": {
           "diverging": [
            [
             0,
             "#8e0152"
            ],
            [
             0.1,
             "#c51b7d"
            ],
            [
             0.2,
             "#de77ae"
            ],
            [
             0.3,
             "#f1b6da"
            ],
            [
             0.4,
             "#fde0ef"
            ],
            [
             0.5,
             "#f7f7f7"
            ],
            [
             0.6,
             "#e6f5d0"
            ],
            [
             0.7,
             "#b8e186"
            ],
            [
             0.8,
             "#7fbc41"
            ],
            [
             0.9,
             "#4d9221"
            ],
            [
             1,
             "#276419"
            ]
           ],
           "sequential": [
            [
             0,
             "#0d0887"
            ],
            [
             0.1111111111111111,
             "#46039f"
            ],
            [
             0.2222222222222222,
             "#7201a8"
            ],
            [
             0.3333333333333333,
             "#9c179e"
            ],
            [
             0.4444444444444444,
             "#bd3786"
            ],
            [
             0.5555555555555556,
             "#d8576b"
            ],
            [
             0.6666666666666666,
             "#ed7953"
            ],
            [
             0.7777777777777778,
             "#fb9f3a"
            ],
            [
             0.8888888888888888,
             "#fdca26"
            ],
            [
             1,
             "#f0f921"
            ]
           ],
           "sequentialminus": [
            [
             0,
             "#0d0887"
            ],
            [
             0.1111111111111111,
             "#46039f"
            ],
            [
             0.2222222222222222,
             "#7201a8"
            ],
            [
             0.3333333333333333,
             "#9c179e"
            ],
            [
             0.4444444444444444,
             "#bd3786"
            ],
            [
             0.5555555555555556,
             "#d8576b"
            ],
            [
             0.6666666666666666,
             "#ed7953"
            ],
            [
             0.7777777777777778,
             "#fb9f3a"
            ],
            [
             0.8888888888888888,
             "#fdca26"
            ],
            [
             1,
             "#f0f921"
            ]
           ]
          },
          "colorway": [
           "#636efa",
           "#EF553B",
           "#00cc96",
           "#ab63fa",
           "#FFA15A",
           "#19d3f3",
           "#FF6692",
           "#B6E880",
           "#FF97FF",
           "#FECB52"
          ],
          "font": {
           "color": "#2a3f5f"
          },
          "geo": {
           "bgcolor": "white",
           "lakecolor": "white",
           "landcolor": "#E5ECF6",
           "showlakes": true,
           "showland": true,
           "subunitcolor": "white"
          },
          "hoverlabel": {
           "align": "left"
          },
          "hovermode": "closest",
          "mapbox": {
           "style": "light"
          },
          "paper_bgcolor": "white",
          "plot_bgcolor": "#E5ECF6",
          "polar": {
           "angularaxis": {
            "gridcolor": "white",
            "linecolor": "white",
            "ticks": ""
           },
           "bgcolor": "#E5ECF6",
           "radialaxis": {
            "gridcolor": "white",
            "linecolor": "white",
            "ticks": ""
           }
          },
          "scene": {
           "xaxis": {
            "backgroundcolor": "#E5ECF6",
            "gridcolor": "white",
            "gridwidth": 2,
            "linecolor": "white",
            "showbackground": true,
            "ticks": "",
            "zerolinecolor": "white"
           },
           "yaxis": {
            "backgroundcolor": "#E5ECF6",
            "gridcolor": "white",
            "gridwidth": 2,
            "linecolor": "white",
            "showbackground": true,
            "ticks": "",
            "zerolinecolor": "white"
           },
           "zaxis": {
            "backgroundcolor": "#E5ECF6",
            "gridcolor": "white",
            "gridwidth": 2,
            "linecolor": "white",
            "showbackground": true,
            "ticks": "",
            "zerolinecolor": "white"
           }
          },
          "shapedefaults": {
           "line": {
            "color": "#2a3f5f"
           }
          },
          "ternary": {
           "aaxis": {
            "gridcolor": "white",
            "linecolor": "white",
            "ticks": ""
           },
           "baxis": {
            "gridcolor": "white",
            "linecolor": "white",
            "ticks": ""
           },
           "bgcolor": "#E5ECF6",
           "caxis": {
            "gridcolor": "white",
            "linecolor": "white",
            "ticks": ""
           }
          },
          "title": {
           "x": 0.05
          },
          "xaxis": {
           "automargin": true,
           "gridcolor": "white",
           "linecolor": "white",
           "ticks": "",
           "title": {
            "standoff": 15
           },
           "zerolinecolor": "white",
           "zerolinewidth": 2
          },
          "yaxis": {
           "automargin": true,
           "gridcolor": "white",
           "linecolor": "white",
           "ticks": "",
           "title": {
            "standoff": 15
           },
           "zerolinecolor": "white",
           "zerolinewidth": 2
          }
         }
        },
        "width": 600,
        "xaxis": {
         "anchor": "y",
         "domain": [
          0,
          1
         ],
         "title": {
          "text": "0"
         }
        },
        "yaxis": {
         "anchor": "x",
         "domain": [
          0,
          1
         ],
         "title": {
          "text": "1"
         }
        }
       }
      }
     },
     "metadata": {},
     "output_type": "display_data"
    }
   ],
   "source": [
    "from sklearn.manifold import TSNE\n",
    "import plotly.express as px\n",
    "\n",
    "tsne = TSNE(n_components=2, perplexity=30, random_state=42, learning_rate=\"auto\", early_exaggeration=5.0, n_iter=5000, init=\"pca\")\n",
    "embedding = embedding_Q + embedding_A\n",
    "show_dims2 = tsne.fit_transform(np.array(embedding))\n",
    "color_Q = [\"question\" for i in range(len(embedding_Q))]\n",
    "color_A = [\"answer\" for i in range(len(embedding_A))]\n",
    "category_Q = [\"question \" + str(i) for i in range(len(embedding_Q))]\n",
    "category_A = [\"answer \" + str(i) for i in range(len(embedding_A))]\n",
    "\n",
    "color = color_Q + color_A\n",
    "category = category_Q + category_A\n",
    "\n",
    "x = [x for x, y in show_dims2]\n",
    "y = [y for x, y in show_dims2]\n",
    "fig = px.scatter(\n",
    "    show_dims2, x=0, y=1,\n",
    "    width=600, height=500,\n",
    "    color = color,\n",
    "    hover_name=category,\n",
    ")\n",
    "fig.update_traces(\n",
    "hovertemplate=None,\n",
    "hoverinfo='text'\n",
    ")\n",
    "fig.show()"
   ]
  },
  {
   "cell_type": "code",
   "execution_count": null,
   "metadata": {},
   "outputs": [],
   "source": [
    "#Function for doing an ablation. \n",
    "\n",
    "#zero ablation: set activation to zero\n",
    "#random ablation: set to random value (eg. Gauss with mean 0 and std 1)\n",
    "#mean ablation: mean value of all activations in a given layer\n",
    "\n",
    "def ablation(layer, neuron_idx, data, type = \"zero\"):\n",
    "    original_forward = model.encoder.layer[layer].mlp.wo.forward\n",
    "\n",
    "    if type == \"zero\": \n",
    "        new_activation = 0.0\n",
    "    if type == \"mean\": \n",
    "        new_activation = np.sum(np.array([original_forward[:,:,i]] for i in range(len(emb_dim))))\n",
    "    if type == \"random\": \n",
    "        new_activation = np.random.normal(0.0,1.0)\n",
    "    if type != \"zero\" and type != \"mean\" and type != \"random\": \n",
    "        raise ValueError(\"The type you wrote does not exist! Use either zero, mean or random for the ablation type\")\n",
    "\n",
    "    def change_forward(x):\n",
    "        our = original_forward(x)\n",
    "        our[:,:,neuron_idx] = new_activation\n",
    "        return our     #torch.zeros_like(original_wo(*args, **kwargs)\n",
    "    \n",
    "    model.encoder.layer[layer].mlp.wo.forward = change_forward\n",
    "    new_embeddings = model.encode(text for text in data)\n",
    "    model.encoder.layer[layer].mlp.wo.forward = original_forward\n",
    "\n",
    "    return new_embeddings\n",
    "\n",
    "\n",
    "\n",
    "    \n"
   ]
  },
  {
   "cell_type": "code",
   "execution_count": null,
   "metadata": {},
   "outputs": [],
   "source": []
  }
 ],
 "metadata": {
  "kernelspec": {
   "display_name": "embed",
   "language": "python",
   "name": "python3"
  },
  "language_info": {
   "codemirror_mode": {
    "name": "ipython",
    "version": 3
   },
   "file_extension": ".py",
   "mimetype": "text/x-python",
   "name": "python",
   "nbconvert_exporter": "python",
   "pygments_lexer": "ipython3",
   "version": "3.12.11"
  }
 },
 "nbformat": 4,
 "nbformat_minor": 2
}
