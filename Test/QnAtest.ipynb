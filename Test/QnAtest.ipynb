{
 "cells": [
  {
   "cell_type": "markdown",
   "metadata": {},
   "source": []
  },
  {
   "cell_type": "code",
   "execution_count": 1,
   "metadata": {},
   "outputs": [
    {
     "data": {
      "application/vnd.jupyter.widget-view+json": {
       "model_id": "72807db7ab254cc78ba4ea5eb505349f",
       "version_major": 2,
       "version_minor": 0
      },
      "text/plain": [
       "tokenizer_config.json:   0%|          | 0.00/383 [00:00<?, ?B/s]"
      ]
     },
     "metadata": {},
     "output_type": "display_data"
    },
    {
     "name": "stderr",
     "output_type": "stream",
     "text": [
      "c:\\Users\\frede\\anaconda3\\envs\\embed\\Lib\\site-packages\\huggingface_hub\\file_download.py:143: UserWarning: `huggingface_hub` cache-system uses symlinks by default to efficiently store duplicated files but your machine does not support them in C:\\Users\\frede\\.cache\\huggingface\\hub\\models--sentence-transformers--multi-qa-MiniLM-L6-cos-v1. Caching files will still work but in a degraded version that might require more space on your disk. This warning can be disabled by setting the `HF_HUB_DISABLE_SYMLINKS_WARNING` environment variable. For more details, see https://huggingface.co/docs/huggingface_hub/how-to-cache#limitations.\n",
      "To support symlinks on Windows, you either need to activate Developer Mode or to run Python as an administrator. In order to activate developer mode, see this article: https://docs.microsoft.com/en-us/windows/apps/get-started/enable-your-device-for-development\n",
      "  warnings.warn(message)\n"
     ]
    },
    {
     "data": {
      "application/vnd.jupyter.widget-view+json": {
       "model_id": "59606607addc48b099a592311187beda",
       "version_major": 2,
       "version_minor": 0
      },
      "text/plain": [
       "vocab.txt: 0.00B [00:00, ?B/s]"
      ]
     },
     "metadata": {},
     "output_type": "display_data"
    },
    {
     "data": {
      "application/vnd.jupyter.widget-view+json": {
       "model_id": "407cab3ae03a404985e945bf589e0234",
       "version_major": 2,
       "version_minor": 0
      },
      "text/plain": [
       "special_tokens_map.json:   0%|          | 0.00/112 [00:00<?, ?B/s]"
      ]
     },
     "metadata": {},
     "output_type": "display_data"
    },
    {
     "data": {
      "application/vnd.jupyter.widget-view+json": {
       "model_id": "e921725820cb4d05a6bea4318da1e113",
       "version_major": 2,
       "version_minor": 0
      },
      "text/plain": [
       "tokenizer.json: 0.00B [00:00, ?B/s]"
      ]
     },
     "metadata": {},
     "output_type": "display_data"
    },
    {
     "data": {
      "application/vnd.jupyter.widget-view+json": {
       "model_id": "cad7b98f5f30466fa3d401204fe638ff",
       "version_major": 2,
       "version_minor": 0
      },
      "text/plain": [
       "config.json:   0%|          | 0.00/612 [00:00<?, ?B/s]"
      ]
     },
     "metadata": {},
     "output_type": "display_data"
    },
    {
     "name": "stderr",
     "output_type": "stream",
     "text": [
      "Xet Storage is enabled for this repo, but the 'hf_xet' package is not installed. Falling back to regular HTTP download. For better performance, install the package with: `pip install huggingface_hub[hf_xet]` or `pip install hf_xet`\n"
     ]
    },
    {
     "data": {
      "application/vnd.jupyter.widget-view+json": {
       "model_id": "f748bbf08b9542228445796c08f56606",
       "version_major": 2,
       "version_minor": 0
      },
      "text/plain": [
       "model.safetensors:   0%|          | 0.00/90.9M [00:00<?, ?B/s]"
      ]
     },
     "metadata": {},
     "output_type": "display_data"
    }
   ],
   "source": [
    "\n",
    "\n",
    "from transformers import AutoModel, AutoTokenizer\n",
    "import torch\n",
    "import torch.nn.functional as F\n",
    "import numpy as np\n",
    "\n",
    "tokenizer = AutoTokenizer.from_pretrained(\"sentence-transformers/multi-qa-MiniLM-L6-cos-v1\", trust_remote_code = True, use_fast = False)\n",
    "\n",
    "#jinaai/jina-embeddings-v2-base-en\n",
    "#sentence-transformers/all-MiniLM-L6-v2\n",
    "#sentence-transformers/all-mpnet-base-v2\n",
    "\n",
    "model = AutoModel.from_pretrained(\"sentence-transformers/multi-qa-MiniLM-L6-cos-v1\", trust_remote_code = True)\n",
    "\n",
    "model.eval()\n",
    "\n",
    "\n",
    "# Mean Pooling - To compute embeddings (from huggingface)\n",
    "def mean_pooling(token_embeddings, attention_mask):\n",
    "                                     #token_embeddings = model_output[0] # First element of model_output contains all token embeddings\n",
    "    input_mask_expanded = attention_mask.unsqueeze(-1).expand(token_embeddings.size()).float()\n",
    "    return torch.sum(token_embeddings * input_mask_expanded, 1) / torch.clamp(input_mask_expanded.sum(1), min=1e-9)\n",
    " \n",
    "def embed(text, emb_model, tokens):\n",
    " \n",
    "    with torch.no_grad(): # Compute token embeddings\n",
    "        model_output = emb_model(**tokens)\n",
    " \n",
    "    # Perform pooling and normalize\n",
    "    embedding = mean_pooling(model_output[0], tokens['attention_mask'])\n",
    "    return F.normalize(embedding, p=2, dim=1)"
   ]
  },
  {
   "cell_type": "code",
   "execution_count": 2,
   "metadata": {},
   "outputs": [
    {
     "name": "stdout",
     "output_type": "stream",
     "text": [
      "CUDA available: False\n",
      "CUDA device count: 0\n"
     ]
    }
   ],
   "source": [
    "print(\"CUDA available:\", torch.cuda.is_available())\n",
    "print(\"CUDA device count:\", torch.cuda.device_count())"
   ]
  },
  {
   "cell_type": "code",
   "execution_count": 3,
   "metadata": {},
   "outputs": [],
   "source": [
    "num_layers = len(model.encoder.layer)\n",
    "emb_dim = model.config.hidden_size\n",
    "num_heads = model.config.num_attention_heads\n",
    "head_dim = emb_dim // num_heads"
   ]
  },
  {
   "cell_type": "code",
   "execution_count": 4,
   "metadata": {},
   "outputs": [],
   "source": [
    "import json \n",
    "\n",
    "with open(\"test.tok.json\",\"r\") as infile: \n",
    "    infile.readline()\n",
    "    lines = infile.readlines()\n",
    "\n",
    "data = [json.loads(line.strip(\"\\n\").rstrip(',').rstrip(\"]\")) for line in lines]\n",
    "\n",
    "questions = [line[\"question\"] for line in data]\n",
    "answers = [line[\"rationale\"] for line in data]"
   ]
  },
  {
   "cell_type": "code",
   "execution_count": 5,
   "metadata": {},
   "outputs": [],
   "source": [
    "device = torch.device(\"cuda\" if torch.cuda.is_available() else \"cpu\")\n",
    "model = model.to(device)"
   ]
  },
  {
   "cell_type": "code",
   "execution_count": 6,
   "metadata": {},
   "outputs": [],
   "source": [
    "\n",
    "with torch.no_grad():\n",
    "    embedding_Q = embed(questions,model,tokenizer(questions, padding=True, truncation=True, return_tensors='pt'))\n",
    "    embedding_A = embed(answers,model,tokenizer(answers, padding=True, truncation=True, return_tensors='pt'))\n",
    "\n"
   ]
  },
  {
   "cell_type": "code",
   "execution_count": 7,
   "metadata": {},
   "outputs": [
    {
     "name": "stdout",
     "output_type": "stream",
     "text": [
      "ModuleList(\n",
      "  (0-5): 6 x BertLayer(\n",
      "    (attention): BertAttention(\n",
      "      (self): BertSdpaSelfAttention(\n",
      "        (query): Linear(in_features=384, out_features=384, bias=True)\n",
      "        (key): Linear(in_features=384, out_features=384, bias=True)\n",
      "        (value): Linear(in_features=384, out_features=384, bias=True)\n",
      "        (dropout): Dropout(p=0.1, inplace=False)\n",
      "      )\n",
      "      (output): BertSelfOutput(\n",
      "        (dense): Linear(in_features=384, out_features=384, bias=True)\n",
      "        (LayerNorm): LayerNorm((384,), eps=1e-12, elementwise_affine=True)\n",
      "        (dropout): Dropout(p=0.1, inplace=False)\n",
      "      )\n",
      "    )\n",
      "    (intermediate): BertIntermediate(\n",
      "      (dense): Linear(in_features=384, out_features=1536, bias=True)\n",
      "      (intermediate_act_fn): GELUActivation()\n",
      "    )\n",
      "    (output): BertOutput(\n",
      "      (dense): Linear(in_features=1536, out_features=384, bias=True)\n",
      "      (LayerNorm): LayerNorm((384,), eps=1e-12, elementwise_affine=True)\n",
      "      (dropout): Dropout(p=0.1, inplace=False)\n",
      "    )\n",
      "  )\n",
      ")\n"
     ]
    }
   ],
   "source": [
    "print(model.encoder.layer)"
   ]
  },
  {
   "cell_type": "code",
   "execution_count": 8,
   "metadata": {},
   "outputs": [
    {
     "data": {
      "text/plain": [
       "\"\\nmlp_outputs = {}\\n\\ndef capture_post_mlp_ln(module, input, output):\\n    mlp_outputs['layernorm_output'] = output.detach()\\n\\nhook_handle = model.encoder.layer[5].mlp.register_forward_hook(capture_post_mlp_ln)\\n\\nresidual_input = {}\\n\\ndef capture_residual_input(module, input, output):\\n    residual_input['x'] = output.detach()\\n\\n# Register this hook on the layer input (before MLP)\\nhook_handle2 = model.encoder.layer[4].output.register_forward_hook(capture_residual_input)\\n\""
      ]
     },
     "execution_count": 8,
     "metadata": {},
     "output_type": "execute_result"
    }
   ],
   "source": [
    "\n",
    "'''\n",
    "mlp_outputs = {}\n",
    "\n",
    "def capture_post_mlp_ln(module, input, output):\n",
    "    mlp_outputs['layernorm_output'] = output.detach()\n",
    "\n",
    "hook_handle = model.encoder.layer[5].mlp.register_forward_hook(capture_post_mlp_ln)\n",
    "\n",
    "residual_input = {}\n",
    "\n",
    "def capture_residual_input(module, input, output):\n",
    "    residual_input['x'] = output.detach()\n",
    "\n",
    "# Register this hook on the layer input (before MLP)\n",
    "hook_handle2 = model.encoder.layer[4].output.register_forward_hook(capture_residual_input)\n",
    "'''\n",
    "\n"
   ]
  },
  {
   "cell_type": "code",
   "execution_count": 9,
   "metadata": {},
   "outputs": [
    {
     "name": "stderr",
     "output_type": "stream",
     "text": [
      "c:\\Users\\frede\\anaconda3\\envs\\embed\\Lib\\site-packages\\sklearn\\manifold\\_t_sne.py:1164: FutureWarning: 'n_iter' was renamed to 'max_iter' in version 1.5 and will be removed in 1.7.\n",
      "  warnings.warn(\n"
     ]
    },
    {
     "data": {
      "application/vnd.plotly.v1+json": {
       "config": {
        "plotlyServerURL": "https://plot.ly"
       },
       "data": [
        {
         "hoverinfo": "text",
         "hovertext": [
          "question 0",
          "question 1",
          "question 2",
          "question 3",
          "question 4",
          "question 5",
          "question 6",
          "question 7",
          "question 8",
          "question 9",
          "question 10",
          "question 11",
          "question 12",
          "question 13",
          "question 14",
          "question 15",
          "question 16",
          "question 17",
          "question 18",
          "question 19",
          "question 20",
          "question 21",
          "question 22",
          "question 23",
          "question 24",
          "question 25",
          "question 26",
          "question 27",
          "question 28",
          "question 29",
          "question 30",
          "question 31",
          "question 32",
          "question 33",
          "question 34",
          "question 35",
          "question 36",
          "question 37",
          "question 38",
          "question 39",
          "question 40",
          "question 41",
          "question 42",
          "question 43",
          "question 44",
          "question 45",
          "question 46",
          "question 47",
          "question 48",
          "question 49",
          "question 50",
          "question 51",
          "question 52",
          "question 53",
          "question 54",
          "question 55",
          "question 56",
          "question 57",
          "question 58",
          "question 59",
          "question 60",
          "question 61",
          "question 62",
          "question 63",
          "question 64",
          "question 65",
          "question 66",
          "question 67",
          "question 68",
          "question 69",
          "question 70",
          "question 71",
          "question 72",
          "question 73",
          "question 74",
          "question 75",
          "question 76",
          "question 77",
          "question 78",
          "question 79",
          "question 80",
          "question 81",
          "question 82",
          "question 83",
          "question 84",
          "question 85",
          "question 86",
          "question 87",
          "question 88",
          "question 89",
          "question 90",
          "question 91",
          "question 92",
          "question 93",
          "question 94",
          "question 95",
          "question 96",
          "question 97",
          "question 98",
          "question 99",
          "question 100",
          "question 101",
          "question 102",
          "question 103",
          "question 104",
          "question 105",
          "question 106",
          "question 107",
          "question 108",
          "question 109",
          "question 110",
          "question 111",
          "question 112",
          "question 113",
          "question 114",
          "question 115",
          "question 116",
          "question 117",
          "question 118",
          "question 119",
          "question 120",
          "question 121",
          "question 122",
          "question 123",
          "question 124",
          "question 125",
          "question 126",
          "question 127",
          "question 128",
          "question 129",
          "question 130",
          "question 131",
          "question 132",
          "question 133",
          "question 134",
          "question 135",
          "question 136",
          "question 137",
          "question 138",
          "question 139",
          "question 140",
          "question 141",
          "question 142",
          "question 143",
          "question 144",
          "question 145",
          "question 146",
          "question 147",
          "question 148",
          "question 149",
          "question 150",
          "question 151",
          "question 152",
          "question 153",
          "question 154",
          "question 155",
          "question 156",
          "question 157",
          "question 158",
          "question 159",
          "question 160",
          "question 161",
          "question 162",
          "question 163",
          "question 164",
          "question 165",
          "question 166",
          "question 167",
          "question 168",
          "question 169",
          "question 170",
          "question 171",
          "question 172",
          "question 173",
          "question 174",
          "question 175",
          "question 176",
          "question 177",
          "question 178",
          "question 179",
          "question 180",
          "question 181",
          "question 182",
          "question 183",
          "question 184",
          "question 185",
          "question 186",
          "question 187",
          "question 188",
          "question 189",
          "question 190",
          "question 191",
          "question 192",
          "question 193",
          "question 194",
          "question 195",
          "question 196",
          "question 197",
          "question 198",
          "question 199",
          "question 200",
          "question 201",
          "question 202",
          "question 203",
          "question 204",
          "question 205",
          "question 206",
          "question 207",
          "question 208",
          "question 209",
          "question 210",
          "question 211",
          "question 212",
          "question 213",
          "question 214",
          "question 215",
          "question 216",
          "question 217",
          "question 218",
          "question 219",
          "question 220",
          "question 221",
          "question 222",
          "question 223",
          "question 224",
          "question 225",
          "question 226",
          "question 227",
          "question 228",
          "question 229",
          "question 230",
          "question 231",
          "question 232",
          "question 233",
          "question 234",
          "question 235",
          "question 236",
          "question 237",
          "question 238",
          "question 239",
          "question 240",
          "question 241",
          "question 242",
          "question 243",
          "question 244",
          "question 245",
          "question 246",
          "question 247",
          "question 248",
          "question 249",
          "question 250"
         ],
         "legendgroup": "question",
         "marker": {
          "color": "#636efa",
          "symbol": "circle"
         },
         "mode": "markers",
         "name": "question",
         "orientation": "v",
         "showlegend": true,
         "type": "scatter",
         "x": {
          "bdata": "4JMBws9J5MHBJ+bAK2AQQZro8UEFMFO/TOuzwaK6x8HAlz/B3aC+QfCH9MDiFB1B+3bwwW6lx0FxUIjBjSmCwP6WwsAawJ7BA8iWQSUSUcFI+8a/XjoVQusm18FoLvzBx3UDwbkrD0LU9V5AtbvbwbNoGUIy+ptBXE1CQXo5j0Fr2vdBf1/wwedy9MCXRK3BKLYNQuPFt8HoDeRB+cKdwaYHmMGtxP8+oZEeweZ54UG4uKXBJmz9wbMc4sHwVsHBvvjrwesrCEHDrUpA0UGVQbPTxEEWGppBeBcAwbKVB0LFxE3BXa7nvmUAdkD3ASFC6wYpQdE1+0AKt69Bj8GCwTiaiEEOxYNAppfev/785cGMtZtBjEexQcBmQEGtXKpB8dIHQnDc8cBUpLJBu4khwVIqNMFKPbzBsiauQVSbq8GK16JB4zzSQZc4gMFhGc6/eqTXQPnfpUFJadPB3tpXQetdj8FnddZB98SXwIbIpME+KLJArVWmQfZrssEV+P3AoYrPQQOOJcFDW09AKiqowULc/cGjwcVBW0+mwT9q9EERRHFBuidZQU/UEUFsse/Ama+zQe/hE0DWUgFC0SC9wHx6xkEGVY/BE0mMQbhOEkIEwXRB+M8fQA2bDEIU//1BVdmKwS5NIULkzW7BdlKAwbhSVcBdfibBHJYpwawUGUK2a5zA3tR9wWuoj0Eow3LBY0lcwJSrg8FfiORBsZwJQskb7EHMMGbBZ0j7QY+A5UE+KfPBOoKSQcmVOEBztzjBFcFJwZstwsEwS8VBevMEQhvRm8FM4r++fPv7Qd78gUFUkTjBtBXvv6Xv/b8NsMxAriPpwZI+TUHYmVjBOcPcwQJYHkFvD6BBGdOIQIEFpkGaeeRBANbbwQLfocEXbsDB9Ft8Pxj88kE0aArC6v/JQUsFAsIiPZbBCO0PQdhjx0GQXdjBirVYQQd40UD41fC/uwzDwJRsKD0vaLdBIWXnQQKzB8LidCQ/LMw8wdGKBMGEgbzB6dmJwca/4j8audFBtwUBQu0QZsGwUvZA9yEHQuCS0sGyTAfCb2kCQT1qxMEuunTBp0L5QQAbd8H0yDfBeZwkwGdHWsFrcQJCj2TbQSRik0AG5IjAXg2GQXEfOMEonZbBmPwgv/dha8HSX3vAwqpAQcprQ8ETtdhAn85nQfI1AsKEiZ1BEzeTQPJMFMFvwKtAa0jFwWVLlb+Ry8TB/TZWwefEqEHzNAPCyz7qwfGDOcGGSl3AQvyHQI34uL6ASbXBG732wWL+NEAwwB7BfJwSwdZNlEAn2G3A6dm3QbTlDkGHk1jBR55SQeVY7cB8UxBCE7LBQat+o8E=",
          "dtype": "f4"
         },
         "xaxis": "x",
         "y": {
          "bdata": "MqEbwTzogUHtAl1BCxEFQYtcEEGXSt8/An5oQTHab0EPeVVB2A5NQUxqW8HWAj5BhCP1wKsTLkCiuVVBKnrDv1dQf8Ezoy5BS3qHQWH6bEDb4SnApEc5QYfoZUGJqBxAvmPjwcuaEkBKTx/B9ANdQdqHTL9kvqTBEDgaQTQQy8H84T0/68lSQeF8msE4ZHZBrod/wDmWuUDHQ6FB3KQLwVq/w8FD6iS/+NwKQY9co0BcwHBB9nB2QFGwCEETaVjA80uQQBt3eEG7poBBkEajQaPkEEElUunBZgALQBN+qkGIusrBGcQKwC3qOsGXth1AyF4dwR2jv0CbarLBDoUSQIgQ1kFaeYrBw3iVQfeIK0HPRYBAU/CqwTh2ZUGKTlvBfj2wvb+xskB1YQpBeBDaQckbD0HB0BC/5q+GwfGamsG34KzBcLRiwcRNjsGKhIK/l/cRwRFk3MByfYZBym3SQFXwkEFiAHNBCiO3QYw7qEFxRK5BCcG7wYOR1D8iLwBCQ1e8QW70ej4J+Iu/dVPBPw8MaUEEictAYNktwNvyt0GCjbJBeK28wdxno8FuxjzAvkbDwSttfEDE+TXAUs/DweIBy78ID9hA+++pwcu1+0AzRaNBqrNXwL31NkFhFRJA9uAzwRWDAEGvnNHBgZG1v5HsT0FrmdfBA1cIQqB0AEHGzYvBBesjQUDSYEDwsgRBSZwGQZgwzUF6RxFAP4DDQK7A50ABg3pBVpZWwdivrUAA1AvBbQ3dwSJPOkF7UFfB5+oHwpqLEkElZ/9AdNUhQWdLmMDDLXBBeA43wRy8lcF4h7TB3ombQMCJ58FIBi5Bi5yJQbDoZUAcgT+7yQSpQBDYdcCp885B+37iwes6WEEkgR++bySAwUI0XkAurbFBuw3yQNhnE0AJ0pJBsGs4wXf9LD9fpZzBZBIlwbV2l8HNjp1BHubwvw/doEHN3rzBIdyrwdnJsUHLhoBB2cwqQWqstkAHCXpBhj83wAaEmEGO+o5BsXDGwWt+vMHWgoVBcUxVwYktqEGPd9DBjZ3kQFWkGcHK8z1AVbEuPyV/6T+X9orAyc6LQUfi20E76JfBGov+wffUX8FcFUhBfM8DQYjy0kErBX9Au28FQd0YL0AZaNrBYbAkQWkC38GohjS/6sjAQWYyf8G32y/BIH9pQawHPEGsrITBZ7j6QFUy5EEmR2FBJMm4wfyDnsEKtNJBUCT6QV2IrUFfIx1AkhiAQT1JmkHkvoxBI8k8wCg2gMApK6PB7Q0Zv58dL8Gvw53BG5PQwOnMkEH3tSBB7dWGwReBvEDtabnBaT55wdHcEkHYHRpBfgaeQTPePkE=",
          "dtype": "f4"
         },
         "yaxis": "y"
        },
        {
         "hoverinfo": "text",
         "hovertext": [
          "answer 0",
          "answer 1",
          "answer 2",
          "answer 3",
          "answer 4",
          "answer 5",
          "answer 6",
          "answer 7",
          "answer 8",
          "answer 9",
          "answer 10",
          "answer 11",
          "answer 12",
          "answer 13",
          "answer 14",
          "answer 15",
          "answer 16",
          "answer 17",
          "answer 18",
          "answer 19",
          "answer 20",
          "answer 21",
          "answer 22",
          "answer 23",
          "answer 24",
          "answer 25",
          "answer 26",
          "answer 27",
          "answer 28",
          "answer 29",
          "answer 30",
          "answer 31",
          "answer 32",
          "answer 33",
          "answer 34",
          "answer 35",
          "answer 36",
          "answer 37",
          "answer 38",
          "answer 39",
          "answer 40",
          "answer 41",
          "answer 42",
          "answer 43",
          "answer 44",
          "answer 45",
          "answer 46",
          "answer 47",
          "answer 48",
          "answer 49",
          "answer 50",
          "answer 51",
          "answer 52",
          "answer 53",
          "answer 54",
          "answer 55",
          "answer 56",
          "answer 57",
          "answer 58",
          "answer 59",
          "answer 60",
          "answer 61",
          "answer 62",
          "answer 63",
          "answer 64",
          "answer 65",
          "answer 66",
          "answer 67",
          "answer 68",
          "answer 69",
          "answer 70",
          "answer 71",
          "answer 72",
          "answer 73",
          "answer 74",
          "answer 75",
          "answer 76",
          "answer 77",
          "answer 78",
          "answer 79",
          "answer 80",
          "answer 81",
          "answer 82",
          "answer 83",
          "answer 84",
          "answer 85",
          "answer 86",
          "answer 87",
          "answer 88",
          "answer 89",
          "answer 90",
          "answer 91",
          "answer 92",
          "answer 93",
          "answer 94",
          "answer 95",
          "answer 96",
          "answer 97",
          "answer 98",
          "answer 99",
          "answer 100",
          "answer 101",
          "answer 102",
          "answer 103",
          "answer 104",
          "answer 105",
          "answer 106",
          "answer 107",
          "answer 108",
          "answer 109",
          "answer 110",
          "answer 111",
          "answer 112",
          "answer 113",
          "answer 114",
          "answer 115",
          "answer 116",
          "answer 117",
          "answer 118",
          "answer 119",
          "answer 120",
          "answer 121",
          "answer 122",
          "answer 123",
          "answer 124",
          "answer 125",
          "answer 126",
          "answer 127",
          "answer 128",
          "answer 129",
          "answer 130",
          "answer 131",
          "answer 132",
          "answer 133",
          "answer 134",
          "answer 135",
          "answer 136",
          "answer 137",
          "answer 138",
          "answer 139",
          "answer 140",
          "answer 141",
          "answer 142",
          "answer 143",
          "answer 144",
          "answer 145",
          "answer 146",
          "answer 147",
          "answer 148",
          "answer 149",
          "answer 150",
          "answer 151",
          "answer 152",
          "answer 153",
          "answer 154",
          "answer 155",
          "answer 156",
          "answer 157",
          "answer 158",
          "answer 159",
          "answer 160",
          "answer 161",
          "answer 162",
          "answer 163",
          "answer 164",
          "answer 165",
          "answer 166",
          "answer 167",
          "answer 168",
          "answer 169",
          "answer 170",
          "answer 171",
          "answer 172",
          "answer 173",
          "answer 174",
          "answer 175",
          "answer 176",
          "answer 177",
          "answer 178",
          "answer 179",
          "answer 180",
          "answer 181",
          "answer 182",
          "answer 183",
          "answer 184",
          "answer 185",
          "answer 186",
          "answer 187",
          "answer 188",
          "answer 189",
          "answer 190",
          "answer 191",
          "answer 192",
          "answer 193",
          "answer 194",
          "answer 195",
          "answer 196",
          "answer 197",
          "answer 198",
          "answer 199",
          "answer 200",
          "answer 201",
          "answer 202",
          "answer 203",
          "answer 204",
          "answer 205",
          "answer 206",
          "answer 207",
          "answer 208",
          "answer 209",
          "answer 210",
          "answer 211",
          "answer 212",
          "answer 213",
          "answer 214",
          "answer 215",
          "answer 216",
          "answer 217",
          "answer 218",
          "answer 219",
          "answer 220",
          "answer 221",
          "answer 222",
          "answer 223",
          "answer 224",
          "answer 225",
          "answer 226",
          "answer 227",
          "answer 228",
          "answer 229",
          "answer 230",
          "answer 231",
          "answer 232",
          "answer 233",
          "answer 234",
          "answer 235",
          "answer 236",
          "answer 237",
          "answer 238",
          "answer 239",
          "answer 240",
          "answer 241",
          "answer 242",
          "answer 243",
          "answer 244",
          "answer 245",
          "answer 246",
          "answer 247",
          "answer 248",
          "answer 249",
          "answer 250"
         ],
         "legendgroup": "answer",
         "marker": {
          "color": "#EF553B",
          "symbol": "circle"
         },
         "mode": "markers",
         "name": "answer",
         "orientation": "v",
         "showlegend": true,
         "type": "scatter",
         "x": {
          "bdata": "gCgAwuWWzcEHgeLA0IYXQeTZ+EEbF4K/xr26we+cwME1oUDB3oDCQeKk9cCXOR5Bm4XuweNhxEG/2iHBVORvwDZMx8CBVqXBAU+WQaOXUsESe6fB+VIJQkHWysEObfTBhUHvwJNPDELQ1CbBm4faweVtGUK34JlBHJk8QQf1kEEGwdxBn9LuwYyj6cDGp7rBukMOQhhyusGB9+RBq3qawUI6T8Elfmw/iN8hwbRp/UFlG57BAi75wYv/3cF6tcDBZA1/wd/6BEEFsaPAN8aSQbttrMFs0phBnAIBwSqACEK+1EbBC6ojwO5Cvj/hoB9C7kJxQDtxTsBSWb9BTCeCwQ4AikGp5ltA0C26vhMD4cGBjZ9ByEy5QVDATkH/JalB7EEIQu0K9sCGLrdByYUiwdKoLMH8nnC+sniiQSJ6pcHjQ6hBeSjRQRsEecHnPpLBUSzjQCuMpEHENbvBwKRVQeWlzsHFKtRBvwqfwNEZpMHlhTjA1TSsQU2+Oz2Omv/A4/HPQdO6JMEw70NA7BqjwVuPAMK68clBF5miwb8P9EFz0nFBRwxYQWELEEFIJu3AbTpLwTfwO0B/Ff5BYvi/wFcLyUEig4/BBAc8wX8YFELpaW1BxV0YQJreC0JhnQBCh6QOwdTDHUJKUTzBAFR7wQ5AnMFNBhvB1zgpwV0oEkJGrI/Ak7x6wWsmiEGxp1DBbPdiwFwZfcGB8O9BM0MKQlef+kGd0WjB5g35QVtiBEIND+/BdREPwdR4N0D10zPBkTdKwSgyucFAewFC2L8BQjctdMGwoZvAPNEAQqYjhUGCVBzBm5S+v2sF8r/FZt5AXN3TwdDbTkFdZ1nBFoPYwWySHUHsgZ9B3i+GQOG5qEE7O+NBxQTbwTwTYME9eMDBfPeBP1gT80HVngrC+LXIQS+z5cGhj27B1O4VQTNGukFK1tbB8BlXQWG6zkAOxArAhKyywKgE4zx6XL1BU07pQbxlBsLvrmY/glE6wYNAAsGsZ7zBw2mEwarW5D/swJ7Bsrb/wP4BbsG+hOpAbqjsQTHO1cEsb2LBfgEDQeiCxsHN/1fBKJD4QfUwesFvkTfBuxAjwCOuWMEalgFCiIbfQU0rkUDIT4fA/VZ1wTnbIME1GpTB+O6CvzcScsF1s4nBdppBQR2MScGWlcpAD1BdQeOF9sH28JZBvceWQAG2D8Es5KjAZtjEwQ4Zq7/EoMPBw2JVweP9qUER5GHBoA2Ewd6xP8H5SHXAiadfwLHLJL/waIjBhffrwVEBqz9hrQXBGTkWwZoEgkCV/ifAP1S4QY6HFkGWKVTBX2ZKQdjP8MC9cglCNZzAQYx8qME=",
          "dtype": "f4"
         },
         "xaxis": "x",
         "y": {
          "bdata": "ctwfwQUnPkE3El5BncENQYg8/EB6bu4/YildQR0RO0HcJ1VB9VtYQXDiUcHJcjZBA8zbwPVNOEDw6VzBSq0KwMvDhcEKqCNBByCFQS6Ha0A5g4TBqB+BQMMWVEF06OY/Fc/ZwRMM6z+iGCHB3elLQav4cb/VKaDBuPAZQbJ2yMHqkLXA5hw2QVv4kMFjtUNBQTaEwBj/ykCUiKFBjWcMwYbamcEc4i+/ArYDQX1XkkBGOmxBpY+FQGc2E0FlJoXAlcjrwK57d0Fg6EXB+MqkQQmCgsEczufB/64HQPpaqkHC5snBT1KqwBDcg8E3Jx1AdJpgQK70XMEEdK3BXuT6P59v1UG8CInB+1KAwfIXMkE28opATAyqwcu7X0F+XlbB2OVrvoR9rEAwlQJBaf7XQSHo8EDH3V7BUtKRwSGtkcGjCJ3Bz1tfwUnqjcF1bTvBpvAQwYzC5sCQ9yNBCzTKQHS47UCBdWxBPUS3QXakpUFVEwvBod6jwSC/7MABv/1BZ4S6QRLxCr79bxq/jT3svtvkbUFF1tFAC3opwL2VtkFERK5BYTK8wSplo8EoDGHAirElwe5bbEDIfwPA8LPBwa4Swr8djtBAZw82wQMOtkCVIKNB1MF7wOvOPkFMLytAVR0+wZeT+ECSYNbBARqrv6h2zUBbotfBMm4IQreroUAeYorBHv8fQRIUS0Antc3Aev0BQYk5QsGx23vA9bG5QOJMvUAUbXdBYNBlwWXblkBSMBTBLdSBwSFSOEGezkvBJ5YHwuDxD0GvPdtAlPAUQRAQE8G9hrzAPQ9owUqzlsFPKbfBQgqcQN/d48Gq5TNBT4UgQRqpXUDgVNG9VIG2QD1igMCzDNJBwOrhwXjvV0FISuO+HFN/wVHShcHPQ7BBGjLfQJYqcEDudZNBM7A2wSkRZL9SxZvBK80iwVVZm8GUKZxBoy8RwNklpEHTVbjBIs2owWYkskFJU3FB5rAcQW99qUDweWRBocpNwJNCmEEuA4tBIvPHwR8NuMG7N3jBnLkbwUTXp0E9P9DBXhyhwL7WF8GwYx/BXv4iP/EC2j97MwfBcpyLQS8X2UHwX4/Bkwr/wZS5WsEJmT9BKRUGQQ8/0kELrG1Ab2aqwT1tBMGrTdrBGVYfQWMr28HaT9LAlLG+QQjehsGG3jfBQAtlQZ0xJUGX0ZPBpDv4QKN47kGcKlDBnAK4wZ6UnMHrE9RBdt73Qe7Jr0GYpwXBKRQIwTsImkG6q4tB954uwVACm8AF6HnB3WKtvkvgMcGAcozBOPTewOeCi0ErRBxBghqMwRiIr0CNkbLBu0Z1wS9hFEGBawxBPvmcQcluK0E=",
          "dtype": "f4"
         },
         "yaxis": "y"
        }
       ],
       "layout": {
        "height": 500,
        "legend": {
         "title": {
          "text": "color"
         },
         "tracegroupgap": 0
        },
        "margin": {
         "t": 60
        },
        "template": {
         "data": {
          "bar": [
           {
            "error_x": {
             "color": "#2a3f5f"
            },
            "error_y": {
             "color": "#2a3f5f"
            },
            "marker": {
             "line": {
              "color": "#E5ECF6",
              "width": 0.5
             },
             "pattern": {
              "fillmode": "overlay",
              "size": 10,
              "solidity": 0.2
             }
            },
            "type": "bar"
           }
          ],
          "barpolar": [
           {
            "marker": {
             "line": {
              "color": "#E5ECF6",
              "width": 0.5
             },
             "pattern": {
              "fillmode": "overlay",
              "size": 10,
              "solidity": 0.2
             }
            },
            "type": "barpolar"
           }
          ],
          "carpet": [
           {
            "aaxis": {
             "endlinecolor": "#2a3f5f",
             "gridcolor": "white",
             "linecolor": "white",
             "minorgridcolor": "white",
             "startlinecolor": "#2a3f5f"
            },
            "baxis": {
             "endlinecolor": "#2a3f5f",
             "gridcolor": "white",
             "linecolor": "white",
             "minorgridcolor": "white",
             "startlinecolor": "#2a3f5f"
            },
            "type": "carpet"
           }
          ],
          "choropleth": [
           {
            "colorbar": {
             "outlinewidth": 0,
             "ticks": ""
            },
            "type": "choropleth"
           }
          ],
          "contour": [
           {
            "colorbar": {
             "outlinewidth": 0,
             "ticks": ""
            },
            "colorscale": [
             [
              0,
              "#0d0887"
             ],
             [
              0.1111111111111111,
              "#46039f"
             ],
             [
              0.2222222222222222,
              "#7201a8"
             ],
             [
              0.3333333333333333,
              "#9c179e"
             ],
             [
              0.4444444444444444,
              "#bd3786"
             ],
             [
              0.5555555555555556,
              "#d8576b"
             ],
             [
              0.6666666666666666,
              "#ed7953"
             ],
             [
              0.7777777777777778,
              "#fb9f3a"
             ],
             [
              0.8888888888888888,
              "#fdca26"
             ],
             [
              1,
              "#f0f921"
             ]
            ],
            "type": "contour"
           }
          ],
          "contourcarpet": [
           {
            "colorbar": {
             "outlinewidth": 0,
             "ticks": ""
            },
            "type": "contourcarpet"
           }
          ],
          "heatmap": [
           {
            "colorbar": {
             "outlinewidth": 0,
             "ticks": ""
            },
            "colorscale": [
             [
              0,
              "#0d0887"
             ],
             [
              0.1111111111111111,
              "#46039f"
             ],
             [
              0.2222222222222222,
              "#7201a8"
             ],
             [
              0.3333333333333333,
              "#9c179e"
             ],
             [
              0.4444444444444444,
              "#bd3786"
             ],
             [
              0.5555555555555556,
              "#d8576b"
             ],
             [
              0.6666666666666666,
              "#ed7953"
             ],
             [
              0.7777777777777778,
              "#fb9f3a"
             ],
             [
              0.8888888888888888,
              "#fdca26"
             ],
             [
              1,
              "#f0f921"
             ]
            ],
            "type": "heatmap"
           }
          ],
          "histogram": [
           {
            "marker": {
             "pattern": {
              "fillmode": "overlay",
              "size": 10,
              "solidity": 0.2
             }
            },
            "type": "histogram"
           }
          ],
          "histogram2d": [
           {
            "colorbar": {
             "outlinewidth": 0,
             "ticks": ""
            },
            "colorscale": [
             [
              0,
              "#0d0887"
             ],
             [
              0.1111111111111111,
              "#46039f"
             ],
             [
              0.2222222222222222,
              "#7201a8"
             ],
             [
              0.3333333333333333,
              "#9c179e"
             ],
             [
              0.4444444444444444,
              "#bd3786"
             ],
             [
              0.5555555555555556,
              "#d8576b"
             ],
             [
              0.6666666666666666,
              "#ed7953"
             ],
             [
              0.7777777777777778,
              "#fb9f3a"
             ],
             [
              0.8888888888888888,
              "#fdca26"
             ],
             [
              1,
              "#f0f921"
             ]
            ],
            "type": "histogram2d"
           }
          ],
          "histogram2dcontour": [
           {
            "colorbar": {
             "outlinewidth": 0,
             "ticks": ""
            },
            "colorscale": [
             [
              0,
              "#0d0887"
             ],
             [
              0.1111111111111111,
              "#46039f"
             ],
             [
              0.2222222222222222,
              "#7201a8"
             ],
             [
              0.3333333333333333,
              "#9c179e"
             ],
             [
              0.4444444444444444,
              "#bd3786"
             ],
             [
              0.5555555555555556,
              "#d8576b"
             ],
             [
              0.6666666666666666,
              "#ed7953"
             ],
             [
              0.7777777777777778,
              "#fb9f3a"
             ],
             [
              0.8888888888888888,
              "#fdca26"
             ],
             [
              1,
              "#f0f921"
             ]
            ],
            "type": "histogram2dcontour"
           }
          ],
          "mesh3d": [
           {
            "colorbar": {
             "outlinewidth": 0,
             "ticks": ""
            },
            "type": "mesh3d"
           }
          ],
          "parcoords": [
           {
            "line": {
             "colorbar": {
              "outlinewidth": 0,
              "ticks": ""
             }
            },
            "type": "parcoords"
           }
          ],
          "pie": [
           {
            "automargin": true,
            "type": "pie"
           }
          ],
          "scatter": [
           {
            "fillpattern": {
             "fillmode": "overlay",
             "size": 10,
             "solidity": 0.2
            },
            "type": "scatter"
           }
          ],
          "scatter3d": [
           {
            "line": {
             "colorbar": {
              "outlinewidth": 0,
              "ticks": ""
             }
            },
            "marker": {
             "colorbar": {
              "outlinewidth": 0,
              "ticks": ""
             }
            },
            "type": "scatter3d"
           }
          ],
          "scattercarpet": [
           {
            "marker": {
             "colorbar": {
              "outlinewidth": 0,
              "ticks": ""
             }
            },
            "type": "scattercarpet"
           }
          ],
          "scattergeo": [
           {
            "marker": {
             "colorbar": {
              "outlinewidth": 0,
              "ticks": ""
             }
            },
            "type": "scattergeo"
           }
          ],
          "scattergl": [
           {
            "marker": {
             "colorbar": {
              "outlinewidth": 0,
              "ticks": ""
             }
            },
            "type": "scattergl"
           }
          ],
          "scattermap": [
           {
            "marker": {
             "colorbar": {
              "outlinewidth": 0,
              "ticks": ""
             }
            },
            "type": "scattermap"
           }
          ],
          "scattermapbox": [
           {
            "marker": {
             "colorbar": {
              "outlinewidth": 0,
              "ticks": ""
             }
            },
            "type": "scattermapbox"
           }
          ],
          "scatterpolar": [
           {
            "marker": {
             "colorbar": {
              "outlinewidth": 0,
              "ticks": ""
             }
            },
            "type": "scatterpolar"
           }
          ],
          "scatterpolargl": [
           {
            "marker": {
             "colorbar": {
              "outlinewidth": 0,
              "ticks": ""
             }
            },
            "type": "scatterpolargl"
           }
          ],
          "scatterternary": [
           {
            "marker": {
             "colorbar": {
              "outlinewidth": 0,
              "ticks": ""
             }
            },
            "type": "scatterternary"
           }
          ],
          "surface": [
           {
            "colorbar": {
             "outlinewidth": 0,
             "ticks": ""
            },
            "colorscale": [
             [
              0,
              "#0d0887"
             ],
             [
              0.1111111111111111,
              "#46039f"
             ],
             [
              0.2222222222222222,
              "#7201a8"
             ],
             [
              0.3333333333333333,
              "#9c179e"
             ],
             [
              0.4444444444444444,
              "#bd3786"
             ],
             [
              0.5555555555555556,
              "#d8576b"
             ],
             [
              0.6666666666666666,
              "#ed7953"
             ],
             [
              0.7777777777777778,
              "#fb9f3a"
             ],
             [
              0.8888888888888888,
              "#fdca26"
             ],
             [
              1,
              "#f0f921"
             ]
            ],
            "type": "surface"
           }
          ],
          "table": [
           {
            "cells": {
             "fill": {
              "color": "#EBF0F8"
             },
             "line": {
              "color": "white"
             }
            },
            "header": {
             "fill": {
              "color": "#C8D4E3"
             },
             "line": {
              "color": "white"
             }
            },
            "type": "table"
           }
          ]
         },
         "layout": {
          "annotationdefaults": {
           "arrowcolor": "#2a3f5f",
           "arrowhead": 0,
           "arrowwidth": 1
          },
          "autotypenumbers": "strict",
          "coloraxis": {
           "colorbar": {
            "outlinewidth": 0,
            "ticks": ""
           }
          },
          "colorscale": {
           "diverging": [
            [
             0,
             "#8e0152"
            ],
            [
             0.1,
             "#c51b7d"
            ],
            [
             0.2,
             "#de77ae"
            ],
            [
             0.3,
             "#f1b6da"
            ],
            [
             0.4,
             "#fde0ef"
            ],
            [
             0.5,
             "#f7f7f7"
            ],
            [
             0.6,
             "#e6f5d0"
            ],
            [
             0.7,
             "#b8e186"
            ],
            [
             0.8,
             "#7fbc41"
            ],
            [
             0.9,
             "#4d9221"
            ],
            [
             1,
             "#276419"
            ]
           ],
           "sequential": [
            [
             0,
             "#0d0887"
            ],
            [
             0.1111111111111111,
             "#46039f"
            ],
            [
             0.2222222222222222,
             "#7201a8"
            ],
            [
             0.3333333333333333,
             "#9c179e"
            ],
            [
             0.4444444444444444,
             "#bd3786"
            ],
            [
             0.5555555555555556,
             "#d8576b"
            ],
            [
             0.6666666666666666,
             "#ed7953"
            ],
            [
             0.7777777777777778,
             "#fb9f3a"
            ],
            [
             0.8888888888888888,
             "#fdca26"
            ],
            [
             1,
             "#f0f921"
            ]
           ],
           "sequentialminus": [
            [
             0,
             "#0d0887"
            ],
            [
             0.1111111111111111,
             "#46039f"
            ],
            [
             0.2222222222222222,
             "#7201a8"
            ],
            [
             0.3333333333333333,
             "#9c179e"
            ],
            [
             0.4444444444444444,
             "#bd3786"
            ],
            [
             0.5555555555555556,
             "#d8576b"
            ],
            [
             0.6666666666666666,
             "#ed7953"
            ],
            [
             0.7777777777777778,
             "#fb9f3a"
            ],
            [
             0.8888888888888888,
             "#fdca26"
            ],
            [
             1,
             "#f0f921"
            ]
           ]
          },
          "colorway": [
           "#636efa",
           "#EF553B",
           "#00cc96",
           "#ab63fa",
           "#FFA15A",
           "#19d3f3",
           "#FF6692",
           "#B6E880",
           "#FF97FF",
           "#FECB52"
          ],
          "font": {
           "color": "#2a3f5f"
          },
          "geo": {
           "bgcolor": "white",
           "lakecolor": "white",
           "landcolor": "#E5ECF6",
           "showlakes": true,
           "showland": true,
           "subunitcolor": "white"
          },
          "hoverlabel": {
           "align": "left"
          },
          "hovermode": "closest",
          "mapbox": {
           "style": "light"
          },
          "paper_bgcolor": "white",
          "plot_bgcolor": "#E5ECF6",
          "polar": {
           "angularaxis": {
            "gridcolor": "white",
            "linecolor": "white",
            "ticks": ""
           },
           "bgcolor": "#E5ECF6",
           "radialaxis": {
            "gridcolor": "white",
            "linecolor": "white",
            "ticks": ""
           }
          },
          "scene": {
           "xaxis": {
            "backgroundcolor": "#E5ECF6",
            "gridcolor": "white",
            "gridwidth": 2,
            "linecolor": "white",
            "showbackground": true,
            "ticks": "",
            "zerolinecolor": "white"
           },
           "yaxis": {
            "backgroundcolor": "#E5ECF6",
            "gridcolor": "white",
            "gridwidth": 2,
            "linecolor": "white",
            "showbackground": true,
            "ticks": "",
            "zerolinecolor": "white"
           },
           "zaxis": {
            "backgroundcolor": "#E5ECF6",
            "gridcolor": "white",
            "gridwidth": 2,
            "linecolor": "white",
            "showbackground": true,
            "ticks": "",
            "zerolinecolor": "white"
           }
          },
          "shapedefaults": {
           "line": {
            "color": "#2a3f5f"
           }
          },
          "ternary": {
           "aaxis": {
            "gridcolor": "white",
            "linecolor": "white",
            "ticks": ""
           },
           "baxis": {
            "gridcolor": "white",
            "linecolor": "white",
            "ticks": ""
           },
           "bgcolor": "#E5ECF6",
           "caxis": {
            "gridcolor": "white",
            "linecolor": "white",
            "ticks": ""
           }
          },
          "title": {
           "x": 0.05
          },
          "xaxis": {
           "automargin": true,
           "gridcolor": "white",
           "linecolor": "white",
           "ticks": "",
           "title": {
            "standoff": 15
           },
           "zerolinecolor": "white",
           "zerolinewidth": 2
          },
          "yaxis": {
           "automargin": true,
           "gridcolor": "white",
           "linecolor": "white",
           "ticks": "",
           "title": {
            "standoff": 15
           },
           "zerolinecolor": "white",
           "zerolinewidth": 2
          }
         }
        },
        "width": 600,
        "xaxis": {
         "anchor": "y",
         "domain": [
          0,
          1
         ],
         "title": {
          "text": "0"
         }
        },
        "yaxis": {
         "anchor": "x",
         "domain": [
          0,
          1
         ],
         "title": {
          "text": "1"
         }
        }
       }
      }
     },
     "metadata": {},
     "output_type": "display_data"
    }
   ],
   "source": [
    "from sklearn.manifold import TSNE\n",
    "import plotly.express as px\n",
    "\n",
    "tsne = TSNE(n_components=2, perplexity=30, random_state=42, learning_rate=\"auto\", early_exaggeration=5.0, n_iter=5000, init=\"pca\")\n",
    "embedding = torch.cat([embedding_Q,embedding_A],dim=0)        #torch.cat([embedding_Q[torch.randperm(embedding_Q.size(0))],embedding_A[torch.randperm(embedding_A.size(0))]],dim=0)\n",
    "show_dims2 = tsne.fit_transform(embedding.numpy())\n",
    "\n",
    "\n",
    "color_Q = [\"question\" for i in range(len(embedding_Q))]\n",
    "color_A = [\"answer\" for i in range(len(embedding_A))]\n",
    "category_Q = [\"question \" + str(i) for i in range(len(embedding_Q))]\n",
    "category_A = [\"answer \" + str(i) for i in range(len(embedding_A))]\n",
    "\n",
    "color = color_Q + color_A\n",
    "category = category_Q + category_A\n",
    "\n",
    "x = [x for x, y in show_dims2]\n",
    "y = [y for x, y in show_dims2]\n",
    "fig = px.scatter(\n",
    "    show_dims2, x=0, y=1,\n",
    "    width=600, height=500,\n",
    "    color = color,\n",
    "    hover_name=category,\n",
    ")\n",
    "fig.update_traces(\n",
    "hovertemplate=None,\n",
    "hoverinfo='text'\n",
    ")\n",
    "fig.show()"
   ]
  },
  {
   "cell_type": "code",
   "execution_count": 10,
   "metadata": {},
   "outputs": [],
   "source": [
    "#Function for doing an ablation. \n",
    "\n",
    "#zero ablation: set activation to zero\n",
    "#random ablation: set to random value (eg. Gauss with mean 0 and std 1)\n",
    "#mean ablation: mean value of all activations in a given layer\n",
    "\n",
    "\n",
    "\n",
    "from types import MethodType\n",
    "\n",
    "'''\n",
    "\n",
    "def ablation(layer, neuron_idx, data, type = \"zero\"):\n",
    "    original_forward = model.encoder.layer[layer].output.forward     #mlp.wo.forward    #mlp.layernorm\n",
    "\n",
    "    if type == \"zero\": \n",
    "        new_activation = 0.0\n",
    "    if type == \"mean\": \n",
    "        new_activation = np.sum(np.array([original_forward[:,:,i]] for i in range(len(emb_dim))))\n",
    "    if type == \"random\": \n",
    "        new_activation = np.random.normal(0.0,1.0)\n",
    "    if type != \"zero\" and type != \"mean\" and type != \"random\": \n",
    "        raise ValueError(\"The type you wrote does not exist! Use either zero, mean or random for the ablation type\")\n",
    "\n",
    "    def change_forward(self,*args,**kwargs):      #self, x\n",
    "        our = original_forward(*args,**kwargs).clone()        #original_forward(x)\n",
    "        our[:,:,neuron_idx] = new_activation     #[batch_size (number of prompts), seq_len (number of tokens), hidden_dim)\n",
    "        return our     #torch.zeros_like(original_wo(*args, **kwargs)\n",
    "    \n",
    "    #model.encoder.layer[layer].mlp.forward = change_forward      #mlp.wo.forward\n",
    "    model.encoder.layer[layer].output.forward = MethodType(change_forward, model.encoder.layer[layer].output)       #mlp.layernorm\n",
    "    new_embeddings = embed(data,model,tokenizer(data, padding = True, truncation=True, return_tensors='pt'))                           #embed(text for text in data)\n",
    "    model.encoder.layer[layer].output.forward = original_forward     #mlp.wo.forward     #mlp.layernorm\n",
    "\n",
    "    return new_embeddings\n",
    "\n",
    "'''\n",
    "\n",
    "\n",
    "def ablation(layer, neuron_idx, data, type = \"zero\"):\n",
    "    original_forward = model.encoder.layer[layer].output.forward     #mlp.wo.forward    #mlp.layernorm\n",
    "\n",
    "    if type == \"zero\": \n",
    "        new_activation = 0.0\n",
    "    if type == \"mean\": \n",
    "        new_activation = np.sum(np.array([original_forward[:,:,i]] for i in range(len(emb_dim))))\n",
    "    if type == \"random\": \n",
    "        new_activation = np.random.normal(0.0,1.0)\n",
    "    if type != \"zero\" and type != \"mean\" and type != \"random\": \n",
    "        raise ValueError(\"The type you wrote does not exist! Use either zero, mean or random for the ablation type\")\n",
    "\n",
    "    def change_forward(self,*args,**kwargs):      #self, x\n",
    "        our = original_forward(*args,**kwargs).clone()        #original_forward(x)\n",
    "        our[:,:,neuron_idx] = new_activation     #[batch_size (number of prompts), seq_len (number of tokens), hidden_dim)\n",
    "        return our     #torch.zeros_like(original_wo(*args, **kwargs)\n",
    "    \n",
    "    #model.encoder.layer[layer].mlp.forward = change_forward      #mlp.wo.forward\n",
    "    model.encoder.layer[layer].output.forward = MethodType(change_forward, model.encoder.layer[layer].output)       #mlp.layernorm\n",
    "    new_embeddings = embed(data,model,tokenizer(data, padding = True, truncation=True, return_tensors='pt'))                           #embed(text for text in data)\n",
    "    model.encoder.layer[layer].output.forward = original_forward     #mlp.wo.forward     #mlp.layernorm\n",
    "\n",
    "    return new_embeddings\n",
    "\n",
    "    \n"
   ]
  },
  {
   "cell_type": "code",
   "execution_count": 11,
   "metadata": {},
   "outputs": [
    {
     "data": {
      "text/plain": [
       "'\\n\\nfrom types import MethodType\\nimport torch.nn as nn\\n\\n# Dummy module with forward\\nclass DummyMLP(nn.Module):\\n    def forward(self, x):\\n        return x * 2\\n\\n# Model setup\\nmodel = nn.Module()\\nmodel.mlp = DummyMLP()\\n\\n# Save original forward\\noriginal_forward = model.mlp.forward\\n\\n# Define new forward WITH `self`\\ndef change_forward(self, x):\\n    out = original_forward(x)\\n    out[:, 0] = 0  # example change\\n    return out\\n\\n# Bind correctly\\nmodel.mlp.forward = MethodType(change_forward, model.mlp)\\n\\n# Test it\\nx = torch.ones(3, 5)\\nprint(model.mlp(x))  # Should work, no errors\\n\\n'"
      ]
     },
     "execution_count": 11,
     "metadata": {},
     "output_type": "execute_result"
    }
   ],
   "source": [
    "'''\n",
    "\n",
    "from types import MethodType\n",
    "import torch.nn as nn\n",
    "\n",
    "# Dummy module with forward\n",
    "class DummyMLP(nn.Module):\n",
    "    def forward(self, x):\n",
    "        return x * 2\n",
    "\n",
    "# Model setup\n",
    "model = nn.Module()\n",
    "model.mlp = DummyMLP()\n",
    "\n",
    "# Save original forward\n",
    "original_forward = model.mlp.forward\n",
    "\n",
    "# Define new forward WITH `self`\n",
    "def change_forward(self, x):\n",
    "    out = original_forward(x)\n",
    "    out[:, 0] = 0  # example change\n",
    "    return out\n",
    "\n",
    "# Bind correctly\n",
    "model.mlp.forward = MethodType(change_forward, model.mlp)\n",
    "\n",
    "# Test it\n",
    "x = torch.ones(3, 5)\n",
    "print(model.mlp(x))  # Should work, no errors\n",
    "\n",
    "'''"
   ]
  },
  {
   "cell_type": "markdown",
   "metadata": {},
   "source": [
    "Function for doing an activation patching. Returns cosine similarity and L2 norm difference between the embeddings of the corrupted and clean prompts. "
   ]
  },
  {
   "cell_type": "code",
   "execution_count": 12,
   "metadata": {},
   "outputs": [
    {
     "data": {
      "text/plain": [
       "'\\ndef activation_patching(orig_prompt, corr_prompt, layer): \\n    #orig_prompt_tokens = tokenizer(orig_prompt, return_tensors = \"pt\", padding = \"max_length\", max_length = 60, truncation = True)\\n    #corr_prompt_tokens = tokenizer(corr_prompt, return_tensors = \"pt\", padding = \"max_length\", max_length = 60, truncation = True)\\n    orig_embeddings = embed(orig_prompt,model,tokenizer)\\n\\n\\n\\n    def reg_hook(module, inp, out): \\n        orig_output = out.detach()\\n    reg_handle = model.encoder.layer[layer].mlp.layernorm.register_forward_hook(reg_hook)    #mlp.wo.register_forward_hook\\n\\n    corr_embeddings = embed(corr_prompt,model,tokenizer)\\n\\n    reg_handle.remove()\\n\\n    return F.cosine_similarity((orig_embeddings.pooler_output.detach(), corr_embeddings.pooler_output.detach())), torch.norm(orig_embeddings.pooler_output - corr_embeddings.pooler_output, p=2)\\n'"
      ]
     },
     "execution_count": 12,
     "metadata": {},
     "output_type": "execute_result"
    }
   ],
   "source": [
    "\n",
    "\n",
    "def activation_patching(orig_prompt, corr_prompt, layer,neuron_idx,max_tokens): \n",
    "\n",
    "    max_tokens = max(len(tokenizer(orig_prompt)),len(tokenizer(corr_prompt)))\n",
    "    \n",
    "    clean_neuron = []\n",
    "\n",
    "    def hook(module,inp,out): \n",
    "        clean_neuron.append(out[:,:,neuron_idx].detach())\n",
    "        print(clean_neuron[0].shape)\n",
    "    \n",
    "    handle = model.encoder.layer[layer].output.register_forward_hook(hook)    #mlp.layernorm\n",
    "    orig_embeddings = embed(orig_prompt,model,tokenizer(orig_prompt, padding = \"max_length\", max_length = max_tokens, truncation=True, return_tensors='pt'))\n",
    "    handle.remove()\n",
    "\n",
    "    def patching_hook(module, inp, out): \n",
    "        orig_output = out.clone()\n",
    "        orig_output[:,:,neuron_idx] = clean_neuron[0]\n",
    "        return orig_output\n",
    "\n",
    "    patch_handle = model.encoder.layer[layer].output.register_forward_hook(patching_hook)    #mlp.wo.register_forward_hook   #mlp.layernorm\n",
    "\n",
    "    corr_embeddings = embed(corr_prompt,model,tokenizer(corr_prompt, padding = \"max_length\", max_length = max_tokens, truncation=True, return_tensors='pt'))\n",
    "\n",
    "    patch_handle.remove()\n",
    "\n",
    "    return F.cosine_similarity(orig_embeddings, corr_embeddings), torch.norm(orig_embeddings - corr_embeddings, p=2)\n",
    "\n",
    "\n",
    "'''\n",
    "def activation_patching(orig_prompt, corr_prompt, layer): \n",
    "    #orig_prompt_tokens = tokenizer(orig_prompt, return_tensors = \"pt\", padding = \"max_length\", max_length = 60, truncation = True)\n",
    "    #corr_prompt_tokens = tokenizer(corr_prompt, return_tensors = \"pt\", padding = \"max_length\", max_length = 60, truncation = True)\n",
    "    orig_embeddings = embed(orig_prompt,model,tokenizer)\n",
    "\n",
    "    \n",
    "    \n",
    "    def reg_hook(module, inp, out): \n",
    "        orig_output = out.detach()\n",
    "    reg_handle = model.encoder.layer[layer].mlp.layernorm.register_forward_hook(reg_hook)    #mlp.wo.register_forward_hook\n",
    "\n",
    "    corr_embeddings = embed(corr_prompt,model,tokenizer)\n",
    "\n",
    "    reg_handle.remove()\n",
    "\n",
    "    return F.cosine_similarity((orig_embeddings.pooler_output.detach(), corr_embeddings.pooler_output.detach())), torch.norm(orig_embeddings.pooler_output - corr_embeddings.pooler_output, p=2)\n",
    "'''\n"
   ]
  },
  {
   "cell_type": "markdown",
   "metadata": {},
   "source": [
    "## Visualization\n",
    "\n",
    "Next we will implement some visualization techniques. These methods will be useful for plotting later, as we attempt to identify how the correct answers relate to the questions. "
   ]
  },
  {
   "cell_type": "code",
   "execution_count": 13,
   "metadata": {},
   "outputs": [],
   "source": [
    "import matplotlib.pyplot as plt\n",
    "\n",
    "def distance(embedding_Q, embedding_A): \n",
    "    cosine_distance = [1 - F.cosine_similarity(embedding_Q[i], embedding_A[i],dim=0) for i in range(len(embedding_Q))]\n",
    "    L2_distance = [torch.norm((embedding_Q[i] - embedding_A[i]), p = 2) for i in range(len(embedding_Q))]\n",
    "    manhattan_distance = torch.sum(torch.abs(embedding_Q - embedding_A),dim=1)\n",
    "\n",
    "    plt.plot(range(1,len(embedding_Q) + 1),cosine_distance,label=\"cosine distance\")\n",
    "    plt.plot(range(1,len(embedding_Q) + 1),L2_distance,label=\"L2 distance\")\n",
    "    #plt.plot(range(1,len(embedding_Q) + 1),manhattan_distance,label=\"Manhattan distance\")\n",
    "    plt.xlabel(\"Question #\")\n",
    "    plt.legend()\n",
    "    plt.ylabel(\"Distance\")\n",
    "    plt.grid()\n",
    "    plt.show()"
   ]
  },
  {
   "cell_type": "code",
   "execution_count": 14,
   "metadata": {},
   "outputs": [
    {
     "data": {
      "image/png": "[encoded data removed]",
      "text/plain": [
       "<Figure size 640x480 with 1 Axes>"
      ]
     },
     "metadata": {},
     "output_type": "display_data"
    }
   ],
   "source": [
    "distance(embedding_Q[:30],embedding_A[:30])"
   ]
  },
  {
   "cell_type": "code",
   "execution_count": 15,
   "metadata": {},
   "outputs": [
    {
     "name": "stdout",
     "output_type": "stream",
     "text": [
      "tensor(0.8353)\n",
      "tensor(1.2392)\n",
      "tensor(19.5258)\n"
     ]
    }
   ],
   "source": [
    "\n",
    "\n",
    "print(1 - F.cosine_similarity(embedding_Q[np.random.randint(1,250)], embedding_Q[np.random.randint(1,250)],dim=0))\n",
    "print(torch.norm((embedding_Q[np.random.randint(1,250)] - embedding_Q[np.random.randint(1,250)]),p=2))\n",
    "print(torch.sum(torch.abs(embedding_Q[np.random.randint(1,250)] - embedding_A[np.random.randint(1,250)])))\n",
    "\n"
   ]
  },
  {
   "cell_type": "code",
   "execution_count": 16,
   "metadata": {},
   "outputs": [
    {
     "name": "stdout",
     "output_type": "stream",
     "text": [
      "torch.Size([50, 384])\n",
      "0.76\n"
     ]
    }
   ],
   "source": [
    "def closest_neighbors(embedding_Q,embedding_A,k): \n",
    "    answer_is_near = 0\n",
    "    embedding = torch.cat([embedding_Q,embedding_A],dim=0)\n",
    "    for i in range(len(embedding_Q)): \n",
    "        distances, indices = torch.topk(-torch.norm(embedding[i] - embedding,dim=1),k)\n",
    "        if torch.isin(i+len(embedding_Q),indices): \n",
    "            answer_is_near += 1\n",
    "    return answer_is_near/len(embedding_Q)\n",
    "\n",
    "print(embedding_Q[:50].shape)\n",
    "\n",
    "print(closest_neighbors(embedding_Q[:50],embedding_A[:50],2))\n",
    "        \n"
   ]
  },
  {
   "cell_type": "markdown",
   "metadata": {},
   "source": [
    "## Testing the code \n",
    "\n",
    "# Ablation\n",
    "\n",
    "We will now test our code that implements activation patching and ablation. For now, we just test it on random neurons and MLP layers to see whether the fraction of questions containing their answers as nearest neighbors have changed appreciably. \n",
    "\n"
   ]
  },
  {
   "cell_type": "code",
   "execution_count": 17,
   "metadata": {},
   "outputs": [
    {
     "name": "stdout",
     "output_type": "stream",
     "text": [
      "0.72\n"
     ]
    }
   ],
   "source": [
    "ablated_questions = ablation(5,list(range(50,360)),questions[:50],type=\"zero\")\n",
    "ablated_answers = ablation(5,list(range(50,360)),answers[:50],type=\"zero\")\n",
    "\n",
    "print(closest_neighbors(ablated_questions,ablated_answers,2))\n",
    "\n"
   ]
  },
  {
   "cell_type": "code",
   "execution_count": 18,
   "metadata": {},
   "outputs": [
    {
     "data": {
      "image/png": "[encoded data removed]",
      "text/plain": [
       "<Figure size 640x480 with 1 Axes>"
      ]
     },
     "metadata": {},
     "output_type": "display_data"
    },
    {
     "data": {
      "image/png": "[encoded data removed]",
      "text/plain": [
       "<Figure size 640x480 with 1 Axes>"
      ]
     },
     "metadata": {},
     "output_type": "display_data"
    }
   ],
   "source": [
    "distance(ablated_questions,ablated_answers)\n",
    "distance(embedding_Q[:50],embedding_A[:50])\n",
    "\n"
   ]
  },
  {
   "cell_type": "markdown",
   "metadata": {},
   "source": [
    "# Activation patching\n",
    "\n"
   ]
  },
  {
   "cell_type": "code",
   "execution_count": 19,
   "metadata": {},
   "outputs": [
    {
     "name": "stdout",
     "output_type": "stream",
     "text": [
      "tensor([0.2669]) tensor(1.2109)\n",
      "torch.Size([1, 3])\n",
      "(tensor([0.1380]), tensor(1.3130))\n"
     ]
    }
   ],
   "source": [
    "orig_prompt = answers[7]\n",
    "corr_prompt = answers[4]\n",
    "\n",
    "max_tokens = max(len(tokenizer(orig_prompt)[\"input_ids\"]),len(tokenizer(corr_prompt)[\"input_ids\"]))\n",
    "\n",
    "tokenizers = tokenizer([orig_prompt, corr_prompt],padding='max_length',max_length=max_tokens,truncation=True,return_tensors='pt')\n",
    "\n",
    "embedding1 = embed(orig_prompt,model,{key: val[0].unsqueeze(0) for key,val in tokenizers.items()})\n",
    "embedding2 = embed(corr_prompt,model,{key: val[1].unsqueeze(0) for key,val in tokenizers.items()})\n",
    "\n",
    "print(F.cosine_similarity(embedding1, embedding2), torch.norm(embedding1 - embedding2, p=2))\n",
    "\n",
    "print(activation_patching(orig_prompt,corr_prompt,3,4,max_tokens))"
   ]
  },
  {
   "cell_type": "code",
   "execution_count": 21,
   "metadata": {},
   "outputs": [
    {
     "name": "stdout",
     "output_type": "stream",
     "text": [
      "torch.Size([5, 84, 384])\n",
      "torch.Size([6, 1, 384])\n",
      "torch.Size([6, 1, 384])\n",
      "torch.Size([1, 384])\n"
     ]
    }
   ],
   "source": [
    "def intermediate_embeddings(text):\n",
    "\n",
    "    intermediate_act_mlp = []\n",
    "    intermediate_act_attn = []\n",
    "    intermediate_embeddings_mlp = []\n",
    "    intermediate_embeddings_attn = []\n",
    "\n",
    "    def hook_mlp(module,inp,out): \n",
    "        intermediate_act_mlp.append(out)\n",
    "    def hook_attn(module,inp,out): \n",
    "        intermediate_act_attn.append(out)\n",
    "    for i in range(num_layers): \n",
    "        model.encoder.layer[i].output.register_forward_hook(hook_mlp)     #mlp.layernorm\n",
    "        model.encoder.layer[i].attention.output.register_forward_hook(hook_attn)     #attention.output\n",
    "    text_embedding = embed(text,model,tokenizer(text, padding = True, truncation=True, return_tensors='pt'))\n",
    "    intermediate_embeddings_mlp = torch.stack([F.normalize(mean_pooling(intermediate_act_mlp[i],tokenizer(text, padding = True, truncation=True, return_tensors='pt')[\"attention_mask\"]), p=2,dim=1) for i in range(num_layers)])\n",
    "    intermediate_embeddings_attn = torch.stack([F.normalize(mean_pooling(intermediate_act_attn[i],tokenizer(text, padding = True, truncation=True, return_tensors='pt')[\"attention_mask\"]), p=2,dim=1) for i in range(num_layers)])\n",
    "\n",
    "    return intermediate_embeddings_mlp, intermediate_embeddings_attn\n",
    "\n",
    "intermediate_embeddings_mlp, intermediate_embeddings_attn = intermediate_embeddings(\"hallo\")\n",
    "print(model(**tokenizer(questions[:5], padding = True, truncation=True, return_tensors='pt'))[0].shape)\n",
    "print(intermediate_embeddings_mlp.shape)\n",
    "print(intermediate_embeddings_attn.shape)\n",
    "print(embed(\"hallo\",model,tokenizer(\"hallo\", padding = True, truncation=True, return_tensors='pt')).shape)"
   ]
  },
  {
   "cell_type": "code",
   "execution_count": 27,
   "metadata": {},
   "outputs": [
    {
     "name": "stdout",
     "output_type": "stream",
     "text": [
      "diff shape: torch.Size([6, 1, 384])\n",
      "<class 'torch.Tensor'>\n",
      "torch.Size([6, 1])\n"
     ]
    },
    {
     "data": {
      "image/png": "[encoded data removed]",
      "text/plain": [
       "<Figure size 640x480 with 1 Axes>"
      ]
     },
     "metadata": {},
     "output_type": "display_data"
    }
   ],
   "source": [
    "def embedding_distance(reference_text,text): \n",
    "    reference_embedding = embed(reference_text,model,tokenizer(reference_text, padding = True, truncation=True, return_tensors='pt'))\n",
    "\n",
    "    intermediate_embeddings_mlp,intermediate_embeddings_attn = intermediate_embeddings(text)\n",
    "    print(\"diff shape:\", (reference_embedding - intermediate_embeddings_mlp).shape)\n",
    "    distances_mlp = 1 - F.cosine_similarity(reference_embedding,intermediate_embeddings_mlp,dim=2)                               #torch.norm(reference_embedding - intermediate_embeddings_mlp,dim=2)\n",
    "    print(type(distances_mlp))\n",
    "    print(distances_mlp.shape)\n",
    "    distances_attn = 1 - F.cosine_similarity(reference_embedding,intermediate_embeddings_attn,dim=2)                                 #torch.norm(reference_embedding - intermediate_embeddings_attn,dim=2)\n",
    "\n",
    "    plt.plot(range(num_layers),distances_mlp,label=\"MLP\")\n",
    "    plt.plot(range(num_layers),distances_attn,label=\"attention block\")\n",
    "    plt.legend()\n",
    "    plt.xlabel(\"Layer #\")\n",
    "    plt.ylabel(\"Distance\")\n",
    "    plt.grid()\n",
    "    plt.title(\"Distances between intermediate embeddings and reference embedding\")\n",
    "    plt.show()\n",
    "\n",
    "embedding_distance(answers[18],answers[18])"
   ]
  }
 ],
 "metadata": {
  "kernelspec": {
   "display_name": "embed",
   "language": "python",
   "name": "python3"
  },
  "language_info": {
   "codemirror_mode": {
    "name": "ipython",
    "version": 3
   },
   "file_extension": ".py",
   "mimetype": "text/x-python",
   "name": "python",
   "nbconvert_exporter": "python",
   "pygments_lexer": "ipython3",
   "version": "3.12.11"
  }
 },
 "nbformat": 4,
 "nbformat_minor": 2
}
