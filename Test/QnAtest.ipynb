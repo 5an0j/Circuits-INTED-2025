{
 "cells": [
  {
   "cell_type": "markdown",
   "metadata": {},
   "source": []
  },
  {
   "cell_type": "code",
   "execution_count": 30,
   "metadata": {},
   "outputs": [],
   "source": [
    "\n",
    "\n",
    "from transformers import AutoModel, AutoTokenizer\n",
    "import torch\n",
    "import torch.nn.functional as F\n",
    "import numpy as np\n",
    "\n",
    "tokenizer = AutoTokenizer.from_pretrained(\"sentence-transformers/all-MiniLM-L6-v2\", trust_remote_code = True, use_fast = False)\n",
    "\n",
    "#jinaai/jina-embeddings-v2-base-en\n",
    "\n",
    "model = AutoModel.from_pretrained(\"sentence-transformers/all-MiniLM-L6-v2\", trust_remote_code = True)\n",
    "\n",
    "model.eval()\n",
    "\n",
    "\n",
    "# Mean Pooling - To compute embeddings (from huggingface)\n",
    "def mean_pooling(token_embeddings, attention_mask):\n",
    "                                     #token_embeddings = model_output[0] # First element of model_output contains all token embeddings\n",
    "    input_mask_expanded = attention_mask.unsqueeze(-1).expand(token_embeddings.size()).float()\n",
    "    return torch.sum(token_embeddings * input_mask_expanded, 1) / torch.clamp(input_mask_expanded.sum(1), min=1e-9)\n",
    " \n",
    "def embed(text, emb_model, tokens):\n",
    " \n",
    "    with torch.no_grad(): # Compute token embeddings\n",
    "        model_output = emb_model(**tokens)\n",
    " \n",
    "    # Perform pooling and normalize\n",
    "    embedding = mean_pooling(model_output[0], tokens['attention_mask'])\n",
    "    return F.normalize(embedding, p=2, dim=1)"
   ]
  },
  {
   "cell_type": "code",
   "execution_count": 31,
   "metadata": {},
   "outputs": [
    {
     "name": "stdout",
     "output_type": "stream",
     "text": [
      "CUDA available: False\n",
      "CUDA device count: 0\n"
     ]
    }
   ],
   "source": [
    "print(\"CUDA available:\", torch.cuda.is_available())\n",
    "print(\"CUDA device count:\", torch.cuda.device_count())"
   ]
  },
  {
   "cell_type": "code",
   "execution_count": 32,
   "metadata": {},
   "outputs": [],
   "source": [
    "num_layers = len(model.encoder.layer)\n",
    "emb_dim = model.config.hidden_size\n",
    "num_heads = model.config.num_attention_heads\n",
    "head_dim = emb_dim // num_heads"
   ]
  },
  {
   "cell_type": "code",
   "execution_count": 33,
   "metadata": {},
   "outputs": [],
   "source": [
    "import json \n",
    "\n",
    "with open(\"test.tok.json\",\"r\") as infile: \n",
    "    infile.readline()\n",
    "    lines = infile.readlines()\n",
    "\n",
    "data = [json.loads(line.strip(\"\\n\").rstrip(',').rstrip(\"]\")) for line in lines]\n",
    "\n",
    "questions = [line[\"question\"] for line in data]\n",
    "answers = [line[\"rationale\"] for line in data]"
   ]
  },
  {
   "cell_type": "code",
   "execution_count": 34,
   "metadata": {},
   "outputs": [],
   "source": [
    "device = torch.device(\"cuda\" if torch.cuda.is_available() else \"cpu\")\n",
    "model = model.to(device)"
   ]
  },
  {
   "cell_type": "code",
   "execution_count": 35,
   "metadata": {},
   "outputs": [],
   "source": [
    "\n",
    "with torch.no_grad():\n",
    "    embedding_Q = embed(questions,model,tokenizer(questions, padding=True, truncation=True, return_tensors='pt'))\n",
    "    embedding_A = embed(answers,model,tokenizer(answers, padding=True, truncation=True, return_tensors='pt'))\n",
    "\n"
   ]
  },
  {
   "cell_type": "code",
   "execution_count": 36,
   "metadata": {},
   "outputs": [
    {
     "name": "stdout",
     "output_type": "stream",
     "text": [
      "ModuleList(\n",
      "  (0-5): 6 x BertLayer(\n",
      "    (attention): BertAttention(\n",
      "      (self): BertSdpaSelfAttention(\n",
      "        (query): Linear(in_features=384, out_features=384, bias=True)\n",
      "        (key): Linear(in_features=384, out_features=384, bias=True)\n",
      "        (value): Linear(in_features=384, out_features=384, bias=True)\n",
      "        (dropout): Dropout(p=0.1, inplace=False)\n",
      "      )\n",
      "      (output): BertSelfOutput(\n",
      "        (dense): Linear(in_features=384, out_features=384, bias=True)\n",
      "        (LayerNorm): LayerNorm((384,), eps=1e-12, elementwise_affine=True)\n",
      "        (dropout): Dropout(p=0.1, inplace=False)\n",
      "      )\n",
      "    )\n",
      "    (intermediate): BertIntermediate(\n",
      "      (dense): Linear(in_features=384, out_features=1536, bias=True)\n",
      "      (intermediate_act_fn): GELUActivation()\n",
      "    )\n",
      "    (output): BertOutput(\n",
      "      (dense): Linear(in_features=1536, out_features=384, bias=True)\n",
      "      (LayerNorm): LayerNorm((384,), eps=1e-12, elementwise_affine=True)\n",
      "      (dropout): Dropout(p=0.1, inplace=False)\n",
      "    )\n",
      "  )\n",
      ")\n"
     ]
    }
   ],
   "source": [
    "print(model.encoder.layer)"
   ]
  },
  {
   "cell_type": "code",
   "execution_count": 37,
   "metadata": {},
   "outputs": [
    {
     "data": {
      "text/plain": [
       "\"\\nmlp_outputs = {}\\n\\ndef capture_post_mlp_ln(module, input, output):\\n    mlp_outputs['layernorm_output'] = output.detach()\\n\\nhook_handle = model.encoder.layer[5].mlp.register_forward_hook(capture_post_mlp_ln)\\n\\nresidual_input = {}\\n\\ndef capture_residual_input(module, input, output):\\n    residual_input['x'] = output.detach()\\n\\n# Register this hook on the layer input (before MLP)\\nhook_handle2 = model.encoder.layer[4].output.register_forward_hook(capture_residual_input)\\n\""
      ]
     },
     "execution_count": 37,
     "metadata": {},
     "output_type": "execute_result"
    }
   ],
   "source": [
    "\n",
    "'''\n",
    "mlp_outputs = {}\n",
    "\n",
    "def capture_post_mlp_ln(module, input, output):\n",
    "    mlp_outputs['layernorm_output'] = output.detach()\n",
    "\n",
    "hook_handle = model.encoder.layer[5].mlp.register_forward_hook(capture_post_mlp_ln)\n",
    "\n",
    "residual_input = {}\n",
    "\n",
    "def capture_residual_input(module, input, output):\n",
    "    residual_input['x'] = output.detach()\n",
    "\n",
    "# Register this hook on the layer input (before MLP)\n",
    "hook_handle2 = model.encoder.layer[4].output.register_forward_hook(capture_residual_input)\n",
    "'''\n",
    "\n"
   ]
  },
  {
   "cell_type": "code",
   "execution_count": 38,
   "metadata": {},
   "outputs": [
    {
     "name": "stderr",
     "output_type": "stream",
     "text": [
      "c:\\Users\\frede\\anaconda3\\envs\\embed\\Lib\\site-packages\\sklearn\\manifold\\_t_sne.py:1164: FutureWarning:\n",
      "\n",
      "'n_iter' was renamed to 'max_iter' in version 1.5 and will be removed in 1.7.\n",
      "\n"
     ]
    },
    {
     "data": {
      "application/vnd.plotly.v1+json": {
       "config": {
        "plotlyServerURL": "https://plot.ly"
       },
       "data": [
        {
         "hoverinfo": "text",
         "hovertext": [
          "question 0",
          "question 1",
          "question 2",
          "question 3",
          "question 4",
          "question 5",
          "question 6",
          "question 7",
          "question 8",
          "question 9",
          "question 10",
          "question 11",
          "question 12",
          "question 13",
          "question 14",
          "question 15",
          "question 16",
          "question 17",
          "question 18",
          "question 19",
          "question 20",
          "question 21",
          "question 22",
          "question 23",
          "question 24",
          "question 25",
          "question 26",
          "question 27",
          "question 28",
          "question 29",
          "question 30",
          "question 31",
          "question 32",
          "question 33",
          "question 34",
          "question 35",
          "question 36",
          "question 37",
          "question 38",
          "question 39",
          "question 40",
          "question 41",
          "question 42",
          "question 43",
          "question 44",
          "question 45",
          "question 46",
          "question 47",
          "question 48",
          "question 49",
          "question 50",
          "question 51",
          "question 52",
          "question 53",
          "question 54",
          "question 55",
          "question 56",
          "question 57",
          "question 58",
          "question 59",
          "question 60",
          "question 61",
          "question 62",
          "question 63",
          "question 64",
          "question 65",
          "question 66",
          "question 67",
          "question 68",
          "question 69",
          "question 70",
          "question 71",
          "question 72",
          "question 73",
          "question 74",
          "question 75",
          "question 76",
          "question 77",
          "question 78",
          "question 79",
          "question 80",
          "question 81",
          "question 82",
          "question 83",
          "question 84",
          "question 85",
          "question 86",
          "question 87",
          "question 88",
          "question 89",
          "question 90",
          "question 91",
          "question 92",
          "question 93",
          "question 94",
          "question 95",
          "question 96",
          "question 97",
          "question 98",
          "question 99",
          "question 100",
          "question 101",
          "question 102",
          "question 103",
          "question 104",
          "question 105",
          "question 106",
          "question 107",
          "question 108",
          "question 109",
          "question 110",
          "question 111",
          "question 112",
          "question 113",
          "question 114",
          "question 115",
          "question 116",
          "question 117",
          "question 118",
          "question 119",
          "question 120",
          "question 121",
          "question 122",
          "question 123",
          "question 124",
          "question 125",
          "question 126",
          "question 127",
          "question 128",
          "question 129",
          "question 130",
          "question 131",
          "question 132",
          "question 133",
          "question 134",
          "question 135",
          "question 136",
          "question 137",
          "question 138",
          "question 139",
          "question 140",
          "question 141",
          "question 142",
          "question 143",
          "question 144",
          "question 145",
          "question 146",
          "question 147",
          "question 148",
          "question 149",
          "question 150",
          "question 151",
          "question 152",
          "question 153",
          "question 154",
          "question 155",
          "question 156",
          "question 157",
          "question 158",
          "question 159",
          "question 160",
          "question 161",
          "question 162",
          "question 163",
          "question 164",
          "question 165",
          "question 166",
          "question 167",
          "question 168",
          "question 169",
          "question 170",
          "question 171",
          "question 172",
          "question 173",
          "question 174",
          "question 175",
          "question 176",
          "question 177",
          "question 178",
          "question 179",
          "question 180",
          "question 181",
          "question 182",
          "question 183",
          "question 184",
          "question 185",
          "question 186",
          "question 187",
          "question 188",
          "question 189",
          "question 190",
          "question 191",
          "question 192",
          "question 193",
          "question 194",
          "question 195",
          "question 196",
          "question 197",
          "question 198",
          "question 199",
          "question 200",
          "question 201",
          "question 202",
          "question 203",
          "question 204",
          "question 205",
          "question 206",
          "question 207",
          "question 208",
          "question 209",
          "question 210",
          "question 211",
          "question 212",
          "question 213",
          "question 214",
          "question 215",
          "question 216",
          "question 217",
          "question 218",
          "question 219",
          "question 220",
          "question 221",
          "question 222",
          "question 223",
          "question 224",
          "question 225",
          "question 226",
          "question 227",
          "question 228",
          "question 229",
          "question 230",
          "question 231",
          "question 232",
          "question 233",
          "question 234",
          "question 235",
          "question 236",
          "question 237",
          "question 238",
          "question 239",
          "question 240",
          "question 241",
          "question 242",
          "question 243",
          "question 244",
          "question 245",
          "question 246",
          "question 247",
          "question 248",
          "question 249",
          "question 250"
         ],
         "legendgroup": "question",
         "marker": {
          "color": "#636efa",
          "symbol": "circle"
         },
         "mode": "markers",
         "name": "question",
         "orientation": "v",
         "showlegend": true,
         "type": "scatter",
         "x": {
          "bdata": "OHEbwqy3p8E/PKLBi7EtQQJz7EEUvtLBg87SwcWQvMENF4jBIYbdQYa/Oj/c6SRBI9Agwv97wUGyCI7B2tDQwduxKEBayrLBkvKNQY9q48BibLHBCJ0QQoXOncGblZLBJihQwFbTC0KmWxnApYGVwcOIJ0J05M1B3QZpQbCsn0F5yQtCLr+nwfJ/x74d5s/B5DccQsbQj8EnYrNByM9iwYA8tMB0aJ/BUVD5wQMP7UFrFNTB/h2qwZsWgMFIYSHBl0K4wTj1s0B5B5PBdvd1QUBqzEEyOqdBHp0rwV7fnUHaK6HAhWaqwdedj8DQFiBCg9CjwNK2EkE4nMZB2x8TwbJtgUES2jpBmEwnP49Wg8FA9JxBbh+nQWHvTUEQjqJBgHEUQrH72cE+jLVB23MgQTZmAMJrJ/DAfxi7QU5YRcHZ8MJBEtL/QZP/LcGuTLzBxBkvwAJZ10GEUrbBM+4XQZXdwMEz8vBBfo1NwUMeZMFkHrrAdxC8QVy0DcGIoKZAXRenQU1/xMBVYpXBQPVKwW5kt8E1p9FBq8otwf5Lh0ECulVBjRpsQVNReEFgWKLB59bdQWF/gMHdFBtCROGsPzgxDkIdeHjBCm7HQYspDEKYTUdB2iehwSK6CEKDVQRCbLc4weaEH0Jk/cfAHKEnPhdU18Gp0PzAVG1jQMf/F0LzymdAjG/swXjOlEGioVbBAJHlwVPpYkAUfOBBdZoDQnsqBEJXMnLBiMwBQry58EFcYBrC4o2hQXbKC0F447rAk5/OPy4GYcG+Ws9BKzj+QdIAKcGnsYbB+9/8QaEk0UHSmci/0kS+wRiyv0AKzr/BS3mZwSXP5kCZ4uy/AyFXwcKQb8HIyJVBNOE5QZGjxkGl2+xBeUkMwtHeNMEBVKDBvZVeQBYG+EEUiP/BQBDzQf+Ws8HxbRnBcW+GwMWo1kHFu+XBdNAxwK3MdkCEEnzBozICP2XlssELjMVBVUfcQY/cosEqVpXBDJLCv6xDZMAGRcrBxCI+wHcnBkHm+uBBP5b5QVBTk8DRCWBBOYT7QantAMJ2npzB56zHwWyGNMHHJh3BejzIQUE7n0BchojA70CmQL9x6cA6WupBL3rUQR9FoMCfhLnBipDPQFhhxcAknoHAmbcIwiPm88BrVJDBcvYgQZdTub/oGp7AilBjQX9ShsH8aatBGJ+wwQVXBEHcnZtA5oIRwVfgXUB95AjCQLBGP9DnkkG6a5XBsZamwejUz8Ae6uy/Z2WgweIcssG8UW/BtLemwSAIXsBh2hjAlv/KwHxCOUDUX/jBwlnBQW/2KEHYoYK+72kgQUh8+sFLPwNCaNKmQZxirsE=",
          "dtype": "f4"
         },
         "xaxis": "x",
         "y": {
          "bdata": "YpLEwMChc8Eggq3AWVnAQN2ul8DwaU5AwSecwQ2QmsEio23A2XIrwdDTDkFZQy5A53VawBnAmkC42LHBIx3OQGV/aUEYnR3BK71gwf50yMAq84pApkIawe3FRsEfw+vBhXXNQXhFJsANkO3B9SxIwdQbYL4Zb59BVh5+QD54gkH0DPe+5RuQwYYUSEFnjKbBtXRiQAd9EcEZPljBlc//vRLZoEGexSxAlvCUwBQAyr/5Ua/B13XdwWJkTsFkhpDBHbvWwTiKCcGJq2xBGz8iwT6y7L8+SkFB6E3bwDoJicD+JdtBxSMzQD9i78GuIx3BGrwQwrbcCkEBn7RBN29pwNkTksFjDo5BJjkEP25ad8HPHfg/jFueQe9LLL6UrtxBiERMP5455L8lQZO/EDvHwXHLv8AofLXBkIjCQcAhhUFvtatBOeOxQRGlqEHytmdABuoDwsTrE0Gt+WTBSujZv93cxcE74GXBysgMQf/Mm8GzGTXBmu6fQXKm0sEBdNvBf3UAwbkC5L+NGr1AUI/twc+xicFM3aY/fvmrwfdVz8BCV0nBRpdRQT6GmkEyZ+S/5aGrQQtlYEAMketAMN7DQVu2k0ADDsnBYl6SQX/m1MA5xBrBR/v6QHbuDcG3TS0/jnKMPJzogMBdfMNBgQgMwRspR0H5t9NBTx6/wZKznsAmynZBT6BHwUIS+j+08IfALbIbQYEqc8F07hBAp75EQK0Jk8DjA+XAhKtkQX9ECsAMlFXAUg9ZQatNrcCx0xtBPBSdQNeNOMFhug2+tQYIwY44uEA4nztBNexKQYnrfkGB7fVBvbsiQfVl5EGeM41B6F2BwfDtm77elMDAxLRuwfAg7kEYiZTBenbjQa1pEMHW4YRAGe5vQIwWNsFmAqfB4zJgwbKO2z/yYcrBQ7SaQXp/7cGnR45B9UMKwnw3zEGeyIHBpkoQwP3UisAbP8FBzziwQbjbsEFnPEbB/86owCfezcG2YFdBw2q8P+TrdMGf5W7BF8meQaz6vUGXmljBNEtiQUoTlsFy1stBbfyJwJY4aUEd9N7B/t6dwMQQ0sE7rYS/cKCGwc+olsHJ4YFBla0BQobtdEEc9OfAwIAvwB8uA8FNh1y+bObBQBaRqsD/CbBBkDssQWZJtUHza1Y+7w1PwfNbg0HnaQHCKFAkwA7pi8EMvbtB7ylbQbeayME3/yFBfLwBQlnxnEGaxonBaLKkwdr5NMFplOLBpXmAwWzcg8H+ZUnBJJUcQfE03UBB/pVBKwr8wSuh48E9PGBBvbPqPyjpwr+H2hdBlQTLQd9SC0GKUtpBXqqZwZb8wr9W/rTA5wQfwS7tLME=",
          "dtype": "f4"
         },
         "yaxis": "y"
        },
        {
         "hoverinfo": "text",
         "hovertext": [
          "answer 0",
          "answer 1",
          "answer 2",
          "answer 3",
          "answer 4",
          "answer 5",
          "answer 6",
          "answer 7",
          "answer 8",
          "answer 9",
          "answer 10",
          "answer 11",
          "answer 12",
          "answer 13",
          "answer 14",
          "answer 15",
          "answer 16",
          "answer 17",
          "answer 18",
          "answer 19",
          "answer 20",
          "answer 21",
          "answer 22",
          "answer 23",
          "answer 24",
          "answer 25",
          "answer 26",
          "answer 27",
          "answer 28",
          "answer 29",
          "answer 30",
          "answer 31",
          "answer 32",
          "answer 33",
          "answer 34",
          "answer 35",
          "answer 36",
          "answer 37",
          "answer 38",
          "answer 39",
          "answer 40",
          "answer 41",
          "answer 42",
          "answer 43",
          "answer 44",
          "answer 45",
          "answer 46",
          "answer 47",
          "answer 48",
          "answer 49",
          "answer 50",
          "answer 51",
          "answer 52",
          "answer 53",
          "answer 54",
          "answer 55",
          "answer 56",
          "answer 57",
          "answer 58",
          "answer 59",
          "answer 60",
          "answer 61",
          "answer 62",
          "answer 63",
          "answer 64",
          "answer 65",
          "answer 66",
          "answer 67",
          "answer 68",
          "answer 69",
          "answer 70",
          "answer 71",
          "answer 72",
          "answer 73",
          "answer 74",
          "answer 75",
          "answer 76",
          "answer 77",
          "answer 78",
          "answer 79",
          "answer 80",
          "answer 81",
          "answer 82",
          "answer 83",
          "answer 84",
          "answer 85",
          "answer 86",
          "answer 87",
          "answer 88",
          "answer 89",
          "answer 90",
          "answer 91",
          "answer 92",
          "answer 93",
          "answer 94",
          "answer 95",
          "answer 96",
          "answer 97",
          "answer 98",
          "answer 99",
          "answer 100",
          "answer 101",
          "answer 102",
          "answer 103",
          "answer 104",
          "answer 105",
          "answer 106",
          "answer 107",
          "answer 108",
          "answer 109",
          "answer 110",
          "answer 111",
          "answer 112",
          "answer 113",
          "answer 114",
          "answer 115",
          "answer 116",
          "answer 117",
          "answer 118",
          "answer 119",
          "answer 120",
          "answer 121",
          "answer 122",
          "answer 123",
          "answer 124",
          "answer 125",
          "answer 126",
          "answer 127",
          "answer 128",
          "answer 129",
          "answer 130",
          "answer 131",
          "answer 132",
          "answer 133",
          "answer 134",
          "answer 135",
          "answer 136",
          "answer 137",
          "answer 138",
          "answer 139",
          "answer 140",
          "answer 141",
          "answer 142",
          "answer 143",
          "answer 144",
          "answer 145",
          "answer 146",
          "answer 147",
          "answer 148",
          "answer 149",
          "answer 150",
          "answer 151",
          "answer 152",
          "answer 153",
          "answer 154",
          "answer 155",
          "answer 156",
          "answer 157",
          "answer 158",
          "answer 159",
          "answer 160",
          "answer 161",
          "answer 162",
          "answer 163",
          "answer 164",
          "answer 165",
          "answer 166",
          "answer 167",
          "answer 168",
          "answer 169",
          "answer 170",
          "answer 171",
          "answer 172",
          "answer 173",
          "answer 174",
          "answer 175",
          "answer 176",
          "answer 177",
          "answer 178",
          "answer 179",
          "answer 180",
          "answer 181",
          "answer 182",
          "answer 183",
          "answer 184",
          "answer 185",
          "answer 186",
          "answer 187",
          "answer 188",
          "answer 189",
          "answer 190",
          "answer 191",
          "answer 192",
          "answer 193",
          "answer 194",
          "answer 195",
          "answer 196",
          "answer 197",
          "answer 198",
          "answer 199",
          "answer 200",
          "answer 201",
          "answer 202",
          "answer 203",
          "answer 204",
          "answer 205",
          "answer 206",
          "answer 207",
          "answer 208",
          "answer 209",
          "answer 210",
          "answer 211",
          "answer 212",
          "answer 213",
          "answer 214",
          "answer 215",
          "answer 216",
          "answer 217",
          "answer 218",
          "answer 219",
          "answer 220",
          "answer 221",
          "answer 222",
          "answer 223",
          "answer 224",
          "answer 225",
          "answer 226",
          "answer 227",
          "answer 228",
          "answer 229",
          "answer 230",
          "answer 231",
          "answer 232",
          "answer 233",
          "answer 234",
          "answer 235",
          "answer 236",
          "answer 237",
          "answer 238",
          "answer 239",
          "answer 240",
          "answer 241",
          "answer 242",
          "answer 243",
          "answer 244",
          "answer 245",
          "answer 246",
          "answer 247",
          "answer 248",
          "answer 249",
          "answer 250"
         ],
         "legendgroup": "answer",
         "marker": {
          "color": "#EF553B",
          "symbol": "circle"
         },
         "mode": "markers",
         "name": "answer",
         "orientation": "v",
         "showlegend": true,
         "type": "scatter",
         "x": {
          "bdata": "NkMcwt6toMG32aPBv3AmQfEj70EC2dHB997Uwc+/tcEi8IjBpI3hQdHhfj5bah1Bo1giwuRevUEGkvrARAzOwYw60T/U1LvBqlqLQVJ868B37ivB6FgBQhf8p8EqhJbBuVFBwBdrDkI0XLjAyc2TwbNTJ0Jb89BBa1llQWLcoEFtIQVCfUybwd/uRb+tkcrBEnkbQiI/kMEZibFBNmFjwQE4vcBdXp7Bspj4wd/+7UEs9dnBysCtwef3gsHlTCbB3UcZwQVqtUBEOppA/JhzQaL1MsElNaZBhjcswf8CnUGNAJvARc2zwZpuF0FY9R5CuCtxwUD0B0E8YsxB1fYVwbRzg0HjsTRBTOH5wIwShcEXfqJBxYetQXxzT0FPU6FBA/8SQhHK2MHM/bdBR8glQQc99MGT3+HAkK2xQVPvP8EaLblBjwL/QVyDMMH0VEPBNoYpwEX11UGiwrDBxTYVQbr1vMGn4/NBbyxQwX5oZcFw85DB80+2QVhtBcGVq6pAI8epQVm5x8CtcZjBlEtPwQNxusH97tVBPqEtwRXViEHMdlNB1fZqQV8Kd0Gm26PBhq7XwLLjfMG+4xtCDMywP/NpDUK1E3bB3VpswNreDkLbc0NBUDGewfc7CEJ/zARCR5AMwKBpHUJUQcPA2ekqvFAiacE97wPBhNxjQFCQEULcMHNA/kbvweWW+8CWMVbBhbLiwZN/X8B0EQBCQ2YEQhrLA0Lpgm7BsIYAQqIB/kGx2RjC7uc7wN0mC0GYZ8jASQrdP/wTY8FsaeBB06L2QbQcIsGLUIPBeYX6QcCO0EFP6+O/vVG9wWLowUAthb3BYnuTwSCU6EBjBtG/7+ROwbLQbcFXtJZBxT05QaqpxkG+OutBeQMMwtJZK8FqzZ7BmUdcQL8R9UHBMADCVnHzQaLXpcEqPP7AOyKTwMmA10HMXOfBpbRCwJTRgkB4p3nB4frkPfYds8F608hBHZfWQRmYnsEvK5fBZQfhv9yRY8AQcMrBdL8twEFZDUGtwyTBNZggwHYKisCWnl1BQYwBQuOuAMIm9AbBn+bHwV61PMEQ9yjBqtfHQY9WpUBVnJHAwIyoQDPO6cAgfuxBNY/SQfq1osB7rrrBer0GQcpgv8CuOHDApYkIwg+l6cCGE4rBN40dQUOFrb+gdqjA7KhhQW17kcGlYKpBxM+uwaf19EAFJZVA82cRwSXPR0CZ6QjCEqFrPwVKlUEuvyTBTqQ3wUZ42sBPTPe/rUKeQHUgtMGsAXXBdrufwaG5dMCOuBHA3efOwOvGLUBi0/fBsYDFQbXjLUEUpEG/ScoYQV8Y/MHrvANCNnKpQS5puME=",
          "dtype": "f4"
         },
         "xaxis": "x",
         "y": {
          "bdata": "jMm4wH4CZsGigrDAF52/QKA8ocBYpEhAW3iVwc9fn8HZWHzAHl4qwWCSCUH6ZDZAtglrwE7gnUAi00xBlQjLQASOcUF+XCzBwXhmwXCrzMDsjnBBTunJvz7dWcGo5fHBBVPGQResGcDFvqhADqxYwSfTgr5lE6BBreWEQGBZhEFeOgtBDmyQwf0IREFVG6jBCYtoQM8VFsGj91zBqoQHPrJmlUFD2kpAV2SlwFb5Cb+KpbPBJCjfwc8DW8HBmYvBNqHGPwcVCcFRKP5AwLMowV1yWUG5VENBzdnbwMAZgsAQy91B5OqkQFxieUE1nhrBkOOWQMfkG0E7YLlBeiRXwJvCkcH4II1BRasBQSPufcFBNeQ/3ZmfQXESjr+ZlN5Bn7taP91a2b9SXl6/wuPHwao2wMCXfrbBy6DGQWnsgUFZVLFBStewQfAyp0H4EE9AuasFwv6SGkFkJVHB5+LSv2BYucEAAGjBRI8LQUwCncFtSgRB5X6mQSTP08HfJ9rBR2XpwAFQyr/1LrRA2D3wwYqliMF1T6E/Bg2twYXEz8AhXUbBTP5OQcaUmkF9pQbAzGFHQeznbUDWhfVAqkLBQVTal0Bk4cbBPNUAQagFzsDSJxrBYAMBQZ42FcGwwqw+J8gAQc03hMCWtslBIEwJwXQFvMFT6dNB6eq/wf0GqMCFWH1BayJDwSSdSsGF+1jAPlkXQSUx5kA5zs5A+m9WQBzwdMCEy+bAfFt0QZ0mtb+VTUTA6NElQUairMD7ahVBzESgQAGcLMEwsY09RnwSwbs7pUDY8jNBkuJxQW6bgUHrIfhBfFEgQWo/4kGhdYxBiTh3wdCuS748csHAUg5nwcSz7UENHZjBU/7jQYeiFcHZGpFAq+RwQMkhL8G1q6XB5/xXweUmsz+sz8rBuACZQdVm7cFvBI9BpCcKwkZcxUEOx4HB/G0FwIjcj8AoHMJBaf2qQX8CsUEpJz7B6EGxwIQWzcGGWktBqaMGQPX9ccE/FHTBao+aQcKfvUFkjlRBGR2BQHZXmMFyocpBjisDQUHkZ0FcxxZB0K6gwP0Y0sEaCSlA4amGwRaylcEoVIRB0JQBQryBbEElNubAW5JOwEYSCMGJ9o++MRpgQFH1fkDh3bFB1uksQS80tEFZrW09JaxRwZMiiEH1lv/BD3oOwABvlcHkJ7RBt95eQU1OycEeswlBQKgBQngCnEGpV4jBxCelwSFPOMEIuAJARTliwVTRg8FTLlDBbn4vQHrb4UBWgpdBWQ/8waMj4cGRmkhBWxgLQDHKir+7WyFBDwjKQfiPD0FJR+FBuIeawZWz0r9uS/bAyN4iwf0fMsE=",
          "dtype": "f4"
         },
         "yaxis": "y"
        }
       ],
       "layout": {
        "height": 500,
        "legend": {
         "title": {
          "text": "color"
         },
         "tracegroupgap": 0
        },
        "margin": {
         "t": 60
        },
        "template": {
         "data": {
          "bar": [
           {
            "error_x": {
             "color": "#2a3f5f"
            },
            "error_y": {
             "color": "#2a3f5f"
            },
            "marker": {
             "line": {
              "color": "#E5ECF6",
              "width": 0.5
             },
             "pattern": {
              "fillmode": "overlay",
              "size": 10,
              "solidity": 0.2
             }
            },
            "type": "bar"
           }
          ],
          "barpolar": [
           {
            "marker": {
             "line": {
              "color": "#E5ECF6",
              "width": 0.5
             },
             "pattern": {
              "fillmode": "overlay",
              "size": 10,
              "solidity": 0.2
             }
            },
            "type": "barpolar"
           }
          ],
          "carpet": [
           {
            "aaxis": {
             "endlinecolor": "#2a3f5f",
             "gridcolor": "white",
             "linecolor": "white",
             "minorgridcolor": "white",
             "startlinecolor": "#2a3f5f"
            },
            "baxis": {
             "endlinecolor": "#2a3f5f",
             "gridcolor": "white",
             "linecolor": "white",
             "minorgridcolor": "white",
             "startlinecolor": "#2a3f5f"
            },
            "type": "carpet"
           }
          ],
          "choropleth": [
           {
            "colorbar": {
             "outlinewidth": 0,
             "ticks": ""
            },
            "type": "choropleth"
           }
          ],
          "contour": [
           {
            "colorbar": {
             "outlinewidth": 0,
             "ticks": ""
            },
            "colorscale": [
             [
              0,
              "#0d0887"
             ],
             [
              0.1111111111111111,
              "#46039f"
             ],
             [
              0.2222222222222222,
              "#7201a8"
             ],
             [
              0.3333333333333333,
              "#9c179e"
             ],
             [
              0.4444444444444444,
              "#bd3786"
             ],
             [
              0.5555555555555556,
              "#d8576b"
             ],
             [
              0.6666666666666666,
              "#ed7953"
             ],
             [
              0.7777777777777778,
              "#fb9f3a"
             ],
             [
              0.8888888888888888,
              "#fdca26"
             ],
             [
              1,
              "#f0f921"
             ]
            ],
            "type": "contour"
           }
          ],
          "contourcarpet": [
           {
            "colorbar": {
             "outlinewidth": 0,
             "ticks": ""
            },
            "type": "contourcarpet"
           }
          ],
          "heatmap": [
           {
            "colorbar": {
             "outlinewidth": 0,
             "ticks": ""
            },
            "colorscale": [
             [
              0,
              "#0d0887"
             ],
             [
              0.1111111111111111,
              "#46039f"
             ],
             [
              0.2222222222222222,
              "#7201a8"
             ],
             [
              0.3333333333333333,
              "#9c179e"
             ],
             [
              0.4444444444444444,
              "#bd3786"
             ],
             [
              0.5555555555555556,
              "#d8576b"
             ],
             [
              0.6666666666666666,
              "#ed7953"
             ],
             [
              0.7777777777777778,
              "#fb9f3a"
             ],
             [
              0.8888888888888888,
              "#fdca26"
             ],
             [
              1,
              "#f0f921"
             ]
            ],
            "type": "heatmap"
           }
          ],
          "histogram": [
           {
            "marker": {
             "pattern": {
              "fillmode": "overlay",
              "size": 10,
              "solidity": 0.2
             }
            },
            "type": "histogram"
           }
          ],
          "histogram2d": [
           {
            "colorbar": {
             "outlinewidth": 0,
             "ticks": ""
            },
            "colorscale": [
             [
              0,
              "#0d0887"
             ],
             [
              0.1111111111111111,
              "#46039f"
             ],
             [
              0.2222222222222222,
              "#7201a8"
             ],
             [
              0.3333333333333333,
              "#9c179e"
             ],
             [
              0.4444444444444444,
              "#bd3786"
             ],
             [
              0.5555555555555556,
              "#d8576b"
             ],
             [
              0.6666666666666666,
              "#ed7953"
             ],
             [
              0.7777777777777778,
              "#fb9f3a"
             ],
             [
              0.8888888888888888,
              "#fdca26"
             ],
             [
              1,
              "#f0f921"
             ]
            ],
            "type": "histogram2d"
           }
          ],
          "histogram2dcontour": [
           {
            "colorbar": {
             "outlinewidth": 0,
             "ticks": ""
            },
            "colorscale": [
             [
              0,
              "#0d0887"
             ],
             [
              0.1111111111111111,
              "#46039f"
             ],
             [
              0.2222222222222222,
              "#7201a8"
             ],
             [
              0.3333333333333333,
              "#9c179e"
             ],
             [
              0.4444444444444444,
              "#bd3786"
             ],
             [
              0.5555555555555556,
              "#d8576b"
             ],
             [
              0.6666666666666666,
              "#ed7953"
             ],
             [
              0.7777777777777778,
              "#fb9f3a"
             ],
             [
              0.8888888888888888,
              "#fdca26"
             ],
             [
              1,
              "#f0f921"
             ]
            ],
            "type": "histogram2dcontour"
           }
          ],
          "mesh3d": [
           {
            "colorbar": {
             "outlinewidth": 0,
             "ticks": ""
            },
            "type": "mesh3d"
           }
          ],
          "parcoords": [
           {
            "line": {
             "colorbar": {
              "outlinewidth": 0,
              "ticks": ""
             }
            },
            "type": "parcoords"
           }
          ],
          "pie": [
           {
            "automargin": true,
            "type": "pie"
           }
          ],
          "scatter": [
           {
            "fillpattern": {
             "fillmode": "overlay",
             "size": 10,
             "solidity": 0.2
            },
            "type": "scatter"
           }
          ],
          "scatter3d": [
           {
            "line": {
             "colorbar": {
              "outlinewidth": 0,
              "ticks": ""
             }
            },
            "marker": {
             "colorbar": {
              "outlinewidth": 0,
              "ticks": ""
             }
            },
            "type": "scatter3d"
           }
          ],
          "scattercarpet": [
           {
            "marker": {
             "colorbar": {
              "outlinewidth": 0,
              "ticks": ""
             }
            },
            "type": "scattercarpet"
           }
          ],
          "scattergeo": [
           {
            "marker": {
             "colorbar": {
              "outlinewidth": 0,
              "ticks": ""
             }
            },
            "type": "scattergeo"
           }
          ],
          "scattergl": [
           {
            "marker": {
             "colorbar": {
              "outlinewidth": 0,
              "ticks": ""
             }
            },
            "type": "scattergl"
           }
          ],
          "scattermap": [
           {
            "marker": {
             "colorbar": {
              "outlinewidth": 0,
              "ticks": ""
             }
            },
            "type": "scattermap"
           }
          ],
          "scattermapbox": [
           {
            "marker": {
             "colorbar": {
              "outlinewidth": 0,
              "ticks": ""
             }
            },
            "type": "scattermapbox"
           }
          ],
          "scatterpolar": [
           {
            "marker": {
             "colorbar": {
              "outlinewidth": 0,
              "ticks": ""
             }
            },
            "type": "scatterpolar"
           }
          ],
          "scatterpolargl": [
           {
            "marker": {
             "colorbar": {
              "outlinewidth": 0,
              "ticks": ""
             }
            },
            "type": "scatterpolargl"
           }
          ],
          "scatterternary": [
           {
            "marker": {
             "colorbar": {
              "outlinewidth": 0,
              "ticks": ""
             }
            },
            "type": "scatterternary"
           }
          ],
          "surface": [
           {
            "colorbar": {
             "outlinewidth": 0,
             "ticks": ""
            },
            "colorscale": [
             [
              0,
              "#0d0887"
             ],
             [
              0.1111111111111111,
              "#46039f"
             ],
             [
              0.2222222222222222,
              "#7201a8"
             ],
             [
              0.3333333333333333,
              "#9c179e"
             ],
             [
              0.4444444444444444,
              "#bd3786"
             ],
             [
              0.5555555555555556,
              "#d8576b"
             ],
             [
              0.6666666666666666,
              "#ed7953"
             ],
             [
              0.7777777777777778,
              "#fb9f3a"
             ],
             [
              0.8888888888888888,
              "#fdca26"
             ],
             [
              1,
              "#f0f921"
             ]
            ],
            "type": "surface"
           }
          ],
          "table": [
           {
            "cells": {
             "fill": {
              "color": "#EBF0F8"
             },
             "line": {
              "color": "white"
             }
            },
            "header": {
             "fill": {
              "color": "#C8D4E3"
             },
             "line": {
              "color": "white"
             }
            },
            "type": "table"
           }
          ]
         },
         "layout": {
          "annotationdefaults": {
           "arrowcolor": "#2a3f5f",
           "arrowhead": 0,
           "arrowwidth": 1
          },
          "autotypenumbers": "strict",
          "coloraxis": {
           "colorbar": {
            "outlinewidth": 0,
            "ticks": ""
           }
          },
          "colorscale": {
           "diverging": [
            [
             0,
             "#8e0152"
            ],
            [
             0.1,
             "#c51b7d"
            ],
            [
             0.2,
             "#de77ae"
            ],
            [
             0.3,
             "#f1b6da"
            ],
            [
             0.4,
             "#fde0ef"
            ],
            [
             0.5,
             "#f7f7f7"
            ],
            [
             0.6,
             "#e6f5d0"
            ],
            [
             0.7,
             "#b8e186"
            ],
            [
             0.8,
             "#7fbc41"
            ],
            [
             0.9,
             "#4d9221"
            ],
            [
             1,
             "#276419"
            ]
           ],
           "sequential": [
            [
             0,
             "#0d0887"
            ],
            [
             0.1111111111111111,
             "#46039f"
            ],
            [
             0.2222222222222222,
             "#7201a8"
            ],
            [
             0.3333333333333333,
             "#9c179e"
            ],
            [
             0.4444444444444444,
             "#bd3786"
            ],
            [
             0.5555555555555556,
             "#d8576b"
            ],
            [
             0.6666666666666666,
             "#ed7953"
            ],
            [
             0.7777777777777778,
             "#fb9f3a"
            ],
            [
             0.8888888888888888,
             "#fdca26"
            ],
            [
             1,
             "#f0f921"
            ]
           ],
           "sequentialminus": [
            [
             0,
             "#0d0887"
            ],
            [
             0.1111111111111111,
             "#46039f"
            ],
            [
             0.2222222222222222,
             "#7201a8"
            ],
            [
             0.3333333333333333,
             "#9c179e"
            ],
            [
             0.4444444444444444,
             "#bd3786"
            ],
            [
             0.5555555555555556,
             "#d8576b"
            ],
            [
             0.6666666666666666,
             "#ed7953"
            ],
            [
             0.7777777777777778,
             "#fb9f3a"
            ],
            [
             0.8888888888888888,
             "#fdca26"
            ],
            [
             1,
             "#f0f921"
            ]
           ]
          },
          "colorway": [
           "#636efa",
           "#EF553B",
           "#00cc96",
           "#ab63fa",
           "#FFA15A",
           "#19d3f3",
           "#FF6692",
           "#B6E880",
           "#FF97FF",
           "#FECB52"
          ],
          "font": {
           "color": "#2a3f5f"
          },
          "geo": {
           "bgcolor": "white",
           "lakecolor": "white",
           "landcolor": "#E5ECF6",
           "showlakes": true,
           "showland": true,
           "subunitcolor": "white"
          },
          "hoverlabel": {
           "align": "left"
          },
          "hovermode": "closest",
          "mapbox": {
           "style": "light"
          },
          "paper_bgcolor": "white",
          "plot_bgcolor": "#E5ECF6",
          "polar": {
           "angularaxis": {
            "gridcolor": "white",
            "linecolor": "white",
            "ticks": ""
           },
           "bgcolor": "#E5ECF6",
           "radialaxis": {
            "gridcolor": "white",
            "linecolor": "white",
            "ticks": ""
           }
          },
          "scene": {
           "xaxis": {
            "backgroundcolor": "#E5ECF6",
            "gridcolor": "white",
            "gridwidth": 2,
            "linecolor": "white",
            "showbackground": true,
            "ticks": "",
            "zerolinecolor": "white"
           },
           "yaxis": {
            "backgroundcolor": "#E5ECF6",
            "gridcolor": "white",
            "gridwidth": 2,
            "linecolor": "white",
            "showbackground": true,
            "ticks": "",
            "zerolinecolor": "white"
           },
           "zaxis": {
            "backgroundcolor": "#E5ECF6",
            "gridcolor": "white",
            "gridwidth": 2,
            "linecolor": "white",
            "showbackground": true,
            "ticks": "",
            "zerolinecolor": "white"
           }
          },
          "shapedefaults": {
           "line": {
            "color": "#2a3f5f"
           }
          },
          "ternary": {
           "aaxis": {
            "gridcolor": "white",
            "linecolor": "white",
            "ticks": ""
           },
           "baxis": {
            "gridcolor": "white",
            "linecolor": "white",
            "ticks": ""
           },
           "bgcolor": "#E5ECF6",
           "caxis": {
            "gridcolor": "white",
            "linecolor": "white",
            "ticks": ""
           }
          },
          "title": {
           "x": 0.05
          },
          "xaxis": {
           "automargin": true,
           "gridcolor": "white",
           "linecolor": "white",
           "ticks": "",
           "title": {
            "standoff": 15
           },
           "zerolinecolor": "white",
           "zerolinewidth": 2
          },
          "yaxis": {
           "automargin": true,
           "gridcolor": "white",
           "linecolor": "white",
           "ticks": "",
           "title": {
            "standoff": 15
           },
           "zerolinecolor": "white",
           "zerolinewidth": 2
          }
         }
        },
        "width": 600,
        "xaxis": {
         "anchor": "y",
         "domain": [
          0,
          1
         ],
         "title": {
          "text": "0"
         }
        },
        "yaxis": {
         "anchor": "x",
         "domain": [
          0,
          1
         ],
         "title": {
          "text": "1"
         }
        }
       }
      }
     },
     "metadata": {},
     "output_type": "display_data"
    }
   ],
   "source": [
    "from sklearn.manifold import TSNE\n",
    "import plotly.express as px\n",
    "\n",
    "tsne = TSNE(n_components=2, perplexity=30, random_state=42, learning_rate=\"auto\", early_exaggeration=5.0, n_iter=5000, init=\"pca\")\n",
    "embedding = torch.cat([embedding_Q,embedding_A],dim=0)        #torch.cat([embedding_Q[torch.randperm(embedding_Q.size(0))],embedding_A[torch.randperm(embedding_A.size(0))]],dim=0)\n",
    "show_dims2 = tsne.fit_transform(embedding.numpy())\n",
    "\n",
    "\n",
    "color_Q = [\"question\" for i in range(len(embedding_Q))]\n",
    "color_A = [\"answer\" for i in range(len(embedding_A))]\n",
    "category_Q = [\"question \" + str(i) for i in range(len(embedding_Q))]\n",
    "category_A = [\"answer \" + str(i) for i in range(len(embedding_A))]\n",
    "\n",
    "color = color_Q + color_A\n",
    "category = category_Q + category_A\n",
    "\n",
    "x = [x for x, y in show_dims2]\n",
    "y = [y for x, y in show_dims2]\n",
    "fig = px.scatter(\n",
    "    show_dims2, x=0, y=1,\n",
    "    width=600, height=500,\n",
    "    color = color,\n",
    "    hover_name=category,\n",
    ")\n",
    "fig.update_traces(\n",
    "hovertemplate=None,\n",
    "hoverinfo='text'\n",
    ")\n",
    "fig.show()"
   ]
  },
  {
   "cell_type": "code",
   "execution_count": 39,
   "metadata": {},
   "outputs": [],
   "source": [
    "#Function for doing an ablation. \n",
    "\n",
    "#zero ablation: set activation to zero\n",
    "#random ablation: set to random value (eg. Gauss with mean 0 and std 1)\n",
    "#mean ablation: mean value of all activations in a given layer\n",
    "\n",
    "from types import MethodType\n",
    "\n",
    "def ablation(layer, neuron_idx, data, type = \"zero\"):\n",
    "    original_forward = model.encoder.layer[layer].output.forward     #mlp.wo.forward    #mlp.layernorm\n",
    "\n",
    "    if type == \"zero\": \n",
    "        new_activation = 0.0\n",
    "    if type == \"mean\": \n",
    "        new_activation = np.sum(np.array([original_forward[:,:,i]] for i in range(len(emb_dim))))\n",
    "    if type == \"random\": \n",
    "        new_activation = np.random.normal(0.0,1.0)\n",
    "    if type != \"zero\" and type != \"mean\" and type != \"random\": \n",
    "        raise ValueError(\"The type you wrote does not exist! Use either zero, mean or random for the ablation type\")\n",
    "\n",
    "    def change_forward(self,*args,**kwargs):      #self, x\n",
    "        our = original_forward(*args,**kwargs).clone()        #original_forward(x)\n",
    "        our[:,:,neuron_idx] = new_activation     #[batch_size (number of prompts), seq_len (number of tokens), hidden_dim)\n",
    "        return our     #torch.zeros_like(original_wo(*args, **kwargs)\n",
    "    \n",
    "    #model.encoder.layer[layer].mlp.forward = change_forward      #mlp.wo.forward\n",
    "    model.encoder.layer[layer].output.forward = MethodType(change_forward, model.encoder.layer[layer].output)       #mlp.layernorm\n",
    "    new_embeddings = embed(data,model,tokenizer(data, padding = True, truncation=True, return_tensors='pt'))                           #embed(text for text in data)\n",
    "    model.encoder.layer[layer].output.forward = original_forward     #mlp.wo.forward     #mlp.layernorm\n",
    "\n",
    "    return new_embeddings\n",
    "\n",
    "\n",
    "\n",
    "    \n"
   ]
  },
  {
   "cell_type": "code",
   "execution_count": 40,
   "metadata": {},
   "outputs": [
    {
     "data": {
      "text/plain": [
       "'\\n\\nfrom types import MethodType\\nimport torch.nn as nn\\n\\n# Dummy module with forward\\nclass DummyMLP(nn.Module):\\n    def forward(self, x):\\n        return x * 2\\n\\n# Model setup\\nmodel = nn.Module()\\nmodel.mlp = DummyMLP()\\n\\n# Save original forward\\noriginal_forward = model.mlp.forward\\n\\n# Define new forward WITH `self`\\ndef change_forward(self, x):\\n    out = original_forward(x)\\n    out[:, 0] = 0  # example change\\n    return out\\n\\n# Bind correctly\\nmodel.mlp.forward = MethodType(change_forward, model.mlp)\\n\\n# Test it\\nx = torch.ones(3, 5)\\nprint(model.mlp(x))  # Should work, no errors\\n\\n'"
      ]
     },
     "execution_count": 40,
     "metadata": {},
     "output_type": "execute_result"
    }
   ],
   "source": [
    "'''\n",
    "\n",
    "from types import MethodType\n",
    "import torch.nn as nn\n",
    "\n",
    "# Dummy module with forward\n",
    "class DummyMLP(nn.Module):\n",
    "    def forward(self, x):\n",
    "        return x * 2\n",
    "\n",
    "# Model setup\n",
    "model = nn.Module()\n",
    "model.mlp = DummyMLP()\n",
    "\n",
    "# Save original forward\n",
    "original_forward = model.mlp.forward\n",
    "\n",
    "# Define new forward WITH `self`\n",
    "def change_forward(self, x):\n",
    "    out = original_forward(x)\n",
    "    out[:, 0] = 0  # example change\n",
    "    return out\n",
    "\n",
    "# Bind correctly\n",
    "model.mlp.forward = MethodType(change_forward, model.mlp)\n",
    "\n",
    "# Test it\n",
    "x = torch.ones(3, 5)\n",
    "print(model.mlp(x))  # Should work, no errors\n",
    "\n",
    "'''"
   ]
  },
  {
   "cell_type": "markdown",
   "metadata": {},
   "source": [
    "Function for doing an activation patching. Returns cosine similarity and L2 norm difference between the embeddings of the corrupted and clean prompts. "
   ]
  },
  {
   "cell_type": "code",
   "execution_count": 41,
   "metadata": {},
   "outputs": [
    {
     "data": {
      "text/plain": [
       "'\\ndef activation_patching(orig_prompt, corr_prompt, layer): \\n    #orig_prompt_tokens = tokenizer(orig_prompt, return_tensors = \"pt\", padding = \"max_length\", max_length = 60, truncation = True)\\n    #corr_prompt_tokens = tokenizer(corr_prompt, return_tensors = \"pt\", padding = \"max_length\", max_length = 60, truncation = True)\\n    orig_embeddings = embed(orig_prompt,model,tokenizer)\\n\\n\\n\\n    def reg_hook(module, inp, out): \\n        orig_output = out.detach()\\n    reg_handle = model.encoder.layer[layer].mlp.layernorm.register_forward_hook(reg_hook)    #mlp.wo.register_forward_hook\\n\\n    corr_embeddings = embed(corr_prompt,model,tokenizer)\\n\\n    reg_handle.remove()\\n\\n    return F.cosine_similarity((orig_embeddings.pooler_output.detach(), corr_embeddings.pooler_output.detach())), torch.norm(orig_embeddings.pooler_output - corr_embeddings.pooler_output, p=2)\\n'"
      ]
     },
     "execution_count": 41,
     "metadata": {},
     "output_type": "execute_result"
    }
   ],
   "source": [
    "\n",
    "\n",
    "def activation_patching(orig_prompt, corr_prompt, layer,neuron_idx): \n",
    "\n",
    "    max_tokens = max(len(tokenizer(orig_prompt)),len(tokenizer(corr_prompt)))\n",
    "    \n",
    "    clean_neuron = []\n",
    "\n",
    "    def hook(module,inp,out): \n",
    "        clean_neuron.append(out[:,:,neuron_idx].detach())\n",
    "        print(clean_neuron[0].shape)\n",
    "    \n",
    "    handle = model.encoder.layer[layer].output.register_forward_hook(hook)    #mlp.layernorm\n",
    "    orig_embeddings = embed(orig_prompt,model,tokenizer(orig_prompt, padding = \"max_length\", max_length = max_tokens, truncation=True, return_tensors='pt'))\n",
    "    handle.remove()\n",
    "\n",
    "    def patching_hook(module, inp, out): \n",
    "        orig_output = out.clone()\n",
    "        orig_output[:,:,neuron_idx] = clean_neuron[0]\n",
    "        return orig_output\n",
    "\n",
    "    patch_handle = model.encoder.layer[layer].output.register_forward_hook(patching_hook)    #mlp.wo.register_forward_hook   #mlp.layernorm\n",
    "\n",
    "    corr_embeddings = embed(corr_prompt,model,tokenizer(corr_prompt, padding = \"max_length\", max_length = max_tokens, truncation=True, return_tensors='pt'))\n",
    "\n",
    "    patch_handle.remove()\n",
    "\n",
    "    return F.cosine_similarity(orig_embeddings, corr_embeddings), torch.norm(orig_embeddings - corr_embeddings, p=2)\n",
    "\n",
    "\n",
    "'''\n",
    "def activation_patching(orig_prompt, corr_prompt, layer): \n",
    "    #orig_prompt_tokens = tokenizer(orig_prompt, return_tensors = \"pt\", padding = \"max_length\", max_length = 60, truncation = True)\n",
    "    #corr_prompt_tokens = tokenizer(corr_prompt, return_tensors = \"pt\", padding = \"max_length\", max_length = 60, truncation = True)\n",
    "    orig_embeddings = embed(orig_prompt,model,tokenizer)\n",
    "\n",
    "    \n",
    "    \n",
    "    def reg_hook(module, inp, out): \n",
    "        orig_output = out.detach()\n",
    "    reg_handle = model.encoder.layer[layer].mlp.layernorm.register_forward_hook(reg_hook)    #mlp.wo.register_forward_hook\n",
    "\n",
    "    corr_embeddings = embed(corr_prompt,model,tokenizer)\n",
    "\n",
    "    reg_handle.remove()\n",
    "\n",
    "    return F.cosine_similarity((orig_embeddings.pooler_output.detach(), corr_embeddings.pooler_output.detach())), torch.norm(orig_embeddings.pooler_output - corr_embeddings.pooler_output, p=2)\n",
    "'''\n"
   ]
  },
  {
   "cell_type": "markdown",
   "metadata": {},
   "source": [
    "## Visualization\n",
    "\n",
    "Next we will implement some visualization techniques. These methods will be useful for plotting later, as we attempt to identify how the correct answers relate to the questions. "
   ]
  },
  {
   "cell_type": "code",
   "execution_count": 42,
   "metadata": {},
   "outputs": [],
   "source": [
    "import matplotlib.pyplot as plt\n",
    "\n",
    "def distance(embedding_Q, embedding_A): \n",
    "    cosine_distance = [1 - F.cosine_similarity(embedding_Q[i], embedding_A[i],dim=0) for i in range(len(embedding_Q))]\n",
    "    L2_distance = [torch.norm((embedding_Q[i] - embedding_A[i]), p = 2) for i in range(len(embedding_Q))]\n",
    "    manhattan_distance = torch.sum(torch.abs(embedding_Q - embedding_A),dim=1)\n",
    "\n",
    "    plt.plot(range(1,len(embedding_Q) + 1),cosine_distance,label=\"cosine distance\")\n",
    "    plt.plot(range(1,len(embedding_Q) + 1),L2_distance,label=\"L2 distance\")\n",
    "    #plt.plot(range(1,len(embedding_Q) + 1),manhattan_distance,label=\"Manhattan distance\")\n",
    "    plt.xlabel(\"Question #\")\n",
    "    plt.legend()\n",
    "    plt.ylabel(\"Distance\")\n",
    "    plt.grid()\n",
    "    plt.show()"
   ]
  },
  {
   "cell_type": "code",
   "execution_count": 43,
   "metadata": {},
   "outputs": [
    {
     "data": {
      "image/png": "[encoded data removed]",
      "text/plain": [
       "<Figure size 640x480 with 1 Axes>"
      ]
     },
     "metadata": {},
     "output_type": "display_data"
    }
   ],
   "source": [
    "distance(embedding_Q[:30],embedding_A[:30])"
   ]
  },
  {
   "cell_type": "code",
   "execution_count": 44,
   "metadata": {},
   "outputs": [
    {
     "name": "stdout",
     "output_type": "stream",
     "text": [
      "tensor(0.6972)\n",
      "tensor(1.1591)\n",
      "tensor(21.2475)\n"
     ]
    }
   ],
   "source": [
    "\n",
    "\n",
    "print(1 - F.cosine_similarity(embedding_Q[np.random.randint(1,250)], embedding_Q[np.random.randint(1,250)],dim=0))\n",
    "print(torch.norm((embedding_Q[np.random.randint(1,250)] - embedding_Q[np.random.randint(1,250)]),p=2))\n",
    "print(torch.sum(torch.abs(embedding_Q[np.random.randint(1,250)] - embedding_A[np.random.randint(1,250)])))\n",
    "\n"
   ]
  },
  {
   "cell_type": "code",
   "execution_count": 45,
   "metadata": {},
   "outputs": [
    {
     "name": "stdout",
     "output_type": "stream",
     "text": [
      "torch.Size([5, 384])\n",
      "1.0\n"
     ]
    }
   ],
   "source": [
    "def closest_neighbors(embedding_Q,embedding_A,k): \n",
    "    answer_is_near = 0\n",
    "    embedding = torch.cat([embedding_Q,embedding_A],dim=0)\n",
    "    for i in range(len(embedding_Q)): \n",
    "        distances, indices = torch.topk(-torch.norm(embedding[i] - embedding,dim=1),k)\n",
    "        if torch.isin(i+len(embedding_Q),indices): \n",
    "            answer_is_near += 1\n",
    "    return answer_is_near/len(embedding_Q)\n",
    "\n",
    "print(embedding_Q[:5].shape)\n",
    "\n",
    "print(closest_neighbors(embedding_Q[:5],embedding_A[:5],2))\n",
    "        \n"
   ]
  },
  {
   "cell_type": "markdown",
   "metadata": {},
   "source": [
    "## Testing the code \n",
    "\n",
    "# Ablation\n",
    "\n",
    "We will now test our code that implements activation patching and ablation. For now, we just test it on random neurons and MLP layers to see whether the fraction of questions containing their answers as nearest neighbors have changed appreciably. \n",
    "\n"
   ]
  },
  {
   "cell_type": "code",
   "execution_count": 69,
   "metadata": {},
   "outputs": [
    {
     "name": "stdout",
     "output_type": "stream",
     "text": [
      "251\n",
      "0.86\n"
     ]
    }
   ],
   "source": [
    "\n",
    "print(len(questions))\n",
    "ablated_questions = ablation(3,9,questions[:50],type=\"zero\")\n",
    "ablated_answers = ablation(3,9,answers[:50],type=\"zero\")\n",
    "\n",
    "print(closest_neighbors(ablated_questions,ablated_answers,2))\n",
    "\n"
   ]
  },
  {
   "cell_type": "code",
   "execution_count": 70,
   "metadata": {},
   "outputs": [
    {
     "ename": "ValueError",
     "evalue": "text input must be of type `str` (single example), `List[str]` (batch or single pretokenized example) or `List[List[str]]` (batch of pretokenized examples).",
     "output_type": "error",
     "traceback": [
      "\u001b[31m---------------------------------------------------------------------------\u001b[39m",
      "\u001b[31mValueError\u001b[39m                                Traceback (most recent call last)",
      "\u001b[36mCell\u001b[39m\u001b[36m \u001b[39m\u001b[32mIn[70]\u001b[39m\u001b[32m, line 1\u001b[39m\n\u001b[32m----> \u001b[39m\u001b[32m1\u001b[39m distance(ablated_questions[:\u001b[32m50\u001b[39m],ablated_answers[:\u001b[32m50\u001b[39m])\n\u001b[32m      2\u001b[39m distance(embedding_Q[:\u001b[32m50\u001b[39m],embedding_A[:\u001b[32m50\u001b[39m])\n",
      "\u001b[36mCell\u001b[39m\u001b[36m \u001b[39m\u001b[32mIn[68]\u001b[39m\u001b[32m, line 2\u001b[39m, in \u001b[36mdistance\u001b[39m\u001b[34m(reference_text, text)\u001b[39m\n\u001b[32m      1\u001b[39m \u001b[38;5;28;01mdef\u001b[39;00m\u001b[38;5;250m \u001b[39m\u001b[34mdistance\u001b[39m(reference_text,text): \n\u001b[32m----> \u001b[39m\u001b[32m2\u001b[39m     reference_embedding = embed(reference_text,model,tokenizer(reference_text, padding = \u001b[38;5;28;01mTrue\u001b[39;00m, truncation=\u001b[38;5;28;01mTrue\u001b[39;00m, return_tensors=\u001b[33m'\u001b[39m\u001b[33mpt\u001b[39m\u001b[33m'\u001b[39m))\n\u001b[32m      4\u001b[39m     intermediate_embeddings_mlp,intermediate_embeddings_attn = intermediate_embeddings(text)\n\u001b[32m      5\u001b[39m     \u001b[38;5;28mprint\u001b[39m(\u001b[33m\"\u001b[39m\u001b[33mdiff shape:\u001b[39m\u001b[33m\"\u001b[39m, (reference_embedding - intermediate_embeddings_mlp).shape)\n",
      "\u001b[36mFile \u001b[39m\u001b[32mc:\\Users\\frede\\anaconda3\\envs\\embed\\Lib\\site-packages\\transformers\\tokenization_utils_base.py:2867\u001b[39m, in \u001b[36mPreTrainedTokenizerBase.__call__\u001b[39m\u001b[34m(self, text, text_pair, text_target, text_pair_target, add_special_tokens, padding, truncation, max_length, stride, is_split_into_words, pad_to_multiple_of, padding_side, return_tensors, return_token_type_ids, return_attention_mask, return_overflowing_tokens, return_special_tokens_mask, return_offsets_mapping, return_length, verbose, **kwargs)\u001b[39m\n\u001b[32m   2865\u001b[39m     \u001b[38;5;28;01mif\u001b[39;00m \u001b[38;5;129;01mnot\u001b[39;00m \u001b[38;5;28mself\u001b[39m._in_target_context_manager:\n\u001b[32m   2866\u001b[39m         \u001b[38;5;28mself\u001b[39m._switch_to_input_mode()\n\u001b[32m-> \u001b[39m\u001b[32m2867\u001b[39m     encodings = \u001b[38;5;28mself\u001b[39m._call_one(text=text, text_pair=text_pair, **all_kwargs)\n\u001b[32m   2868\u001b[39m \u001b[38;5;28;01mif\u001b[39;00m text_target \u001b[38;5;129;01mis\u001b[39;00m \u001b[38;5;129;01mnot\u001b[39;00m \u001b[38;5;28;01mNone\u001b[39;00m:\n\u001b[32m   2869\u001b[39m     \u001b[38;5;28mself\u001b[39m._switch_to_target_mode()\n",
      "\u001b[36mFile \u001b[39m\u001b[32mc:\\Users\\frede\\anaconda3\\envs\\embed\\Lib\\site-packages\\transformers\\tokenization_utils_base.py:2927\u001b[39m, in \u001b[36mPreTrainedTokenizerBase._call_one\u001b[39m\u001b[34m(self, text, text_pair, add_special_tokens, padding, truncation, max_length, stride, is_split_into_words, pad_to_multiple_of, padding_side, return_tensors, return_token_type_ids, return_attention_mask, return_overflowing_tokens, return_special_tokens_mask, return_offsets_mapping, return_length, verbose, split_special_tokens, **kwargs)\u001b[39m\n\u001b[32m   2924\u001b[39m         \u001b[38;5;28;01mreturn\u001b[39;00m \u001b[38;5;28;01mFalse\u001b[39;00m\n\u001b[32m   2926\u001b[39m \u001b[38;5;28;01mif\u001b[39;00m \u001b[38;5;129;01mnot\u001b[39;00m _is_valid_text_input(text):\n\u001b[32m-> \u001b[39m\u001b[32m2927\u001b[39m     \u001b[38;5;28;01mraise\u001b[39;00m \u001b[38;5;167;01mValueError\u001b[39;00m(\n\u001b[32m   2928\u001b[39m         \u001b[33m\"\u001b[39m\u001b[33mtext input must be of type `str` (single example), `List[str]` (batch or single pretokenized example) \u001b[39m\u001b[33m\"\u001b[39m\n\u001b[32m   2929\u001b[39m         \u001b[33m\"\u001b[39m\u001b[33mor `List[List[str]]` (batch of pretokenized examples).\u001b[39m\u001b[33m\"\u001b[39m\n\u001b[32m   2930\u001b[39m     )\n\u001b[32m   2932\u001b[39m \u001b[38;5;28;01mif\u001b[39;00m text_pair \u001b[38;5;129;01mis\u001b[39;00m \u001b[38;5;129;01mnot\u001b[39;00m \u001b[38;5;28;01mNone\u001b[39;00m \u001b[38;5;129;01mand\u001b[39;00m \u001b[38;5;129;01mnot\u001b[39;00m _is_valid_text_input(text_pair):\n\u001b[32m   2933\u001b[39m     \u001b[38;5;28;01mraise\u001b[39;00m \u001b[38;5;167;01mValueError\u001b[39;00m(\n\u001b[32m   2934\u001b[39m         \u001b[33m\"\u001b[39m\u001b[33mtext input must be of type `str` (single example), `List[str]` (batch or single pretokenized example) \u001b[39m\u001b[33m\"\u001b[39m\n\u001b[32m   2935\u001b[39m         \u001b[33m\"\u001b[39m\u001b[33mor `List[List[str]]` (batch of pretokenized examples).\u001b[39m\u001b[33m\"\u001b[39m\n\u001b[32m   2936\u001b[39m     )\n",
      "\u001b[31mValueError\u001b[39m: text input must be of type `str` (single example), `List[str]` (batch or single pretokenized example) or `List[List[str]]` (batch of pretokenized examples)."
     ]
    }
   ],
   "source": [
    "distance(ablated_questions[:50],ablated_answers[:50])\n",
    "distance(embedding_Q[:50],embedding_A[:50])"
   ]
  },
  {
   "cell_type": "markdown",
   "metadata": {},
   "source": [
    "# Activation patching\n",
    "\n"
   ]
  },
  {
   "cell_type": "code",
   "execution_count": 71,
   "metadata": {},
   "outputs": [
    {
     "name": "stdout",
     "output_type": "stream",
     "text": [
      "tensor([0.2803]) tensor(1.1998)\n",
      "torch.Size([1, 3])\n",
      "(tensor([0.2975]), tensor(1.1853))\n"
     ]
    }
   ],
   "source": [
    "orig_prompt = answers[1]\n",
    "corr_prompt = answers[4]\n",
    "\n",
    "max_tokens = max(len(tokenizer(orig_prompt)),len(tokenizer(corr_prompt)))\n",
    "\n",
    "embedding1 = embed(orig_prompt,model,tokenizer(orig_prompt, padding = \"max_length\", max_length = max_tokens, truncation=True, return_tensors='pt'))\n",
    "embedding2 = embed(corr_prompt,model,tokenizer(corr_prompt, padding = \"max_length\", max_length = max_tokens, truncation=True, return_tensors='pt'))\n",
    "\n",
    "print(F.cosine_similarity(embedding1, embedding2), torch.norm(embedding1 - embedding2, p=2))\n",
    "\n",
    "print(activation_patching(orig_prompt,corr_prompt,3,4))"
   ]
  },
  {
   "cell_type": "code",
   "execution_count": 49,
   "metadata": {},
   "outputs": [
    {
     "name": "stdout",
     "output_type": "stream",
     "text": [
      "torch.Size([6, 1, 4, 384])\n",
      "torch.Size([5, 84, 384])\n",
      "torch.Size([6, 1, 384])\n",
      "torch.Size([6, 1, 384])\n",
      "torch.Size([1, 384])\n"
     ]
    }
   ],
   "source": [
    "def intermediate_embeddings(text):\n",
    "\n",
    "    intermediate_act_mlp = []\n",
    "    intermediate_act_attn = []\n",
    "    intermediate_embeddings_mlp = []\n",
    "    intermediate_embeddings_attn = []\n",
    "\n",
    "    def hook_mlp(module,inp,out): \n",
    "        intermediate_act_mlp.append(out)\n",
    "    def hook_attn(module,inp,out): \n",
    "        intermediate_act_attn.append(out)\n",
    "    for i in range(num_layers): \n",
    "        model.encoder.layer[i].output.register_forward_hook(hook_mlp)     #mlp.layernorm\n",
    "        model.encoder.layer[i].attention.output.register_forward_hook(hook_attn)\n",
    "    text_embedding = embed(text,model,tokenizer(text, padding = True, truncation=True, return_tensors='pt'))\n",
    "    print(torch.stack(intermediate_act_mlp).shape)\n",
    "    intermediate_embeddings_mlp = torch.stack([F.normalize(mean_pooling(intermediate_act_mlp[i],tokenizer(text, padding = True, truncation=True, return_tensors='pt')[\"attention_mask\"]), p=2,dim=1) for i in range(num_layers)])\n",
    "    intermediate_embeddings_attn = torch.stack([F.normalize(mean_pooling(intermediate_act_attn[i],tokenizer(text, padding = True, truncation=True, return_tensors='pt')[\"attention_mask\"]), p=2,dim=1) for i in range(num_layers)])\n",
    "\n",
    "    return intermediate_embeddings_mlp, intermediate_embeddings_attn\n",
    "\n",
    "intermediate_embeddings_mlp, intermediate_embeddings_attn = intermediate_embeddings(\"hallo\")\n",
    "print(model(**tokenizer(questions[:5], padding = True, truncation=True, return_tensors='pt'))[0].shape)\n",
    "print(intermediate_embeddings_mlp.shape)\n",
    "print(intermediate_embeddings_attn.shape)\n",
    "print(embed(\"hallo\",model,tokenizer(\"hallo\", padding = True, truncation=True, return_tensors='pt')).shape)"
   ]
  },
  {
   "cell_type": "code",
   "execution_count": 68,
   "metadata": {},
   "outputs": [
    {
     "name": "stdout",
     "output_type": "stream",
     "text": [
      "torch.Size([6, 1, 51, 384])\n",
      "diff shape: torch.Size([6, 1, 384])\n",
      "<class 'torch.Tensor'>\n",
      "torch.Size([6, 1])\n"
     ]
    },
    {
     "data": {
      "image/png": "[encoded data removed]",
      "text/plain": [
       "<Figure size 640x480 with 1 Axes>"
      ]
     },
     "metadata": {},
     "output_type": "display_data"
    }
   ],
   "source": [
    "def distance(reference_text,text): \n",
    "    reference_embedding = embed(reference_text,model,tokenizer(reference_text, padding = True, truncation=True, return_tensors='pt'))\n",
    "\n",
    "    intermediate_embeddings_mlp,intermediate_embeddings_attn = intermediate_embeddings(text)\n",
    "    print(\"diff shape:\", (reference_embedding - intermediate_embeddings_mlp).shape)\n",
    "    distances_mlp = 1 - F.cosine_similarity(reference_embedding,intermediate_embeddings_mlp,dim=2)                               #torch.norm(reference_embedding - intermediate_embeddings_mlp,dim=2)\n",
    "    print(type(distances_mlp))\n",
    "    print(distances_mlp.shape)\n",
    "    distances_attn = 1 - F.cosine_similarity(reference_embedding,intermediate_embeddings_attn,dim=2)                                 #torch.norm(reference_embedding - intermediate_embeddings_attn,dim=2)\n",
    "\n",
    "    plt.plot(range(num_layers),distances_mlp,label=\"MLP\")\n",
    "    plt.plot(range(num_layers),distances_attn,label=\"attention block\")\n",
    "    plt.legend()\n",
    "    plt.xlabel(\"Layer #\")\n",
    "    plt.ylabel(\"Distance\")\n",
    "    plt.grid()\n",
    "    plt.title(\"Distances between intermediate embeddings and reference embedding\")\n",
    "    plt.show()\n",
    "\n",
    "distance(questions[11],answers[12])"
   ]
  }
 ],
 "metadata": {
  "kernelspec": {
   "display_name": "embed",
   "language": "python",
   "name": "python3"
  },
  "language_info": {
   "codemirror_mode": {
    "name": "ipython",
    "version": 3
   },
   "file_extension": ".py",
   "mimetype": "text/x-python",
   "name": "python",
   "nbconvert_exporter": "python",
   "pygments_lexer": "ipython3",
   "version": "3.12.11"
  }
 },
 "nbformat": 4,
 "nbformat_minor": 2
}
