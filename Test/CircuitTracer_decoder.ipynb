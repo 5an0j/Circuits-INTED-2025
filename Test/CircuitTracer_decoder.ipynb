{
 "cells": [
  {
   "cell_type": "markdown",
   "id": "0e8b9138",
   "metadata": {},
   "source": [
    "## CircuitTracer on decoder style models\n",
    "\n",
    "# Initial setup\n",
    "\n",
    "There seems to be some conflict in the compatible versions of circuit_tracer and transformer_lens, but this only seems to be a problem for certain methods and functions."
   ]
  },
  {
   "cell_type": "code",
   "execution_count": 2,
   "id": "7d44dda2",
   "metadata": {},
   "outputs": [],
   "source": [
    "import torch\n",
    "import circuit_tracer as ct\n",
    "from circuit_tracer import transcoder\n",
    "from transformer_lens import HookedTransformer"
   ]
  },
  {
   "cell_type": "markdown",
   "id": "7ead5916",
   "metadata": {},
   "source": [
    "We then initialize our model:"
   ]
  },
  {
   "cell_type": "markdown",
   "id": "9eddfdcc",
   "metadata": {},
   "source": [
    "We set our input text for this runthrough:"
   ]
  },
  {
   "cell_type": "code",
   "execution_count": 5,
   "id": "77a80622",
   "metadata": {},
   "outputs": [
    {
     "name": "stdout",
     "output_type": "stream",
     "text": [
      "tensor([[50256,   464,  3797,  3332,   319,   262]])\n",
      "['<|endoftext|>', 'The', ' cat', ' sat', ' on', ' the']\n"
     ]
    }
   ],
   "source": [
    "text = \"The cat sat on the\"\n",
    "tokens_text = model.to_tokens(text)\n",
    "str_tokens_text = model.to_str_tokens(tokens_text)\n",
    "print(tokens_text)\n",
    "print(str_tokens_text)"
   ]
  },
  {
   "cell_type": "markdown",
   "id": "46d4cd1f",
   "metadata": {},
   "source": [
    "We then set the layer to trace and visualize the attribution data:"
   ]
  },
  {
   "cell_type": "code",
   "execution_count": 10,
   "id": "2f26ca15",
   "metadata": {},
   "outputs": [],
   "source": [
    "#layer_to_trace = model.layer[-1]"
   ]
  },
  {
   "cell_type": "markdown",
   "id": "f3dabcc2",
   "metadata": {},
   "source": [
    "The package only supports very large models, which the environment can not handle."
   ]
  }
 ],
 "metadata": {
  "kernelspec": {
   "display_name": "embed",
   "language": "python",
   "name": "python3"
  },
  "language_info": {
   "codemirror_mode": {
    "name": "ipython",
    "version": 3
   },
   "file_extension": ".py",
   "mimetype": "text/x-python",
   "name": "python",
   "nbconvert_exporter": "python",
   "pygments_lexer": "ipython3",
   "version": "3.12.11"
  }
 },
 "nbformat": 4,
 "nbformat_minor": 5
}
