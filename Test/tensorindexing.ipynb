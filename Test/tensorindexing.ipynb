{
 "cells": [
  {
   "cell_type": "code",
   "execution_count": null,
   "metadata": {},
   "outputs": [
    {
     "name": "stdout",
     "output_type": "stream",
     "text": [
      "3\n",
      "tensor([[[  1.,  -2.,   5.],\n",
      "         [  3.,   4.,   7.],\n",
      "         [ -4.,   0.,   9.]],\n",
      "\n",
      "        [[  3.,  -6.,  10.],\n",
      "         [ -5.,   0.,   2.],\n",
      "         [ 15.,   1.,  26.]],\n",
      "\n",
      "        [[ 34., -21.,   8.],\n",
      "         [ 22.,  90., -89.],\n",
      "         [ 23.,  74.,  81.]]])\n",
      "torch.Size([1, 1, 3])\n",
      "tensor([[[ 12.6667,  -9.6667,   7.6667],\n",
      "         [  6.6667,  31.3333, -26.6667],\n",
      "         [ 11.3333,  25.0000,  38.6667]],\n",
      "\n",
      "        [[ 12.6667,  -9.6667,   7.6667],\n",
      "         [  6.6667,  31.3333, -26.6667],\n",
      "         [ 11.3333,  25.0000,  38.6667]],\n",
      "\n",
      "        [[ 12.6667,  -9.6667,   7.6667],\n",
      "         [  6.6667,  31.3333, -26.6667],\n",
      "         [ 11.3333,  25.0000,  38.6667]]])\n",
      "tensor([[[  1.,  -2.,   5.],\n",
      "         [  9.,  12.,  21.],\n",
      "         [-12.,   0.,  27.]],\n",
      "\n",
      "        [[  3.,  -6.,  10.],\n",
      "         [-15.,   0.,   6.],\n",
      "         [ 45.,   3.,  78.]],\n",
      "\n",
      "        [[ 34., -21.,   8.],\n",
      "         [ 22.,  90., -89.],\n",
      "         [ 23.,  74.,  81.]]])\n"
     ]
    }
   ],
   "source": [
    "import torch\n",
    "\n",
    "def slice_or_patch(old_tensor, indices, new_values = None):\n",
    "\n",
    "    for i in range(len(indices)): \n",
    "        if isinstance(indices[i], slice):\n",
    "            indices[i] = torch.arange(old_tensor.shape[i])\n",
    "        if isinstance(indices[i], list): \n",
    "            indices[i] = torch.tensor(indices[i])\n",
    "\n",
    "    index_grids = torch.meshgrid(*indices, indexing='ij')\n",
    "\n",
    "    if new_values is None: \n",
    "        return old_tensor[index_grids]\n",
    "    else: \n",
    "        #index_grids = [grid.expand(new_values.shape) for grid in index_grids]\n",
    "        old_tensor[index_grids] = new_values\n",
    "        return old_tensor\n",
    "\n",
    "\n",
    "custom_tensor = torch.tensor([[[1.0,-2.0,5.0],[3.0,4.0,7.0],[-4.0,0.0,9.0]],[[3.0,-6.0,10.0],[-5.0,0.0,2.0],[15.0,1.0,26.0]],[[34.0,-21.0,8.0],[22.0,90.0,-89.0],[23.0,74.0,81.0]]])\n",
    "perm = torch.randperm(custom_tensor.size(0))\n",
    "print(custom_tensor.size(0))\n",
    "print(custom_tensor[perm])\n",
    "print(torch.mean(custom_tensor,dim=(0,1),keepdim=True).shape)\n",
    "rows = [0,1]\n",
    "cols = [1,2]\n",
    "\n",
    "print(torch.mean(custom_tensor,dim= 0, keepdim = True).expand([3] + (custom_tensor.dim() - 1)*[-1]))\n",
    "\n",
    "print(slice_or_patch(custom_tensor,[rows,cols,slice(None)],slice_or_patch(custom_tensor,[rows,cols,slice(None)])*3))\n",
    "\n",
    "new_values = slice_or_patch(custom_tensor,[slice(None),[1,2],[0,1]])*3\n",
    "\n",
    "new_tensor = slice_or_patch(custom_tensor,[slice(None),[1,2],[0,1]],new_values)\n",
    "\n",
    "#print(new_tensor)\n",
    "\n"
   ]
  },
  {
   "cell_type": "code",
   "execution_count": 3,
   "metadata": {},
   "outputs": [
    {
     "name": "stdout",
     "output_type": "stream",
     "text": [
      "[[5. 6.]]\n"
     ]
    }
   ],
   "source": [
    "import numpy as np\n",
    "\n",
    "new_array = np.zeros((1,2),float)\n",
    "new_array[0,0] = 5\n",
    "new_array[0,1] = 6\n",
    "print(new_array)"
   ]
  },
  {
   "cell_type": "code",
   "execution_count": 38,
   "metadata": {},
   "outputs": [
    {
     "name": "stdout",
     "output_type": "stream",
     "text": [
      "{(0, 'hei'): tensor([1, 4]), (1, 'hei'): tensor([1, 4]), (2, 'hei'): tensor([1, 4]), (3, 'hei'): tensor([1, 4]), (4, 'hei'): tensor([1, 4])}\n",
      "torch.Size([5, 2])\n",
      "torch.Size([6, 6])\n",
      "torch.Size([2, 6, 3])\n"
     ]
    }
   ],
   "source": [
    "test_dict = {(i,\"hei\"): torch.tensor([1,4]) for i in range(5)}\n",
    "print(test_dict)\n",
    "print(torch.stack(list(test_dict.values())).shape)\n",
    "\n",
    "test_tensor = torch.tensor([[1,3,221,45,67,89],[4,5,89,90,93,74],[6,7,56,45,47,645],[8,9,76,34,2874,767],[0,-1,10,13,64,3748],[9,34,57,15,7826,874446]])\n",
    "print(test_tensor.shape)\n",
    "\n",
    "print(torch.stack(torch.chunk(test_tensor, 2, dim=-1)).shape)\n"
   ]
  },
  {
   "cell_type": "code",
   "execution_count": 40,
   "metadata": {},
   "outputs": [
    {
     "name": "stdout",
     "output_type": "stream",
     "text": [
      "[((0, 'attn'), [0, 1, 2, 3, 4, 5, 6, 7, 8, 9, 10, 11]), ((1, 'attn'), [0, 1, 2, 3, 4, 5, 6, 7, 8, 9, 10, 11]), ((2, 'attn'), [0, 1, 2, 3, 4, 5, 6, 7, 8, 9, 10, 11]), ((3, 'attn'), [0, 1, 2, 3, 4, 5, 6, 7, 8, 9, 10, 11]), ((4, 'attn'), [0, 1, 2, 3, 4, 5, 6, 7, 8, 9, 10, 11]), ((5, 'attn'), [0, 1, 2, 3, 4, 5, 6, 7, 8, 9, 10, 11])]\n",
      "{(2, 'attn'): [0, 1, 2, 3, 4, 5, 6, 7, 8, 9, 10, 11], (3, 'attn'): [0, 1, 2, 3, 4, 5, 6, 7, 8, 9, 10, 11], (4, 'attn'): [0, 1, 2, 3, 4, 5, 6, 7, 8, 9, 10, 11]}\n"
     ]
    }
   ],
   "source": [
    "sender_node = {(1,\"attn\"): 5}\n",
    "receiver_node = {(5,\"MLP\"): 3}\n",
    "\n",
    "attn_head_nodes = {(i,\"attn\"): list(range(12)) for i in range(6)}\n",
    "\n",
    "print(list(attn_head_nodes.items()))\n",
    "\n",
    "print(dict(list(attn_head_nodes.items())[list(sender_node.keys())[0][0] + 1:list(receiver_node.keys())[0][0]]))"
   ]
  },
  {
   "cell_type": "code",
   "execution_count": 45,
   "metadata": {},
   "outputs": [
    {
     "name": "stdout",
     "output_type": "stream",
     "text": [
      "{'hei': 'halla på deg', 'på': 'halla på deg', 'deg': 'halla på deg'}\n"
     ]
    },
    {
     "ename": "TypeError",
     "evalue": "only integer tensors of a single element can be converted to an index",
     "output_type": "error",
     "traceback": [
      "\u001b[31m---------------------------------------------------------------------------\u001b[39m",
      "\u001b[31mTypeError\u001b[39m                                 Traceback (most recent call last)",
      "\u001b[36mCell\u001b[39m\u001b[36m \u001b[39m\u001b[32mIn[45]\u001b[39m\u001b[32m, line 8\u001b[39m\n\u001b[32m      6\u001b[39m     new_dict[key] = \u001b[33m\"\u001b[39m\u001b[33mhalla på deg\u001b[39m\u001b[33m\"\u001b[39m\n\u001b[32m      7\u001b[39m \u001b[38;5;28mprint\u001b[39m(new_dict)\n\u001b[32m----> \u001b[39m\u001b[32m8\u001b[39m \u001b[38;5;28mprint\u001b[39m(torch.tensor(\u001b[38;5;28mlist\u001b[39m(test_dict.values())))\n\u001b[32m      9\u001b[39m \u001b[38;5;28mprint\u001b[39m(torch.tensor(\u001b[38;5;28mlist\u001b[39m(test_dict.values())).shape)\n",
      "\u001b[31mTypeError\u001b[39m: only integer tensors of a single element can be converted to an index"
     ]
    }
   ],
   "source": [
    "import torch\n",
    "test_dict = {\"hei\": torch.tensor([0,1]), \"på\": torch.tensor([2,3]), \"deg\": torch.tensor([4,5])}\n",
    "new_dict = {}\n",
    "\n",
    "for key, value in test_dict.items(): \n",
    "    new_dict[key] = \"halla på deg\"\n",
    "print(new_dict)\n",
    "print(torch.tensor(list(test_dict.values())))\n",
    "print(torch.tensor(list(test_dict.values())).shape)"
   ]
  }
 ],
 "metadata": {
  "kernelspec": {
   "display_name": "embed",
   "language": "python",
   "name": "python3"
  },
  "language_info": {
   "codemirror_mode": {
    "name": "ipython",
    "version": 3
   },
   "file_extension": ".py",
   "mimetype": "text/x-python",
   "name": "python",
   "nbconvert_exporter": "python",
   "pygments_lexer": "ipython3",
   "version": "3.12.11"
  }
 },
 "nbformat": 4,
 "nbformat_minor": 2
}
