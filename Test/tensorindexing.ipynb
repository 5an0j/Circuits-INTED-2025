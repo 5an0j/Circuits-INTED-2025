{
 "cells": [
  {
   "cell_type": "code",
   "execution_count": 35,
   "metadata": {},
   "outputs": [
    {
     "ename": "SyntaxError",
     "evalue": "'function call' is an illegal expression for augmented assignment (2010576424.py, line 25)",
     "output_type": "error",
     "traceback": [
      "  \u001b[36mCell\u001b[39m\u001b[36m \u001b[39m\u001b[32mIn[35]\u001b[39m\u001b[32m, line 25\u001b[39m\n\u001b[31m    \u001b[39m\u001b[31mslice_or_patch(custom_tensor,[rows,cols,slice(None)]) *= 3\u001b[39m\n    ^\n\u001b[31mSyntaxError\u001b[39m\u001b[31m:\u001b[39m 'function call' is an illegal expression for augmented assignment\n"
     ]
    }
   ],
   "source": [
    "import torch\n",
    "\n",
    "def slice_or_patch(old_tensor, indices, new_values = None):\n",
    "\n",
    "    for i in range(len(indices)): \n",
    "        if isinstance(indices[i], slice):\n",
    "            indices[i] = torch.arange(old_tensor.shape[i])\n",
    "        if isinstance(indices[i], list): \n",
    "            indices[i] = torch.tensor(indices[i])\n",
    "\n",
    "    index_grids = torch.meshgrid(*indices, indexing='ij')\n",
    "\n",
    "    if new_values is None: \n",
    "        return old_tensor[index_grids]\n",
    "    else: \n",
    "        #index_grids = [grid.expand(new_values.shape) for grid in index_grids]\n",
    "        old_tensor[index_grids] = new_values\n",
    "        return old_tensor\n",
    "\n",
    "\n",
    "custom_tensor = torch.tensor([[[1,-2,5],[3,4,7],[-4,0,9]],[[3,-6,10],[-5,0,2],[15,1,26]],[[34,-21,8],[22,90,-89],[23,74,81]]])\n",
    "rows = [0,1]\n",
    "cols = [1,2]\n",
    "\n",
    "slice_or_patch(custom_tensor,[rows,cols,slice(None)]) *= 3\n",
    "\n",
    "print(custom_tensor)\n",
    "\n",
    "print(slice_or_patch(custom_tensor,[rows,cols,slice(None)],slice_or_patch(custom_tensor,[rows,cols,slice(None)])*3))\n",
    "\n",
    "new_values = slice_or_patch(custom_tensor,[slice(None),[1,2],[0,1]])*3\n",
    "\n",
    "new_tensor = slice_or_patch(custom_tensor,[slice(None),[1,2],[0,1]],new_values)\n",
    "\n",
    "#print(new_tensor)\n",
    "\n"
   ]
  }
 ],
 "metadata": {
  "kernelspec": {
   "display_name": "embed",
   "language": "python",
   "name": "python3"
  },
  "language_info": {
   "codemirror_mode": {
    "name": "ipython",
    "version": 3
   },
   "file_extension": ".py",
   "mimetype": "text/x-python",
   "name": "python",
   "nbconvert_exporter": "python",
   "pygments_lexer": "ipython3",
   "version": "3.12.11"
  }
 },
 "nbformat": 4,
 "nbformat_minor": 2
}
