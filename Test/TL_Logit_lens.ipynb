{
 "cells": [
  {
   "cell_type": "markdown",
   "id": "d89ecf25",
   "metadata": {},
   "source": [
    "## Logit lens\n",
    "\n",
    "Trying logit lens"
   ]
  },
  {
   "cell_type": "code",
   "execution_count": 1,
   "id": "a6b51d0f",
   "metadata": {},
   "outputs": [],
   "source": [
    "import numpy as numpy\n",
    "import plotly.express as px\n",
    "import torch\n",
    "\n",
    "import circuitsvis as cv\n",
    "\n",
    "import transformer_lens.utils as utils\n",
    "from transformer_lens.hook_points import HookPoint\n",
    "from transformer_lens import HookedTransformer, FactoredMatrix\n",
    "\n",
    "import tqdm.auto as tqdm\n",
    "from functools import partial"
   ]
  },
  {
   "cell_type": "code",
   "execution_count": 2,
   "id": "3b1ee19f",
   "metadata": {},
   "outputs": [],
   "source": [
    "def imshow(tensor, renderer=None, xaxis=\"\", yaxis=\"\", **kwargs):\n",
    "    px.imshow(utils.to_numpy(tensor), color_continuous_midpoint=0.0, color_continuous_scale=\"RdBu\", labels={\"x\":xaxis, \"y\":yaxis}, **kwargs).show(renderer)\n",
    "\n",
    "def line(tensor, renderer=None, xaxis=\"\", yaxis=\"\", **kwargs):\n",
    "    px.line(utils.to_numpy(tensor), labels={\"x\":xaxis, \"y\":yaxis}, **kwargs).show(renderer)\n",
    "\n",
    "def scatter(x, y, xaxis=\"\", yaxis=\"\", caxis=\"\", renderer=None, **kwargs):\n",
    "    x = utils.to_numpy(x)\n",
    "    y = utils.to_numpy(y)\n",
    "    px.scatter(y=y, x=x, labels={\"x\":xaxis, \"y\":yaxis, \"color\":caxis}, **kwargs).show(renderer)"
   ]
  },
  {
   "cell_type": "code",
   "execution_count": 3,
   "id": "e01c33f7",
   "metadata": {},
   "outputs": [],
   "source": [
    "def vis_attn_patterns(model, text, layers, compact=True):\n",
    "    str_tokens = model.to_str_tokens(text)\n",
    "    logits, cache = model.run_with_cache(text, remove_batch_dim=True)\n",
    "\n",
    "    if compact:\n",
    "        for layer in layers:\n",
    "            attention_pattern = cache[\"pattern\", layer]\n",
    "            display(cv.attention.attention_patterns(tokens=str_tokens, attention=attention_pattern))\n",
    "    \n",
    "    else:\n",
    "        for layer in layers:\n",
    "            attention_pattern = cache[\"pattern\", layer]\n",
    "            display(cv.attention.attention_heads(tokens=str_tokens, attention=attention_pattern))"
   ]
  },
  {
   "cell_type": "code",
   "execution_count": 4,
   "id": "ee751087",
   "metadata": {},
   "outputs": [
    {
     "name": "stdout",
     "output_type": "stream",
     "text": [
      "Loaded pretrained model gpt2-small into HookedTransformer\n"
     ]
    }
   ],
   "source": [
    "model = HookedTransformer.from_pretrained(\"gpt2-small\")"
   ]
  },
  {
   "cell_type": "code",
   "execution_count": 13,
   "id": "5a24616d",
   "metadata": {},
   "outputs": [],
   "source": [
    "text = \"The capital of Norway is\"\n",
    "answer = \" Oslo\"\n",
    "\n",
    "logits, cache = model.run_with_cache(text)"
   ]
  },
  {
   "cell_type": "code",
   "execution_count": 31,
   "id": "f139eaa2",
   "metadata": {},
   "outputs": [
    {
     "name": "stdout",
     "output_type": "stream",
     "text": [
      "torch.Size([13, 1, 6, 768])\n",
      "torch.Size([13, 1, 6, 768])\n",
      "torch.Size([768, 50257])\n",
      "torch.Size([13, 768])\n"
     ]
    },
    {
     "ename": "RuntimeError",
     "evalue": "The size of tensor a (768) must match the size of tensor b (50257) at non-singleton dimension 2",
     "output_type": "error",
     "traceback": [
      "\u001b[31m---------------------------------------------------------------------------\u001b[39m",
      "\u001b[31mRuntimeError\u001b[39m                              Traceback (most recent call last)",
      "\u001b[36mCell\u001b[39m\u001b[36m \u001b[39m\u001b[32mIn[31]\u001b[39m\u001b[32m, line 8\u001b[39m\n\u001b[32m      6\u001b[39m \u001b[38;5;28mprint\u001b[39m(Unembedding_matrix.shape)\n\u001b[32m      7\u001b[39m \u001b[38;5;28mprint\u001b[39m(scaled_resid_stack[:,\u001b[32m0\u001b[39m,\u001b[32m0\u001b[39m,:].shape)\n\u001b[32m----> \u001b[39m\u001b[32m8\u001b[39m logit_lens_final_logits = torch.mul(scaled_resid_stack[:, \u001b[32m0\u001b[39m, ::], Unembedding_matrix)\n",
      "\u001b[31mRuntimeError\u001b[39m: The size of tensor a (768) must match the size of tensor b (50257) at non-singleton dimension 2"
     ]
    }
   ],
   "source": [
    "acc_resid_stack = cache.accumulated_resid()\n",
    "print(acc_resid_stack.shape)\n",
    "scaled_resid_stack = cache.apply_ln_to_stack(acc_resid_stack)\n",
    "print(scaled_resid_stack.shape)\n",
    "Unembedding_matrix = model.W_U\n",
    "print(Unembedding_matrix.shape)\n",
    "print(scaled_resid_stack[:,0,0,:].shape)\n",
    "logit_lens_final_logits = torch.mul(scaled_resid_stack[:, 0, ::], Unembedding_matrix)"
   ]
  },
  {
   "cell_type": "code",
   "execution_count": null,
   "id": "aa576a44",
   "metadata": {},
   "outputs": [
    {
     "ename": "TypeError",
     "evalue": "can only concatenate str (not \"Tensor\") to str",
     "output_type": "error",
     "traceback": [
      "\u001b[31m---------------------------------------------------------------------------\u001b[39m",
      "\u001b[31mTypeError\u001b[39m                                 Traceback (most recent call last)",
      "\u001b[36mCell\u001b[39m\u001b[36m \u001b[39m\u001b[32mIn[25]\u001b[39m\u001b[32m, line 4\u001b[39m\n\u001b[32m      2\u001b[39m \u001b[38;5;28;01mfor\u001b[39;00m layer \u001b[38;5;129;01min\u001b[39;00m \u001b[38;5;28mrange\u001b[39m(\u001b[38;5;28mlen\u001b[39m(scaled_resid_stack[\u001b[32m0\u001b[39m])):\n\u001b[32m      3\u001b[39m     \u001b[38;5;28;01mfor\u001b[39;00m position \u001b[38;5;129;01min\u001b[39;00m \u001b[38;5;28mrange\u001b[39m(\u001b[38;5;28mlen\u001b[39m(logits[\u001b[32m0\u001b[39m][\u001b[32m0\u001b[39m])):\n\u001b[32m----> \u001b[39m\u001b[32m4\u001b[39m         logit_lens_results = model.to_tokens(scaled_resid_stack[layer][\u001b[32m0\u001b[39m][position])\n",
      "\u001b[36mFile \u001b[39m\u001b[32mc:\\Users\\Klara\\anaconda3\\envs\\embed\\Lib\\site-packages\\transformer_lens\\HookedTransformer.py:799\u001b[39m, in \u001b[36mHookedTransformer.to_tokens\u001b[39m\u001b[34m(self, input, prepend_bos, padding_side, move_to_device, truncate)\u001b[39m\n\u001b[32m    793\u001b[39m \u001b[38;5;28;01massert\u001b[39;00m (\n\u001b[32m    794\u001b[39m     \u001b[38;5;28mself\u001b[39m.cfg.tokenizer_prepends_bos \u001b[38;5;129;01mis\u001b[39;00m \u001b[38;5;129;01mnot\u001b[39;00m \u001b[38;5;28;01mNone\u001b[39;00m\n\u001b[32m    795\u001b[39m ), \u001b[33m\"\u001b[39m\u001b[33mSet the tokenizer for the model by calling set_tokenizer\u001b[39m\u001b[33m\"\u001b[39m\n\u001b[32m    797\u001b[39m \u001b[38;5;28;01mif\u001b[39;00m \u001b[38;5;28mself\u001b[39m.cfg.default_prepend_bos \u001b[38;5;129;01mand\u001b[39;00m \u001b[38;5;129;01mnot\u001b[39;00m \u001b[38;5;28mself\u001b[39m.cfg.tokenizer_prepends_bos:\n\u001b[32m    798\u001b[39m     \u001b[38;5;66;03m# We want to prepend bos but the tokenizer doesn't automatically do it, so we add it manually\u001b[39;00m\n\u001b[32m--> \u001b[39m\u001b[32m799\u001b[39m     \u001b[38;5;28minput\u001b[39m = utils.get_input_with_manually_prepended_bos(\u001b[38;5;28mself\u001b[39m.tokenizer, \u001b[38;5;28minput\u001b[39m)\n\u001b[32m    801\u001b[39m tokens = \u001b[38;5;28mself\u001b[39m.tokenizer(\n\u001b[32m    802\u001b[39m     \u001b[38;5;28minput\u001b[39m,\n\u001b[32m    803\u001b[39m     return_tensors=\u001b[33m\"\u001b[39m\u001b[33mpt\u001b[39m\u001b[33m\"\u001b[39m,\n\u001b[32m   (...)\u001b[39m\u001b[32m    806\u001b[39m     max_length=\u001b[38;5;28mself\u001b[39m.cfg.n_ctx \u001b[38;5;28;01mif\u001b[39;00m truncate \u001b[38;5;28;01melse\u001b[39;00m \u001b[38;5;28;01mNone\u001b[39;00m,\n\u001b[32m    807\u001b[39m )[\u001b[33m\"\u001b[39m\u001b[33minput_ids\u001b[39m\u001b[33m\"\u001b[39m]\n\u001b[32m    809\u001b[39m \u001b[38;5;28;01mif\u001b[39;00m \u001b[38;5;129;01mnot\u001b[39;00m \u001b[38;5;28mself\u001b[39m.cfg.default_prepend_bos \u001b[38;5;129;01mand\u001b[39;00m \u001b[38;5;28mself\u001b[39m.cfg.tokenizer_prepends_bos:\n\u001b[32m    810\u001b[39m     \u001b[38;5;66;03m# We don't want to prepend bos but the tokenizer does it automatically, so we remove it manually\u001b[39;00m\n",
      "\u001b[36mFile \u001b[39m\u001b[32mc:\\Users\\Klara\\anaconda3\\envs\\embed\\Lib\\site-packages\\transformer_lens\\utils.py:1254\u001b[39m, in \u001b[36mget_input_with_manually_prepended_bos\u001b[39m\u001b[34m(tokenizer, input)\u001b[39m\n\u001b[32m   1252\u001b[39m     \u001b[38;5;28minput\u001b[39m = tokenizer.bos_token + \u001b[38;5;28minput\u001b[39m\n\u001b[32m   1253\u001b[39m \u001b[38;5;28;01melse\u001b[39;00m:\n\u001b[32m-> \u001b[39m\u001b[32m1254\u001b[39m     \u001b[38;5;28minput\u001b[39m = [tokenizer.bos_token + string \u001b[38;5;28;01mfor\u001b[39;00m string \u001b[38;5;129;01min\u001b[39;00m \u001b[38;5;28minput\u001b[39m]\n\u001b[32m   1255\u001b[39m \u001b[38;5;28;01mreturn\u001b[39;00m \u001b[38;5;28minput\u001b[39m\n",
      "\u001b[31mTypeError\u001b[39m: can only concatenate str (not \"Tensor\") to str"
     ]
    }
   ],
   "source": [
    "logit_lens_results = torch.zeros([13, 6])\n",
    "for layer in range(len(scaled_resid_stack[0])):\n",
    "    for position in range(len(logits[0][0])):\n",
    "        logit_lens_results = model.(scaled_resid_stack[layer][0][position])"
   ]
  }
 ],
 "metadata": {
  "kernelspec": {
   "display_name": "embed",
   "language": "python",
   "name": "python3"
  },
  "language_info": {
   "codemirror_mode": {
    "name": "ipython",
    "version": 3
   },
   "file_extension": ".py",
   "mimetype": "text/x-python",
   "name": "python",
   "nbconvert_exporter": "python",
   "pygments_lexer": "ipython3",
   "version": "3.12.11"
  }
 },
 "nbformat": 4,
 "nbformat_minor": 5
}
