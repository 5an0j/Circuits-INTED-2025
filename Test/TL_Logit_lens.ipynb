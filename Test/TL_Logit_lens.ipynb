{
 "cells": [
  {
   "cell_type": "markdown",
   "id": "d89ecf25",
   "metadata": {},
   "source": [
    "## Logit lens\n",
    "\n",
    "Trying logit lens"
   ]
  },
  {
   "cell_type": "code",
   "execution_count": 8,
   "id": "a6b51d0f",
   "metadata": {},
   "outputs": [],
   "source": [
    "import numpy as numpy\n",
    "import plotly.express as px\n",
    "import torch\n",
    "\n",
    "import circuitsvis as cv\n",
    "\n",
    "import transformer_lens.utils as utils\n",
    "from transformer_lens.hook_points import HookPoint\n",
    "from transformer_lens import HookedTransformer, FactoredMatrix\n",
    "import einops\n",
    "\n",
    "import tqdm.auto as tqdm\n",
    "from functools import partial"
   ]
  },
  {
   "cell_type": "code",
   "execution_count": 3,
   "id": "3b1ee19f",
   "metadata": {},
   "outputs": [],
   "source": [
    "def imshow(tensor, renderer=None, xaxis=\"\", yaxis=\"\", **kwargs):\n",
    "    px.imshow(utils.to_numpy(tensor), color_continuous_midpoint=0.0, color_continuous_scale=\"RdBu\", labels={\"x\":xaxis, \"y\":yaxis}, **kwargs).show(renderer)\n",
    "\n",
    "def line(tensor, renderer=None, xaxis=\"\", yaxis=\"\", **kwargs):\n",
    "    px.line(utils.to_numpy(tensor), labels={\"x\":xaxis, \"y\":yaxis}, **kwargs).show(renderer)\n",
    "\n",
    "def scatter(x, y, xaxis=\"\", yaxis=\"\", caxis=\"\", renderer=None, **kwargs):\n",
    "    x = utils.to_numpy(x)\n",
    "    y = utils.to_numpy(y)\n",
    "    px.scatter(y=y, x=x, labels={\"x\":xaxis, \"y\":yaxis, \"color\":caxis}, **kwargs).show(renderer)"
   ]
  },
  {
   "cell_type": "code",
   "execution_count": 4,
   "id": "e01c33f7",
   "metadata": {},
   "outputs": [],
   "source": [
    "def vis_attn_patterns(model, text, layers, compact=True):\n",
    "    str_tokens = model.to_str_tokens(text)\n",
    "    logits, cache = model.run_with_cache(text, remove_batch_dim=True)\n",
    "\n",
    "    if compact:\n",
    "        for layer in layers:\n",
    "            attention_pattern = cache[\"pattern\", layer]\n",
    "            display(cv.attention.attention_patterns(tokens=str_tokens, attention=attention_pattern))\n",
    "    \n",
    "    else:\n",
    "        for layer in layers:\n",
    "            attention_pattern = cache[\"pattern\", layer]\n",
    "            display(cv.attention.attention_heads(tokens=str_tokens, attention=attention_pattern))"
   ]
  },
  {
   "cell_type": "code",
   "execution_count": 5,
   "id": "ee751087",
   "metadata": {},
   "outputs": [
    {
     "name": "stdout",
     "output_type": "stream",
     "text": [
      "Loaded pretrained model gpt2-small into HookedTransformer\n"
     ]
    }
   ],
   "source": [
    "model = HookedTransformer.from_pretrained(\"gpt2-small\")"
   ]
  },
  {
   "cell_type": "code",
   "execution_count": 6,
   "id": "5a24616d",
   "metadata": {},
   "outputs": [],
   "source": [
    "text = \"The capital of Norway is\"\n",
    "answer = \" Oslo\"\n",
    "\n",
    "logits, cache = model.run_with_cache(text)"
   ]
  },
  {
   "cell_type": "code",
   "execution_count": 16,
   "id": "f139eaa2",
   "metadata": {},
   "outputs": [
    {
     "name": "stdout",
     "output_type": "stream",
     "text": [
      "torch.Size([13, 1, 768])\n",
      "torch.Size([768, 50257])\n",
      "torch.Size([13, 50257])\n"
     ]
    }
   ],
   "source": [
    "acc_resid_stack = cache.accumulated_resid(pos_slice=-1)\n",
    "scaled_resid_stack = cache.apply_ln_to_stack(acc_resid_stack, pos_slice=-1)\n",
    "print(scaled_resid_stack.shape)\n",
    "Unembedding_matrix = model.W_U\n",
    "print(Unembedding_matrix.shape)\n",
    "#n_layers, _, n_dim = scaled_resid_stack.shape\n",
    "\n",
    "logit_lens_final_logits = einops.einsum(scaled_resid_stack, Unembedding_matrix,\n",
    "                                        \"n_layer ... n_dim, n_dim vocab -> n_layer vocab\")\n",
    "print(logit_lens_final_logits.shape)"
   ]
  },
  {
   "cell_type": "code",
   "execution_count": 18,
   "id": "aa576a44",
   "metadata": {},
   "outputs": [
    {
     "ename": "SyntaxError",
     "evalue": "invalid syntax (2264332087.py, line 1)",
     "output_type": "error",
     "traceback": [
      "  \u001b[36mCell\u001b[39m\u001b[36m \u001b[39m\u001b[32mIn[18]\u001b[39m\u001b[32m, line 1\u001b[39m\n\u001b[31m    \u001b[39m\u001b[31mfrom \"Decoder_functions.py\" import get_predictions\u001b[39m\n         ^\n\u001b[31mSyntaxError\u001b[39m\u001b[31m:\u001b[39m invalid syntax\n"
     ]
    }
   ],
   "source": [
    "from \"Decoder_functions.py\" import get_predictions\n",
    "\n",
    "for layer in range(len(logit_lens_final_logits)):\n",
    "    print(model.to_string(logit_lens_final_logits[layer]))"
   ]
  }
 ],
 "metadata": {
  "kernelspec": {
   "display_name": "embed",
   "language": "python",
   "name": "python3"
  },
  "language_info": {
   "codemirror_mode": {
    "name": "ipython",
    "version": 3
   },
   "file_extension": ".py",
   "mimetype": "text/x-python",
   "name": "python",
   "nbconvert_exporter": "python",
   "pygments_lexer": "ipython3",
   "version": "3.12.11"
  }
 },
 "nbformat": 4,
 "nbformat_minor": 5
}
