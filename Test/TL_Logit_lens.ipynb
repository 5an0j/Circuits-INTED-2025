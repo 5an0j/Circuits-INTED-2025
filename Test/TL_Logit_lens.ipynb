{
 "cells": [
  {
   "cell_type": "markdown",
   "id": "d89ecf25",
   "metadata": {},
   "source": [
    "## Logit lens\n",
    "\n",
    "Trying logit lens"
   ]
  },
  {
   "cell_type": "code",
   "execution_count": 1,
   "id": "a6b51d0f",
   "metadata": {},
   "outputs": [],
   "source": [
    "import numpy as np\n",
    "import plotly.express as px\n",
    "import plotly.graph_objects as go\n",
    "import torch\n",
    "\n",
    "import circuitsvis as cv\n",
    "\n",
    "import transformer_lens.utils as utils\n",
    "from transformer_lens.hook_points import HookPoint\n",
    "from transformer_lens import HookedTransformer, FactoredMatrix\n",
    "import einops\n",
    "\n",
    "import tqdm.auto as tqdm\n",
    "from functools import partial"
   ]
  },
  {
   "cell_type": "code",
   "execution_count": null,
   "id": "b2a795ff",
   "metadata": {},
   "outputs": [],
   "source": []
  },
  {
   "cell_type": "code",
   "execution_count": 2,
   "id": "3b1ee19f",
   "metadata": {},
   "outputs": [],
   "source": [
    "def imshow(tensor, renderer=None, xaxis=\"\", yaxis=\"\", **kwargs):\n",
    "    px.imshow(utils.to_numpy(tensor), color_continuous_midpoint=0.0, color_continuous_scale=\"RdBu\", labels={\"x\":xaxis, \"y\":yaxis}, **kwargs).show(renderer)\n",
    "\n",
    "def line(tensor, renderer=None, xaxis=\"\", yaxis=\"\", **kwargs):\n",
    "    px.line(utils.to_numpy(tensor), labels={\"x\":xaxis, \"y\":yaxis}, **kwargs).show(renderer)\n",
    "\n",
    "def scatter(x, y, xaxis=\"\", yaxis=\"\", caxis=\"\", renderer=None, **kwargs):\n",
    "    x = utils.to_numpy(x)\n",
    "    y = utils.to_numpy(y)\n",
    "    px.scatter(y=y, x=x, labels={\"x\":xaxis, \"y\":yaxis, \"color\":caxis}, **kwargs).show(renderer)"
   ]
  },
  {
   "cell_type": "code",
   "execution_count": 3,
   "id": "e01c33f7",
   "metadata": {},
   "outputs": [],
   "source": [
    "def vis_attn_patterns(model, text, layers, compact=True):\n",
    "    str_tokens = model.to_str_tokens(text)\n",
    "    logits, cache = model.run_with_cache(text, remove_batch_dim=True)\n",
    "\n",
    "    if compact:\n",
    "        for layer in layers:\n",
    "            attention_pattern = cache[\"pattern\", layer]\n",
    "            display(cv.attention.attention_patterns(tokens=str_tokens, attention=attention_pattern))\n",
    "    \n",
    "    else:\n",
    "        for layer in layers:\n",
    "            attention_pattern = cache[\"pattern\", layer]\n",
    "            display(cv.attention.attention_heads(tokens=str_tokens, attention=attention_pattern))"
   ]
  },
  {
   "cell_type": "code",
   "execution_count": 4,
   "id": "ee751087",
   "metadata": {},
   "outputs": [
    {
     "name": "stdout",
     "output_type": "stream",
     "text": [
      "Loaded pretrained model gpt2-small into HookedTransformer\n"
     ]
    }
   ],
   "source": [
    "model = HookedTransformer.from_pretrained(\"gpt2-small\")"
   ]
  },
  {
   "cell_type": "code",
   "execution_count": 5,
   "id": "5a24616d",
   "metadata": {},
   "outputs": [
    {
     "name": "stdout",
     "output_type": "stream",
     "text": [
      "torch.Size([1, 13, 50257])\n"
     ]
    }
   ],
   "source": [
    "text = \"The capital of France is Paris and has a population of 12\"\n",
    "answer = \" million\"\n",
    "\n",
    "logits, cache = model.run_with_cache(text)\n",
    "print(logits.shape)"
   ]
  },
  {
   "cell_type": "code",
   "execution_count": 6,
   "id": "8443e918",
   "metadata": {},
   "outputs": [
    {
     "data": {
      "application/vnd.jupyter.widget-view+json": {
       "model_id": "e33edfafc347455294b22f0f98e42f2f",
       "version_major": 2,
       "version_minor": 0
      },
      "text/plain": [
       "  0%|          | 0/10 [00:00<?, ?it/s]"
      ]
     },
     "metadata": {},
     "output_type": "display_data"
    },
    {
     "data": {
      "text/plain": [
       "'The capital of France is Paris and has a population of 12 million.\\n\\nThe capital of France is Paris'"
      ]
     },
     "execution_count": 6,
     "metadata": {},
     "output_type": "execute_result"
    }
   ],
   "source": [
    "model.generate(text, max_new_tokens=10,do_sample=False)"
   ]
  },
  {
   "cell_type": "code",
   "execution_count": 7,
   "id": "f139eaa2",
   "metadata": {},
   "outputs": [
    {
     "name": "stdout",
     "output_type": "stream",
     "text": [
      "torch.Size([13, 1, 13, 768])\n",
      "torch.Size([13, 13, 50257])\n"
     ]
    }
   ],
   "source": [
    "acc_resid_stack = cache.accumulated_resid()\n",
    "scaled_resid_stack = cache.apply_ln_to_stack(acc_resid_stack)\n",
    "print(scaled_resid_stack.shape)\n",
    "Unembedding_matrix = model.W_U\n",
    "#print(Unembedding_matrix.shape)\n",
    "#n_layers, _, n_dim = scaled_resid_stack.shape\n",
    "\n",
    "logit_lens_final_logits = einops.einsum(scaled_resid_stack, Unembedding_matrix,\n",
    "                                        \"n_layer ... pos n_dim, n_dim vocab -> n_layer pos vocab\")\n",
    "print(logit_lens_final_logits.shape)"
   ]
  },
  {
   "cell_type": "code",
   "execution_count": 8,
   "id": "aa576a44",
   "metadata": {},
   "outputs": [
    {
     "name": "stdout",
     "output_type": "stream",
     "text": [
      "13\n",
      "Layer 0:\n",
      "���: 0.0000  theless: 0.0000   capital: 0.0001   livest: 0.0000   France: 0.0000   destro: 0.0000   Paris: 0.0001   mathemat: 0.0000   destro: 0.0000   destro: 0.0000   population: 0.0000   destro: 0.0000   destro: 0.0000  \n",
      "Layer 1:\n",
      "Loading: 0.0006  ories: 0.0001   capital: 0.0007   course: 0.0001   Marse: 0.0002   unlikely: 0.0001   Paris: 0.0006   then: 0.0001   been: 0.0001   few: 0.0001   population: 0.0002   course: 0.0001  th: 0.0002  \n",
      "Layer 2:\n",
      "\n",
      ": 0.0038  ories: 0.0001   capital: 0.0011   course: 0.0001   Connection: 0.0002   unlikely: 0.0001   Hilton: 0.0010   then: 0.0001   been: 0.0002   few: 0.0001   population: 0.0002   course: 0.0001  th: 0.0003  \n",
      "Layer 3:\n",
      "\n",
      ": 0.0768  ories: 0.0001   capital: 0.0020   course: 0.0001   Connection: 0.0003   now: 0.0001   Hilton: 0.0019   then: 0.0001   been: 0.0002   huge: 0.0002   explosion: 0.0002   course: 0.0001  th: 0.0003  \n",
      "Layer 4:\n",
      "\n",
      ": 0.1057  resa: 0.0001   capital: 0.0023   Hope: 0.0002   Alps: 0.0004   now: 0.0002   Hilton: 0.0025   then: 0.0002   been: 0.0003   lot: 0.0002   residing: 0.0003   sorts: 0.0001  th: 0.0004  \n",
      "Layer 5:\n",
      "\n",
      ": 0.1236  resa: 0.0002   punishment: 0.0011   Reach: 0.0002   Alps: 0.0005   now: 0.0002   Hilton: 0.0044   then: 0.0002   been: 0.0003   lot: 0.0003   capacity: 0.0003   350: 0.0001  th: 0.0006  \n",
      "Layer 6:\n",
      "\n",
      ": 0.1290  resa: 0.0004   punishment: 0.0012   Pennsylvania: 0.0003   Telecom: 0.0005   now: 0.0003   Hilton: 0.0054   its: 0.0003   been: 0.0006   lot: 0.0005   capacity: 0.0005   350: 0.0002   million: 0.0008  \n",
      "Layer 7:\n",
      "\n",
      ": 0.1324  resa: 0.0006   city: 0.0023   Pennsylvania: 0.0006  's: 0.0008   officially: 0.0004   Hilton: 0.0076   its: 0.0005   been: 0.0013   lot: 0.0007   density: 0.0009   roughly: 0.0002  ½: 0.0012  \n",
      "Layer 8:\n",
      "\n",
      ": 0.1386  resa: 0.0011   city: 0.0046   British: 0.0008  's: 0.0013   now: 0.0008   Hilton: 0.0108   its: 0.0012   been: 0.0026   reputation: 0.0015   density: 0.0022   approximately: 0.0005   million: 0.0063  \n",
      "Layer 9:\n",
      "\n",
      ": 0.1471  resa: 0.0019   city: 0.0113   Estonia: 0.0021  's: 0.0020   reportedly: 0.0015   Hilton: 0.0538   its: 0.0038   been: 0.0094   sizeable: 0.0053   numbering: 0.0075   approximately: 0.0023   million: 0.0409  \n",
      "Layer 10:\n",
      "\n",
      ": 0.1586  resa: 0.0046   city: 0.0298   Kazakhstan: 0.0103  's: 0.0038   reeling: 0.0035   Hilton: 0.1153   its: 0.0098   been: 0.0282   reputation: 0.0273   density: 0.0385   approximately: 0.0072   million: 0.4024  \n",
      "Layer 11:\n",
      "\n",
      ": 0.1692  resa: 0.0074   city: 0.1234   Kazakhstan: 0.0225   has: 0.0249   reeling: 0.0114   Hilton: 0.1835   Paris: 0.0186   been: 0.0728   reputation: 0.1174   of: 0.1235   approximately: 0.0201   million: 0.7096  \n"
     ]
    }
   ],
   "source": [
    "print(len(logit_lens_final_logits))\n",
    "logits_final = []\n",
    "inter_tokens = []\n",
    "indices_all = []\n",
    "for layer in range(model.cfg.n_layers):\n",
    "    print(f'Layer {layer}:')\n",
    "    probs = logit_lens_final_logits[layer].softmax(dim=-1)\n",
    "    #print(probs.shape)\n",
    "    top_prob, indices = probs.topk(1)\n",
    "    #print(top_prob)\n",
    "    indices_all.append(indices)\n",
    "    logits_final.append([logit_lens_final_logits[layer, i, index].item() for i, index in enumerate(indices)])\n",
    "    #print(indices)\n",
    "    top_tokens = [model.to_string(index.item()) for index in indices]\n",
    "    inter_tokens.append(top_tokens)\n",
    "    for token, prob in zip(top_tokens, top_prob):\n",
    "        print(f'{token}: {prob.item():.4f}  ', end='')\n",
    "    print()"
   ]
  },
  {
   "cell_type": "code",
   "execution_count": null,
   "id": "e3b77a47",
   "metadata": {},
   "outputs": [
    {
     "name": "stdout",
     "output_type": "stream",
     "text": [
      "tensor([], size=(0, 13), dtype=torch.int64)\n",
      "['The_0', ' capital_1', ' of_2', ' France_3', ' is_4', ' Paris_5', ' and_6', ' has_7', ' a_8', ' population_9', ' of_10', ' 12_11', ' million_12']\n",
      "[464, 3139, 286, 4881, 318, 6342, 290, 468, 257, 3265, 286, 1105, 1510]\n",
      "13\n",
      "['The_0' ' capital_1' ' of_2' ' France_3' ' is_4' ' Paris_5' ' and_6'\n",
      " ' has_7' ' a_8' ' population_9' ' of_10' ' 12_11' ' million_12']\n",
      "(12, 13)\n",
      "----\n",
      "Tokens\n",
      "----\n"
     ]
    },
    {
     "data": {
      "application/vnd.plotly.v1+json": {
       "config": {
        "plotlyServerURL": "https://plot.ly"
       },
       "data": [
        {
         "coloraxis": "coloraxis",
         "hovertemplate": "Tokens: %{x}<br>Layers: %{y}<br>Logits: %{z}<extra></extra>",
         "name": "0",
         "text": [
          [
           "���",
           "theless",
           " capital",
           " livest",
           " France",
           " destro",
           " Paris",
           " mathemat",
           " destro",
           " destro",
           " population",
           " destro",
           " destro"
          ],
          [
           "Loading",
           "ories",
           " capital",
           " course",
           " Marse",
           " unlikely",
           " Paris",
           " then",
           " been",
           " few",
           " population",
           " course",
           "th"
          ],
          [
           "\n",
           "ories",
           " capital",
           " course",
           " Connection",
           " unlikely",
           " Hilton",
           " then",
           " been",
           " few",
           " population",
           " course",
           "th"
          ],
          [
           "\n",
           "ories",
           " capital",
           " course",
           " Connection",
           " now",
           " Hilton",
           " then",
           " been",
           " huge",
           " explosion",
           " course",
           "th"
          ],
          [
           "\n",
           "resa",
           " capital",
           " Hope",
           " Alps",
           " now",
           " Hilton",
           " then",
           " been",
           " lot",
           " residing",
           " sorts",
           "th"
          ],
          [
           "\n",
           "resa",
           " punishment",
           " Reach",
           " Alps",
           " now",
           " Hilton",
           " then",
           " been",
           " lot",
           " capacity",
           " 350",
           "th"
          ],
          [
           "\n",
           "resa",
           " punishment",
           " Pennsylvania",
           " Telecom",
           " now",
           " Hilton",
           " its",
           " been",
           " lot",
           " capacity",
           " 350",
           " million"
          ],
          [
           "\n",
           "resa",
           " city",
           " Pennsylvania",
           "'s",
           " officially",
           " Hilton",
           " its",
           " been",
           " lot",
           " density",
           " roughly",
           "½"
          ],
          [
           "\n",
           "resa",
           " city",
           " British",
           "'s",
           " now",
           " Hilton",
           " its",
           " been",
           " reputation",
           " density",
           " approximately",
           " million"
          ],
          [
           "\n",
           "resa",
           " city",
           " Estonia",
           "'s",
           " reportedly",
           " Hilton",
           " its",
           " been",
           " sizeable",
           " numbering",
           " approximately",
           " million"
          ],
          [
           "\n",
           "resa",
           " city",
           " Kazakhstan",
           "'s",
           " reeling",
           " Hilton",
           " its",
           " been",
           " reputation",
           " density",
           " approximately",
           " million"
          ],
          [
           "\n",
           "resa",
           " city",
           " Kazakhstan",
           " has",
           " reeling",
           " Hilton",
           " Paris",
           " been",
           " reputation",
           " of",
           " approximately",
           " million"
          ]
         ],
         "texttemplate": "%{text}",
         "type": "heatmap",
         "x": [
          " capital_1",
          " of_2",
          " France_3",
          " is_4",
          " Paris_5",
          " and_6",
          " has_7",
          " a_8",
          " population_9",
          " of_10",
          " 12_11",
          " million_12"
         ],
         "xaxis": "x",
         "yaxis": "y",
         "z": {
          "bdata": "AAAAAAJH2z8AAACgiAPxPwAAAKCDutU/AAAAQCL36D8AAACAuerYPwAAAMANCvA/AAAA4KOT1z8AAAAAVADaPwAAAGBRhNg/AAAAAP8U6T8AAAAAAjnSPwAAAABdWtk/AAAA4EzB9z8AAAAAQR0OQAAAAACL6vc/AAAAgE6BBEAAAACgQYD5PwAAAEARpwxAAAAAgCHX+D8AAACgBd78PwAAAAAjbf0/AAAAIBGAA0AAAADgrfjwPwAAAMDp+gFAAAAA4PXh+T8AAADAFD8RQAAAAADyE/s/AAAAIBjvBUAAAABAcgj+PwAAAIDYBBFAAAAAYG0P/D8AAAAgZGkBQAAAAIDihgBAAAAA4MkBA0AAAAAAcxfzPwAAAECLEAZAAAAA4OsC/j8AAAAgTwYUQAAAAACa5P8/AAAAwKEWB0AAAABASYH/PwAAACDmrxNAAAAAQIza/T8AAAAApwMEQAAAAEB7EQJAAAAAYLTFBEAAAACg6Qz1PwAAAICccAdAAAAAgLSHAEAAAABAX+QUQAAAAIDVyAFAAAAAwPrsCUAAAACAIQoCQAAAAAD0JRVAAAAAIIk3AUAAAADAeoUGQAAAACChgARAAAAA4KPhBkAAAABAJ6n3PwAAAEBaaglAAAAAQA4NBEAAAABghQ4SQAAAACC53QNAAAAAQHkbDEAAAACAARsEQAAAACCmCBhAAAAAgMmuAkAAAAAAJskHQAAAAEB05ghAAAAAQMHjCEAAAADAZrf7PwAAAACGag1AAAAAgFtPCEAAAADgYs8SQAAAAIBDlQZAAAAA4AgBDkAAAACA8/gGQAAAAOAJURlAAAAAwOjZBUAAAADAXWQMQAAAAIDiwAxAAAAAQKORDEAAAABgjnwBQAAAAEAAMBBAAAAAgPZSDUAAAADAoRIWQAAAAEC2BQ9AAAAAgMYwEUAAAAAAMdYJQAAAAIDgERtAAAAAQObbC0AAAAAAzbwRQAAAAAAQHxBAAAAAAGcUEUAAAABAbJ0EQAAAAECDJBJAAAAAYBuMEUAAAADA7WYZQAAAAICKzxBAAAAA4HhqE0AAAABAID4QQAAAAOD7HR1AAAAAQPM8EkAAAAAg5DoVQAAAACBUvBNAAAAAAFKQFUAAAABAyOsLQAAAACAuLxpAAAAAQLxcFEAAAACgu+kdQAAAAOAnRRZAAAAAgPLeFUAAAACgmE0UQAAAAGCbjyJAAAAAAD5cGEAAAACgmdobQAAAAGAP2hpAAAAAQEJeHEAAAADAZlMVQAAAAEDrDiJAAAAAwIXoGEAAAAAAKNghQAAAAKBpqyBAAAAAIGl4GUAAAADAjxMaQAAAAEAX5yRAAAAAYLgiHkAAAADA7ZIhQAAAAKBccCJAAAAAgElnI0AAAABA6sceQAAAAECXQipAAAAAoFfKHEAAAAAARjImQAAAAADYNiVAAAAAQLVYIkAAAAAA/q8hQAAAAGDzPSdAAAAAQNNGIkAAAABgE/AlQAAAACBZOChAAAAAAOJXKEAAAABAMiQkQAAAAIByAjBA",
          "dtype": "f8",
          "shape": "12, 12"
         }
        }
       ],
       "layout": {
        "coloraxis": {
         "colorbar": {
          "title": {
           "text": "Logits"
          }
         },
         "colorscale": [
          [
           0,
           "#0d0887"
          ],
          [
           0.1111111111111111,
           "#46039f"
          ],
          [
           0.2222222222222222,
           "#7201a8"
          ],
          [
           0.3333333333333333,
           "#9c179e"
          ],
          [
           0.4444444444444444,
           "#bd3786"
          ],
          [
           0.5555555555555556,
           "#d8576b"
          ],
          [
           0.6666666666666666,
           "#ed7953"
          ],
          [
           0.7777777777777778,
           "#fb9f3a"
          ],
          [
           0.8888888888888888,
           "#fdca26"
          ],
          [
           1,
           "#f0f921"
          ]
         ]
        },
        "margin": {
         "t": 60
        },
        "template": {
         "data": {
          "bar": [
           {
            "error_x": {
             "color": "#2a3f5f"
            },
            "error_y": {
             "color": "#2a3f5f"
            },
            "marker": {
             "line": {
              "color": "#E5ECF6",
              "width": 0.5
             },
             "pattern": {
              "fillmode": "overlay",
              "size": 10,
              "solidity": 0.2
             }
            },
            "type": "bar"
           }
          ],
          "barpolar": [
           {
            "marker": {
             "line": {
              "color": "#E5ECF6",
              "width": 0.5
             },
             "pattern": {
              "fillmode": "overlay",
              "size": 10,
              "solidity": 0.2
             }
            },
            "type": "barpolar"
           }
          ],
          "carpet": [
           {
            "aaxis": {
             "endlinecolor": "#2a3f5f",
             "gridcolor": "white",
             "linecolor": "white",
             "minorgridcolor": "white",
             "startlinecolor": "#2a3f5f"
            },
            "baxis": {
             "endlinecolor": "#2a3f5f",
             "gridcolor": "white",
             "linecolor": "white",
             "minorgridcolor": "white",
             "startlinecolor": "#2a3f5f"
            },
            "type": "carpet"
           }
          ],
          "choropleth": [
           {
            "colorbar": {
             "outlinewidth": 0,
             "ticks": ""
            },
            "type": "choropleth"
           }
          ],
          "contour": [
           {
            "colorbar": {
             "outlinewidth": 0,
             "ticks": ""
            },
            "colorscale": [
             [
              0,
              "#0d0887"
             ],
             [
              0.1111111111111111,
              "#46039f"
             ],
             [
              0.2222222222222222,
              "#7201a8"
             ],
             [
              0.3333333333333333,
              "#9c179e"
             ],
             [
              0.4444444444444444,
              "#bd3786"
             ],
             [
              0.5555555555555556,
              "#d8576b"
             ],
             [
              0.6666666666666666,
              "#ed7953"
             ],
             [
              0.7777777777777778,
              "#fb9f3a"
             ],
             [
              0.8888888888888888,
              "#fdca26"
             ],
             [
              1,
              "#f0f921"
             ]
            ],
            "type": "contour"
           }
          ],
          "contourcarpet": [
           {
            "colorbar": {
             "outlinewidth": 0,
             "ticks": ""
            },
            "type": "contourcarpet"
           }
          ],
          "heatmap": [
           {
            "colorbar": {
             "outlinewidth": 0,
             "ticks": ""
            },
            "colorscale": [
             [
              0,
              "#0d0887"
             ],
             [
              0.1111111111111111,
              "#46039f"
             ],
             [
              0.2222222222222222,
              "#7201a8"
             ],
             [
              0.3333333333333333,
              "#9c179e"
             ],
             [
              0.4444444444444444,
              "#bd3786"
             ],
             [
              0.5555555555555556,
              "#d8576b"
             ],
             [
              0.6666666666666666,
              "#ed7953"
             ],
             [
              0.7777777777777778,
              "#fb9f3a"
             ],
             [
              0.8888888888888888,
              "#fdca26"
             ],
             [
              1,
              "#f0f921"
             ]
            ],
            "type": "heatmap"
           }
          ],
          "histogram": [
           {
            "marker": {
             "pattern": {
              "fillmode": "overlay",
              "size": 10,
              "solidity": 0.2
             }
            },
            "type": "histogram"
           }
          ],
          "histogram2d": [
           {
            "colorbar": {
             "outlinewidth": 0,
             "ticks": ""
            },
            "colorscale": [
             [
              0,
              "#0d0887"
             ],
             [
              0.1111111111111111,
              "#46039f"
             ],
             [
              0.2222222222222222,
              "#7201a8"
             ],
             [
              0.3333333333333333,
              "#9c179e"
             ],
             [
              0.4444444444444444,
              "#bd3786"
             ],
             [
              0.5555555555555556,
              "#d8576b"
             ],
             [
              0.6666666666666666,
              "#ed7953"
             ],
             [
              0.7777777777777778,
              "#fb9f3a"
             ],
             [
              0.8888888888888888,
              "#fdca26"
             ],
             [
              1,
              "#f0f921"
             ]
            ],
            "type": "histogram2d"
           }
          ],
          "histogram2dcontour": [
           {
            "colorbar": {
             "outlinewidth": 0,
             "ticks": ""
            },
            "colorscale": [
             [
              0,
              "#0d0887"
             ],
             [
              0.1111111111111111,
              "#46039f"
             ],
             [
              0.2222222222222222,
              "#7201a8"
             ],
             [
              0.3333333333333333,
              "#9c179e"
             ],
             [
              0.4444444444444444,
              "#bd3786"
             ],
             [
              0.5555555555555556,
              "#d8576b"
             ],
             [
              0.6666666666666666,
              "#ed7953"
             ],
             [
              0.7777777777777778,
              "#fb9f3a"
             ],
             [
              0.8888888888888888,
              "#fdca26"
             ],
             [
              1,
              "#f0f921"
             ]
            ],
            "type": "histogram2dcontour"
           }
          ],
          "mesh3d": [
           {
            "colorbar": {
             "outlinewidth": 0,
             "ticks": ""
            },
            "type": "mesh3d"
           }
          ],
          "parcoords": [
           {
            "line": {
             "colorbar": {
              "outlinewidth": 0,
              "ticks": ""
             }
            },
            "type": "parcoords"
           }
          ],
          "pie": [
           {
            "automargin": true,
            "type": "pie"
           }
          ],
          "scatter": [
           {
            "fillpattern": {
             "fillmode": "overlay",
             "size": 10,
             "solidity": 0.2
            },
            "type": "scatter"
           }
          ],
          "scatter3d": [
           {
            "line": {
             "colorbar": {
              "outlinewidth": 0,
              "ticks": ""
             }
            },
            "marker": {
             "colorbar": {
              "outlinewidth": 0,
              "ticks": ""
             }
            },
            "type": "scatter3d"
           }
          ],
          "scattercarpet": [
           {
            "marker": {
             "colorbar": {
              "outlinewidth": 0,
              "ticks": ""
             }
            },
            "type": "scattercarpet"
           }
          ],
          "scattergeo": [
           {
            "marker": {
             "colorbar": {
              "outlinewidth": 0,
              "ticks": ""
             }
            },
            "type": "scattergeo"
           }
          ],
          "scattergl": [
           {
            "marker": {
             "colorbar": {
              "outlinewidth": 0,
              "ticks": ""
             }
            },
            "type": "scattergl"
           }
          ],
          "scattermap": [
           {
            "marker": {
             "colorbar": {
              "outlinewidth": 0,
              "ticks": ""
             }
            },
            "type": "scattermap"
           }
          ],
          "scattermapbox": [
           {
            "marker": {
             "colorbar": {
              "outlinewidth": 0,
              "ticks": ""
             }
            },
            "type": "scattermapbox"
           }
          ],
          "scatterpolar": [
           {
            "marker": {
             "colorbar": {
              "outlinewidth": 0,
              "ticks": ""
             }
            },
            "type": "scatterpolar"
           }
          ],
          "scatterpolargl": [
           {
            "marker": {
             "colorbar": {
              "outlinewidth": 0,
              "ticks": ""
             }
            },
            "type": "scatterpolargl"
           }
          ],
          "scatterternary": [
           {
            "marker": {
             "colorbar": {
              "outlinewidth": 0,
              "ticks": ""
             }
            },
            "type": "scatterternary"
           }
          ],
          "surface": [
           {
            "colorbar": {
             "outlinewidth": 0,
             "ticks": ""
            },
            "colorscale": [
             [
              0,
              "#0d0887"
             ],
             [
              0.1111111111111111,
              "#46039f"
             ],
             [
              0.2222222222222222,
              "#7201a8"
             ],
             [
              0.3333333333333333,
              "#9c179e"
             ],
             [
              0.4444444444444444,
              "#bd3786"
             ],
             [
              0.5555555555555556,
              "#d8576b"
             ],
             [
              0.6666666666666666,
              "#ed7953"
             ],
             [
              0.7777777777777778,
              "#fb9f3a"
             ],
             [
              0.8888888888888888,
              "#fdca26"
             ],
             [
              1,
              "#f0f921"
             ]
            ],
            "type": "surface"
           }
          ],
          "table": [
           {
            "cells": {
             "fill": {
              "color": "#EBF0F8"
             },
             "line": {
              "color": "white"
             }
            },
            "header": {
             "fill": {
              "color": "#C8D4E3"
             },
             "line": {
              "color": "white"
             }
            },
            "type": "table"
           }
          ]
         },
         "layout": {
          "annotationdefaults": {
           "arrowcolor": "#2a3f5f",
           "arrowhead": 0,
           "arrowwidth": 1
          },
          "autotypenumbers": "strict",
          "coloraxis": {
           "colorbar": {
            "outlinewidth": 0,
            "ticks": ""
           }
          },
          "colorscale": {
           "diverging": [
            [
             0,
             "#8e0152"
            ],
            [
             0.1,
             "#c51b7d"
            ],
            [
             0.2,
             "#de77ae"
            ],
            [
             0.3,
             "#f1b6da"
            ],
            [
             0.4,
             "#fde0ef"
            ],
            [
             0.5,
             "#f7f7f7"
            ],
            [
             0.6,
             "#e6f5d0"
            ],
            [
             0.7,
             "#b8e186"
            ],
            [
             0.8,
             "#7fbc41"
            ],
            [
             0.9,
             "#4d9221"
            ],
            [
             1,
             "#276419"
            ]
           ],
           "sequential": [
            [
             0,
             "#0d0887"
            ],
            [
             0.1111111111111111,
             "#46039f"
            ],
            [
             0.2222222222222222,
             "#7201a8"
            ],
            [
             0.3333333333333333,
             "#9c179e"
            ],
            [
             0.4444444444444444,
             "#bd3786"
            ],
            [
             0.5555555555555556,
             "#d8576b"
            ],
            [
             0.6666666666666666,
             "#ed7953"
            ],
            [
             0.7777777777777778,
             "#fb9f3a"
            ],
            [
             0.8888888888888888,
             "#fdca26"
            ],
            [
             1,
             "#f0f921"
            ]
           ],
           "sequentialminus": [
            [
             0,
             "#0d0887"
            ],
            [
             0.1111111111111111,
             "#46039f"
            ],
            [
             0.2222222222222222,
             "#7201a8"
            ],
            [
             0.3333333333333333,
             "#9c179e"
            ],
            [
             0.4444444444444444,
             "#bd3786"
            ],
            [
             0.5555555555555556,
             "#d8576b"
            ],
            [
             0.6666666666666666,
             "#ed7953"
            ],
            [
             0.7777777777777778,
             "#fb9f3a"
            ],
            [
             0.8888888888888888,
             "#fdca26"
            ],
            [
             1,
             "#f0f921"
            ]
           ]
          },
          "colorway": [
           "#636efa",
           "#EF553B",
           "#00cc96",
           "#ab63fa",
           "#FFA15A",
           "#19d3f3",
           "#FF6692",
           "#B6E880",
           "#FF97FF",
           "#FECB52"
          ],
          "font": {
           "color": "#2a3f5f"
          },
          "geo": {
           "bgcolor": "white",
           "lakecolor": "white",
           "landcolor": "#E5ECF6",
           "showlakes": true,
           "showland": true,
           "subunitcolor": "white"
          },
          "hoverlabel": {
           "align": "left"
          },
          "hovermode": "closest",
          "mapbox": {
           "style": "light"
          },
          "paper_bgcolor": "white",
          "plot_bgcolor": "#E5ECF6",
          "polar": {
           "angularaxis": {
            "gridcolor": "white",
            "linecolor": "white",
            "ticks": ""
           },
           "bgcolor": "#E5ECF6",
           "radialaxis": {
            "gridcolor": "white",
            "linecolor": "white",
            "ticks": ""
           }
          },
          "scene": {
           "xaxis": {
            "backgroundcolor": "#E5ECF6",
            "gridcolor": "white",
            "gridwidth": 2,
            "linecolor": "white",
            "showbackground": true,
            "ticks": "",
            "zerolinecolor": "white"
           },
           "yaxis": {
            "backgroundcolor": "#E5ECF6",
            "gridcolor": "white",
            "gridwidth": 2,
            "linecolor": "white",
            "showbackground": true,
            "ticks": "",
            "zerolinecolor": "white"
           },
           "zaxis": {
            "backgroundcolor": "#E5ECF6",
            "gridcolor": "white",
            "gridwidth": 2,
            "linecolor": "white",
            "showbackground": true,
            "ticks": "",
            "zerolinecolor": "white"
           }
          },
          "shapedefaults": {
           "line": {
            "color": "#2a3f5f"
           }
          },
          "ternary": {
           "aaxis": {
            "gridcolor": "white",
            "linecolor": "white",
            "ticks": ""
           },
           "baxis": {
            "gridcolor": "white",
            "linecolor": "white",
            "ticks": ""
           },
           "bgcolor": "#E5ECF6",
           "caxis": {
            "gridcolor": "white",
            "linecolor": "white",
            "ticks": ""
           }
          },
          "title": {
           "x": 0.05
          },
          "xaxis": {
           "automargin": true,
           "gridcolor": "white",
           "linecolor": "white",
           "ticks": "",
           "title": {
            "standoff": 15
           },
           "zerolinecolor": "white",
           "zerolinewidth": 2
          },
          "yaxis": {
           "automargin": true,
           "gridcolor": "white",
           "linecolor": "white",
           "ticks": "",
           "title": {
            "standoff": 15
           },
           "zerolinecolor": "white",
           "zerolinewidth": 2
          }
         }
        },
        "xaxis": {
         "anchor": "y",
         "domain": [
          0,
          1
         ],
         "title": {
          "text": "Tokens"
         }
        },
        "yaxis": {
         "anchor": "x",
         "autorange": "reversed",
         "domain": [
          0,
          1
         ],
         "title": {
          "text": "Layers"
         }
        }
       }
      }
     },
     "metadata": {},
     "output_type": "display_data"
    },
    {
     "ename": "",
     "evalue": "",
     "output_type": "error",
     "traceback": [
      "\u001b[1;31mThe Kernel crashed while executing code in the current cell or a previous cell. \n",
      "\u001b[1;31mPlease review the code in the cell(s) to identify a possible cause of the failure. \n",
      "\u001b[1;31mClick <a href='https://aka.ms/vscodeJupyterKernelCrash'>here</a> for more info. \n",
      "\u001b[1;31mView Jupyter <a href='command:jupyter.viewOutput'>log</a> for further details."
     ]
    }
   ],
   "source": [
    "logit_diff_results = torch.zeros(model.cfg.n_layers, len(model.to_str_tokens(text)))\n",
    "#print(logit_diff_results.shape)\n",
    "print((model.to_tokens(text)[1:]))\n",
    "answer_tokens = model.to_tokens(text).tolist()[0][1:] + model.to_tokens(answer).tolist()[0][1:]\n",
    "answers_str_tokens = [f'{model.to_string(answer)}_{ids}' for ids, answer in enumerate(answer_tokens)]\n",
    "print(answers_str_tokens)\n",
    "print(answer_tokens)\n",
    "for layer in range(model.cfg.n_layers):\n",
    "    #print(layer)\n",
    "    for position in range(len(logit_lens_final_logits[0])):\n",
    "        logit_diff_results[layer][position] = logits[0, position, answer_tokens[position]] - logit_lens_final_logits[layer, position, indices_all[layer][position][0]]\n",
    "logits_final = np.array(logits_final)\n",
    "answers_str_tokens = np.array(answers_str_tokens)\n",
    "print(len(answers_str_tokens))\n",
    "print(answers_str_tokens)\n",
    "print(logits_final.shape)\n",
    "fig = px.imshow(logits_final[:,1:], labels=dict(x=\"Tokens\", y=\"Layers\", color=\"Logits\"),x=answers_str_tokens[1:], aspect=\"auto\")\n",
    "fig.update_traces(text=inter_tokens, texttemplate=\"%{text}\")"
   ]
  }
 ],
 "metadata": {
  "kernelspec": {
   "display_name": "embed",
   "language": "python",
   "name": "python3"
  },
  "language_info": {
   "codemirror_mode": {
    "name": "ipython",
    "version": 3
   },
   "file_extension": ".py",
   "mimetype": "text/x-python",
   "name": "python",
   "nbconvert_exporter": "python",
   "pygments_lexer": "ipython3",
   "version": "3.12.11"
  }
 },
 "nbformat": 4,
 "nbformat_minor": 5
}
