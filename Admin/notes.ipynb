{
 "cells": [
  {
   "cell_type": "markdown",
   "id": "01a52941",
   "metadata": {},
   "source": [
    "## Questions\n",
    "\n",
    "#### Ane\n",
    "Bruker du TranformerLens biblioteket?\n",
    "\n",
    "\n",
    "#### Theory (til GPT/research)\n",
    "Hvordan velges tokens, og hvordan velger modellen alltid den \"lengste mulige\" token (hvis f.eks. ' cat' og ' ', 'c', 'a', 't' er tokens)?\n",
    "\n",
    "\n"
   ]
  },
  {
   "cell_type": "markdown",
   "id": "ea1b0365",
   "metadata": {},
   "source": [
    "## Glossary\n",
    "- Patching: Patching means to switch activations from one run of a model (input A) in certain parts of the neural network with the activations from another run of the model (input B) in certain specified locations in the network. \n",
    "- Causal/autoregressive: Uses only previous tokens for prediction.\n",
    "- Logits: (Unsoftmaxed) output vector (length d_vocab) after unembedding.\n",
    "- Transformer config:\n",
    "    * batch: input index in batch.\n",
    "    * position: token position.\n",
    "    * d_model: residual stream/embedding dimension\n",
    "    * d_vocab: vocab size\n",
    "    * n_ctx: context size\n",
    "    * d_head: dimension of key/query space in attention head\n",
    "    * d_mlp: mpl hidden layer size (4 x d_model)\n",
    "    * n_heads: number of attention heads (d_model/d_head)\n",
    "    * n_layers: number of layers\n",
    "- Transformer matrices:\n",
    "    * $W_E$: Embedding matrix\n",
    "    * $W_U$: Unembedding matrix\n",
    "- Residual stream: Main channel in transformer diagram, tracking the cumulative sum giving the embedding vector."
   ]
  },
  {
   "cell_type": "markdown",
   "id": "eb5577c5",
   "metadata": {},
   "source": [
    "## Articles/Resources\n",
    "\n",
    "- Arena tutorials: https://arena3-chapter1-transformer-interp.streamlit.app/[1.2]_Intro_to_Mech_Interp\n",
    "\n",
    "- Neel Nanda Quickstart Guide\n",
    "- Neel Nanda Reading List"
   ]
  }
 ],
 "metadata": {
  "kernelspec": {
   "display_name": "AIbase",
   "language": "python",
   "name": "python3"
  },
  "language_info": {
   "codemirror_mode": {
    "name": "ipython",
    "version": 3
   },
   "file_extension": ".py",
   "mimetype": "text/x-python",
   "name": "python",
   "nbconvert_exporter": "python",
   "pygments_lexer": "ipython3",
   "version": "3.12.4"
  }
 },
 "nbformat": 4,
 "nbformat_minor": 5
}
