{
 "cells": [
  {
   "cell_type": "markdown",
   "id": "c2531f6d",
   "metadata": {},
   "source": [
    "# Project Timeline Sketch"
   ]
  },
  {
   "cell_type": "markdown",
   "id": "03ac9445",
   "metadata": {},
   "source": [
    "**Week 25**\n",
    "\n",
    "*Introduction*\n",
    "- Monday: General introduction \n",
    "- Tuesday: Specific introduction\n",
    "\n",
    "*Research*\n",
    "- Wedenesday: Ordliste\n",
    "  * Frederik: Arena tutorial TransformerLens (Circuits focus)\n",
    "  * Jonas: Understanding Transformers: Mech Interp Quickstart Guide (Transforer Walkthrough), TB1B recap (+ introducing Topographic analysis to project 1 ppl and Mech Interp podcasts off work)\n",
    "- Thursday:\n",
    "  * Frederik: Neuronpedia Notebooks\n",
    "  * Jonas: Finish Quickstart Guide (TransformerLens demo), Circuits: Zooming In, A Mathematical Framework for Transformer Cicuits, Neuronpedia demo, expand glossary.\n",
    "\n",
    "\n",
    "- Friday: Ask Ane - find circuits or intervene on found circuits? What is program input and output.\n",
    "  * Frederik: Retrieve activations from Jina AI\n",
    "  * Jonas: Write circuit intro / MI overview.\n",
    "\n",
    "- Saturday: \n",
    "  * Jonas: Study Jina AI architechture, read the Neel Nanda glossary.\n",
    "\n",
    "- Sunday:\n",
    "  * Jonas: Answer questions on Teams.\n",
    "\n",
    "\n",
    "TODO\n",
    "- pysvelte interactive visualisations / attention patterns\n",
    "- Neel Nanda reading list (2024, potentially outdated): https://www.alignmentforum.org/posts/NfFST5Mio7BCAQHPA/an-extremely-opinionated-annotated-list-of-my-favourite-1\n",
    "    - Sparse autoencoders\n",
    "    - Circuits\n",
    "  - Arena tutorials?\n",
    "  - Neel Nanda videos\n",
    "- Weekend: Start coding/implementing"
   ]
  },
  {
   "cell_type": "markdown",
   "id": "7762aeb1",
   "metadata": {},
   "source": [
    "**Week 26**"
   ]
  }
 ],
 "metadata": {
  "language_info": {
   "name": "python"
  }
 },
 "nbformat": 4,
 "nbformat_minor": 5
}
