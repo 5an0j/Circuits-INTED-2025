{
 "cells": [
  {
   "cell_type": "markdown",
   "id": "c2531f6d",
   "metadata": {},
   "source": [
    "# Project Timeline Sketch"
   ]
  },
  {
   "cell_type": "markdown",
   "id": "03ac9445",
   "metadata": {},
   "source": [
    "**Week 25**\n",
    "\n",
    "*Introduction*\n",
    "- Monday: General introduction \n",
    "- Tuesday: Specific introduction\n",
    "\n",
    "*Research*\n",
    "- Wedenesday: Ordliste\n",
    "  * Frederik: Arena tutorial TransformerLens (Circuits focus)\n",
    "  * Jonas: Understanding Transformers: Mech Interp Quickstart Guide (Transforer Walkthrough), TB1B recap (+ introducing Topographic analysis to project 1 ppl and Mech Interp podcasts off work)\n",
    "- Thursday:\n",
    "  * Frederik: Neuronpedia Notebooks\n",
    "  * Jonas: Finish Quickstart Guide (TransformerLens demo), Circuits: Zooming In, A Mathematical Framework for Transformer Cicuits, Neuronpedia demo, expand glossary.\n",
    "\n",
    "\n",
    "- Friday: Ask Ane - find circuits or intervene on found circuits? What is program input and output.\n",
    "  * Frederik: Retrieve activations from Jina AI\n",
    "  * Jonas: Write circuit intro / MI overview.\n",
    "\n",
    "- Saturday: \n",
    "  * Jonas: Study Jina AI architechture, read the Neel Nanda glossary.\n",
    "\n",
    "- Sunday:\n",
    "  * Jonas: Answer questions from Teams + check captum and circuitsvis (technical difficulties:/)"
   ]
  },
  {
   "cell_type": "markdown",
   "id": "7762aeb1",
   "metadata": {},
   "source": [
    "**Week 26**\n",
    "\n",
    "Frederik: \n",
    "* Funksjoner for \n",
    "\n",
    "    * Ablation:\n",
    "        input: layer- og neuron idx (tuple), type (zero, mean, random), model_input\n",
    "        output: new embeddings\n",
    "\n",
    "    * Activation patching:\n",
    "        input: baseline and corrupted prompt, neurons (layer, idx) to patch\n",
    "        output: cosine_similarity (baseline, patchet) or both vectors\n",
    "\n",
    "    * QA-test: use other question/answer for currupted prompt\n",
    "\n",
    "    * Neuronpedia."
   ]
  },
  {
   "cell_type": "markdown",
   "id": "e4516f85",
   "metadata": {},
   "source": [
    "Klara:\n",
    "\n",
    "Research question: \n",
    "\n",
    "1. Velg decoder (bruk GPT2 - ev. en bedre en)\n",
    "2. Les og gjør transformer lens demo\n",
    "3. Skriv notebook: HVA kan man gjøre, og HVORDAN gjøre de enkle tingene\n",
    "\n",
    "Application example:¨\n",
    "\n",
    "1. Velg en bedre modell\n",
    "2. Generer svar til FCI, se om de er rimelige\n",
    "3. Use TL as much as possible in pedagogicial way:)\n",
    "\n",
    "Activation patching, seperate runs w/ mult. word output\n",
    "\n",
    "-\"- one single run: what then?\n",
    "\n",
    "BERT-style model: with TL?\n",
    "\n"
   ]
  },
  {
   "cell_type": "markdown",
   "id": "624800ec",
   "metadata": {},
   "source": [
    "Jonas:\n",
    "* MpC attribution with BERT stlye for MpCQ"
   ]
  },
  {
   "cell_type": "markdown",
   "id": "2753061e",
   "metadata": {},
   "source": [
    "Plan forward:\n",
    "\n",
    "- Make flow chart\n",
    "- Separate file with class consisting of different methods for visualization and mech.interp. stuff"
   ]
  }
 ],
 "metadata": {
  "language_info": {
   "name": "python"
  }
 },
 "nbformat": 4,
 "nbformat_minor": 5
}
