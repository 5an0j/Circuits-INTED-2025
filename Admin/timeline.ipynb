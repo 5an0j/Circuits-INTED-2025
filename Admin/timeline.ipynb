{
 "cells": [
  {
   "cell_type": "markdown",
   "id": "c2531f6d",
   "metadata": {},
   "source": [
    "# Project Timeline"
   ]
  },
  {
   "cell_type": "markdown",
   "id": "03ac9445",
   "metadata": {},
   "source": [
    "**Week 25**\n",
    "\n",
    "*Introduction*\n",
    "- Monday: General introduction \n",
    "- Tuesday: Specific introduction\n",
    "\n",
    "*Research*\n",
    "- Wedenesday:\n",
    "  * Frederik: Arena tutorial TransformerLens (Circuits focus)\n",
    "  * Jonas: Mech Interp Quickstart Guide, TB1B recap (+ introducing Topographic analysis to project 1 ppl)\n",
    "- Thursday:\n",
    "  * Frederik:\n",
    "  * Jonas: \n",
    "\n",
    "\n",
    "TODO\n",
    "- Neel Nanda reading list (2024, potentially outdated): https://www.alignmentforum.org/posts/NfFST5Mio7BCAQHPA/an-extremely-opinionated-annotated-list-of-my-favourite-1\n",
    "    - Sparse autoencoders\n",
    "    - Circuits\n",
    "  - Arena tutorials?\n",
    "  - Neel Nanda videos\n",
    "- Weekend: Start coding/implementing"
   ]
  },
  {
   "cell_type": "markdown",
   "id": "7762aeb1",
   "metadata": {},
   "source": [
    "**Week 26**"
   ]
  }
 ],
 "metadata": {
  "language_info": {
   "name": "python"
  }
 },
 "nbformat": 4,
 "nbformat_minor": 5
}
